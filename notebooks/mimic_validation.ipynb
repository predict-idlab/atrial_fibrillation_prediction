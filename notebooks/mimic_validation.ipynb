{
 "cells": [
  {
   "attachments": {},
   "cell_type": "markdown",
   "metadata": {},
   "source": [
    "# Imports"
   ]
  },
  {
   "cell_type": "code",
   "execution_count": 2,
   "metadata": {},
   "outputs": [],
   "source": [
    "\n",
    "import matplotlib.pyplot as plt\n",
    "from tqdm import tqdm\n",
    "plt.rcParams[\"axes.grid\"] = False #disable ugly white lines which are present in google colab for matplotlib\n",
    "import numpy as np\n",
    "import datetime\n",
    "today = datetime.datetime.today() #To work with datetime values. Only relative time matters in this project, so selecting a random date is not a problem. \n",
    "from sklearn.metrics import classification_report,auc,r2_score,matthews_corrcoef\n",
    "import shap\n",
    "from catboost import CatBoostClassifier,CatBoostRegressor,Pool\n",
    "from catboost.utils import get_roc_curve\n",
    "import pandas as pd\n",
    "import re\n",
    "import os\n",
    "from scipy.stats import linregress,ttest_ind,ranksums\n",
    "mimic_extracted_path = \"../data/mimic/\"\n",
    "amsterdam_data_path = \"../data/amsterdam/\"\n",
    "mimic_base_path = \"../../../MIMIC_IV/mimic-iv-1.0/\"\n",
    "from tabulate import tabulate\n",
    "from sklearn.model_selection import train_test_split"
   ]
  },
  {
   "cell_type": "code",
   "execution_count": 3,
   "metadata": {},
   "outputs": [],
   "source": [
    "pd.set_option('display.max_columns', None)"
   ]
  },
  {
   "cell_type": "code",
   "execution_count": 4,
   "metadata": {},
   "outputs": [],
   "source": [
    "present = False\n",
    "if present:\n",
    "    params = {\"ytick.color\" : \"w\",\n",
    "            \"xtick.color\" : \"w\",\n",
    "            \"axes.titlecolor\" : \"w\",\n",
    "            \"axes.labelcolor\" : \"w\",\n",
    "            \"axes.edgecolor\" : \"w\"}\n",
    "    plt.rcParams.update(params)\n",
    "    plt.rcParams.update({'font.size': 18})\n",
    "else:\n",
    "    params = {\"ytick.color\" : \"black\",\n",
    "            \"xtick.color\" : \"black\",\n",
    "            \"axes.titlecolor\" : \"black\",\n",
    "            \"axes.labelcolor\" : \"black\",\n",
    "            \"axes.edgecolor\" : \"black\"}\n",
    "    plt.rcParams.update(params)"
   ]
  },
  {
   "cell_type": "markdown",
   "metadata": {},
   "source": [
    "# External Validation"
   ]
  },
  {
   "attachments": {},
   "cell_type": "markdown",
   "metadata": {},
   "source": [
    "## Function declarations"
   ]
  },
  {
   "cell_type": "code",
   "execution_count": 24,
   "metadata": {},
   "outputs": [],
   "source": [
    "def ece_calculator(X,y,model,plot_bool=False):\n",
    "    confidences = np.max(model.predict_proba(X),axis=1)\n",
    "    output_t = np.argmax(model.predict_proba(X),axis=1)\n",
    "\n",
    "    max_bin = 5\n",
    "\n",
    "    ECE_arr = np.array([])\n",
    "    cal_plot_ECE = list([])\n",
    "    ESCE_arr = np.array([])\n",
    "    for i in np.arange(0.5,max_bin + 0.1,0.1):\n",
    "        bins_size = i#1.5\n",
    "        bin_epsilon = 0.00001\n",
    "        bin_min = np.round(np.min(confidences*100))\n",
    "\n",
    "        pred_out = output_t\n",
    "        real_out = y.values\n",
    "        bins_correct = plt.hist(confidences[np.where(pred_out==real_out)]*100,density=False,label=\"Correct pred\",bins=np.arange(bin_min,101.0,bins_size),ec='black')#,color=\"#e898ac\",ec='white')\n",
    "        bins_incorrect = plt.hist(confidences[np.where(pred_out!=real_out)]*100,density=False,label=\"Incorrect pred\",bins=np.arange(bin_min,101.0,bins_size),ec='black')#,color=\"#e898ac\",ec='white')\n",
    "        \n",
    "\n",
    "        bin_means = np.array([])\n",
    "        for b in np.arange(bin_min,101.0,bins_size):\n",
    "            bin_means = np.append(bin_means,np.array(np.mean(np.append([bin_epsilon],confidences[np.where((confidences > b/100.0)&(confidences <= (b/100.0+bins_size/100.0)))]))))\n",
    "\n",
    "        bin_means = bin_means[:-1]\n",
    "\n",
    "        #avg accuracy per bin - avg confidence per bin (summed over all bins and normalized by width of size of bin)\n",
    "        ECE = np.sum((bins_correct[0]+bins_incorrect[0])/len(confidences) * (np.abs(bins_correct[0]/(bins_correct[0]+bins_incorrect[0]+bin_epsilon) - bin_means)))\n",
    "        cal_plot_ECE.append(np.array((bins_correct[0]/(bins_correct[0]+bins_incorrect[0]+bin_epsilon))))\n",
    "        ESCE = np.sum((bins_correct[0]+bins_incorrect[0])/len(confidences) * (bins_correct[0]/(bins_correct[0]+bins_incorrect[0]+bin_epsilon) - bin_means))\n",
    "        ECE_arr = np.append(ECE_arr,np.array(ECE))\n",
    "        ESCE_arr = np.append(ESCE_arr,np.array(ESCE))\n",
    "\n",
    "    plt.clf()\n",
    "\n",
    "    if plot_bool:\n",
    "        plt.figure(figsize=(12,8))\n",
    "        plt.plot(np.arange(0.5,max_bin + 0.1,0.1),ECE_arr*100,label=\"avg ECE\")\n",
    "        plt.plot(np.arange(0.5,max_bin + 0.1,0.1),ESCE_arr*100,label=\"avg ESCE\")\n",
    "\n",
    "        plt.legend()\n",
    "        plt.xlabel(\"Bin size \")\n",
    "        # plt.xlim([0.5,10])\n",
    "        plt.ylabel(\"ECE (% error)\")\n",
    "        plt.show()\n",
    "\n",
    "        plt.figure(figsize=(12,8))\n",
    "\n",
    "        bin_min = np.round(np.min(confidences*100))\n",
    "\n",
    "        mean_sece = np.array([])\n",
    "        increment_perc = 1\n",
    "        for perc in np.arange(bin_min+increment_perc,100+increment_perc,increment_perc):\n",
    "            mean_array = np.array([])\n",
    "            idx = 0\n",
    "            for calplots in cal_plot_ECE:\n",
    "                bins_size = np.arange(0.5,max_bin + 0.1,0.1)[idx]\n",
    "                plot_arr = np.where(calplots!=0)\n",
    "\n",
    "                x_ar = (np.arange(bin_min,101.0,bins_size)[:-1]+bins_size/2)[plot_arr]\n",
    "                cal_plot_mean = calplots[plot_arr][np.where((x_ar < perc) & (x_ar >= perc-increment_perc))]\n",
    "                \n",
    "                if len(cal_plot_mean>0):\n",
    "                    temp_mean = np.mean(cal_plot_mean)\n",
    "                    mean_array = np.append(mean_array,temp_mean)\n",
    "                \n",
    "                idx += 1\n",
    "\n",
    "            mean_sece = np.append(mean_sece,np.mean(mean_array))\n",
    "\n",
    "\n",
    "        for i in range(len(cal_plot_ECE)):\n",
    "            bins_size = np.arange(0.5,max_bin + 0.1,0.1)[i]\n",
    "            x_ar = np.arange(bin_min,101.0,bins_size)[:-1]+bins_size/2\n",
    "            plot_arr = np.where(cal_plot_ECE[i]!=0)\n",
    "            plt.plot(x_ar[plot_arr],cal_plot_ECE[i][plot_arr]*100,alpha=0.2,color=\"blue\")\n",
    "        plt.plot(np.arange(bin_min+increment_perc/2,100+increment_perc/2,increment_perc),mean_sece*100,color=\"red\",label=\"average\")\n",
    "        plt.plot([50,100],[50,100],color=\"black\",label=\"Perfect calibration\")\n",
    "        plt.xlim([50,100])\n",
    "        plt.ylim([0,100])\n",
    "        plt.xticks(np.arange(50,104,5))\n",
    "        plt.xlabel(\"Predicted probabilities (%)\")\n",
    "        plt.ylabel(\"Observed probabilities (%)\")\n",
    "        plt.grid()\n",
    "        plt.legend()\n",
    "        plt.show()\n",
    "\n",
    "    print(\"ECE normalized AUC (%) = \"+str(np.round(np.mean(ECE_arr)*100,2))+\" %\")\n",
    "    print(\"ESCE normalized AUC (%) = \"+str(np.round(np.mean(ESCE_arr)*100,2))+\" %\")\n",
    "\n",
    "    return np.mean(ECE_arr),np.mean(ESCE_arr)\n",
    "\n",
    "def pandas_result_AF_maker(patient_group_string,X,y,model,append_df):\n",
    "    (fpr, tpr, thresholds) = get_roc_curve(model, Pool(data=X,label=y), plot=False)\n",
    "    res_dict = classification_report(y,model.predict(X),target_names=[\"No-AF\",\"AF\"],output_dict=True)\n",
    "\n",
    "    ECE,ESCE = ece_calculator(X,y,model)\n",
    "\n",
    "    append_df = pd.concat([append_df,pd.DataFrame(data=[[model_string,validation_type_string,patient_group_string,\n",
    "                    res_dict[\"No-AF\"][\"support\"],res_dict[\"AF\"][\"support\"],\n",
    "                    res_dict[\"No-AF\"][\"recall\"],res_dict[\"AF\"][\"recall\"],\n",
    "                    res_dict[\"No-AF\"][\"precision\"],res_dict[\"AF\"][\"precision\"],\n",
    "                    res_dict[\"No-AF\"][\"f1-score\"],res_dict[\"AF\"][\"f1-score\"],\n",
    "                    matthews_corrcoef(y,model.predict(X)),auc(fpr,tpr),ECE,ESCE\n",
    "                   ]],columns=mimic_result_dataframe_columns)])\n",
    "    \n",
    "    return append_df\n",
    "\n",
    "mimic_result_dataframe_columns=[\"model\",\"validation_type\",\"patient_group\",\"NO AF patients\",\"AF patients\",\"NO AF recall\",\"AF recall\",\"NO AF precision\",\"AF precision\",\"NO AF f1\",\"AF f1\",\"mcc\",\"auc\",\"ECE\",\"ESCE\"]\n",
    "# mimic_result_dataframe = pd.DataFrame(columns=mimic_result_dataframe_columns)\n",
    "\n",
    "mimic_p_value_result_dataframe_columns=[\"model\",\"comparison\",\"AF_group\",\"p_value\"]\n",
    "# mimic_p_value_result_dataframe = pd.DataFrame(columns=mimic_p_value_result_dataframe_columns)\n",
    "\n",
    "# missing_dataframe = pd.DataFrame(columns=[\"model\",\"feature\",\"train amst\",\"balanced test amst\",\"all test amst\",\"train mimic\",\"balanced test mimic\",\"all test mimic\"])"
   ]
  },
  {
   "cell_type": "code",
   "execution_count": 6,
   "metadata": {},
   "outputs": [],
   "source": [
    "#mimic_result_dataframe.reset_index(drop=True).to_csv(\"../results/mimic_af_prediction_results.csv\")"
   ]
  },
  {
   "cell_type": "code",
   "execution_count": 25,
   "metadata": {},
   "outputs": [
    {
     "name": "stdout",
     "output_type": "stream",
     "text": [
      "1.5\n"
     ]
    }
   ],
   "source": [
    "#False\n",
    "#True\n",
    "\n",
    "one_half_hour_model = True\n",
    "six_hour_model = False\n",
    "\n",
    "model_string = (\"1.5\"*int(one_half_hour_model)+\"12\"*int(1-one_half_hour_model))*int(1-six_hour_model)+\"6\"*int(six_hour_model)\n",
    "print(model_string)"
   ]
  },
  {
   "cell_type": "markdown",
   "metadata": {},
   "source": [
    "## Transfer validation"
   ]
  },
  {
   "cell_type": "code",
   "execution_count": 26,
   "metadata": {},
   "outputs": [],
   "source": [
    "validation_type_string = \"transfer\""
   ]
  },
  {
   "cell_type": "markdown",
   "metadata": {},
   "source": [
    "### Data import"
   ]
  },
  {
   "cell_type": "code",
   "execution_count": 27,
   "metadata": {},
   "outputs": [],
   "source": [
    "if one_half_hour_model:\n",
    "    AF_dataset = pd.read_csv(mimic_extracted_path+\"AF_dataset_1_5_hours.csv\")\n",
    "else:\n",
    "\n",
    "    AF_dataset = pd.read_csv(mimic_extracted_path+\"AF_dataset_12_hours.csv\")\n",
    "\n",
    "if six_hour_model:\n",
    "    AF_dataset = pd.read_csv(mimic_extracted_path+\"AF_dataset_6_hours.csv\")\n",
    "\n",
    "        \n",
    "df_patients = pd.read_csv(mimic_extracted_path+\"patients.csv\",sep=',')\n",
    "df_patients = df_patients.rename(columns={\"subject_id\":\"patientid\",\"anchor_age\":\"Age\"})\n",
    "\n",
    "AF_dataset = AF_dataset.merge(df_patients[['patientid','Age']],how='left',on='patientid')\n"
   ]
  },
  {
   "cell_type": "code",
   "execution_count": 28,
   "metadata": {},
   "outputs": [],
   "source": [
    "admissions_pd_mimic = pd.read_csv(mimic_extracted_path+\"df_adm_icu.csv\",sep=',')\n",
    "admissions_pd_mimic[\"urgency\"]=0\n",
    "admissions_pd_mimic = admissions_pd_mimic.rename(columns={'stay_id':'admissionid'})\n",
    "admissions_pd_mimic.loc[admissions_pd_mimic.admission_type.isin(['DIRECT EMER.', 'EW EMER.', 'URGENT']),\"urgency\"]=1\n",
    "AF_dataset = AF_dataset.merge(admissions_pd_mimic[[\"admissionid\",\"ethnicity\",\"urgency\"]],how='left',on=\"admissionid\")"
   ]
  },
  {
   "cell_type": "code",
   "execution_count": 29,
   "metadata": {},
   "outputs": [],
   "source": [
    "AF_dataset[\"ethnicity_codes\"] = 0\n",
    "for i in range(len(AF_dataset.ethnicity.unique())):\n",
    "    AF_dataset.loc[AF_dataset.ethnicity.str.contains(AF_dataset.ethnicity.unique()[i]),\"ethnicity_codes\"]=i\n",
    "\n",
    "ICD_preadmission_AF_codes = ['I489','I4891','I4821','I480','I481','I4811','I4819','I482','I4820']\n",
    "diagnoses_icd_df = pd.read_csv(\"../../../MIMIC_IV/mimic-iv-1.0/\"+\"hosp/csv/diagnoses_icd.csv\")\n",
    "hadm_id_list_pre_adm_AF = diagnoses_icd_df[diagnoses_icd_df.icd_code.isin(ICD_preadmission_AF_codes)].hadm_id.unique()\n",
    "AF_dataset[\"pre_Adm_AF\"]=0\n",
    "AF_dataset.loc[AF_dataset.hadm_id.isin(hadm_id_list_pre_adm_AF),\"pre_Adm_AF\"]=1\n"
   ]
  },
  {
   "cell_type": "code",
   "execution_count": 30,
   "metadata": {},
   "outputs": [],
   "source": [
    "AF_dataset[\"is_given_NORepinefrine\"]=0\n",
    "AF_dataset.loc[~AF_dataset['mean_NORepinephrine'].isna(),\"is_given_NORepinefrine\"]=1\n",
    "\n",
    "AF_dataset[\"cardiac_surg_bool\"]=0\n",
    "AF_dataset.loc[(AF_dataset[\"cardiac_bool\"]==1)&(AF_dataset[\"surgery_bool\"]==1),\"cardiac_surg_bool\"] = 1\n",
    "\n",
    "AF_dataset[\"is_given_Calcium Glubionaat (Calcium Sandoz)\"]=0\n",
    "if \"mean_Calcium Carbonate Suspension\" in AF_dataset.columns:\n",
    "    AF_dataset.loc[(AF_dataset[\"mean_Calcium Carbonate\"]>1)|(AF_dataset[\"mean_Calcium Gluconate\"]>1)|((\"mean_Calcium Carbonate Suspension\" in AF_dataset.columns)&(AF_dataset[\"mean_Calcium Carbonate Suspension\"]>1))|(AF_dataset[\"mean_Calcium Acetate\"]>1),\"is_given_Calcium Glubionaat (Calcium Sandoz)\"] = 1\n",
    "else:\n",
    "    AF_dataset.loc[(AF_dataset[\"mean_Calcium Carbonate\"]>1)|(AF_dataset[\"mean_Calcium Gluconate\"]>1)|(AF_dataset[\"mean_Calcium Acetate\"]>1),\"is_given_Calcium Glubionaat (Calcium Sandoz)\"] = 1\n",
    "    \n",
    "AF_dataset[\"is_given_Dopamine (Inotropin)\"]=0\n",
    "AF_dataset.loc[~AF_dataset['mean_DOPamine'].isna(),\"is_given_Dopamine (Inotropin)\"]=1\n",
    "\n",
    "AF_dataset['is_given_Magnesiumsulfaat (MgSO4)']=0\n",
    "AF_dataset.loc[~AF_dataset['mean_Magnesium Sulfate'].isna(),'is_given_Magnesiumsulfaat (MgSO4)']=1\n",
    "\n",
    "AF_dataset['is_given_Propofol (Diprivan)']=0\n",
    "AF_dataset.loc[~AF_dataset['mean_Propofol'].isna(),'is_given_Propofol (Diprivan)']=1\n",
    "\n",
    "AF_dataset['is_given_Fentanyl']=0\n",
    "AF_dataset.loc[~AF_dataset['mean_Fentanyl Citrate'].isna(),'is_given_Fentanyl']=1\n",
    "\n",
    "AF_dataset[\"is_given_Furosemide (Lasix)\"]=0\n",
    "AF_dataset.loc[~AF_dataset['mean_Furosemide'].isna(),\"is_given_Furosemide (Lasix)\"]=1\n",
    "\n",
    "AF_dataset[\"is_given_LoopDiuretics\"]=0\n",
    "AF_dataset.loc[(~AF_dataset['mean_Bumetanide'].isna())|(~AF_dataset['mean_Furosemide'].isna()),\"is_given_LoopDiuretics\"]=1\n",
    "\n",
    "AF_dataset[\"mean_PEEP set\"] = AF_dataset[\"mean_PEEP set\"].fillna(0)\n"
   ]
  },
  {
   "cell_type": "code",
   "execution_count": 31,
   "metadata": {},
   "outputs": [],
   "source": [
    "#Rename for distr change 12 hour model\n",
    "AF_dataset = AF_dataset.rename(columns={'mean_PEEP set':'mean_PEEP (Set)', 'is_given_NORepinefrine':'is_given_Noradrenaline (Norepinefrine)', 'mean_Foley':'mean_UrineCAD', 'max_Foley':'max_UrineCAD', \n",
    "                            'min_Foley':'min_UrineCAD', 'slope_Foley':'slope_UrineCAD', 'max_Central Venous Pressure':'max_CVD','mean_Phosphate':'mean_Fosfaat (bloed)', 'max_Phosphate':'max_Fosfaat (bloed)', \n",
    "                            'mean_Lactate':'mean_Lactaat (bloed)','max_Lactate':'max_Lactaat (bloed)','min_Lactate':'min_Lactaat (bloed)',\n",
    "                            'mean_pH':'mean_pH (bloed)','max_pH':'max_pH (bloed)','min_pH':'min_pH (bloed)',\n",
    "                            'mean_Arterial Base Excess':'mean_B.E. (bloed)', 'mean_Arterial Blood Pressure systolic':'mean_ABP systolisch',\n",
    "                            'min_Arterial Base Excess':'min_B.E. (bloed)', 'min_Arterial Blood Pressure systolic':'min_ABP systolisch',\n",
    "                            'max_Arterial Base Excess':'max_B.E. (bloed)', 'max_Arterial Blood Pressure systolic':'max_ABP systolisch',\n",
    "                            'slope_Arterial Base Excess':'slope_B.E. (bloed)', 'slope_Arterial Blood Pressure systolic':'slope_ABP systolisch',\n",
    "                            'mean_Inspired O2 Fraction':'mean_O2 concentratie (Set)','min_Inspired O2 Fraction':'min_O2 concentratie (Set)','max_Inspired O2 Fraction':'max_O2 concentratie (Set)',\n",
    "                            'mean_Oxygen Saturation':'mean_O2-Saturatie (bloed)','min_Oxygen Saturation':'min_O2-Saturatie (bloed)','max_Oxygen Saturation':'max_O2-Saturatie (bloed)',\n",
    "                            'min_Propofol':'min_Propofol (Diprivan)', 'min_Fentanyl Citrate':'min_Fentanyl', 'mean_O2 Flow':'mean_O2 l/min', 'cardiac_bool_new':'cardio_surgery_new',\n",
    "                            'mean_Phosphate':'mean_Fosfaat (bloed)', 'kurt_Central Venous Pressure':'kurt_CVD', 'max_Heart Rate':'max_Hartfrequentie', \"max_Platelet Count\":\"max_Thrombo's (bloed)\"})\n",
    "\n",
    "#Rename for distr change 6 hour model\n",
    "AF_dataset = AF_dataset.rename(columns={'min_PEEP set':'min_PEEP (Set)','max_PEEP set':'max_PEEP (Set)', 'is_given_NORepinefrine':'is_given_Noradrenaline (Norepinefrine)', 'max_O2 Flow':'max_O2 l/min', 'slope_O2 Flow':'slope_O2 l/min', \n",
    "                                                    'cardiac_bool_new':'cardio_surgery_new','min_Phosphate':'min_Fosfaat (bloed)', \n",
    "                                                    'min_Arterial Blood Pressure mean': 'min_ABP gemiddeld','max_Arterial Blood Pressure mean': 'max_ABP gemiddeld',\n",
    "                                                    'slope_Arterial Blood Pressure mean': 'slope_ABP gemiddeld',\n",
    "                                                    'slope_Bicarbonate':'slope_Act.HCO3 (bloed)','max_Bicarbonate':'max_Act.HCO3 (bloed)','min_Bicarbonate':'min_Act.HCO3 (bloed)',\n",
    "                                                    'mean_Bicarbonate':'mean_Act.HCO3 (bloed)',\n",
    "                                                    'mean_Arterial Blood Pressure mean': 'mean_ABP gemiddeld',\"slope_Platelet Count\":\"slope_Thrombo's (bloed)\",\n",
    "                                                    'mean_Central Venous Pressure':'mean_CVD', 'min_Heart Rate':'min_Hartfrequentie', \"min_Platelet Count\":\"min_Thrombo's (bloed)\"})\n",
    "\n",
    "#Rename for distr change 1.5 hour model\n",
    "AF_dataset = AF_dataset.rename(columns={ 'max_O2 Flow':'max_O2 l/min','min_Phosphate':'min_Fosfaat (bloed)','max_Urea Nitrogen':'max_Ureum (bloed)',\n",
    "                                            'mean_Urea Nitrogen':'mean_Ureum (bloed)','min_Urea Nitrogen':'min_Ureum (bloed)', 'slope_Heart Rate':'slope_Hartfrequentie','mean_Heart Rate':'mean_Hartfrequentie',\n",
    "                                                    'mean_Central Venous Pressure':'mean_CVD'})\n",
    "\n",
    "#Rename for standard 12 hour model\n",
    "AF_dataset = AF_dataset.rename(columns={\"mean_Hemoglobin\":\"mean_Hb (bloed)\",\"slope_pO2\":'slope_PO2 (bloed)',\"mean_pO2\":'mean_PO2 (bloed)',\"max_pO2\":'max_PO2 (bloed)',\n",
    "                                        'mean_pCO2':'mean_pCO2 (bloed)','slope_pCO2':'slope_pCO2 (bloed)','min_pCO2':'min_pCO2 (bloed)','max_pCO2':'max_pCO2 (bloed)',\n",
    "                                        \"min_pO2\":'min_PO2 (bloed)'})\n",
    "\n",
    "#Rename for standard 1.5 hour model\n",
    "AF_dataset = AF_dataset.rename(columns={ 'min_O2 Flow':'min_O2 l/min', \"mean_Platelet Count\":\"mean_Thrombo's (bloed)\",\"mean_PTT\":\"mean_APTT  (bloed)\",\n",
    "                                        'min_Central Venous Pressure':'min_CVD',\"min_C-Reactive Protein\":\"min_CRP (bloed)\"})\n",
    "                                        "
   ]
  },
  {
   "cell_type": "code",
   "execution_count": 32,
   "metadata": {},
   "outputs": [],
   "source": [
    "AF_dataset = AF_dataset.drop_duplicates(\"admissionid\",keep='first')"
   ]
  },
  {
   "cell_type": "code",
   "execution_count": 33,
   "metadata": {},
   "outputs": [],
   "source": [
    "AF_1_df = AF_dataset[AF_dataset.AF==1]\n",
    "AF_0_matched_df = AF_dataset[(AF_dataset.AF==0)&(AF_dataset.admissionid!=AF_dataset.date_corresponds_to_AF_admid)]\n",
    "\n",
    "train_admissionid,test_admissionid = train_test_split(AF_1_df.admissionid.unique(), test_size=0.2, random_state=42)\n",
    "\n",
    "train_AF_1_dataset = AF_1_df[AF_1_df.admissionid.isin(train_admissionid)]\n",
    "test_AF_1_dataset = AF_1_df[AF_1_df.admissionid.isin(test_admissionid)]\n",
    "\n",
    "train_AF_0_dataset = AF_0_matched_df[AF_0_matched_df.date_corresponds_to_AF_admid.isin(train_AF_1_dataset.admissionid)]\n",
    "test_AF_0_dataset = AF_0_matched_df[AF_0_matched_df.date_corresponds_to_AF_admid.isin(test_AF_1_dataset.admissionid)]\n",
    "\n",
    "train_AF_dataset = train_AF_0_dataset.append(train_AF_1_dataset).reset_index(drop=True).sample(len(train_AF_0_dataset)+len(train_AF_1_dataset),random_state=42)\n",
    "test_AF_dataset = test_AF_0_dataset.append(test_AF_1_dataset).reset_index(drop=True).sample(len(test_AF_0_dataset)+len(test_AF_1_dataset),random_state=42)"
   ]
  },
  {
   "cell_type": "code",
   "execution_count": 34,
   "metadata": {},
   "outputs": [],
   "source": [
    "X_train_or = train_AF_dataset\n",
    "X_test_or = test_AF_dataset\n",
    "y_train = train_AF_dataset.AF\n",
    "y_test = test_AF_dataset.AF"
   ]
  },
  {
   "cell_type": "markdown",
   "metadata": {},
   "source": [
    "### Testing"
   ]
  },
  {
   "cell_type": "code",
   "execution_count": 35,
   "metadata": {},
   "outputs": [],
   "source": [
    "if one_half_hour_model:\n",
    "\n",
    "    feature_columns = ['Age', \n",
    "        'is_given_Noradrenaline (Norepinefrine)', \n",
    "        'max_Hartfrequentie',\n",
    "       'mean_PEEP (Set)', \n",
    "       'mean_CVD', \n",
    "       'mean_O2 concentratie (Set)',\n",
    "       \"min_Thrombo's (bloed)\",\n",
    "       'urgency', \n",
    "       'mean_UrineCAD', \n",
    "       'is_given_Furosemide (Lasix)', \n",
    "       'mean_Ureum (bloed)',\n",
    "       'slope_B.E. (bloed)',\n",
    "       'slope_ABP systolisch', \n",
    "       'mean_O2-Saturatie (bloed)', \n",
    "       'fluid_balance']\n",
    "\n",
    "elif six_hour_model:\n",
    "\n",
    "    feature_columns = ['Age', \n",
    "        'is_given_Noradrenaline (Norepinefrine)',\n",
    "        'max_Hartfrequentie', \n",
    "        'mean_PEEP (Set)',\n",
    "        'min_CVD',\n",
    "        'mean_O2 concentratie (Set)', \n",
    "        'urgency', \n",
    "        'mean_UrineCAD',\n",
    "        'is_given_Furosemide (Lasix)', \n",
    "        'fluid_balance', \n",
    "        'slope_ABP gemiddeld',\n",
    "        'mean_O2-Saturatie (bloed)', \n",
    "        'max_Fosfaat (bloed)',\n",
    "        'max_ABP systolisch',\n",
    "        'min_Lactaat (bloed)'\n",
    "    ]\n",
    "\n",
    "else:\n",
    "\n",
    "    feature_columns = ['Age',\n",
    "        'mean_CVD',\n",
    "        'mean_O2 concentratie (Set)',\n",
    "        'mean_PEEP (Set)',\n",
    "        'is_given_Noradrenaline (Norepinefrine)',\n",
    "        'min_pH (bloed)',\n",
    "        'max_UrineCAD',\n",
    "        'mean_Hartfrequentie',\n",
    "        'urgency',\n",
    "        'min_Fosfaat (bloed)',\n",
    "        'is_given_Furosemide (Lasix)',\n",
    "        'is_given_Propofol (Diprivan)',\n",
    "        'mean_O2-Saturatie (bloed)',\n",
    "        \"max_Thrombo's (bloed)\",\n",
    "        'max_ABP systolisch'\n",
    "    ]\n",
    "\n",
    "X_train=X_train_or[feature_columns]    \n",
    "X_test=X_test_or[feature_columns]   "
   ]
  },
  {
   "cell_type": "code",
   "execution_count": 36,
   "metadata": {},
   "outputs": [
    {
     "name": "stdout",
     "output_type": "stream",
     "text": [
      "0:\tlearn: 0.6879554\ttotal: 1.9ms\tremaining: 568ms\n",
      "100:\tlearn: 0.5682558\ttotal: 233ms\tremaining: 460ms\n",
      "200:\tlearn: 0.5513783\ttotal: 446ms\tremaining: 220ms\n",
      "299:\tlearn: 0.5435235\ttotal: 630ms\tremaining: 0us\n"
     ]
    },
    {
     "data": {
      "text/plain": [
       "<catboost.core.CatBoostClassifier at 0x203fce1d070>"
      ]
     },
     "execution_count": 36,
     "metadata": {},
     "output_type": "execute_result"
    }
   ],
   "source": [
    "AF_class_balance = [y_train.sum()/len(y_train),1-y_train.sum()/len(y_train)]\n",
    "if one_half_hour_model:\n",
    "    CB_AF = CatBoostClassifier(\n",
    "        verbose=100, iterations=300, l2_leaf_reg=3, depth=3, class_weights=AF_class_balance)\n",
    "elif six_hour_model:\n",
    "    CB_AF = CatBoostClassifier(\n",
    "        verbose=100, iterations=400, depth=3, l2_leaf_reg=3, class_weights=AF_class_balance)\n",
    "else:\n",
    "    CB_AF = CatBoostClassifier(\n",
    "        verbose=100, iterations=300, depth=3, l2_leaf_reg=3, class_weights=AF_class_balance)\n",
    "\n",
    "CB_AF.fit(X_train,y_train)"
   ]
  },
  {
   "cell_type": "code",
   "execution_count": 37,
   "metadata": {},
   "outputs": [
    {
     "name": "stdout",
     "output_type": "stream",
     "text": [
      "BALANCED TRAIN PATIENTS\n",
      "              precision    recall  f1-score   support\n",
      "\n",
      "       No-AF       0.72      0.70      0.71      4279\n",
      "          AF       0.71      0.73      0.72      4280\n",
      "\n",
      "    accuracy                           0.71      8559\n",
      "   macro avg       0.72      0.71      0.71      8559\n",
      "weighted avg       0.72      0.71      0.71      8559\n",
      "\n",
      "\n",
      "\n",
      "AUC = 0.7976\n",
      "MCC = 0.4302\n",
      "==================================================\n"
     ]
    }
   ],
   "source": [
    "print(\"BALANCED TRAIN PATIENTS\")\n",
    "print(classification_report(y_train,CB_AF.predict(X_train),target_names=[\"No-AF\",\"AF\"]))\n",
    "print(\"\\n\")\n",
    "(fpr, tpr, thresholds) = get_roc_curve(CB_AF, Pool(data=X_train,label=y_train), plot=False)\n",
    "print(\"AUC = \"+str(np.round(auc(fpr,tpr),4)))\n",
    "print(\"MCC = \"+str(np.round(matthews_corrcoef(y_train,CB_AF.predict(X_train)),4)))\n",
    "print(50*\"=\")"
   ]
  },
  {
   "cell_type": "code",
   "execution_count": 38,
   "metadata": {},
   "outputs": [
    {
     "name": "stdout",
     "output_type": "stream",
     "text": [
      "BALANCED TEST PATIENTS\n",
      "              precision    recall  f1-score   support\n",
      "\n",
      "       No-AF       0.71      0.67      0.69      1070\n",
      "          AF       0.69      0.73      0.71      1070\n",
      "\n",
      "    accuracy                           0.70      2140\n",
      "   macro avg       0.70      0.70      0.70      2140\n",
      "weighted avg       0.70      0.70      0.70      2140\n",
      "\n",
      "\n",
      "\n",
      "AUC = 0.7828\n",
      "MCC = 0.4027\n",
      "==================================================\n"
     ]
    }
   ],
   "source": [
    "print(\"BALANCED TEST PATIENTS\")\n",
    "print(classification_report(y_test,CB_AF.predict(X_test),target_names=[\"No-AF\",\"AF\"]))\n",
    "print(\"\\n\")\n",
    "(fpr, tpr, thresholds) = get_roc_curve(CB_AF, Pool(data=X_test,label=y_test), plot=False)\n",
    "print(\"AUC = \"+str(np.round(auc(fpr,tpr),4)))\n",
    "print(\"MCC = \"+str(np.round(matthews_corrcoef(y_test,CB_AF.predict(X_test)),4)))\n",
    "print(50*\"=\")"
   ]
  },
  {
   "cell_type": "code",
   "execution_count": 39,
   "metadata": {},
   "outputs": [],
   "source": [
    "transfer_y_test = y_test\n",
    "transfer_predict = CB_AF.predict(X_test)"
   ]
  },
  {
   "cell_type": "code",
   "execution_count": 40,
   "metadata": {},
   "outputs": [
    {
     "name": "stdout",
     "output_type": "stream",
     "text": [
      "ALL PATIENTS\n",
      "              precision    recall  f1-score   support\n",
      "\n",
      "       No-AF       0.99      0.69      0.81     49863\n",
      "          AF       0.05      0.73      0.09      1070\n",
      "\n",
      "    accuracy                           0.69     50933\n",
      "   macro avg       0.52      0.71      0.45     50933\n",
      "weighted avg       0.97      0.69      0.80     50933\n",
      "\n",
      "\n",
      "\n",
      "AUC = 0.7885\n",
      "MCC = 0.1302\n",
      "==================================================\n",
      "ECE normalized AUC (%) = 2.16 %\n",
      "ESCE normalized AUC (%) = -0.97 %\n",
      "BALANCED TEST PATIENTS\n",
      "              precision    recall  f1-score   support\n",
      "\n",
      "       No-AF       0.71      0.67      0.69      1070\n",
      "          AF       0.69      0.73      0.71      1070\n",
      "\n",
      "    accuracy                           0.70      2140\n",
      "   macro avg       0.70      0.70      0.70      2140\n",
      "weighted avg       0.70      0.70      0.70      2140\n",
      "\n",
      "\n",
      "\n",
      "AUC = 0.7828\n",
      "MCC = 0.4027\n",
      "==================================================\n",
      "ECE normalized AUC (%) = 4.69 %\n",
      "ESCE normalized AUC (%) = 1.84 %\n"
     ]
    },
    {
     "data": {
      "text/plain": [
       "<Figure size 432x288 with 0 Axes>"
      ]
     },
     "metadata": {},
     "output_type": "display_data"
    }
   ],
   "source": [
    "temp_large_db = AF_dataset[((AF_dataset.AF==0)&(~AF_dataset.admissionid.isin(AF_0_matched_df.admissionid)))|(AF_dataset.admissionid.isin(test_AF_dataset.admissionid))]\n",
    "\n",
    "y_test_all_pat = temp_large_db.AF\n",
    "X_test_all_pat = temp_large_db[feature_columns]\n",
    "\n",
    "print(\"ALL PATIENTS\")\n",
    "print(classification_report(y_test_all_pat,CB_AF.predict(X_test_all_pat),target_names=[\"No-AF\",\"AF\"]))\n",
    "print(\"\\n\")\n",
    "(fpr, tpr, thresholds) = get_roc_curve(CB_AF, Pool(data=X_test_all_pat,label=y_test_all_pat), plot=False)\n",
    "print(\"AUC = \"+str(np.round(auc(fpr,tpr),4)))\n",
    "print(\"MCC = \"+str(np.round(matthews_corrcoef(y_test_all_pat,CB_AF.predict(X_test_all_pat)),4)))\n",
    "print(50*\"=\")\n",
    "\n",
    "mimic_result_dataframe = pandas_result_AF_maker(\"all patients\",X_test_all_pat,y_test_all_pat,CB_AF,mimic_result_dataframe)\n",
    "\n",
    "print(\"BALANCED TEST PATIENTS\")\n",
    "print(classification_report(y_test,CB_AF.predict(X_test),target_names=[\"No-AF\",\"AF\"]))\n",
    "print(\"\\n\")\n",
    "(fpr, tpr, thresholds) = get_roc_curve(CB_AF, Pool(data=X_test,label=y_test), plot=False)\n",
    "print(\"AUC = \"+str(np.round(auc(fpr,tpr),4)))\n",
    "print(\"MCC = \"+str(np.round(matthews_corrcoef(y_test,CB_AF.predict(X_test)),4)))\n",
    "print(50*\"=\")\n",
    "\n",
    "mimic_result_dataframe = pandas_result_AF_maker(\"balanced test\",X_test,y_test,CB_AF,mimic_result_dataframe)"
   ]
  },
  {
   "cell_type": "code",
   "execution_count": 41,
   "metadata": {},
   "outputs": [
    {
     "data": {
      "image/png": "[encoded data removed]",
      "text/plain": [
       "<Figure size 576x540 with 2 Axes>"
      ]
     },
     "metadata": {
      "needs_background": "light"
     },
     "output_type": "display_data"
    }
   ],
   "source": [
    "present=False\n",
    "\n",
    "explainer = shap.TreeExplainer(CB_AF)\n",
    "shap_values = explainer.shap_values(X_test)\n",
    "\n",
    "plt.figure()\n",
    "shap.summary_plot(shap_values, X_test,show=False)"
   ]
  },
  {
   "cell_type": "markdown",
   "metadata": {},
   "source": [
    "## Combo validation "
   ]
  },
  {
   "cell_type": "code",
   "execution_count": 42,
   "metadata": {},
   "outputs": [],
   "source": [
    "validation_type_string = \"combo\""
   ]
  },
  {
   "cell_type": "markdown",
   "metadata": {},
   "source": [
    "### Data Import"
   ]
  },
  {
   "cell_type": "code",
   "execution_count": 43,
   "metadata": {},
   "outputs": [],
   "source": [
    "if one_half_hour_model:\n",
    "        AF_dataset_mimic = pd.read_csv(mimic_extracted_path+\"AF_dataset_1_5_hours.csv\") \n",
    "        AF_dataset = pd.read_csv(amsterdam_data_path+\"AF_dataset_1_5_hours.csv\") \n",
    "elif six_hour_model:\n",
    "        AF_dataset_mimic = pd.read_csv(mimic_extracted_path+\"AF_dataset_6_hours.csv\") \n",
    "        AF_dataset = pd.read_csv(amsterdam_data_path+\"AF_dataset_6_hours.csv\") \n",
    "else:\n",
    "        AF_dataset_mimic = pd.read_csv(mimic_extracted_path+\"AF_dataset_12_hours.csv\") \n",
    "        AF_dataset = pd.read_csv(amsterdam_data_path+\"AF_dataset_12_hours.csv\") \n",
    "\n",
    "        \n",
    "df_patients = pd.read_csv(mimic_extracted_path+\"patients.csv\",sep=',')\n",
    "df_patients = df_patients.rename(columns={\"subject_id\":\"patientid\",\"anchor_age\":\"Age\"})\n",
    "\n",
    "AF_dataset_mimic = AF_dataset_mimic.merge(df_patients[['patientid','Age']],how='left',on='patientid')\n",
    "\n",
    "admissions_pd_mimic = pd.read_csv(mimic_extracted_path+\"df_adm_icu.csv\",sep=',')\n",
    "admissions_pd_mimic[\"urgency\"]=0\n",
    "admissions_pd_mimic = admissions_pd_mimic.rename(columns={'stay_id':'admissionid'})\n",
    "admissions_pd_mimic.loc[admissions_pd_mimic.admission_type.isin(['DIRECT EMER.', 'EW EMER.', 'URGENT']),\"urgency\"]=1\n",
    "AF_dataset_mimic = AF_dataset_mimic.merge(admissions_pd_mimic[[\"admissionid\",\"ethnicity\",\"urgency\"]],how='left',on=\"admissionid\")"
   ]
  },
  {
   "cell_type": "code",
   "execution_count": 44,
   "metadata": {},
   "outputs": [],
   "source": [
    "AF_dataset_mimic[\"is_given_NORepinefrine\"]=0\n",
    "AF_dataset_mimic.loc[~AF_dataset_mimic['mean_NORepinephrine'].isna(),\"is_given_NORepinefrine\"]=1\n",
    "\n",
    "AF_dataset_mimic[\"cardiac_surg_bool\"]=0\n",
    "AF_dataset_mimic.loc[(AF_dataset_mimic[\"cardiac_bool\"]==1)&(AF_dataset_mimic[\"surgery_bool\"]==1),\"cardiac_surg_bool\"] = 1\n",
    "\n",
    "AF_dataset_mimic[\"is_given_Calcium Glubionaat (Calcium Sandoz)\"]=0\n",
    "if \"mean_Calcium Carbonate Suspension\" in AF_dataset_mimic.columns:\n",
    "    AF_dataset_mimic.loc[(AF_dataset_mimic[\"mean_Calcium Carbonate\"]>1)|(AF_dataset_mimic[\"mean_Calcium Gluconate\"]>1)|((\"mean_Calcium Carbonate Suspension\" in AF_dataset_mimic.columns)&(AF_dataset_mimic[\"mean_Calcium Carbonate Suspension\"]>1))|(AF_dataset_mimic[\"mean_Calcium Acetate\"]>1),\"is_given_Calcium Glubionaat (Calcium Sandoz)\"] = 1\n",
    "else:\n",
    "    AF_dataset_mimic.loc[(AF_dataset_mimic[\"mean_Calcium Carbonate\"]>1)|(AF_dataset_mimic[\"mean_Calcium Gluconate\"]>1)|(AF_dataset_mimic[\"mean_Calcium Acetate\"]>1),\"is_given_Calcium Glubionaat (Calcium Sandoz)\"] = 1\n",
    "    \n",
    "AF_dataset_mimic[\"is_given_Dopamine (Inotropin)\"]=0\n",
    "AF_dataset_mimic.loc[~AF_dataset_mimic['mean_DOPamine'].isna(),\"is_given_Dopamine (Inotropin)\"]=1\n",
    "\n",
    "AF_dataset_mimic['is_given_Magnesiumsulfaat (MgSO4)']=0\n",
    "AF_dataset_mimic.loc[~AF_dataset_mimic['mean_Magnesium Sulfate'].isna(),'is_given_Magnesiumsulfaat (MgSO4)']=1\n",
    "\n",
    "AF_dataset_mimic['is_given_Propofol (Diprivan)']=0\n",
    "AF_dataset_mimic.loc[~AF_dataset_mimic['mean_Propofol'].isna(),'is_given_Propofol (Diprivan)']=1\n",
    "\n",
    "AF_dataset_mimic['is_given_Fentanyl']=0\n",
    "AF_dataset_mimic.loc[~AF_dataset_mimic['mean_Fentanyl Citrate'].isna(),'is_given_Fentanyl']=1\n",
    "\n",
    "AF_dataset_mimic[\"is_given_Furosemide (Lasix)\"]=0\n",
    "AF_dataset_mimic.loc[~AF_dataset_mimic['mean_Furosemide'].isna(),\"is_given_Furosemide (Lasix)\"]=1\n",
    "\n",
    "AF_dataset_mimic[\"is_given_LoopDiuretics\"]=0\n",
    "AF_dataset_mimic.loc[(~AF_dataset_mimic['mean_Bumetanide'].isna())|(~AF_dataset_mimic['mean_Furosemide'].isna()),\"is_given_LoopDiuretics\"]=1\n",
    "\n",
    "AF_dataset_mimic[\"mean_PEEP set\"] = AF_dataset_mimic[\"mean_PEEP set\"].fillna(0)"
   ]
  },
  {
   "cell_type": "code",
   "execution_count": 45,
   "metadata": {},
   "outputs": [],
   "source": [
    "AF_dataset[\"is_given_Magnesiumsulfaat (MgSO4)\"]=0\n",
    "AF_dataset.loc[AF_dataset['mean_Magnesiumsulfaat (MgSO4)']>0,\"is_given_Magnesiumsulfaat (MgSO4)\"]=1\n",
    "AF_dataset[\"is_given_Calcium Glubionaat (Calcium Sandoz)\"]=0\n",
    "AF_dataset.loc[AF_dataset['mean_Calcium Glubionaat (Calcium Sandoz)']>0,\"is_given_Calcium Glubionaat (Calcium Sandoz)\"]=1\n",
    "\n",
    "AF_dataset[\"is_given_LoopDiuretics\"]=0\n",
    "AF_dataset.loc[(AF_dataset['mean_Furosemide (Lasix)']>0),\"is_given_LoopDiuretics\"]=1\n",
    "\n",
    "AF_dataset['is_given_Propofol (Diprivan)']=0\n",
    "AF_dataset.loc[AF_dataset['mean_Propofol (Diprivan)']>0,'is_given_Propofol (Diprivan)']=1\n",
    "\n",
    "AF_dataset['is_given_Dopamine (Inotropin)']=0\n",
    "AF_dataset.loc[AF_dataset['mean_Dopamine (Inotropin)']>0,'is_given_Dopamine (Inotropin)']=1\n",
    "\n",
    "AF_dataset['is_given_Enoximon (Perfan)']=0\n",
    "AF_dataset.loc[AF_dataset['mean_Enoximon (Perfan)']>0,'is_given_Enoximon (Perfan)']=1\n",
    "\n",
    "AF_dataset.loc[AF_dataset['mean_PEEP (Set)'].isna(),'mean_PEEP (Set)']=0\n",
    "\n",
    "AF_dataset['is_given_Hydrocortison (Solu Cortef)']=0\n",
    "AF_dataset.loc[AF_dataset['mean_Hydrocortison (Solu Cortef)']>0,'is_given_Hydrocortison (Solu Cortef)']=1\n",
    "\n",
    "AF_dataset['is_given_Midazolam (Dormicum)']=0\n",
    "AF_dataset.loc[AF_dataset['mean_Midazolam (Dormicum)']>0,'is_given_Midazolam (Dormicum)']=1\n",
    "\n",
    "AF_dataset['is_given_Morfine']=0\n",
    "AF_dataset.loc[AF_dataset['mean_Morfine']>0,'is_given_Morfine']=1\n",
    "\n",
    "AF_dataset['is_given_Fentanyl']=0\n",
    "AF_dataset.loc[AF_dataset['mean_Fentanyl']>0,'is_given_Fentanyl']=1"
   ]
  },
  {
   "cell_type": "code",
   "execution_count": 46,
   "metadata": {},
   "outputs": [],
   "source": [
    "AF_dataset.loc[AF_dataset.Age==65,'Age'] = 69\n",
    "AF_dataset.loc[AF_dataset.Age==35,'Age'] = 39\n",
    "AF_dataset.loc[AF_dataset.Age==45,'Age'] = 49\n",
    "AF_dataset.loc[AF_dataset.Age==55,'Age'] = 59\n",
    "AF_dataset.loc[AF_dataset.Age==79,'Age'] = 79\n",
    "AF_dataset.loc[AF_dataset.Age==85,'Age'] = 80"
   ]
  },
  {
   "cell_type": "code",
   "execution_count": 47,
   "metadata": {},
   "outputs": [],
   "source": [
    "#Rename for distr change 12 hour model\n",
    "AF_dataset_mimic = AF_dataset_mimic.rename(columns={'mean_PEEP set':'mean_PEEP (Set)', 'is_given_NORepinefrine':'is_given_Noradrenaline (Norepinefrine)', 'mean_Foley':'mean_UrineCAD', 'max_Foley':'max_UrineCAD', \n",
    "                            'min_Foley':'min_UrineCAD', 'slope_Foley':'slope_UrineCAD', 'max_Central Venous Pressure':'max_CVD','mean_Phosphate':'mean_Fosfaat (bloed)', 'max_Phosphate':'max_Fosfaat (bloed)', \n",
    "                            'mean_Lactate':'mean_Lactaat (bloed)','max_Lactate':'max_Lactaat (bloed)','min_Lactate':'min_Lactaat (bloed)',\n",
    "                            'mean_pH':'mean_pH (bloed)','max_pH':'max_pH (bloed)','min_pH':'min_pH (bloed)',\n",
    "                            'mean_Arterial Base Excess':'mean_B.E. (bloed)', 'mean_Arterial Blood Pressure systolic':'mean_ABP systolisch',\n",
    "                            'min_Arterial Base Excess':'min_B.E. (bloed)', 'min_Arterial Blood Pressure systolic':'min_ABP systolisch',\n",
    "                            'max_Arterial Base Excess':'max_B.E. (bloed)', 'max_Arterial Blood Pressure systolic':'max_ABP systolisch',\n",
    "                            'slope_Arterial Base Excess':'slope_B.E. (bloed)', 'slope_Arterial Blood Pressure systolic':'slope_ABP systolisch',\n",
    "                            'mean_Inspired O2 Fraction':'mean_O2 concentratie (Set)','min_Inspired O2 Fraction':'min_O2 concentratie (Set)','max_Inspired O2 Fraction':'max_O2 concentratie (Set)',\n",
    "                            'mean_Oxygen Saturation':'mean_O2-Saturatie (bloed)','min_Oxygen Saturation':'min_O2-Saturatie (bloed)','max_Oxygen Saturation':'max_O2-Saturatie (bloed)',\n",
    "                            'min_Propofol':'min_Propofol (Diprivan)', 'min_Fentanyl Citrate':'min_Fentanyl', 'mean_O2 Flow':'mean_O2 l/min', 'cardiac_bool_new':'cardio_surgery_new',\n",
    "                            'mean_Phosphate':'mean_Fosfaat (bloed)', 'kurt_Central Venous Pressure':'kurt_CVD', 'max_Heart Rate':'max_Hartfrequentie', \"max_Platelet Count\":\"max_Thrombo's (bloed)\"})\n",
    "\n",
    "#Rename for distr change 6 hour model\n",
    "AF_dataset_mimic = AF_dataset_mimic.rename(columns={'min_PEEP set':'min_PEEP (Set)','max_PEEP set':'max_PEEP (Set)', 'is_given_NORepinefrine':'is_given_Noradrenaline (Norepinefrine)', 'max_O2 Flow':'max_O2 l/min', 'slope_O2 Flow':'slope_O2 l/min', \n",
    "                                                    'cardiac_bool_new':'cardio_surgery_new','min_Phosphate':'min_Fosfaat (bloed)', \n",
    "                                                    'min_Arterial Blood Pressure mean': 'min_ABP gemiddeld','max_Arterial Blood Pressure mean': 'max_ABP gemiddeld',\n",
    "                                                    'slope_Arterial Blood Pressure mean': 'slope_ABP gemiddeld',\n",
    "                                                    'slope_Bicarbonate':'slope_Act.HCO3 (bloed)','max_Bicarbonate':'max_Act.HCO3 (bloed)','min_Bicarbonate':'min_Act.HCO3 (bloed)',\n",
    "                                                    'mean_Bicarbonate':'mean_Act.HCO3 (bloed)',\n",
    "                                                    'mean_Arterial Blood Pressure mean': 'mean_ABP gemiddeld',\"slope_Platelet Count\":\"slope_Thrombo's (bloed)\",\n",
    "                                                    'mean_Central Venous Pressure':'mean_CVD', 'min_Heart Rate':'min_Hartfrequentie', \"min_Platelet Count\":\"min_Thrombo's (bloed)\"})\n",
    "\n",
    "#Rename for distr change 1.5 hour model\n",
    "AF_dataset_mimic = AF_dataset_mimic.rename(columns={ 'max_O2 Flow':'max_O2 l/min','min_Phosphate':'min_Fosfaat (bloed)','max_Urea Nitrogen':'max_Ureum (bloed)',\n",
    "                                            'mean_Urea Nitrogen':'mean_Ureum (bloed)','min_Urea Nitrogen':'min_Ureum (bloed)', 'slope_Heart Rate':'slope_Hartfrequentie','mean_Heart Rate':'mean_Hartfrequentie',\n",
    "                                                    'mean_Central Venous Pressure':'mean_CVD'})\n",
    "\n",
    "#Rename for standard 12 hour model\n",
    "AF_dataset_mimic = AF_dataset_mimic.rename(columns={\"mean_Hemoglobin\":\"mean_Hb (bloed)\",\"slope_pO2\":'slope_PO2 (bloed)',\"mean_pO2\":'mean_PO2 (bloed)',\"max_pO2\":'max_PO2 (bloed)',\n",
    "                                        'mean_pCO2':'mean_pCO2 (bloed)','slope_pCO2':'slope_pCO2 (bloed)','min_pCO2':'min_pCO2 (bloed)','max_pCO2':'max_pCO2 (bloed)',\n",
    "                                        \"min_pO2\":'min_PO2 (bloed)'})\n",
    "\n",
    "#Rename for standard 1.5 hour model\n",
    "AF_dataset_mimic = AF_dataset_mimic.rename(columns={ 'min_O2 Flow':'min_O2 l/min', \"mean_Platelet Count\":\"mean_Thrombo's (bloed)\",\"mean_PTT\":\"mean_APTT  (bloed)\",\n",
    "                                        'min_Central Venous Pressure':'min_CVD',\"min_C-Reactive Protein\":\"min_CRP (bloed)\"})"
   ]
  },
  {
   "cell_type": "code",
   "execution_count": 48,
   "metadata": {},
   "outputs": [],
   "source": [
    "AF_dataset_mimic.loc[:,\"min_Ureum (bloed)\"] = AF_dataset_mimic[\"min_Ureum (bloed)\"]*0.357\n",
    "AF_dataset_mimic.loc[:,\"mean_O2-Saturatie (bloed)\"] = AF_dataset_mimic[\"mean_O2-Saturatie (bloed)\"]/100.0"
   ]
  },
  {
   "cell_type": "code",
   "execution_count": 49,
   "metadata": {},
   "outputs": [],
   "source": [
    "AF_temp_db_mimic = AF_dataset_mimic[(AF_dataset_mimic.AF==0)&(AF_dataset_mimic.AF_orig==0)&(AF_dataset_mimic.admissionid!=AF_dataset_mimic.date_corresponds_to_AF_admid)]\n",
    "\n",
    "AF_temp_db = AF_dataset[(AF_dataset.AF==0)&(AF_dataset.AF_orig==0)&(AF_dataset.admissionid!=AF_dataset.date_corresponds_to_AF_admid)]\n",
    "\n",
    "AF_NOW_mimic = AF_temp_db_mimic.append(AF_dataset_mimic[AF_dataset_mimic.AF==1]).reset_index(drop=True)\n",
    "AF_NOW = AF_temp_db.append(AF_dataset[AF_dataset.AF==1]).reset_index(drop=True)"
   ]
  },
  {
   "cell_type": "code",
   "execution_count": 50,
   "metadata": {},
   "outputs": [],
   "source": [
    "AF_1_df = AF_dataset[AF_dataset.AF==1]\n",
    "AF_0_matched_df = AF_dataset[(AF_dataset.AF==0)&(AF_dataset.admissionid!=AF_dataset.date_corresponds_to_AF_admid)]\n",
    "\n",
    "train_admissionid,test_admissionid = train_test_split(AF_1_df.admissionid.unique(), test_size=0.2, random_state=42)\n",
    "\n",
    "train_AF_1_dataset = AF_1_df[AF_1_df.admissionid.isin(train_admissionid)]\n",
    "test_AF_1_dataset = AF_1_df[AF_1_df.admissionid.isin(test_admissionid)]\n",
    "\n",
    "train_AF_0_dataset = AF_0_matched_df[AF_0_matched_df.date_corresponds_to_AF_admid.isin(train_AF_1_dataset.admissionid)]\n",
    "test_AF_0_dataset = AF_0_matched_df[AF_0_matched_df.date_corresponds_to_AF_admid.isin(test_AF_1_dataset.admissionid)]\n",
    "\n",
    "train_AF_dataset = train_AF_0_dataset.append(train_AF_1_dataset).reset_index(drop=True).sample(len(train_AF_0_dataset)+len(train_AF_1_dataset),random_state=42)\n",
    "test_AF_dataset = test_AF_0_dataset.append(test_AF_1_dataset).reset_index(drop=True).sample(len(test_AF_0_dataset)+len(test_AF_1_dataset),random_state=42)"
   ]
  },
  {
   "cell_type": "code",
   "execution_count": 51,
   "metadata": {},
   "outputs": [],
   "source": [
    "AF_1_df_mimic = AF_dataset_mimic[AF_dataset_mimic.AF==1]\n",
    "AF_0_matched_df_mimic = AF_dataset_mimic[(AF_dataset_mimic.AF==0)&(AF_dataset_mimic.admissionid!=AF_dataset_mimic.date_corresponds_to_AF_admid)]\n",
    "\n",
    "train_admissionid_mimic,test_admissionid_mimic = train_test_split(AF_1_df_mimic.admissionid.unique(), test_size=0.2, random_state=42)\n",
    "\n",
    "train_AF_1_dataset_mimic = AF_1_df_mimic[AF_1_df_mimic.admissionid.isin(train_admissionid_mimic)]\n",
    "test_AF_1_dataset_mimic = AF_1_df_mimic[AF_1_df_mimic.admissionid.isin(test_admissionid_mimic)]\n",
    "\n",
    "train_AF_0_dataset_mimic = AF_0_matched_df_mimic[AF_0_matched_df_mimic.date_corresponds_to_AF_admid.isin(train_AF_1_dataset_mimic.admissionid)]\n",
    "test_AF_0_dataset_mimic = AF_0_matched_df_mimic[AF_0_matched_df_mimic.date_corresponds_to_AF_admid.isin(test_AF_1_dataset_mimic.admissionid)]\n",
    "\n",
    "train_AF_dataset_mimic = train_AF_0_dataset_mimic.append(train_AF_1_dataset_mimic).reset_index(drop=True).sample(len(train_AF_0_dataset_mimic)+len(train_AF_1_dataset_mimic),random_state=42)\n",
    "test_AF_dataset_mimic = test_AF_0_dataset_mimic.append(test_AF_1_dataset_mimic).reset_index(drop=True).sample(len(test_AF_0_dataset_mimic)+len(test_AF_1_dataset_mimic),random_state=42)"
   ]
  },
  {
   "cell_type": "code",
   "execution_count": 52,
   "metadata": {},
   "outputs": [],
   "source": [
    "mimic_drop_columns = ['patientid', 'hadm_id', 'admittime', 'AF_measuredat', 'intime',\n",
    "       'outtime', 'admissionid', 'lengthofstay']\n",
    "\n",
    "drop_columns = [\"dateofdeath_delta\",\"admittedat_delta\",\"admissionid\",\"origin\",\n",
    "                \"lengthofstay\",\"destination\",\"weightgroup\",\"agegroup\",\"dateofdeath\",\n",
    "                \"admittedat\",\"heightgroup\",\"specialty\",\"dateofdeath_delta\",\"admittedat_delta\",\"weightsource\",\"dischargedat\",\"heightsource\",\n",
    "                \"gender\",\"Mortality\",\"AF_orig\",\"AF_measuredat\",\"AF\",\"new_onset_AF\",\"Preadmission_AF\",\"patientid\",\"location\",\"admissionyeargroup\"]\n",
    "\n",
    "mimic_drop_columns.append('date_corresponds_to_AF_admid')\n",
    "drop_columns.append('date_corresponds_to_AF_admid')"
   ]
  },
  {
   "cell_type": "code",
   "execution_count": 53,
   "metadata": {},
   "outputs": [],
   "source": [
    "X_train_or_amst = train_AF_dataset\n",
    "X_test_or_amst = test_AF_dataset\n",
    "y_train_amst = train_AF_dataset.AF\n",
    "y_test_amst = test_AF_dataset.AF\n",
    "\n",
    "X_train_or_mimic = train_AF_dataset_mimic\n",
    "X_test_or_mimic = test_AF_dataset_mimic\n",
    "y_train_mimic = train_AF_dataset_mimic.AF\n",
    "y_test_mimic = test_AF_dataset_mimic.AF"
   ]
  },
  {
   "cell_type": "markdown",
   "metadata": {},
   "source": [
    "### Testing"
   ]
  },
  {
   "cell_type": "code",
   "execution_count": 54,
   "metadata": {},
   "outputs": [],
   "source": [
    "if one_half_hour_model:\n",
    "\n",
    "    feature_columns = ['Age', \n",
    "        'is_given_Noradrenaline (Norepinefrine)', \n",
    "        'max_Hartfrequentie',\n",
    "       'mean_PEEP (Set)', \n",
    "       'mean_CVD', \n",
    "       'mean_O2 concentratie (Set)',\n",
    "       \"min_Thrombo's (bloed)\",\n",
    "       'urgency', \n",
    "       'mean_UrineCAD', \n",
    "       'is_given_Furosemide (Lasix)', \n",
    "       'mean_Ureum (bloed)',\n",
    "       'slope_B.E. (bloed)',\n",
    "       'slope_ABP systolisch', \n",
    "       'mean_O2-Saturatie (bloed)', \n",
    "       'fluid_balance']\n",
    "\n",
    "elif six_hour_model:\n",
    "\n",
    "    feature_columns = ['Age', \n",
    "        'is_given_Noradrenaline (Norepinefrine)',\n",
    "        'max_Hartfrequentie', \n",
    "        'mean_PEEP (Set)',\n",
    "        'min_CVD',\n",
    "        'mean_O2 concentratie (Set)', \n",
    "        'urgency', \n",
    "        'mean_UrineCAD',\n",
    "        'is_given_Furosemide (Lasix)', \n",
    "        'fluid_balance', \n",
    "        'slope_ABP gemiddeld',\n",
    "        'mean_O2-Saturatie (bloed)', \n",
    "        'max_Fosfaat (bloed)',\n",
    "        'max_ABP systolisch',\n",
    "        'min_Lactaat (bloed)'\n",
    "    ]\n",
    "\n",
    "else:\n",
    "\n",
    "    feature_columns = ['Age',\n",
    "        'mean_CVD',\n",
    "        'mean_O2 concentratie (Set)',\n",
    "        'mean_PEEP (Set)',\n",
    "        'is_given_Noradrenaline (Norepinefrine)',\n",
    "        'min_pH (bloed)',\n",
    "        'max_UrineCAD',\n",
    "        'mean_Hartfrequentie',\n",
    "        'urgency',\n",
    "        'min_Fosfaat (bloed)',\n",
    "        'is_given_Furosemide (Lasix)',\n",
    "        'is_given_Propofol (Diprivan)',\n",
    "        'mean_O2-Saturatie (bloed)',\n",
    "        \"max_Thrombo's (bloed)\",\n",
    "        'max_ABP systolisch'\n",
    "    ]\n",
    "\n",
    "X_train_amst = X_train_or_amst[feature_columns]\n",
    "X_test_amst = X_test_or_amst[feature_columns]\n",
    "X_train_mimic = X_train_or_mimic[feature_columns]\n",
    "X_test_mimic = X_test_or_mimic[feature_columns]\n",
    "\n",
    "X_train = X_train_amst.append(X_train_mimic).reset_index(drop=True).sample(\n",
    "    len(X_train_amst)+len(X_train_mimic), random_state=42)\n",
    "\n",
    "y_train = np.append(y_train_amst, y_train_mimic)[X_train.index.values]\n"
   ]
  },
  {
   "cell_type": "code",
   "execution_count": 55,
   "metadata": {},
   "outputs": [
    {
     "name": "stdout",
     "output_type": "stream",
     "text": [
      "0:\tlearn: 0.6881701\ttotal: 4.13ms\tremaining: 1.23s\n",
      "100:\tlearn: 0.5710220\ttotal: 286ms\tremaining: 564ms\n",
      "200:\tlearn: 0.5536886\ttotal: 609ms\tremaining: 300ms\n",
      "299:\tlearn: 0.5454902\ttotal: 923ms\tremaining: 0us\n"
     ]
    },
    {
     "data": {
      "text/plain": [
       "<catboost.core.CatBoostClassifier at 0x204181c3910>"
      ]
     },
     "execution_count": 55,
     "metadata": {},
     "output_type": "execute_result"
    }
   ],
   "source": [
    "AF_class_balance = [y_train.sum()/len(y_train),1-y_train.sum()/len(y_train)]\n",
    "\n",
    "if one_half_hour_model:\n",
    "    CB_AF = CatBoostClassifier(\n",
    "        verbose=100, iterations=300, l2_leaf_reg=3, depth=3, class_weights=AF_class_balance)\n",
    "elif six_hour_model:\n",
    "    CB_AF = CatBoostClassifier(\n",
    "        verbose=100, iterations=400, depth=3, l2_leaf_reg=3, class_weights=AF_class_balance)\n",
    "else:\n",
    "    CB_AF = CatBoostClassifier(\n",
    "        verbose=100, iterations=300, depth=3, l2_leaf_reg=3, class_weights=AF_class_balance)\n",
    "\n",
    "CB_AF.fit(X_train,y_train)"
   ]
  },
  {
   "cell_type": "code",
   "execution_count": 56,
   "metadata": {},
   "outputs": [
    {
     "name": "stdout",
     "output_type": "stream",
     "text": [
      "              precision    recall  f1-score   support\n",
      "\n",
      "       No-AF       0.73      0.70      0.72      5879\n",
      "          AF       0.71      0.74      0.73      5880\n",
      "\n",
      "    accuracy                           0.72     11759\n",
      "   macro avg       0.72      0.72      0.72     11759\n",
      "weighted avg       0.72      0.72      0.72     11759\n",
      "\n"
     ]
    }
   ],
   "source": [
    "print(classification_report(y_train,CB_AF.predict(X_train),target_names=[\"No-AF\",\"AF\"]))"
   ]
  },
  {
   "cell_type": "code",
   "execution_count": 57,
   "metadata": {},
   "outputs": [
    {
     "name": "stdout",
     "output_type": "stream",
     "text": [
      "BALANCED TEST AMSTERDAM PATIENTS\n",
      "              precision    recall  f1-score   support\n",
      "\n",
      "       No-AF       0.74      0.69      0.71       400\n",
      "          AF       0.71      0.76      0.73       400\n",
      "\n",
      "    accuracy                           0.72       800\n",
      "   macro avg       0.72      0.72      0.72       800\n",
      "weighted avg       0.72      0.72      0.72       800\n",
      "\n",
      "\n",
      "\n",
      "AUC = 0.8057\n",
      "MCC = 0.4485\n",
      "==================================================\n"
     ]
    }
   ],
   "source": [
    "print(\"BALANCED TEST AMSTERDAM PATIENTS\")\n",
    "print(classification_report(y_test_amst,CB_AF.predict(X_test_amst),target_names=[\"No-AF\",\"AF\"]))\n",
    "print(\"\\n\")\n",
    "(fpr, tpr, thresholds) = get_roc_curve(CB_AF, Pool(data=X_test_amst,label=y_test_amst), plot=False)\n",
    "print(\"AUC = \"+str(np.round(auc(fpr,tpr),4)))\n",
    "print(\"MCC = \"+str(np.round(matthews_corrcoef(y_test_amst,CB_AF.predict(X_test_amst)),4)))\n",
    "print(50*\"=\")"
   ]
  },
  {
   "cell_type": "code",
   "execution_count": 58,
   "metadata": {},
   "outputs": [
    {
     "name": "stdout",
     "output_type": "stream",
     "text": [
      "BALANCED TEST MIMIC PATIENTS\n",
      "              precision    recall  f1-score   support\n",
      "\n",
      "       No-AF       0.71      0.68      0.69      1070\n",
      "          AF       0.69      0.72      0.70      1070\n",
      "\n",
      "    accuracy                           0.70      2140\n",
      "   macro avg       0.70      0.70      0.70      2140\n",
      "weighted avg       0.70      0.70      0.70      2140\n",
      "\n",
      "\n",
      "\n",
      "AUC = 0.7788\n",
      "MCC = 0.3984\n",
      "==================================================\n"
     ]
    }
   ],
   "source": [
    "print(\"BALANCED TEST MIMIC PATIENTS\")\n",
    "print(classification_report(y_test_mimic,CB_AF.predict(X_test_mimic),target_names=[\"No-AF\",\"AF\"]))\n",
    "print(\"\\n\")\n",
    "(fpr, tpr, thresholds) = get_roc_curve(CB_AF, Pool(data=X_test_mimic,label=y_test_mimic), plot=False)\n",
    "print(\"AUC = \"+str(np.round(auc(fpr,tpr),4)))\n",
    "print(\"MCC = \"+str(np.round(matthews_corrcoef(y_test_mimic,CB_AF.predict(X_test_mimic)),4)))\n",
    "print(50*\"=\")"
   ]
  },
  {
   "cell_type": "code",
   "execution_count": 59,
   "metadata": {},
   "outputs": [],
   "source": [
    "combo_mimic_y_test = y_test_mimic\n",
    "combo_mimic_predict = CB_AF.predict(X_test_mimic)\n",
    "combo_amst_y_test = y_test_amst\n",
    "combo_amst_predict = CB_AF.predict(X_test_amst)"
   ]
  },
  {
   "cell_type": "code",
   "execution_count": 60,
   "metadata": {},
   "outputs": [
    {
     "name": "stdout",
     "output_type": "stream",
     "text": [
      "ALL PATIENTS\n",
      "              precision    recall  f1-score   support\n",
      "\n",
      "       No-AF       0.99      0.70      0.82     49863\n",
      "          AF       0.05      0.72      0.09      1070\n",
      "\n",
      "    accuracy                           0.70     50933\n",
      "   macro avg       0.52      0.71      0.46     50933\n",
      "weighted avg       0.97      0.70      0.80     50933\n",
      "\n",
      "\n",
      "\n",
      "AUC = 0.787\n",
      "MCC = 0.1289\n",
      "==================================================\n",
      "ECE normalized AUC (%) = 1.71 %\n",
      "ESCE normalized AUC (%) = 0.22 %\n",
      "BALANCED TEST PATIENTS\n",
      "              precision    recall  f1-score   support\n",
      "\n",
      "       No-AF       0.71      0.68      0.69      1070\n",
      "          AF       0.69      0.72      0.70      1070\n",
      "\n",
      "    accuracy                           0.70      2140\n",
      "   macro avg       0.70      0.70      0.70      2140\n",
      "weighted avg       0.70      0.70      0.70      2140\n",
      "\n",
      "\n",
      "\n",
      "AUC = 0.7788\n",
      "MCC = 0.3984\n",
      "==================================================\n",
      "ECE normalized AUC (%) = 4.54 %\n",
      "ESCE normalized AUC (%) = 2.08 %\n"
     ]
    },
    {
     "data": {
      "text/plain": [
       "<Figure size 432x288 with 0 Axes>"
      ]
     },
     "metadata": {},
     "output_type": "display_data"
    }
   ],
   "source": [
    "temp_large_db = AF_dataset_mimic[((AF_dataset_mimic.AF==0)&(~AF_dataset_mimic.admissionid.isin(AF_0_matched_df_mimic.admissionid)))|(AF_dataset_mimic.admissionid.isin(test_AF_dataset_mimic.admissionid))]\n",
    "\n",
    "y_test_all_pat = temp_large_db.AF\n",
    "X_test_all_pat = temp_large_db[feature_columns]\n",
    "\n",
    "\n",
    "print(\"ALL PATIENTS\")\n",
    "print(classification_report(y_test_all_pat,CB_AF.predict(X_test_all_pat),target_names=[\"No-AF\",\"AF\"]))\n",
    "print(\"\\n\")\n",
    "(fpr, tpr, thresholds) = get_roc_curve(CB_AF, Pool(data=X_test_all_pat,label=y_test_all_pat), plot=False)\n",
    "print(\"AUC = \"+str(np.round(auc(fpr,tpr),4)))\n",
    "print(\"MCC = \"+str(np.round(matthews_corrcoef(y_test_all_pat,CB_AF.predict(X_test_all_pat)),4)))\n",
    "print(50*\"=\")\n",
    "\n",
    "mimic_result_dataframe = pandas_result_AF_maker(\"all patients mimic\",X_test_all_pat,y_test_all_pat,CB_AF,mimic_result_dataframe)\n",
    "\n",
    "print(\"BALANCED TEST PATIENTS\")\n",
    "print(classification_report(y_test_mimic,CB_AF.predict(X_test_mimic),target_names=[\"No-AF\",\"AF\"]))\n",
    "print(\"\\n\")\n",
    "(fpr, tpr, thresholds) = get_roc_curve(CB_AF, Pool(data=X_test_mimic,label=y_test_mimic), plot=False)\n",
    "print(\"AUC = \"+str(np.round(auc(fpr,tpr),4)))\n",
    "print(\"MCC = \"+str(np.round(matthews_corrcoef(y_test_mimic,CB_AF.predict(X_test_mimic)),4)))\n",
    "print(50*\"=\")\n",
    "\n",
    "mimic_result_dataframe = pandas_result_AF_maker(\"balanced test mimic\",X_test_mimic,y_test_mimic,CB_AF,mimic_result_dataframe)"
   ]
  },
  {
   "cell_type": "code",
   "execution_count": 61,
   "metadata": {},
   "outputs": [
    {
     "name": "stdout",
     "output_type": "stream",
     "text": [
      "ALL PATIENTS\n",
      "              precision    recall  f1-score   support\n",
      "\n",
      "       No-AF       0.99      0.70      0.82     14563\n",
      "          AF       0.06      0.76      0.12       400\n",
      "\n",
      "    accuracy                           0.70     14963\n",
      "   macro avg       0.53      0.73      0.47     14963\n",
      "weighted avg       0.97      0.70      0.80     14963\n",
      "\n",
      "\n",
      "\n",
      "AUC = 0.8078\n",
      "MCC = 0.1583\n",
      "==================================================\n",
      "ECE normalized AUC (%) = 1.94 %\n",
      "ESCE normalized AUC (%) = 1.01 %\n",
      "BALANCED TEST PATIENTS\n",
      "              precision    recall  f1-score   support\n",
      "\n",
      "       No-AF       0.74      0.69      0.71       400\n",
      "          AF       0.71      0.76      0.73       400\n",
      "\n",
      "    accuracy                           0.72       800\n",
      "   macro avg       0.72      0.72      0.72       800\n",
      "weighted avg       0.72      0.72      0.72       800\n",
      "\n",
      "\n",
      "\n",
      "AUC = 0.8057\n",
      "MCC = 0.4485\n",
      "==================================================\n",
      "ECE normalized AUC (%) = 6.0 %\n",
      "ESCE normalized AUC (%) = 3.96 %\n"
     ]
    },
    {
     "data": {
      "text/plain": [
       "<Figure size 432x288 with 0 Axes>"
      ]
     },
     "metadata": {},
     "output_type": "display_data"
    }
   ],
   "source": [
    "temp_large_db = AF_dataset[((AF_dataset.AF==0)&(~AF_dataset.admissionid.isin(AF_0_matched_df.admissionid)))|(AF_dataset.admissionid.isin(test_AF_dataset.admissionid))]\n",
    "\n",
    "y_test_all_pat = temp_large_db.AF\n",
    "X_test_all_pat = temp_large_db[feature_columns]\n",
    "\n",
    "print(\"ALL PATIENTS\")\n",
    "print(classification_report(y_test_all_pat,CB_AF.predict(X_test_all_pat),target_names=[\"No-AF\",\"AF\"]))\n",
    "print(\"\\n\")\n",
    "(fpr, tpr, thresholds) = get_roc_curve(CB_AF, Pool(data=X_test_all_pat,label=y_test_all_pat), plot=False)\n",
    "print(\"AUC = \"+str(np.round(auc(fpr,tpr),4)))\n",
    "print(\"MCC = \"+str(np.round(matthews_corrcoef(y_test_all_pat,CB_AF.predict(X_test_all_pat)),4)))\n",
    "print(50*\"=\")\n",
    "\n",
    "mimic_result_dataframe = pandas_result_AF_maker(\"all patients amsterdam\",X_test_all_pat,y_test_all_pat,CB_AF,mimic_result_dataframe)\n",
    "\n",
    "\n",
    "print(\"BALANCED TEST PATIENTS\")\n",
    "print(classification_report(y_test_amst,CB_AF.predict(X_test_amst),target_names=[\"No-AF\",\"AF\"]))\n",
    "print(\"\\n\")\n",
    "(fpr, tpr, thresholds) = get_roc_curve(CB_AF, Pool(data=X_test_amst,label=y_test_amst), plot=False)\n",
    "print(\"AUC = \"+str(np.round(auc(fpr,tpr),4)))\n",
    "print(\"MCC = \"+str(np.round(matthews_corrcoef(y_test_amst,CB_AF.predict(X_test_amst)),4)))\n",
    "print(50*\"=\")\n",
    "\n",
    "mimic_result_dataframe = pandas_result_AF_maker(\"balanced test amsterdam\",X_test_amst,y_test_amst,CB_AF,mimic_result_dataframe)"
   ]
  },
  {
   "cell_type": "markdown",
   "metadata": {},
   "source": [
    "## Direct validation"
   ]
  },
  {
   "cell_type": "code",
   "execution_count": 62,
   "metadata": {},
   "outputs": [],
   "source": [
    "validation_type_string = \"direct\""
   ]
  },
  {
   "cell_type": "markdown",
   "metadata": {},
   "source": [
    "### Data Import"
   ]
  },
  {
   "cell_type": "code",
   "execution_count": 63,
   "metadata": {},
   "outputs": [],
   "source": [
    "if one_half_hour_model:\n",
    "        AF_dataset_mimic = pd.read_csv(mimic_extracted_path+\"AF_dataset_1_5_hours.csv\") \n",
    "        AF_dataset = pd.read_csv(amsterdam_data_path+\"AF_dataset_1_5_hours.csv\") \n",
    "elif six_hour_model:\n",
    "        AF_dataset_mimic = pd.read_csv(mimic_extracted_path+\"AF_dataset_6_hours.csv\") \n",
    "        AF_dataset = pd.read_csv(amsterdam_data_path+\"AF_dataset_6_hours.csv\") \n",
    "else:\n",
    "        AF_dataset_mimic = pd.read_csv(mimic_extracted_path+\"AF_dataset_12_hours.csv\") \n",
    "        AF_dataset = pd.read_csv(amsterdam_data_path+\"AF_dataset_12_hours.csv\") \n",
    "\n",
    "\n",
    "df_patients = pd.read_csv(mimic_extracted_path+\"patients.csv\",sep=',')\n",
    "df_patients = df_patients.rename(columns={\"subject_id\":\"patientid\",\"anchor_age\":\"Age\"})\n",
    "\n",
    "AF_dataset_mimic = AF_dataset_mimic.merge(df_patients[['patientid','Age']],how='left',on='patientid')\n",
    "\n",
    "admissions_pd_mimic = pd.read_csv(mimic_extracted_path+\"df_adm_icu.csv\",sep=',')\n",
    "admissions_pd_mimic[\"urgency\"]=0\n",
    "admissions_pd_mimic.loc[admissions_pd_mimic.admission_type.isin(['DIRECT EMER.', 'EW EMER.', 'URGENT']),\"urgency\"]=1\n",
    "AF_dataset_mimic = AF_dataset_mimic.merge(admissions_pd_mimic[[\"hadm_id\",\"ethnicity\",\"urgency\"]],how='left',on=\"hadm_id\")"
   ]
  },
  {
   "cell_type": "code",
   "execution_count": 64,
   "metadata": {},
   "outputs": [],
   "source": [
    "AF_dataset_mimic[\"is_given_NORepinefrine\"]=0\n",
    "AF_dataset_mimic.loc[~AF_dataset_mimic['mean_NORepinephrine'].isna(),\"is_given_NORepinefrine\"]=1\n",
    "\n",
    "AF_dataset_mimic[\"cardiac_surg_bool\"]=0\n",
    "AF_dataset_mimic.loc[(AF_dataset_mimic[\"cardiac_bool\"]==1)&(AF_dataset_mimic[\"surgery_bool\"]==1),\"cardiac_surg_bool\"] = 1\n",
    "\n",
    "AF_dataset_mimic[\"is_given_Calcium Glubionaat (Calcium Sandoz)\"]=0\n",
    "if \"mean_Calcium Carbonate Suspension\" in AF_dataset_mimic.columns:\n",
    "    AF_dataset_mimic.loc[(AF_dataset_mimic[\"mean_Calcium Carbonate\"]>1)|(AF_dataset_mimic[\"mean_Calcium Gluconate\"]>1)|((\"mean_Calcium Carbonate Suspension\" in AF_dataset_mimic.columns)&(AF_dataset_mimic[\"mean_Calcium Carbonate Suspension\"]>1))|(AF_dataset_mimic[\"mean_Calcium Acetate\"]>1),\"is_given_Calcium Glubionaat (Calcium Sandoz)\"] = 1\n",
    "else:\n",
    "    AF_dataset_mimic.loc[(AF_dataset_mimic[\"mean_Calcium Carbonate\"]>1)|(AF_dataset_mimic[\"mean_Calcium Gluconate\"]>1)|(AF_dataset_mimic[\"mean_Calcium Acetate\"]>1),\"is_given_Calcium Glubionaat (Calcium Sandoz)\"] = 1\n",
    "    \n",
    "AF_dataset_mimic[\"is_given_Dopamine (Inotropin)\"]=0\n",
    "AF_dataset_mimic.loc[~AF_dataset_mimic['mean_DOPamine'].isna(),\"is_given_Dopamine (Inotropin)\"]=1\n",
    "\n",
    "AF_dataset_mimic['is_given_Magnesiumsulfaat (MgSO4)']=0\n",
    "AF_dataset_mimic.loc[~AF_dataset_mimic['mean_Magnesium Sulfate'].isna(),'is_given_Magnesiumsulfaat (MgSO4)']=1\n",
    "\n",
    "AF_dataset_mimic['is_given_Propofol (Diprivan)']=0\n",
    "AF_dataset_mimic.loc[~AF_dataset_mimic['mean_Propofol'].isna(),'is_given_Propofol (Diprivan)']=1\n",
    "\n",
    "AF_dataset_mimic['is_given_Fentanyl']=0\n",
    "AF_dataset_mimic.loc[~AF_dataset_mimic['mean_Fentanyl Citrate'].isna(),'is_given_Fentanyl']=1\n",
    "\n",
    "AF_dataset_mimic[\"is_given_Furosemide (Lasix)\"]=0\n",
    "AF_dataset_mimic.loc[~AF_dataset_mimic['mean_Furosemide'].isna(),\"is_given_Furosemide (Lasix)\"]=1\n",
    "\n",
    "AF_dataset_mimic[\"is_given_LoopDiuretics\"]=0\n",
    "AF_dataset_mimic.loc[(~AF_dataset_mimic['mean_Bumetanide'].isna())|(~AF_dataset_mimic['mean_Furosemide'].isna()),\"is_given_LoopDiuretics\"]=1\n",
    "\n",
    "AF_dataset_mimic[\"mean_PEEP set\"] = AF_dataset_mimic[\"mean_PEEP set\"].fillna(0)"
   ]
  },
  {
   "cell_type": "code",
   "execution_count": 65,
   "metadata": {},
   "outputs": [],
   "source": [
    "AF_dataset[\"is_given_Magnesiumsulfaat (MgSO4)\"]=0\n",
    "AF_dataset.loc[AF_dataset['mean_Magnesiumsulfaat (MgSO4)']>0,\"is_given_Magnesiumsulfaat (MgSO4)\"]=1\n",
    "AF_dataset[\"is_given_Calcium Glubionaat (Calcium Sandoz)\"]=0\n",
    "AF_dataset.loc[AF_dataset['mean_Calcium Glubionaat (Calcium Sandoz)']>0,\"is_given_Calcium Glubionaat (Calcium Sandoz)\"]=1\n",
    "\n",
    "AF_dataset[\"is_given_LoopDiuretics\"]=0\n",
    "AF_dataset.loc[(AF_dataset['mean_Furosemide (Lasix)']>0),\"is_given_LoopDiuretics\"]=1\n",
    "\n",
    "AF_dataset['is_given_Propofol (Diprivan)']=0\n",
    "AF_dataset.loc[AF_dataset['mean_Propofol (Diprivan)']>0,'is_given_Propofol (Diprivan)']=1\n",
    "\n",
    "AF_dataset['is_given_Dopamine (Inotropin)']=0\n",
    "AF_dataset.loc[AF_dataset['mean_Dopamine (Inotropin)']>0,'is_given_Dopamine (Inotropin)']=1\n",
    "\n",
    "AF_dataset['is_given_Enoximon (Perfan)']=0\n",
    "AF_dataset.loc[AF_dataset['mean_Enoximon (Perfan)']>0,'is_given_Enoximon (Perfan)']=1\n",
    "\n",
    "AF_dataset.loc[AF_dataset['mean_PEEP (Set)'].isna(),'mean_PEEP (Set)']=0\n",
    "\n",
    "AF_dataset['is_given_Hydrocortison (Solu Cortef)']=0\n",
    "AF_dataset.loc[AF_dataset['mean_Hydrocortison (Solu Cortef)']>0,'is_given_Hydrocortison (Solu Cortef)']=1\n",
    "\n",
    "AF_dataset['is_given_Midazolam (Dormicum)']=0\n",
    "AF_dataset.loc[AF_dataset['mean_Midazolam (Dormicum)']>0,'is_given_Midazolam (Dormicum)']=1\n",
    "\n",
    "AF_dataset['is_given_Morfine']=0\n",
    "AF_dataset.loc[AF_dataset['mean_Morfine']>0,'is_given_Morfine']=1\n",
    "\n",
    "AF_dataset['is_given_Fentanyl']=0\n",
    "AF_dataset.loc[AF_dataset['mean_Fentanyl']>0,'is_given_Fentanyl']=1"
   ]
  },
  {
   "cell_type": "code",
   "execution_count": 66,
   "metadata": {},
   "outputs": [],
   "source": [
    "AF_dataset.loc[AF_dataset.Age==65,'Age'] = 69\n",
    "AF_dataset.loc[AF_dataset.Age==35,'Age'] = 39\n",
    "AF_dataset.loc[AF_dataset.Age==45,'Age'] = 49\n",
    "AF_dataset.loc[AF_dataset.Age==55,'Age'] = 59\n",
    "AF_dataset.loc[AF_dataset.Age==79,'Age'] = 79\n",
    "AF_dataset.loc[AF_dataset.Age==85,'Age'] = 80"
   ]
  },
  {
   "cell_type": "code",
   "execution_count": 67,
   "metadata": {},
   "outputs": [],
   "source": [
    "#Rename for distr change 12 hour model\n",
    "AF_dataset_mimic = AF_dataset_mimic.rename(columns={'mean_PEEP set':'mean_PEEP (Set)', 'is_given_NORepinefrine':'is_given_Noradrenaline (Norepinefrine)', 'mean_Foley':'mean_UrineCAD', 'max_Foley':'max_UrineCAD', \n",
    "                            'min_Foley':'min_UrineCAD', 'slope_Foley':'slope_UrineCAD', 'max_Central Venous Pressure':'max_CVD','mean_Phosphate':'mean_Fosfaat (bloed)', 'max_Phosphate':'max_Fosfaat (bloed)', \n",
    "                            'mean_Lactate':'mean_Lactaat (bloed)','max_Lactate':'max_Lactaat (bloed)','min_Lactate':'min_Lactaat (bloed)',\n",
    "                            'mean_pH':'mean_pH (bloed)','max_pH':'max_pH (bloed)','min_pH':'min_pH (bloed)',\n",
    "                            'mean_Arterial Base Excess':'mean_B.E. (bloed)', 'mean_Arterial Blood Pressure systolic':'mean_ABP systolisch',\n",
    "                            'min_Arterial Base Excess':'min_B.E. (bloed)', 'min_Arterial Blood Pressure systolic':'min_ABP systolisch',\n",
    "                            'max_Arterial Base Excess':'max_B.E. (bloed)', 'max_Arterial Blood Pressure systolic':'max_ABP systolisch',\n",
    "                            'slope_Arterial Base Excess':'slope_B.E. (bloed)', 'slope_Arterial Blood Pressure systolic':'slope_ABP systolisch',\n",
    "                            'mean_Inspired O2 Fraction':'mean_O2 concentratie (Set)','min_Inspired O2 Fraction':'min_O2 concentratie (Set)','max_Inspired O2 Fraction':'max_O2 concentratie (Set)',\n",
    "                            'mean_Oxygen Saturation':'mean_O2-Saturatie (bloed)','min_Oxygen Saturation':'min_O2-Saturatie (bloed)','max_Oxygen Saturation':'max_O2-Saturatie (bloed)',\n",
    "                            'min_Propofol':'min_Propofol (Diprivan)', 'min_Fentanyl Citrate':'min_Fentanyl', 'mean_O2 Flow':'mean_O2 l/min', 'cardiac_bool_new':'cardio_surgery_new',\n",
    "                            'mean_Phosphate':'mean_Fosfaat (bloed)', 'kurt_Central Venous Pressure':'kurt_CVD', 'max_Heart Rate':'max_Hartfrequentie', \"max_Platelet Count\":\"max_Thrombo's (bloed)\"})\n",
    "\n",
    "#Rename for distr change 6 hour model\n",
    "AF_dataset_mimic = AF_dataset_mimic.rename(columns={'min_PEEP set':'min_PEEP (Set)','max_PEEP set':'max_PEEP (Set)', 'is_given_NORepinefrine':'is_given_Noradrenaline (Norepinefrine)', 'max_O2 Flow':'max_O2 l/min', 'slope_O2 Flow':'slope_O2 l/min', \n",
    "                                                    'cardiac_bool_new':'cardio_surgery_new','min_Phosphate':'min_Fosfaat (bloed)', \n",
    "                                                    'min_Arterial Blood Pressure mean': 'min_ABP gemiddeld','max_Arterial Blood Pressure mean': 'max_ABP gemiddeld',\n",
    "                                                    'slope_Arterial Blood Pressure mean': 'slope_ABP gemiddeld',\n",
    "                                                    'slope_Bicarbonate':'slope_Act.HCO3 (bloed)','max_Bicarbonate':'max_Act.HCO3 (bloed)','min_Bicarbonate':'min_Act.HCO3 (bloed)',\n",
    "                                                    'mean_Bicarbonate':'mean_Act.HCO3 (bloed)',\n",
    "                                                    'mean_Arterial Blood Pressure mean': 'mean_ABP gemiddeld',\"slope_Platelet Count\":\"slope_Thrombo's (bloed)\",\n",
    "                                                    'mean_Central Venous Pressure':'mean_CVD', 'min_Heart Rate':'min_Hartfrequentie', \"min_Platelet Count\":\"min_Thrombo's (bloed)\"})\n",
    "\n",
    "#Rename for distr change 1.5 hour model\n",
    "AF_dataset_mimic = AF_dataset_mimic.rename(columns={ 'max_O2 Flow':'max_O2 l/min','min_Phosphate':'min_Fosfaat (bloed)','max_Urea Nitrogen':'max_Ureum (bloed)',\n",
    "                                            'mean_Urea Nitrogen':'mean_Ureum (bloed)','min_Urea Nitrogen':'min_Ureum (bloed)', 'slope_Heart Rate':'slope_Hartfrequentie','mean_Heart Rate':'mean_Hartfrequentie',\n",
    "                                                    'mean_Central Venous Pressure':'mean_CVD'})\n",
    "\n",
    "#Rename for standard 12 hour model\n",
    "AF_dataset_mimic = AF_dataset_mimic.rename(columns={\"mean_Hemoglobin\":\"mean_Hb (bloed)\",\"slope_pO2\":'slope_PO2 (bloed)',\"mean_pO2\":'mean_PO2 (bloed)',\"max_pO2\":'max_PO2 (bloed)',\n",
    "                                        'mean_pCO2':'mean_pCO2 (bloed)','slope_pCO2':'slope_pCO2 (bloed)','min_pCO2':'min_pCO2 (bloed)','max_pCO2':'max_pCO2 (bloed)',\n",
    "                                        \"min_pO2\":'min_PO2 (bloed)'})\n",
    "\n",
    "#Rename for standard 1.5 hour model\n",
    "AF_dataset_mimic = AF_dataset_mimic.rename(columns={ 'min_O2 Flow':'min_O2 l/min', \"mean_Platelet Count\":\"mean_Thrombo's (bloed)\",\"mean_PTT\":\"mean_APTT  (bloed)\",\n",
    "                                        'min_Central Venous Pressure':'min_CVD',\"min_C-Reactive Protein\":\"min_CRP (bloed)\"})"
   ]
  },
  {
   "cell_type": "code",
   "execution_count": 68,
   "metadata": {},
   "outputs": [],
   "source": [
    "AF_dataset_mimic.loc[:,\"min_Ureum (bloed)\"] = AF_dataset_mimic[\"min_Ureum (bloed)\"]*0.357\n",
    "AF_dataset_mimic.loc[:,\"mean_O2-Saturatie (bloed)\"] = AF_dataset_mimic[\"mean_O2-Saturatie (bloed)\"]/100.0"
   ]
  },
  {
   "cell_type": "code",
   "execution_count": 69,
   "metadata": {},
   "outputs": [],
   "source": [
    "AF_dataset_mimic = AF_dataset_mimic.drop_duplicates(\"admissionid\")"
   ]
  },
  {
   "cell_type": "code",
   "execution_count": 70,
   "metadata": {},
   "outputs": [],
   "source": [
    "AF_1_df = AF_dataset[AF_dataset.AF==1]\n",
    "AF_0_matched_df = AF_dataset[(AF_dataset.AF==0)&(AF_dataset.admissionid!=AF_dataset.date_corresponds_to_AF_admid)]\n",
    "\n",
    "train_admissionid,test_admissionid = train_test_split(AF_1_df.admissionid.unique(), test_size=0.2, random_state=42)\n",
    "\n",
    "train_AF_1_dataset = AF_1_df[AF_1_df.admissionid.isin(train_admissionid)]\n",
    "test_AF_1_dataset = AF_1_df[AF_1_df.admissionid.isin(test_admissionid)]\n",
    "\n",
    "train_AF_0_dataset = AF_0_matched_df[AF_0_matched_df.date_corresponds_to_AF_admid.isin(train_AF_1_dataset.admissionid)]\n",
    "test_AF_0_dataset = AF_0_matched_df[AF_0_matched_df.date_corresponds_to_AF_admid.isin(test_AF_1_dataset.admissionid)]\n",
    "\n",
    "train_AF_dataset = train_AF_0_dataset.append(train_AF_1_dataset).reset_index(drop=True).sample(len(train_AF_0_dataset)+len(train_AF_1_dataset),random_state=42)\n",
    "test_AF_dataset_amst = test_AF_0_dataset.append(test_AF_1_dataset).reset_index(drop=True).sample(len(test_AF_0_dataset)+len(test_AF_1_dataset),random_state=42)"
   ]
  },
  {
   "cell_type": "code",
   "execution_count": 71,
   "metadata": {},
   "outputs": [],
   "source": [
    "AF_1_df_mimic = AF_dataset_mimic[AF_dataset_mimic.AF==1]\n",
    "AF_0_matched_df_mimic = AF_dataset_mimic[(AF_dataset_mimic.AF==0)&(AF_dataset_mimic.admissionid!=AF_dataset_mimic.date_corresponds_to_AF_admid)]\n",
    "\n",
    "train_admissionid_mimic,test_admissionid_mimic = train_test_split(AF_1_df_mimic.admissionid.unique(), test_size=0.2, random_state=42)\n",
    "\n",
    "test_AF_1_dataset_mimic = AF_1_df_mimic[AF_1_df_mimic.admissionid.isin(test_admissionid_mimic)]\n",
    "test_AF_0_dataset_mimic = AF_0_matched_df_mimic[AF_0_matched_df_mimic.date_corresponds_to_AF_admid.isin(test_AF_1_dataset_mimic.admissionid)]\n",
    "test_AF_dataset = test_AF_0_dataset_mimic.append(test_AF_1_dataset_mimic).reset_index(drop=True).sample(len(test_AF_0_dataset_mimic)+len(test_AF_1_dataset_mimic),random_state=42)"
   ]
  },
  {
   "cell_type": "code",
   "execution_count": 72,
   "metadata": {},
   "outputs": [],
   "source": [
    "mimic_drop_columns = ['patientid', 'hadm_id', 'admittime', 'AF_measuredat', 'intime',\n",
    "       'outtime', 'admissionid', 'lengthofstay']\n",
    "\n",
    "drop_columns = [\"dateofdeath_delta\",\"admittedat_delta\",\"admissionid\",\"origin\",\n",
    "                \"lengthofstay\",\"destination\",\"weightgroup\",\"agegroup\",\"dateofdeath\",\n",
    "                \"admittedat\",\"heightgroup\",\"specialty\",\"dateofdeath_delta\",\"admittedat_delta\",\"weightsource\",\"dischargedat\",\"heightsource\",\n",
    "                \"gender\",\"Mortality\",\"AF_orig\",\"AF_measuredat\",\"AF\",\"new_onset_AF\",\"Preadmission_AF\",\"patientid\",\"location\",\"admissionyeargroup\"]\n",
    "\n",
    "mimic_drop_columns.append('date_corresponds_to_AF_admid')\n",
    "drop_columns.append('date_corresponds_to_AF_admid')"
   ]
  },
  {
   "cell_type": "code",
   "execution_count": 73,
   "metadata": {},
   "outputs": [],
   "source": [
    "X_train_or = train_AF_dataset\n",
    "X_test_or = test_AF_dataset\n",
    "y_train = train_AF_dataset.AF\n",
    "y_test = test_AF_dataset.AF\n",
    "\n",
    "X_test_or_amst = test_AF_dataset_amst\n",
    "y_test_amst = test_AF_dataset_amst.AF"
   ]
  },
  {
   "cell_type": "markdown",
   "metadata": {},
   "source": [
    "### Testing"
   ]
  },
  {
   "cell_type": "code",
   "execution_count": 74,
   "metadata": {},
   "outputs": [],
   "source": [
    "if one_half_hour_model:\n",
    "\n",
    "    feature_columns = ['Age', \n",
    "        'is_given_Noradrenaline (Norepinefrine)', \n",
    "        'max_Hartfrequentie',\n",
    "       'mean_PEEP (Set)', \n",
    "       'mean_CVD', \n",
    "       'mean_O2 concentratie (Set)',\n",
    "       \"min_Thrombo's (bloed)\",\n",
    "       'urgency', \n",
    "       'mean_UrineCAD', \n",
    "       'is_given_Furosemide (Lasix)', \n",
    "       'mean_Ureum (bloed)',\n",
    "       'slope_B.E. (bloed)',\n",
    "       'slope_ABP systolisch', \n",
    "       'mean_O2-Saturatie (bloed)', \n",
    "       'fluid_balance']\n",
    "\n",
    "elif six_hour_model:\n",
    "\n",
    "    feature_columns = ['Age', \n",
    "        'is_given_Noradrenaline (Norepinefrine)',\n",
    "        'max_Hartfrequentie', \n",
    "        'mean_PEEP (Set)',\n",
    "        'min_CVD',\n",
    "        'mean_O2 concentratie (Set)', \n",
    "        'urgency', \n",
    "        'mean_UrineCAD',\n",
    "        'is_given_Furosemide (Lasix)', \n",
    "        'fluid_balance', \n",
    "        'slope_ABP gemiddeld',\n",
    "        'mean_O2-Saturatie (bloed)', \n",
    "        'max_Fosfaat (bloed)',\n",
    "        'max_ABP systolisch',\n",
    "        'min_Lactaat (bloed)'\n",
    "    ]\n",
    "\n",
    "else:\n",
    "\n",
    "    feature_columns = ['Age',\n",
    "        'mean_CVD',\n",
    "        'mean_O2 concentratie (Set)',\n",
    "        'mean_PEEP (Set)',\n",
    "        'is_given_Noradrenaline (Norepinefrine)',\n",
    "        'min_pH (bloed)',\n",
    "        'max_UrineCAD',\n",
    "        'mean_Hartfrequentie',\n",
    "        'urgency',\n",
    "        'min_Fosfaat (bloed)',\n",
    "        'is_given_Furosemide (Lasix)',\n",
    "        'is_given_Propofol (Diprivan)',\n",
    "        'mean_O2-Saturatie (bloed)',\n",
    "        \"max_Thrombo's (bloed)\",\n",
    "        'max_ABP systolisch'\n",
    "    ]\n",
    "\n",
    "X_train=X_train_or[feature_columns]    \n",
    "X_test=X_test_or[feature_columns] \n",
    "\n",
    "X_test_amst = X_test_or_amst[feature_columns]"
   ]
  },
  {
   "cell_type": "code",
   "execution_count": 75,
   "metadata": {},
   "outputs": [
    {
     "name": "stdout",
     "output_type": "stream",
     "text": [
      "0:\tlearn: 0.6867133\ttotal: 1.17ms\tremaining: 351ms\n",
      "100:\tlearn: 0.5384726\ttotal: 136ms\tremaining: 268ms\n",
      "200:\tlearn: 0.5151898\ttotal: 256ms\tremaining: 126ms\n",
      "299:\tlearn: 0.5018014\ttotal: 382ms\tremaining: 0us\n"
     ]
    },
    {
     "data": {
      "text/plain": [
       "<catboost.core.CatBoostClassifier at 0x203fc3c9ca0>"
      ]
     },
     "execution_count": 75,
     "metadata": {},
     "output_type": "execute_result"
    }
   ],
   "source": [
    "AF_class_balance = [y_train.sum()/len(y_train),1-y_train.sum()/len(y_train)]\n",
    "\n",
    "if one_half_hour_model:\n",
    "    CB_AF = CatBoostClassifier(\n",
    "        verbose=100, iterations=300, l2_leaf_reg=3, depth=3, class_weights=AF_class_balance)\n",
    "elif six_hour_model:\n",
    "    CB_AF = CatBoostClassifier(\n",
    "        verbose=100, iterations=400, depth=3, l2_leaf_reg=3, class_weights=AF_class_balance)\n",
    "else:\n",
    "    CB_AF = CatBoostClassifier(\n",
    "        verbose=100, iterations=300, depth=3, l2_leaf_reg=3, class_weights=AF_class_balance)\n",
    "\n",
    "CB_AF.fit(X_train,y_train)"
   ]
  },
  {
   "cell_type": "code",
   "execution_count": 76,
   "metadata": {},
   "outputs": [
    {
     "name": "stdout",
     "output_type": "stream",
     "text": [
      "              precision    recall  f1-score   support\n",
      "\n",
      "       No-AF       0.75      0.75      0.75      1600\n",
      "          AF       0.75      0.75      0.75      1600\n",
      "\n",
      "    accuracy                           0.75      3200\n",
      "   macro avg       0.75      0.75      0.75      3200\n",
      "weighted avg       0.75      0.75      0.75      3200\n",
      "\n",
      "\n",
      "\n",
      "AUC = 0.8375\n",
      "MCC = 0.5044\n",
      "==================================================\n"
     ]
    }
   ],
   "source": [
    "print(classification_report(y_train,CB_AF.predict(X_train),target_names=[\"No-AF\",\"AF\"]))\n",
    "print(\"\\n\")\n",
    "(fpr, tpr, thresholds) = get_roc_curve(CB_AF, Pool(data=X_train,label=y_train), plot=False)\n",
    "print(\"AUC = \"+str(np.round(auc(fpr,tpr),4)))\n",
    "print(\"MCC = \"+str(np.round(matthews_corrcoef(y_train,CB_AF.predict(X_train)),4)))\n",
    "print(50*\"=\")"
   ]
  },
  {
   "cell_type": "code",
   "execution_count": 77,
   "metadata": {},
   "outputs": [
    {
     "name": "stdout",
     "output_type": "stream",
     "text": [
      "BALANCED TEST PATIENTS\n",
      "              precision    recall  f1-score   support\n",
      "\n",
      "       No-AF       0.59      0.90      0.71      1070\n",
      "          AF       0.79      0.38      0.51      1070\n",
      "\n",
      "    accuracy                           0.64      2140\n",
      "   macro avg       0.69      0.64      0.61      2140\n",
      "weighted avg       0.69      0.64      0.61      2140\n",
      "\n",
      "\n",
      "\n",
      "AUC = 0.7647\n",
      "MCC = 0.3225\n",
      "==================================================\n"
     ]
    }
   ],
   "source": [
    "print(\"BALANCED TEST PATIENTS\")\n",
    "print(classification_report(y_test,CB_AF.predict(X_test),target_names=[\"No-AF\",\"AF\"]))\n",
    "print(\"\\n\")\n",
    "(fpr, tpr, thresholds) = get_roc_curve(CB_AF, Pool(data=X_test,label=y_test), plot=False)\n",
    "print(\"AUC = \"+str(np.round(auc(fpr,tpr),4)))\n",
    "print(\"MCC = \"+str(np.round(matthews_corrcoef(y_test,CB_AF.predict(X_test)),4)))\n",
    "print(50*\"=\")"
   ]
  },
  {
   "cell_type": "code",
   "execution_count": 78,
   "metadata": {},
   "outputs": [
    {
     "name": "stdout",
     "output_type": "stream",
     "text": [
      "BALANCED amst TEST PATIENTS\n",
      "              precision    recall  f1-score   support\n",
      "\n",
      "       No-AF       0.72      0.74      0.73       400\n",
      "          AF       0.73      0.71      0.72       400\n",
      "\n",
      "    accuracy                           0.73       800\n",
      "   macro avg       0.73      0.73      0.73       800\n",
      "weighted avg       0.73      0.73      0.73       800\n",
      "\n",
      "\n",
      "\n",
      "AUC = 0.8123\n",
      "MCC = 0.4527\n",
      "==================================================\n"
     ]
    }
   ],
   "source": [
    "print(\"BALANCED amst TEST PATIENTS\")\n",
    "print(classification_report(y_test_amst,CB_AF.predict(X_test_amst),target_names=[\"No-AF\",\"AF\"]))\n",
    "print(\"\\n\")\n",
    "(fpr, tpr, thresholds) = get_roc_curve(CB_AF, Pool(data=X_test_amst,label=y_test_amst), plot=False)\n",
    "print(\"AUC = \"+str(np.round(auc(fpr,tpr),4)))\n",
    "print(\"MCC = \"+str(np.round(matthews_corrcoef(y_test_amst,CB_AF.predict(X_test_amst)),4)))\n",
    "print(50*\"=\")"
   ]
  },
  {
   "cell_type": "code",
   "execution_count": 79,
   "metadata": {},
   "outputs": [],
   "source": [
    "direct_y_test = y_test\n",
    "direct_predict = CB_AF.predict(X_test)\n",
    "AMST_y_test = y_test_amst\n",
    "AMST_predict = CB_AF.predict(X_test_amst)"
   ]
  },
  {
   "cell_type": "code",
   "execution_count": 81,
   "metadata": {},
   "outputs": [
    {
     "name": "stdout",
     "output_type": "stream",
     "text": [
      "ALL PATIENTS\n",
      "              precision    recall  f1-score   support\n",
      "\n",
      "       No-AF       0.99      0.90      0.94     49863\n",
      "          AF       0.07      0.38      0.13      1070\n",
      "\n",
      "    accuracy                           0.89     50933\n",
      "   macro avg       0.53      0.64      0.53     50933\n",
      "weighted avg       0.97      0.89      0.92     50933\n",
      "\n",
      "\n",
      "\n",
      "AUC = 0.7695\n",
      "MCC = 0.1296\n",
      "==================================================\n",
      "ECE normalized AUC (%) = 11.59 %\n",
      "ESCE normalized AUC (%) = 11.56 %\n",
      "BALANCED TEST PATIENTS\n",
      "              precision    recall  f1-score   support\n",
      "\n",
      "       No-AF       0.59      0.90      0.71      1070\n",
      "          AF       0.79      0.38      0.51      1070\n",
      "\n",
      "    accuracy                           0.64      2140\n",
      "   macro avg       0.69      0.64      0.61      2140\n",
      "weighted avg       0.69      0.64      0.61      2140\n",
      "\n",
      "\n",
      "\n",
      "AUC = 0.7647\n",
      "MCC = 0.3225\n",
      "==================================================\n",
      "ECE normalized AUC (%) = 8.68 %\n",
      "ESCE normalized AUC (%) = -8.38 %\n"
     ]
    },
    {
     "data": {
      "text/plain": [
       "<Figure size 432x288 with 0 Axes>"
      ]
     },
     "metadata": {},
     "output_type": "display_data"
    }
   ],
   "source": [
    "temp_large_db = AF_dataset_mimic[((AF_dataset_mimic.AF==0)&(~AF_dataset_mimic.admissionid.isin(AF_0_matched_df_mimic.admissionid)))|(AF_dataset_mimic.admissionid.isin(test_AF_dataset.admissionid))]\n",
    "\n",
    "y_test_all_pat = temp_large_db.AF\n",
    "X_test_all_pat = temp_large_db[feature_columns]\n",
    "\n",
    "print(\"ALL PATIENTS\")\n",
    "print(classification_report(y_test_all_pat,CB_AF.predict(X_test_all_pat),target_names=[\"No-AF\",\"AF\"]))\n",
    "print(\"\\n\")\n",
    "(fpr, tpr, thresholds) = get_roc_curve(CB_AF, Pool(data=X_test_all_pat,label=y_test_all_pat), plot=False)\n",
    "print(\"AUC = \"+str(np.round(auc(fpr,tpr),4)))\n",
    "print(\"MCC = \"+str(np.round(matthews_corrcoef(y_test_all_pat,CB_AF.predict(X_test_all_pat)),4)))\n",
    "print(50*\"=\")\n",
    "\n",
    "mimic_result_dataframe = pandas_result_AF_maker(\"all patients\",X_test_all_pat,y_test_all_pat,CB_AF,mimic_result_dataframe)\n",
    "\n",
    "\n",
    "print(\"BALANCED TEST PATIENTS\")\n",
    "print(classification_report(y_test,CB_AF.predict(X_test),target_names=[\"No-AF\",\"AF\"]))\n",
    "print(\"\\n\")\n",
    "(fpr, tpr, thresholds) = get_roc_curve(CB_AF, Pool(data=X_test,label=y_test), plot=False)\n",
    "print(\"AUC = \"+str(np.round(auc(fpr,tpr),4)))\n",
    "print(\"MCC = \"+str(np.round(matthews_corrcoef(y_test,CB_AF.predict(X_test)),4)))\n",
    "print(50*\"=\")\n",
    "\n",
    "mimic_result_dataframe = pandas_result_AF_maker(\"balanced test\",X_test,y_test,CB_AF,mimic_result_dataframe)"
   ]
  },
  {
   "cell_type": "code",
   "execution_count": 82,
   "metadata": {},
   "outputs": [
    {
     "data": {
      "text/html": [
       "<div>\n",
       "<style scoped>\n",
       "    .dataframe tbody tr th:only-of-type {\n",
       "        vertical-align: middle;\n",
       "    }\n",
       "\n",
       "    .dataframe tbody tr th {\n",
       "        vertical-align: top;\n",
       "    }\n",
       "\n",
       "    .dataframe thead th {\n",
       "        text-align: right;\n",
       "    }\n",
       "</style>\n",
       "<table border=\"1\" class=\"dataframe\">\n",
       "  <thead>\n",
       "    <tr style=\"text-align: right;\">\n",
       "      <th></th>\n",
       "      <th>model</th>\n",
       "      <th>validation_type</th>\n",
       "      <th>patient_group</th>\n",
       "      <th>NO AF patients</th>\n",
       "      <th>AF patients</th>\n",
       "      <th>NO AF recall</th>\n",
       "      <th>AF recall</th>\n",
       "      <th>NO AF precision</th>\n",
       "      <th>AF precision</th>\n",
       "      <th>NO AF f1</th>\n",
       "      <th>AF f1</th>\n",
       "      <th>mcc</th>\n",
       "      <th>auc</th>\n",
       "      <th>ECE</th>\n",
       "      <th>ESCE</th>\n",
       "    </tr>\n",
       "  </thead>\n",
       "  <tbody>\n",
       "    <tr>\n",
       "      <th>0</th>\n",
       "      <td>1.5</td>\n",
       "      <td>transfer</td>\n",
       "      <td>all patients</td>\n",
       "      <td>49863</td>\n",
       "      <td>1070</td>\n",
       "      <td>0.690291</td>\n",
       "      <td>0.732710</td>\n",
       "      <td>0.991759</td>\n",
       "      <td>0.048315</td>\n",
       "      <td>0.814010</td>\n",
       "      <td>0.090652</td>\n",
       "      <td>0.130197</td>\n",
       "      <td>0.788481</td>\n",
       "      <td>0.021650</td>\n",
       "      <td>-0.009692</td>\n",
       "    </tr>\n",
       "    <tr>\n",
       "      <th>0</th>\n",
       "      <td>1.5</td>\n",
       "      <td>transfer</td>\n",
       "      <td>balanced test</td>\n",
       "      <td>1070</td>\n",
       "      <td>1070</td>\n",
       "      <td>0.669159</td>\n",
       "      <td>0.732710</td>\n",
       "      <td>0.714571</td>\n",
       "      <td>0.688928</td>\n",
       "      <td>0.691120</td>\n",
       "      <td>0.710145</td>\n",
       "      <td>0.402683</td>\n",
       "      <td>0.782847</td>\n",
       "      <td>0.046946</td>\n",
       "      <td>0.018424</td>\n",
       "    </tr>\n",
       "    <tr>\n",
       "      <th>0</th>\n",
       "      <td>1.5</td>\n",
       "      <td>combo</td>\n",
       "      <td>all patients mimic</td>\n",
       "      <td>49863</td>\n",
       "      <td>1070</td>\n",
       "      <td>0.699537</td>\n",
       "      <td>0.715888</td>\n",
       "      <td>0.991360</td>\n",
       "      <td>0.048641</td>\n",
       "      <td>0.820266</td>\n",
       "      <td>0.091093</td>\n",
       "      <td>0.128909</td>\n",
       "      <td>0.786968</td>\n",
       "      <td>0.017059</td>\n",
       "      <td>0.002200</td>\n",
       "    </tr>\n",
       "    <tr>\n",
       "      <th>0</th>\n",
       "      <td>1.5</td>\n",
       "      <td>combo</td>\n",
       "      <td>balanced test mimic</td>\n",
       "      <td>1070</td>\n",
       "      <td>1070</td>\n",
       "      <td>0.682243</td>\n",
       "      <td>0.715888</td>\n",
       "      <td>0.705996</td>\n",
       "      <td>0.692586</td>\n",
       "      <td>0.693916</td>\n",
       "      <td>0.704044</td>\n",
       "      <td>0.398356</td>\n",
       "      <td>0.778820</td>\n",
       "      <td>0.045385</td>\n",
       "      <td>0.020813</td>\n",
       "    </tr>\n",
       "    <tr>\n",
       "      <th>0</th>\n",
       "      <td>1.5</td>\n",
       "      <td>combo</td>\n",
       "      <td>all patients amsterdam</td>\n",
       "      <td>14563</td>\n",
       "      <td>400</td>\n",
       "      <td>0.698139</td>\n",
       "      <td>0.757500</td>\n",
       "      <td>0.990549</td>\n",
       "      <td>0.064482</td>\n",
       "      <td>0.819028</td>\n",
       "      <td>0.118847</td>\n",
       "      <td>0.158349</td>\n",
       "      <td>0.807825</td>\n",
       "      <td>0.019418</td>\n",
       "      <td>0.010112</td>\n",
       "    </tr>\n",
       "    <tr>\n",
       "      <th>0</th>\n",
       "      <td>1.5</td>\n",
       "      <td>combo</td>\n",
       "      <td>balanced test amsterdam</td>\n",
       "      <td>400</td>\n",
       "      <td>400</td>\n",
       "      <td>0.690000</td>\n",
       "      <td>0.757500</td>\n",
       "      <td>0.739946</td>\n",
       "      <td>0.709602</td>\n",
       "      <td>0.714101</td>\n",
       "      <td>0.732769</td>\n",
       "      <td>0.448523</td>\n",
       "      <td>0.805694</td>\n",
       "      <td>0.060028</td>\n",
       "      <td>0.039618</td>\n",
       "    </tr>\n",
       "    <tr>\n",
       "      <th>0</th>\n",
       "      <td>1.5</td>\n",
       "      <td>direct</td>\n",
       "      <td>all patients</td>\n",
       "      <td>49863</td>\n",
       "      <td>1070</td>\n",
       "      <td>0.899785</td>\n",
       "      <td>0.378505</td>\n",
       "      <td>0.985395</td>\n",
       "      <td>0.074972</td>\n",
       "      <td>0.940646</td>\n",
       "      <td>0.125155</td>\n",
       "      <td>0.129613</td>\n",
       "      <td>0.769524</td>\n",
       "      <td>0.115914</td>\n",
       "      <td>0.115564</td>\n",
       "    </tr>\n",
       "    <tr>\n",
       "      <th>0</th>\n",
       "      <td>1.5</td>\n",
       "      <td>direct</td>\n",
       "      <td>balanced test</td>\n",
       "      <td>1070</td>\n",
       "      <td>1070</td>\n",
       "      <td>0.897196</td>\n",
       "      <td>0.378505</td>\n",
       "      <td>0.590769</td>\n",
       "      <td>0.786408</td>\n",
       "      <td>0.712430</td>\n",
       "      <td>0.511041</td>\n",
       "      <td>0.322472</td>\n",
       "      <td>0.764682</td>\n",
       "      <td>0.086813</td>\n",
       "      <td>-0.083767</td>\n",
       "    </tr>\n",
       "  </tbody>\n",
       "</table>\n",
       "</div>"
      ],
      "text/plain": [
       "  model validation_type            patient_group NO AF patients AF patients  \\\n",
       "0   1.5        transfer             all patients          49863        1070   \n",
       "0   1.5        transfer            balanced test           1070        1070   \n",
       "0   1.5           combo       all patients mimic          49863        1070   \n",
       "0   1.5           combo      balanced test mimic           1070        1070   \n",
       "0   1.5           combo   all patients amsterdam          14563         400   \n",
       "0   1.5           combo  balanced test amsterdam            400         400   \n",
       "0   1.5          direct             all patients          49863        1070   \n",
       "0   1.5          direct            balanced test           1070        1070   \n",
       "\n",
       "   NO AF recall  AF recall  NO AF precision  AF precision  NO AF f1     AF f1  \\\n",
       "0      0.690291   0.732710         0.991759      0.048315  0.814010  0.090652   \n",
       "0      0.669159   0.732710         0.714571      0.688928  0.691120  0.710145   \n",
       "0      0.699537   0.715888         0.991360      0.048641  0.820266  0.091093   \n",
       "0      0.682243   0.715888         0.705996      0.692586  0.693916  0.704044   \n",
       "0      0.698139   0.757500         0.990549      0.064482  0.819028  0.118847   \n",
       "0      0.690000   0.757500         0.739946      0.709602  0.714101  0.732769   \n",
       "0      0.899785   0.378505         0.985395      0.074972  0.940646  0.125155   \n",
       "0      0.897196   0.378505         0.590769      0.786408  0.712430  0.511041   \n",
       "\n",
       "        mcc       auc       ECE      ESCE  \n",
       "0  0.130197  0.788481  0.021650 -0.009692  \n",
       "0  0.402683  0.782847  0.046946  0.018424  \n",
       "0  0.128909  0.786968  0.017059  0.002200  \n",
       "0  0.398356  0.778820  0.045385  0.020813  \n",
       "0  0.158349  0.807825  0.019418  0.010112  \n",
       "0  0.448523  0.805694  0.060028  0.039618  \n",
       "0  0.129613  0.769524  0.115914  0.115564  \n",
       "0  0.322472  0.764682  0.086813 -0.083767  "
      ]
     },
     "execution_count": 82,
     "metadata": {},
     "output_type": "execute_result"
    }
   ],
   "source": [
    "mimic_result_dataframe"
   ]
  },
  {
   "cell_type": "code",
   "execution_count": null,
   "metadata": {},
   "outputs": [],
   "source": [
    "# mimic_result_dataframe.to_csv(\"../results/mimic_result_dataframe.csv\",index=False)"
   ]
  },
  {
   "cell_type": "markdown",
   "metadata": {},
   "source": [
    "# P-tests"
   ]
  },
  {
   "cell_type": "code",
   "execution_count": 79,
   "metadata": {},
   "outputs": [],
   "source": [
    "# transfer_y_test = y_test\n",
    "# transfer_predict = CB_AF.predict(X_test)\n",
    "\n",
    "# combo_mimic_y_test = y_test_mimic\n",
    "# combo_mimic_predict = CB_AF.predict(X_test_mimic)\n",
    "# combo_amst_y_test = y_test_amst\n",
    "# combo_amst_predict = CB_AF.predict(X_test_amst)\n",
    "\n",
    "# direct_y_test = y_test\n",
    "# direct_predict = CB_AF.predict(X_test)\n",
    "# AMST_y_test = y_test_amst\n",
    "# AMST_predict = CB_AF.predict(X_test_amst)"
   ]
  },
  {
   "cell_type": "code",
   "execution_count": 80,
   "metadata": {},
   "outputs": [],
   "source": [
    "#bonferri correction: alpha/m, with m the amount of total tests\n",
    "from scipy.stats import ranksums\n",
    "\n",
    "# print(\"p-value comparisons\")\n",
    "# print(100*\"=\")\n",
    "# print(\"\")\n",
    "    \n",
    "\n",
    "# print(\"Direct - Internal\")\n",
    "# print(\"\")\n",
    "# print(\"Rank-sum p-value: \"+ str(ranksums(direct_predict,AMST_predict)[1]))\n",
    "# print(10*\"-\")\n",
    "# print(\"AF \")\n",
    "# print(\"Rank-sum p-value: \"+ str(ranksums(direct_predict[np.where(direct_y_test==1)],AMST_predict[np.where(AMST_y_test==1)])[1]))\n",
    "# print(10*\"-\")\n",
    "# print(\"NO AF\")\n",
    "# print(\"Rank-sum p-value: \"+ str(ranksums(direct_predict[np.where(direct_y_test==0)],AMST_predict[np.where(AMST_y_test==0)])[1]))\n",
    "# print(40*\"=\")\n",
    "# print(\"\")\n",
    "mimic_p_value_result_dataframe = pd.concat([mimic_p_value_result_dataframe,pd.DataFrame(data=[[model_string,\"Direct - Internal\",\"all\",ranksums(direct_predict,AMST_predict)[1]]],columns=mimic_p_value_result_dataframe_columns)])\n",
    "mimic_p_value_result_dataframe = pd.concat([mimic_p_value_result_dataframe,pd.DataFrame(data=[[model_string,\"Direct - Internal\",\"AF\",ranksums(direct_predict[np.where(direct_y_test==1)],AMST_predict[np.where(AMST_y_test==1)])[1]]],columns=mimic_p_value_result_dataframe_columns)])\n",
    "mimic_p_value_result_dataframe = pd.concat([mimic_p_value_result_dataframe,pd.DataFrame(data=[[model_string,\"Direct - Internal\",\"NO AF\",ranksums(direct_predict[np.where(direct_y_test==0)],AMST_predict[np.where(AMST_y_test==0)])[1]]],columns=mimic_p_value_result_dataframe_columns)])\n",
    "\n",
    "\n",
    "# print(\"Combo mimic - Internal \")\n",
    "# print(\"\")\n",
    "# print(\"Rank-sum p-value: \"+ str(ranksums(combo_mimic_predict,AMST_predict)[1]))\n",
    "# print(10*\"-\")\n",
    "# print(\"AF \")\n",
    "# print(\"Rank-sum p-value: \"+ str(ranksums(combo_mimic_predict[np.where(combo_mimic_y_test==1)],AMST_predict[np.where(AMST_y_test==1)])[1]))\n",
    "# print(10*\"-\")\n",
    "# print(\"NO AF\")\n",
    "# print(\"Rank-sum p-value: \"+ str(ranksums(combo_mimic_predict[np.where(combo_mimic_y_test==0)],AMST_predict[np.where(AMST_y_test==0)])[1]))\n",
    "# print(40*\"=\")\n",
    "# print(\"\")\n",
    "mimic_p_value_result_dataframe = pd.concat([mimic_p_value_result_dataframe,pd.DataFrame(data=[[model_string,\"Combo mimic - Internal\",\"all\",ranksums(combo_mimic_predict,AMST_predict)[1]]],columns=mimic_p_value_result_dataframe_columns)])\n",
    "mimic_p_value_result_dataframe = pd.concat([mimic_p_value_result_dataframe,pd.DataFrame(data=[[model_string,\"Combo mimic - Internal\",\"AF\",ranksums(combo_mimic_predict[np.where(combo_mimic_y_test==1)],AMST_predict[np.where(AMST_y_test==1)])[1]]],columns=mimic_p_value_result_dataframe_columns)])\n",
    "mimic_p_value_result_dataframe = pd.concat([mimic_p_value_result_dataframe,pd.DataFrame(data=[[model_string,\"Combo mimic - Internal\",\"NO AF\",ranksums(combo_mimic_predict[np.where(combo_mimic_y_test==0)],AMST_predict[np.where(AMST_y_test==0)])[1]]],columns=mimic_p_value_result_dataframe_columns)])\n",
    "\n",
    "\n",
    "# print(\"Combo amst - Internal \")\n",
    "# print(\"\")\n",
    "# print(\"Rank-sum p-value: \"+ str(ranksums(combo_amst_predict,AMST_predict)[1]))\n",
    "# print(10*\"-\")\n",
    "# print(\"AF \")\n",
    "# print(\"Rank-sum p-value: \"+ str(ranksums(combo_amst_predict[np.where(combo_amst_y_test==1)],AMST_predict[np.where(AMST_y_test==1)])[1]))\n",
    "# print(10*\"-\")\n",
    "# print(\"NO AF\")\n",
    "# print(\"Rank-sum p-value: \"+ str(ranksums(combo_amst_predict[np.where(combo_amst_y_test==0)],AMST_predict[np.where(AMST_y_test==0)])[1]))\n",
    "# print(40*\"=\")\n",
    "# print(\"\")\n",
    "mimic_p_value_result_dataframe = pd.concat([mimic_p_value_result_dataframe,pd.DataFrame(data=[[model_string,\"Combo amst - Internal\",\"all\",ranksums(combo_amst_predict,AMST_predict)[1]]],columns=mimic_p_value_result_dataframe_columns)])\n",
    "mimic_p_value_result_dataframe = pd.concat([mimic_p_value_result_dataframe,pd.DataFrame(data=[[model_string,\"Combo amst - Internal\",\"AF\",ranksums(combo_amst_predict[np.where(combo_amst_y_test==1)],AMST_predict[np.where(AMST_y_test==1)])[1]]],columns=mimic_p_value_result_dataframe_columns)])\n",
    "mimic_p_value_result_dataframe = pd.concat([mimic_p_value_result_dataframe,pd.DataFrame(data=[[model_string,\"Combo amst - Internal\",\"NO AF\",ranksums(combo_amst_predict[np.where(combo_amst_y_test==0)],AMST_predict[np.where(AMST_y_test==0)])[1]]],columns=mimic_p_value_result_dataframe_columns)])\n",
    "\n",
    "\n",
    "# print(\"Transfer - Internal \")\n",
    "# print(\"\")\n",
    "# print(\"Rank-sum p-value: \"+ str(ranksums(transfer_predict,AMST_predict)[1]))\n",
    "# print(10*\"-\")\n",
    "# print(\"AF \")\n",
    "# print(\"Rank-sum p-value: \"+ str(ranksums(transfer_predict[np.where(transfer_y_test==1)],AMST_predict[np.where(AMST_y_test==1)])[1]))\n",
    "# print(10*\"-\")\n",
    "# print(\"NO AF\")\n",
    "# print(\"Rank-sum p-value: \"+ str(ranksums(transfer_predict[np.where(transfer_y_test==0)],AMST_predict[np.where(AMST_y_test==0)])[1]))\n",
    "# print(40*\"=\")\n",
    "# print(\"\")\n",
    "mimic_p_value_result_dataframe = pd.concat([mimic_p_value_result_dataframe,pd.DataFrame(data=[[model_string,\"Transfer - Internal\",\"all\",ranksums(transfer_predict,AMST_predict)[1]]],columns=mimic_p_value_result_dataframe_columns)])\n",
    "mimic_p_value_result_dataframe = pd.concat([mimic_p_value_result_dataframe,pd.DataFrame(data=[[model_string,\"Transfer - Internal\",\"AF\",ranksums(transfer_predict[np.where(transfer_y_test==1)],AMST_predict[np.where(AMST_y_test==1)])[1]]],columns=mimic_p_value_result_dataframe_columns)])\n",
    "mimic_p_value_result_dataframe = pd.concat([mimic_p_value_result_dataframe,pd.DataFrame(data=[[model_string,\"Transfer - Internal\",\"NO AF\",ranksums(transfer_predict[np.where(transfer_y_test==0)],AMST_predict[np.where(AMST_y_test==0)])[1]]],columns=mimic_p_value_result_dataframe_columns)])\n",
    "\n",
    "\n",
    "# print(\"Transfer - Combo mimic \")\n",
    "# print(\"\")\n",
    "# print(\"Rank-sum p-value: \"+ str(ranksums(transfer_predict,combo_mimic_predict)[1]))\n",
    "# print(10*\"-\")\n",
    "# print(\"AF \")\n",
    "# print(\"Rank-sum p-value: \"+ str(ranksums(transfer_predict[np.where(transfer_y_test==1)],combo_mimic_predict[np.where(combo_mimic_y_test==1)])[1]))\n",
    "# print(10*\"-\")\n",
    "# print(\"NO AF\")\n",
    "# print(\"Rank-sum p-value: \"+ str(ranksums(transfer_predict[np.where(transfer_y_test==0)],combo_mimic_predict[np.where(combo_mimic_y_test==0)])[1]))\n",
    "# print(40*\"=\")\n",
    "# print(\"\")\n",
    "mimic_p_value_result_dataframe = pd.concat([mimic_p_value_result_dataframe,pd.DataFrame(data=[[model_string,\"Transfer - Combo mimic\",\"all\",ranksums(transfer_predict,combo_mimic_predict)[1]]],columns=mimic_p_value_result_dataframe_columns)])\n",
    "mimic_p_value_result_dataframe = pd.concat([mimic_p_value_result_dataframe,pd.DataFrame(data=[[model_string,\"Transfer - Combo mimic\",\"AF\",ranksums(transfer_predict[np.where(transfer_y_test==1)],combo_mimic_predict[np.where(combo_mimic_y_test==1)])[1]]],columns=mimic_p_value_result_dataframe_columns)])\n",
    "mimic_p_value_result_dataframe = pd.concat([mimic_p_value_result_dataframe,pd.DataFrame(data=[[model_string,\"Transfer - Combo mimic\",\"NO AF\",ranksums(transfer_predict[np.where(transfer_y_test==0)],combo_mimic_predict[np.where(combo_mimic_y_test==0)])[1]]],columns=mimic_p_value_result_dataframe_columns)])\n",
    "\n",
    "\n",
    "# print(\"Transfer - Direct \")\n",
    "# print(\"\")\n",
    "# print(\"Rank-sum p-value: \"+ str(ranksums(transfer_predict,direct_predict)[1]))\n",
    "# print(10*\"-\")\n",
    "# print(\"AF \")\n",
    "# print(\"Rank-sum p-value: \"+ str(ranksums(transfer_predict[np.where(transfer_y_test==1)],direct_predict[np.where(direct_y_test==1)])[1]))\n",
    "# print(10*\"-\")\n",
    "# print(\"NO AF\")\n",
    "# print(\"Rank-sum p-value: \"+ str(ranksums(transfer_predict[np.where(transfer_y_test==0)],direct_predict[np.where(direct_y_test==0)])[1]))\n",
    "# print(40*\"=\")\n",
    "# print(\"\")\n",
    "mimic_p_value_result_dataframe = pd.concat([mimic_p_value_result_dataframe,pd.DataFrame(data=[[model_string,\"Transfer - Direct\",\"all\",ranksums(transfer_predict,direct_predict)[1]]],columns=mimic_p_value_result_dataframe_columns)])\n",
    "mimic_p_value_result_dataframe = pd.concat([mimic_p_value_result_dataframe,pd.DataFrame(data=[[model_string,\"Transfer - Direct\",\"AF\",ranksums(transfer_predict[np.where(transfer_y_test==1)],direct_predict[np.where(direct_y_test==1)])[1]]],columns=mimic_p_value_result_dataframe_columns)])\n",
    "mimic_p_value_result_dataframe = pd.concat([mimic_p_value_result_dataframe,pd.DataFrame(data=[[model_string,\"Transfer - Direct\",\"NO AF\",ranksums(transfer_predict[np.where(transfer_y_test==0)],direct_predict[np.where(direct_y_test==0)])[1]]],columns=mimic_p_value_result_dataframe_columns)])\n",
    "\n",
    "\n",
    "# print(\"Combo mimic - Direct \")\n",
    "# print(\"\")\n",
    "# print(\"Rank-sum p-value: \"+ str(ranksums(combo_mimic_predict,direct_predict)[1]))\n",
    "# print(10*\"-\")\n",
    "# print(\"AF \")\n",
    "# print(\"Rank-sum p-value: \"+ str(ranksums(combo_mimic_predict[np.where(combo_mimic_y_test==1)],direct_predict[np.where(direct_y_test==1)])[1]))\n",
    "# print(10*\"-\")\n",
    "# print(\"NO AF\")\n",
    "# print(\"Rank-sum p-value: \"+ str(ranksums(combo_mimic_predict[np.where(combo_mimic_y_test==0)],direct_predict[np.where(direct_y_test==0)])[1]))\n",
    "# print(40*\"=\")\n",
    "mimic_p_value_result_dataframe = pd.concat([mimic_p_value_result_dataframe,pd.DataFrame(data=[[model_string,\"Combo mimic - Direct\",\"all\",ranksums(combo_mimic_predict,direct_predict)[1]]],columns=mimic_p_value_result_dataframe_columns)])\n",
    "mimic_p_value_result_dataframe = pd.concat([mimic_p_value_result_dataframe,pd.DataFrame(data=[[model_string,\"Combo mimic - Direct\",\"AF\",ranksums(combo_mimic_predict[np.where(combo_mimic_y_test==1)],direct_predict[np.where(direct_y_test==1)])[1]]],columns=mimic_p_value_result_dataframe_columns)])\n",
    "mimic_p_value_result_dataframe = pd.concat([mimic_p_value_result_dataframe,pd.DataFrame(data=[[model_string,\"Combo mimic - Direct\",\"NO AF\",ranksums(combo_mimic_predict[np.where(combo_mimic_y_test==0)],direct_predict[np.where(direct_y_test==0)])[1]]],columns=mimic_p_value_result_dataframe_columns)])\n",
    "\n"
   ]
  },
  {
   "cell_type": "code",
   "execution_count": 190,
   "metadata": {},
   "outputs": [],
   "source": [
    "# mimic_p_value_result_dataframe.to_csv(\"../results/mimic_p_value_result_dataframe.csv\",index=False)\n"
   ]
  },
  {
   "attachments": {},
   "cell_type": "markdown",
   "metadata": {},
   "source": [
    "# Data description"
   ]
  },
  {
   "cell_type": "code",
   "execution_count": 42,
   "metadata": {},
   "outputs": [],
   "source": [
    "rename_dict = {'mean_Lactaat (bloed)':'Mean lactate (mmol/L)',\n",
    "'slope_Hartfrequentie':'Slope heart frequency (bpm)',\n",
    "'max_Hartfrequentie':'Max heart frequency (bpm)',\n",
    "'mean_UrineCAD':'Mean hourly urinary volume (mL/h)',\n",
    "'min_UrineCAD':'Min hourly urinary volume (mL/h)',\n",
    "'mean_O2-Saturatie (bloed)':'Mean calculated O2 saturation on ABG (%)',\n",
    "'max_PO2 (bloed)':'Max ABG partial oxygen pressure (mmHg)',\n",
    "'mean_O2 concentratie (Set)':'Mean ventilator administered FiO2 (%)',\n",
    "'urgency':'ICU admission Urgency',\n",
    "\"min_Thrombo's (bloed)\":'Min thrombocytes (10³/µL)',\n",
    "'is_given_Noradrenaline (Norepinefrine)':'Has received noradrenalin',\n",
    "'min_Ureum (bloed)':'Min blood ureum (mmol/L)',\n",
    "'mean_Ureum (bloed)':'Mean blood ureum (mmol/L)',\n",
    "'is_given_Furosemide (Lasix)':'Has received loop diuretics',\n",
    "'min_Act.HCO3 (bloed)':'Min bicarbonate (mmol/L',\n",
    "'mean_Act.HCO3 (bloed)':'Mean bicarbonate (mmol/L',\n",
    "'Weight':'Weight (kg)',\n",
    "'mean_PEEP (Set)':'Mean PEEP setting (mmHg)',\n",
    "'fluid_balance':'Fluid Balance (mL)',\n",
    "'mean_CVD':'Mean CVP (mmHg)',\n",
    "'min_CVD':'Min CVP (mmHg)',\n",
    "'max_CVD':'Man CVP (mmHg)',\n",
    "'slope_ABP systolisch':'Slope systolic ABP (mmHg)',\n",
    "'min_ABP systolisch':'Min systolic ABP (mmHg)',\n",
    "'min_pH (bloed)':'Min arterial pH on blood gas',\n",
    "'slope_ABP gemiddeld':'Slope mean ABP (mmHg)',\n",
    "'min_ABP gemiddeld':'Min mean ABP (mmHg)',\n",
    "'max_Fosfaat (bloed)':'Max Phosphate (mmol/L)',\n",
    "'max_ABP systolisch':'Max systolic ABP (mmHg)',\n",
    "'min_Lactaat (bloed)':'Min Lactate (mmol/L)',\n",
    "'max_UrineCAD':'Max hourly urinary volume (mL/h)',\n",
    "'mean_Hartfrequentie':'Mean heart frequency (bpm)',\n",
    "'min_Fosfaat (bloed)':'Min Phosphate (mmol/L)',\n",
    "'is_given_Propofol (Diprivan)':'Has received Propofol (Diprivan)',\n",
    "\"max_Thrombo's (bloed)\":'Max thrombocytes (10³/µL)',\n",
    "'slope_B.E. (bloed)':'Slope base excess (mmol/L)'}\n",
    "\n",
    "X_train_descr = X_train.rename(columns=rename_dict)\n",
    "\n",
    "\n",
    "if one_half_hour_model:\n",
    "    describe_df_15_no_AF = X_train_descr[y_train==0].describe().loc[['mean','25%','75%']].transpose().round(2)\n",
    "    describe_df_15_no_AF[\"text\"]=describe_df_15_no_AF[\"mean\"].astype(str) +' ('+describe_df_15_no_AF[\"25%\"].astype(str) +\" - \" + describe_df_15_no_AF[\"75%\"].astype(str) + \")\"\n",
    "    describe_df_15_no_AF = describe_df_15_no_AF[[\"text\"]]\n",
    "    describe_df_15_no_AF = describe_df_15_no_AF.rename(columns={\"text\":\"Model-1.5\"})\n",
    "    describe_df_15_no_AF = describe_df_15_no_AF.rename_axis('Feature').reset_index()\n",
    "\n",
    "    describe_df_15_AF = X_train_descr[y_train==1].describe().loc[['mean','25%','75%']].transpose().round(2)\n",
    "    describe_df_15_AF[\"text\"]=describe_df_15_AF[\"mean\"].astype(str) +' ('+describe_df_15_AF[\"25%\"].astype(str) +\" - \" + describe_df_15_AF[\"75%\"].astype(str) + \")\"\n",
    "    describe_df_15_AF = describe_df_15_AF[[\"text\"]]\n",
    "    describe_df_15_AF = describe_df_15_AF.rename(columns={\"text\":\"Model-1.5\"})\n",
    "    describe_df_15_AF = describe_df_15_AF.rename_axis('Feature').reset_index()\n",
    "\n",
    "    nans_15_AF_df = pd.DataFrame((X_train_descr[y_train==0].isna().mean()*100).round(2),columns=[\"Model-1.5_AF\"]).rename_axis('Feature').reset_index()\n",
    "    nans_15_noAF_df = pd.DataFrame((X_train_descr[y_train==1].isna().mean()*100).round(2),columns=[\"Model-1.5_noAF\"]).rename_axis('Feature').reset_index()\n",
    "\n",
    "    nans_15_df = nans_15_AF_df.copy(deep=True)\n",
    "    nans_15_df[\"Model-1.5\"] = nans_15_noAF_df[\"Model-1.5_noAF\"].astype(str) + \" - \" +nans_15_AF_df[\"Model-1.5_AF\"].astype(str)\n",
    "    nans_15_df = nans_15_df[[\"Feature\",\"Model-1.5\"]]\n",
    "    \n",
    "    \n",
    "elif six_hour_model:\n",
    "    describe_df_6_no_AF = X_train_descr[y_train==0].describe().loc[['mean','25%','75%']].transpose().round(2)\n",
    "    describe_df_6_no_AF[\"text\"]=describe_df_6_no_AF[\"mean\"].astype(str) +' ('+describe_df_6_no_AF[\"25%\"].astype(str) +\" - \" + describe_df_6_no_AF[\"75%\"].astype(str) + \")\"\n",
    "    describe_df_6_no_AF = describe_df_6_no_AF[[\"text\"]]\n",
    "    describe_df_6_no_AF = describe_df_6_no_AF.rename(columns={\"text\":\"Model-6\"})\n",
    "    describe_df_6_no_AF = describe_df_6_no_AF.rename_axis('Feature').reset_index()\n",
    "\n",
    "    describe_df_6_AF = X_train_descr[y_train==1].describe().loc[['mean','25%','75%']].transpose().round(2)\n",
    "    describe_df_6_AF[\"text\"]=describe_df_6_AF[\"mean\"].astype(str) +' ('+describe_df_6_AF[\"25%\"].astype(str) +\" - \" + describe_df_6_AF[\"75%\"].astype(str) + \")\"\n",
    "    describe_df_6_AF = describe_df_6_AF[[\"text\"]]\n",
    "    describe_df_6_AF = describe_df_6_AF.rename(columns={\"text\":\"Model-6\"})\n",
    "    describe_df_6_AF = describe_df_6_AF.rename_axis('Feature').reset_index()\n",
    "\n",
    "    nans_6_AF_df = pd.DataFrame((X_train_descr[y_train==0].isna().mean()*100).round(2),columns=[\"Model-6_AF\"]).rename_axis('Feature').reset_index()\n",
    "    nans_6_noAF_df = pd.DataFrame((X_train_descr[y_train==1].isna().mean()*100).round(2),columns=[\"Model-6_noAF\"]).rename_axis('Feature').reset_index()\n",
    "\n",
    "    nans_6_df = nans_6_AF_df.copy(deep=True)\n",
    "    nans_6_df[\"Model-6\"] = nans_6_noAF_df[\"Model-6_noAF\"].astype(str) + \" - \" +nans_6_AF_df[\"Model-6_AF\"].astype(str)\n",
    "    nans_6_df = nans_6_df[[\"Feature\",\"Model-6\"]]\n",
    "\n",
    "else:\n",
    "    describe_df_12_no_AF = X_train_descr[y_train==0].describe().loc[['mean','25%','75%']].transpose().round(2)\n",
    "    describe_df_12_no_AF[\"text\"]=describe_df_12_no_AF[\"mean\"].astype(str) +' ('+describe_df_12_no_AF[\"25%\"].astype(str) +\" - \" + describe_df_12_no_AF[\"75%\"].astype(str) + \")\"\n",
    "    describe_df_12_no_AF = describe_df_12_no_AF[[\"text\"]]\n",
    "    describe_df_12_no_AF = describe_df_12_no_AF.rename(columns={\"text\":\"Model-12\"})\n",
    "    describe_df_12_no_AF = describe_df_12_no_AF.rename_axis('Feature').reset_index()\n",
    "\n",
    "    describe_df_12_AF = X_train_descr[y_train==1].describe().loc[['mean','25%','75%']].transpose().round(2)\n",
    "    describe_df_12_AF[\"text\"]=describe_df_12_AF[\"mean\"].astype(str) +' ('+describe_df_12_AF[\"25%\"].astype(str) +\" - \" + describe_df_12_AF[\"75%\"].astype(str) + \")\"\n",
    "    describe_df_12_AF = describe_df_12_AF[[\"text\"]]\n",
    "    describe_df_12_AF = describe_df_12_AF.rename(columns={\"text\":\"Model-12\"})\n",
    "    describe_df_12_AF = describe_df_12_AF.rename_axis('Feature').reset_index()\n",
    "\n",
    "    nans_12_AF_df = pd.DataFrame((X_train_descr[y_train==0].isna().mean()*100).round(2),columns=[\"Model-12_AF\"]).rename_axis('Feature').reset_index()\n",
    "    nans_12_noAF_df = pd.DataFrame((X_train_descr[y_train==1].isna().mean()*100).round(2),columns=[\"Model-12_noAF\"]).rename_axis('Feature').reset_index()\n",
    "\n",
    "    nans_12_df = nans_12_AF_df.copy(deep=True)\n",
    "    nans_12_df[\"Model-12\"] = nans_12_noAF_df[\"Model-12_noAF\"].astype(str) + \" - \" +nans_12_AF_df[\"Model-12_AF\"].astype(str)\n",
    "    nans_12_df = nans_12_df[[\"Feature\",\"Model-12\"]]\n",
    "\n"
   ]
  },
  {
   "cell_type": "code",
   "execution_count": 42,
   "metadata": {},
   "outputs": [],
   "source": [
    "if len(describe_df_15_no_AF)*len(describe_df_6_no_AF)*len(describe_df_12_no_AF)>0:\n",
    "    describe_df_15_AF.merge(describe_df_6_AF,on=\"Feature\",how=\"outer\").merge(describe_df_12_AF,on=\"Feature\",how=\"outer\").to_csv(\"../results/features_descriptions_AF_mimic.csv\",index=False)\n",
    "    describe_df_15_no_AF.merge(describe_df_6_no_AF,on=\"Feature\",how=\"outer\").merge(describe_df_12_no_AF,on=\"Feature\",how=\"outer\").to_csv(\"../results/features_descriptions_no_AF_mimic.csv\",index=False)"
   ]
  },
  {
   "cell_type": "code",
   "execution_count": 43,
   "metadata": {},
   "outputs": [],
   "source": [
    "if len(nans_15_df)*len(nans_6_df)*len(nans_12_df)>0:\n",
    "    nans_15_df.merge(nans_6_df,on=\"Feature\",how=\"outer\").merge(nans_12_df,on=\"Feature\",how=\"outer\").to_csv(\"../results/nans_MIMIC.csv\",index=False)"
   ]
  },
  {
   "cell_type": "markdown",
   "metadata": {},
   "source": [
    "# Patient Demographics MIMIC "
   ]
  },
  {
   "cell_type": "code",
   "execution_count": 7,
   "metadata": {},
   "outputs": [
    {
     "name": "stdout",
     "output_type": "stream",
     "text": [
      "46234\n"
     ]
    }
   ],
   "source": [
    "admissions_pd_mimic = pd.read_csv(mimic_extracted_path+\"df_adm_icu.csv\",sep=',')\n",
    "admissions_pd_mimic = admissions_pd_mimic.rename(columns={\"subject_id\":\"patientid\",\"stay_id\":\"admissionid\",\"los\":\"lengthofstay\"})\n",
    "admissions_pd_mimic.loc[:,\"intime\"] = pd.to_datetime(admissions_pd_mimic.intime)\n",
    "admissions_pd_mimic.loc[:,\"outtime\"] = pd.to_datetime(admissions_pd_mimic.outtime)\n",
    "admissions_pd_mimic.loc[:,\"lengthofstay\"]=admissions_pd_mimic.lengthofstay*24\n",
    "admissions_pd_mimic.loc[admissions_pd_mimic.AF_measuredat==\"0\",\"AF_measuredat\"]=0.0\n",
    "admissions_pd_mimic.loc[admissions_pd_mimic.AF_measuredat!=0,\"AF_measuredat\"]=(pd.to_datetime(admissions_pd_mimic[admissions_pd_mimic.AF_measuredat!=0].AF_measuredat)-pd.to_datetime(admissions_pd_mimic[admissions_pd_mimic.AF_measuredat!=0].intime)).dt.total_seconds()/60/60\n",
    "admissions_pd_mimic[\"AF_measuredat\"] = np.float32(admissions_pd_mimic[\"AF_measuredat\"])\n",
    "admissions_pd_mimic = admissions_pd_mimic[admissions_pd_mimic.lengthofstay>=12]\n",
    "\n",
    "weight_csv = pd.read_csv(mimic_base_path+\"icu/csv/chartevents/\"+str(226512)+\".csv\")[[\"stay_id\",\"valuenum\"]]\n",
    "weight_csv = weight_csv.rename(columns={\"subject_id\":\"patientid\",\"stay_id\":\"admissionid\",\"valuenum\":\"weight\"})\n",
    "height_csv = pd.read_csv(mimic_base_path+\"icu/csv/chartevents/\"+str(226730)+\".csv\")[[\"stay_id\",\"valuenum\"]]\n",
    "height_csv = height_csv.rename(columns={\"subject_id\":\"patientid\",\"stay_id\":\"admissionid\",\"valuenum\":\"height\"})\n",
    "\n",
    "\n",
    "admissions_pd_mimic = admissions_pd_mimic.merge(height_csv,how='left',on='admissionid')\n",
    "admissions_pd_mimic.loc[(admissions_pd_mimic.height<50)|(admissions_pd_mimic.height>250)]=int(admissions_pd_mimic[(admissions_pd_mimic.height<50)|(admissions_pd_mimic.height>250)].height.mean())\n",
    "admissions_pd_mimic = admissions_pd_mimic.merge(weight_csv,how='left',on='admissionid')\n",
    "admissions_pd_mimic.loc[(admissions_pd_mimic.weight<20)|(admissions_pd_mimic.weight>500)]=int(admissions_pd_mimic[(admissions_pd_mimic.weight<20)|(admissions_pd_mimic.weight>500)].weight.mean())\n",
    "admissions_pd_mimic[\"BMI\"]=admissions_pd_mimic.weight/((admissions_pd_mimic.height/100)**2)\n",
    "    \n",
    "df_patients = pd.read_csv(mimic_base_path+\"core/csv/patients.csv\",sep=',')\n",
    "df_patients = df_patients.rename(columns={\"subject_id\":\"patientid\",\"anchor_age\":\"Age\"})\n",
    "\n",
    "admissions_pd_mimic = admissions_pd_mimic.merge(df_patients[['patientid','Age','gender']],how='left',on='patientid')\n",
    "#If no gender was specified, the value is -1.\n",
    "gender_category = {'M':1,\"F\":0,\"\":-1}\n",
    "\n",
    "#Replace the strings with numbers\n",
    "admissions_pd_mimic[\"gender\"]=admissions_pd_mimic[\"gender\"].replace(gender_category)\n",
    "\n",
    "admissions_pd_mimic = admissions_pd_mimic[(admissions_pd_mimic.AF==0)|((admissions_pd_mimic.AF==1)&(admissions_pd_mimic.AF_measuredat>=12))]\n",
    "\n",
    "print(len(admissions_pd_mimic.patientid.unique()))"
   ]
  },
  {
   "cell_type": "code",
   "execution_count": null,
   "metadata": {},
   "outputs": [],
   "source": [
    "mimic_extracted_path = \"../data/mimic/\"\n",
    "amsterdam_data_path = \"../data/amsterdam/\"\n",
    "mimic_base_path = \"../../../MIMIC_IV/mimic-iv-1.0/\""
   ]
  },
  {
   "cell_type": "code",
   "execution_count": 10,
   "metadata": {},
   "outputs": [],
   "source": [
    "sofa_mimic_csv = pd.read_csv(mimic_base_path+\"/extracted/mimic_sofa.csv\")[[\"stay_id\",\"sofa_24hours\",\"starttime\",\"endtime\"]]\n",
    "sofa_mimic_csv = sofa_mimic_csv.rename(columns={\"stay_id\":\"admissionid\",\"sofa_24hours\":\"sofa\"})\n",
    "sofa_mimic_csv.loc[:,\"starttime\"]=pd.to_datetime(sofa_mimic_csv.starttime)\n",
    "sofa_mimic_csv.loc[:,\"endtime\"]=pd.to_datetime(sofa_mimic_csv.endtime)\n",
    "sofa_mimic_csv = sofa_mimic_csv.merge(admissions_pd_mimic[[\"admissionid\",\"patientid\",\"intime\",\"outtime\",\"AF_measuredat\",\"AF\"]],how=\"inner\",on=\"admissionid\")\n",
    "sofa_mimic_csv[\"time_to_adm\"] = (pd.to_datetime(sofa_mimic_csv.starttime)-pd.to_datetime(sofa_mimic_csv.intime)).dt.total_seconds()/60/60\n",
    "sofa_mean_day_mimic = sofa_mimic_csv[sofa_mimic_csv.time_to_adm<=24][[\"patientid\",\"admissionid\",\"sofa\"]].groupby([\"patientid\",\"admissionid\"]).mean().reset_index()\n",
    "sofa_mean_day_mimic = sofa_mean_day_mimic.rename(columns={\"sofa\":\"sofa_first24h\"})\n",
    "sofa_AF_mimic = sofa_mimic_csv[(sofa_mimic_csv.AF==1)&(sofa_mimic_csv.AF_measuredat - sofa_mimic_csv.time_to_adm <= 1)&(sofa_mimic_csv.AF_measuredat - sofa_mimic_csv.time_to_adm >= 0)][[\"patientid\",\"admissionid\",\"sofa\"]].groupby([\"patientid\",\"admissionid\"]).mean().reset_index()\n",
    "sofa_AF_mimic = sofa_AF_mimic.rename(columns={\"sofa\":\"sofa_AF_matched\"})\n",
    "admissions_pd_mimic = admissions_pd_mimic.merge(sofa_mean_day_mimic,how='left',on=['patientid','admissionid'])\n",
    "admissions_pd_mimic = admissions_pd_mimic.merge(sofa_AF_mimic,how='left',on=['patientid','admissionid'])"
   ]
  },
  {
   "cell_type": "code",
   "execution_count": 63,
   "metadata": {},
   "outputs": [
    {
     "name": "stdout",
     "output_type": "stream",
     "text": [
      "15458\n"
     ]
    },
    {
     "name": "stderr",
     "output_type": "stream",
     "text": [
      "You are merging on int and float columns where the float values are not equal to their int representation\n"
     ]
    }
   ],
   "source": [
    "AF_dataset.loc[AF_dataset.Weight==0] = AF_dataset[AF_dataset.Weight>0].Weight.mean()\n",
    "AF_dataset.loc[AF_dataset.Height==0] = AF_dataset[AF_dataset.Height>0].Height.mean()\n",
    "AF_dataset[\"BMI\"]=AF_dataset.Weight/((AF_dataset.Height/100)**2)\n",
    "AF_dataset[\"AF_measuredat\"] = AF_dataset[\"AF_measuredat\"]/1000/60/60\n",
    "\n",
    "print(len(AF_dataset.patientid.unique()))\n",
    "\n",
    "amst_sofa = pd.read_csv(amsterdam_data_path + \"sofa.csv\",sep=',')\n",
    "amst_apache_II = pd.read_csv(amsterdam_data_path + \"apache_ii.csv\",sep=',')\n",
    "AF_dataset_demo = AF_dataset.merge(amst_sofa[[\"admissionid\",\"sofa_total_score\"]],how='left',on='admissionid')\n",
    "AF_dataset_demo = AF_dataset_demo.merge(amst_apache_II[[\"admissionid\",\"apache_ii_total_score\"]],how='left',on='admissionid')"
   ]
  },
  {
   "cell_type": "code",
   "execution_count": 32,
   "metadata": {},
   "outputs": [
    {
     "name": "stdout",
     "output_type": "stream",
     "text": [
      "total adm MIMIC cohort: \t59492\n",
      "total adm AMST cohort: \t \t18163\n",
      "total AF=0 adm MIMIC cohort: \t54142\n",
      "total AF=0 adm AMST cohort: \t16163\n",
      "total AF=1 adm MIMIC cohort: \t5350\n",
      "total AF=1 adm AMST cohort: \t2000\n"
     ]
    }
   ],
   "source": [
    "print(\"total adm MIMIC cohort: \\t\" + str(len(AF_dataset_mimic.admissionid.unique())))\n",
    "print(\"total adm AMST cohort: \\t \\t\" + str(len(AF_dataset.admissionid.unique())))\n",
    "print(\"total AF=0 adm MIMIC cohort: \\t\" + str(len(AF_dataset_mimic[AF_dataset_mimic.AF==0].admissionid.unique())))\n",
    "print(\"total AF=0 adm AMST cohort: \\t\" + str(len(AF_dataset[AF_dataset.AF==0].admissionid.unique())))\n",
    "print(\"total AF=1 adm MIMIC cohort: \\t\" + str(len(AF_dataset_mimic[AF_dataset_mimic.AF==1].admissionid.unique())))\n",
    "print(\"total AF=1 adm AMST cohort: \\t\" + str(len(AF_dataset[AF_dataset.AF==1].admissionid.unique())))\n"
   ]
  },
  {
   "cell_type": "code",
   "execution_count": 57,
   "metadata": {},
   "outputs": [],
   "source": [
    "AF_0_mimic_df = AF_dataset_mimic[AF_dataset_mimic.AF==0].copy(deep=True)\n",
    "AF_1_mimic_df = AF_dataset_mimic[AF_dataset_mimic.AF==1].copy(deep=True)\n",
    "AF_0_amst_df = AF_dataset[AF_dataset.AF==0].copy(deep=True)\n",
    "AF_1_amst_df = AF_dataset[AF_dataset.AF==1].copy(deep=True)"
   ]
  },
  {
   "cell_type": "code",
   "execution_count": 39,
   "metadata": {},
   "outputs": [
    {
     "name": "stdout",
     "output_type": "stream",
     "text": [
      "AF=1 AMST age: \tcount    2000.000000\n",
      "mean       70.754000\n",
      "std         8.694842\n",
      "min        39.000000\n",
      "25%        69.000000\n",
      "50%        75.000000\n",
      "75%        75.000000\n",
      "max        80.000000\n",
      "Name: Age, dtype: float64\n",
      "AF=0 AMST age: \tcount    16163.000000\n",
      "mean        63.466683\n",
      "std         12.623778\n",
      "min         39.000000\n",
      "25%         59.000000\n",
      "50%         69.000000\n",
      "75%         75.000000\n",
      "max         80.000000\n",
      "Name: Age, dtype: float64\n",
      "AF=1 MIMIC age: \tcount    5350.000000\n",
      "mean       71.037383\n",
      "std        12.065166\n",
      "min        18.000000\n",
      "25%        63.000000\n",
      "50%        72.000000\n",
      "75%        80.000000\n",
      "max        91.000000\n",
      "Name: Age, dtype: float64\n",
      "AF=0 MIMIC age: \tcount    54142.000000\n",
      "mean        60.778434\n",
      "std         16.763337\n",
      "min         18.000000\n",
      "25%         50.000000\n",
      "50%         62.000000\n",
      "75%         73.000000\n",
      "max         91.000000\n",
      "Name: Age, dtype: float64\n"
     ]
    }
   ],
   "source": [
    "print(\"AF=1 AMST age: \\t\" + str(AF_dataset[AF_dataset.AF==1].Age.describe()))\n",
    "print(\"AF=0 AMST age: \\t\" + str(AF_dataset[AF_dataset.AF==0].Age.describe()))\n",
    "\n",
    "print(\"AF=1 MIMIC age: \\t\" + str(AF_dataset_mimic[AF_dataset_mimic.AF==1].Age.describe()))\n",
    "print(\"AF=0 MIMIC age: \\t\" + str(AF_dataset_mimic[AF_dataset_mimic.AF==0].Age.describe()))"
   ]
  },
  {
   "cell_type": "code",
   "execution_count": 58,
   "metadata": {},
   "outputs": [
    {
     "name": "stdout",
     "output_type": "stream",
     "text": [
      "AF=1 AMST BMI: \tcount    1915.000000\n",
      "mean       26.245304\n",
      "std         4.492369\n",
      "min        16.070124\n",
      "25%        23.875115\n",
      "50%        24.835646\n",
      "75%        27.757487\n",
      "max        43.704475\n",
      "Name: BMI, dtype: float64\n",
      "AF=0 AMST BMI: \tcount    15302.000000\n",
      "mean        26.122355\n",
      "std          4.374049\n",
      "min         16.070124\n",
      "25%         23.875115\n",
      "50%         24.835646\n",
      "75%         27.757487\n",
      "max         47.866805\n",
      "Name: BMI, dtype: float64\n"
     ]
    }
   ],
   "source": [
    "print(\"AF=1 AMST BMI: \\t\" + str(AF_dataset[AF_dataset.AF==1].BMI.describe()))\n",
    "print(\"AF=0 AMST BMI: \\t\" + str(AF_dataset[AF_dataset.AF==0].BMI.describe()))\n",
    "\n",
    "# print(\"AF=1 MIMIC age: \\t\" + str(AF_dataset_mimic[AF_dataset_mimic.AF==1].Age.describe()))\n",
    "# print(\"AF=0 MIMIC age: \\t\" + str(AF_dataset_mimic[AF_dataset_mimic.AF==0].Age.describe()))"
   ]
  },
  {
   "cell_type": "code",
   "execution_count": 38,
   "metadata": {},
   "outputs": [
    {
     "name": "stdout",
     "output_type": "stream",
     "text": [
      "AF=1 AMST pred_time: \tcount       0.000556\n",
      "mean       91.656667\n",
      "std       144.444795\n",
      "min        13.566667\n",
      "25%        31.325000\n",
      "50%        49.625000\n",
      "75%        91.250000\n",
      "max      2164.666667\n",
      "Name: AF_measuredat, dtype: float64\n",
      "AF=0 AMST pred_time: \tcount       0.004490\n",
      "mean       49.212791\n",
      "std        93.845428\n",
      "min        13.566667\n",
      "25%        16.000000\n",
      "50%        21.000000\n",
      "75%        41.000000\n",
      "max      2164.666667\n",
      "Name: AF_measuredat, dtype: float64\n",
      "AF=1 MIMIC pred_time: \tcount       1.486111\n",
      "mean       64.646423\n",
      "std        78.562685\n",
      "min        13.500000\n",
      "25%        27.201667\n",
      "50%        43.065694\n",
      "75%        71.064097\n",
      "max      1763.700000\n",
      "Name: AF_measuredat, dtype: float64\n",
      "AF=0 MIMIC pred_time: \tcount      15.039444\n",
      "mean       46.566120\n",
      "std        61.647922\n",
      "min        13.501111\n",
      "25%        19.000000\n",
      "50%        27.496111\n",
      "75%        48.000000\n",
      "max      1763.700000\n",
      "Name: AF_measuredat, dtype: float64\n"
     ]
    }
   ],
   "source": [
    "print(\"AF=1 AMST pred_time: \\t\" + str(AF_dataset[AF_dataset.AF==1].AF_measuredat.describe()/1000/60/60))\n",
    "print(\"AF=0 AMST pred_time: \\t\" + str(AF_dataset[AF_dataset.AF==0].AF_measuredat.describe()/1000/60/60))\n",
    "\n",
    "print(\"AF=1 MIMIC pred_time: \\t\" + str(AF_dataset_mimic[AF_dataset_mimic.AF==1].AF_measuredat.describe()/60/60))\n",
    "print(\"AF=0 MIMIC pred_time: \\t\" + str(AF_dataset_mimic[AF_dataset_mimic.AF==0].AF_measuredat.describe()/60/60))"
   ]
  },
  {
   "cell_type": "code",
   "execution_count": 46,
   "metadata": {},
   "outputs": [
    {
     "name": "stdout",
     "output_type": "stream",
     "text": [
      "AF=1 AMST mort: \tcount   -1999.00000\n",
      "mean        0.46150\n",
      "std         0.50136\n",
      "min         1.00000\n",
      "25%         1.00000\n",
      "50%         0.00000\n",
      "75%         0.00000\n",
      "max         0.00000\n",
      "Name: Mortality, dtype: float64\n",
      "AF=0 AMST mort: \tcount   -16162.000000\n",
      "mean         0.718307\n",
      "std          0.550162\n",
      "min          1.000000\n",
      "25%          1.000000\n",
      "50%          1.000000\n",
      "75%          0.000000\n",
      "max          0.000000\n",
      "Name: Mortality, dtype: float64\n"
     ]
    }
   ],
   "source": [
    "print(\"AF=1 AMST mort: \\t\" + str(1-AF_dataset[AF_dataset.AF==1].Mortality.describe()))\n",
    "print(\"AF=0 AMST mort: \\t\" + str(1-AF_dataset[AF_dataset.AF==0].Mortality.describe()))\n",
    "\n",
    "print(\"AF=1 MIMIC mort: \\t\" + str(AF_dataset_mimic[AF_dataset_mimic.AF==1].BMI.describe()))\n",
    "print(\"AF=0 MIMIC mort: \\t\" + str(AF_dataset_mimic[AF_dataset_mimic.AF==0].BMI.describe()))"
   ]
  },
  {
   "cell_type": "code",
   "execution_count": 52,
   "metadata": {},
   "outputs": [
    {
     "name": "stdout",
     "output_type": "stream",
     "text": [
      "AF=1 AMST LOS: \tcount     83.333333\n",
      "mean      15.446042\n",
      "std       18.096344\n",
      "min        0.666667\n",
      "25%        3.875000\n",
      "50%        8.625000\n",
      "75%       20.385417\n",
      "max      237.375000\n",
      "Name: lengthofstay, dtype: float64\n",
      "AF=0 AMST LOS: \tcount    673.458333\n",
      "mean       3.657154\n",
      "std        7.386286\n",
      "min        0.583333\n",
      "25%        0.875000\n",
      "50%        1.041667\n",
      "75%        2.916667\n",
      "max      202.083333\n",
      "Name: lengthofstay, dtype: float64\n",
      "AF=1 MIMIC LOS: \tcount    222.916667\n",
      "mean       7.770783\n",
      "std        9.879424\n",
      "min        0.665220\n",
      "25%        2.926742\n",
      "50%        4.789132\n",
      "75%        8.964300\n",
      "max      375.944560\n",
      "Name: lengthofstay, dtype: float64\n",
      "AF=0 MIMIC LOS: \tcount    2255.916667\n",
      "mean        3.323932\n",
      "std         4.434140\n",
      "min         0.563356\n",
      "25%         1.178767\n",
      "50%         1.950434\n",
      "75%         3.514210\n",
      "max       110.232280\n",
      "Name: lengthofstay, dtype: float64\n"
     ]
    }
   ],
   "source": [
    "print(\"AF=1 AMST LOS: \\t\" + str(AF_dataset[AF_dataset.AF==1].lengthofstay.describe()/24))\n",
    "print(\"AF=0 AMST LOS: \\t\" + str(AF_dataset[AF_dataset.AF==0].lengthofstay.describe()/24))\n",
    "\n",
    "print(\"AF=1 MIMIC LOS: \\t\" + str(AF_dataset_mimic[AF_dataset_mimic.AF==1].lengthofstay.describe()/24))\n",
    "print(\"AF=0 MIMIC LOS: \\t\" + str(AF_dataset_mimic[AF_dataset_mimic.AF==0].lengthofstay.describe()/24))"
   ]
  },
  {
   "cell_type": "code",
   "execution_count": 64,
   "metadata": {},
   "outputs": [
    {
     "name": "stdout",
     "output_type": "stream",
     "text": [
      "AF=1 AMST SOFA: \tcount    1915.000000\n",
      "mean        8.783812\n",
      "std         3.419052\n",
      "min         0.000000\n",
      "25%         6.000000\n",
      "50%         9.000000\n",
      "75%        11.000000\n",
      "max        22.000000\n",
      "Name: sofa_total_score, dtype: float64\n",
      "AF=0 AMST SOFA: \tcount    15302.000000\n",
      "mean         5.741341\n",
      "std          3.357257\n",
      "min          0.000000\n",
      "25%          3.000000\n",
      "50%          6.000000\n",
      "75%          8.000000\n",
      "max         23.000000\n",
      "Name: sofa_total_score, dtype: float64\n"
     ]
    }
   ],
   "source": [
    "print(\"AF=1 AMST SOFA: \\t\" + str(AF_dataset_demo[AF_dataset_demo.AF==1].sofa_total_score.describe()))\n",
    "print(\"AF=0 AMST SOFA: \\t\" + str(AF_dataset_demo[AF_dataset_demo.AF==0].sofa_total_score.describe()))"
   ]
  },
  {
   "cell_type": "code",
   "execution_count": 65,
   "metadata": {},
   "outputs": [
    {
     "name": "stdout",
     "output_type": "stream",
     "text": [
      "AF=1 AMST apache: \tcount    1915.000000\n",
      "mean       22.037859\n",
      "std         6.769492\n",
      "min         0.000000\n",
      "25%        17.000000\n",
      "50%        21.000000\n",
      "75%        26.000000\n",
      "max        45.500000\n",
      "Name: apache_ii_total_score, dtype: float64\n",
      "AF=0 AMST apache: \tcount    15302.000000\n",
      "mean        16.600379\n",
      "std          6.647488\n",
      "min          0.000000\n",
      "25%         12.000000\n",
      "50%         16.000000\n",
      "75%         20.000000\n",
      "max         48.500000\n",
      "Name: apache_ii_total_score, dtype: float64\n"
     ]
    }
   ],
   "source": [
    "print(\"AF=1 AMST apache: \\t\" + str(AF_dataset_demo[AF_dataset_demo.AF==1].apache_ii_total_score.describe()))\n",
    "print(\"AF=0 AMST apache: \\t\" + str(AF_dataset_demo[AF_dataset_demo.AF==0].apache_ii_total_score.describe()))"
   ]
  },
  {
   "cell_type": "code",
   "execution_count": 67,
   "metadata": {},
   "outputs": [
    {
     "name": "stdout",
     "output_type": "stream",
     "text": [
      "AF=1 AMST Gender: \tcount    1915.000000\n",
      "mean        0.625065\n",
      "std         0.484233\n",
      "min         0.000000\n",
      "25%         0.000000\n",
      "50%         1.000000\n",
      "75%         1.000000\n",
      "max         1.000000\n",
      "Name: Gender_category, dtype: float64\n",
      "AF=0 AMST Gender: \tcount    15302.000000\n",
      "mean         0.651614\n",
      "std          0.476475\n",
      "min          0.000000\n",
      "25%          0.000000\n",
      "50%          1.000000\n",
      "75%          1.000000\n",
      "max          1.000000\n",
      "Name: Gender_category, dtype: float64\n"
     ]
    }
   ],
   "source": [
    "print(\"AF=1 AMST Gender: \\t\" + str(AF_dataset[AF_dataset.AF==1].Gender_category.describe()))\n",
    "print(\"AF=0 AMST Gender: \\t\" + str(AF_dataset[AF_dataset.AF==0].Gender_category.describe()))"
   ]
  },
  {
   "cell_type": "code",
   "execution_count": null,
   "metadata": {},
   "outputs": [],
   "source": []
  }
 ],
 "metadata": {
  "kernelspec": {
   "display_name": "Python 3.8.10 64-bit (windows store)",
   "language": "python",
   "name": "python3"
  },
  "language_info": {
   "codemirror_mode": {
    "name": "ipython",
    "version": 3
   },
   "file_extension": ".py",
   "mimetype": "text/x-python",
   "name": "python",
   "nbconvert_exporter": "python",
   "pygments_lexer": "ipython3",
   "version": "3.8.10"
  },
  "vscode": {
   "interpreter": {
    "hash": "7e1f392defe650829700f492eb57f9ca780dd56d6bebdcdeef32d1ec2c20a25b"
   }
  }
 },
 "nbformat": 4,
 "nbformat_minor": 4
}
