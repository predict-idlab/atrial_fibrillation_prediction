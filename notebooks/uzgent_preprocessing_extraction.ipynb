{
 "cells": [
  {
   "cell_type": "code",
   "execution_count": null,
   "metadata": {},
   "outputs": [],
   "source": [
    "%load_ext autoreload\n",
    "%autoreload 2"
   ]
  },
  {
   "cell_type": "code",
   "execution_count": null,
   "metadata": {},
   "outputs": [],
   "source": [
    "import pandas as pd\n",
    "import tqdm\n",
    "import os\n",
    "import numpy as np\n",
    "import re\n",
    "from scipy.stats import linregress"
   ]
  },
  {
   "cell_type": "code",
   "execution_count": null,
   "metadata": {},
   "outputs": [],
   "source": [
    "data_path = \"./Data/312_Validatie_VKF_Predictiemodellen/rep312_\""
   ]
  },
  {
   "cell_type": "markdown",
   "metadata": {},
   "source": [
    "# Prepatory work"
   ]
  },
  {
   "cell_type": "code",
   "execution_count": null,
   "metadata": {},
   "outputs": [],
   "source": [
    "execute_bool = False\n",
    "if execute_bool:\n",
    "    ids = []\n",
    "    names = []\n",
    "    for chunk in tqdm.tqdm(pd.read_csv(data_path+\"mondata_validated.csv\",sep=\";\", encoding = \"ISO-8859-1\",chunksize=10000000,iterator=True,low_memory=False),ascii=True):\n",
    "\n",
    "        for itemid in chunk.VariableID.unique():\n",
    "            path = \"./Data/312_Validatie_VKF_Predictiemodellen/rep312_mondata_validated_vars/\"+str(itemid)+\".csv\"\n",
    "\n",
    "            if os.path.exists(path):\n",
    "                chunk[chunk.VariableID==itemid].to_csv(path,mode='a',index=False, header=False)\n",
    "            else:\n",
    "                chunk[chunk.VariableID==itemid].to_csv(path,index=False)\n",
    "\n",
    "            ids.append(itemid)\n",
    "            names.append(chunk[chunk.VariableID==itemid].Var_Abbr.unique()[0])\n",
    "            \n",
    "    temp_df = pd.DataFrame({\"id\":ids,\"Var_Abbr\":names})\n",
    "    temp_df = temp_df.drop_duplicates(\"id\")\n",
    "    temp_df.to_csv(\"./Data/312_Validatie_VKF_Predictiemodellen/rep312_mondata_validated_vars/dictionary.csv\",index=False)\n",
    "            "
   ]
  },
  {
   "cell_type": "code",
   "execution_count": null,
   "metadata": {},
   "outputs": [],
   "source": [
    "dict_df = pd.read_csv(\"./Data/312_Validatie_VKF_Predictiemodellen/rep312_mondata_validated_vars/dictionary.csv\")"
   ]
  },
  {
   "cell_type": "markdown",
   "metadata": {},
   "source": [
    "# Patient and time-independent variables aggregation"
   ]
  },
  {
   "cell_type": "markdown",
   "metadata": {},
   "source": [
    "## patients + extra"
   ]
  },
  {
   "cell_type": "code",
   "execution_count": null,
   "metadata": {},
   "outputs": [],
   "source": [
    "cohort_df = pd.read_csv(data_path+\"cohort.csv\",sep=\";\", encoding = \"ISO-8859-1\")\n",
    "cohort_df.loc[cohort_df.Length==-1,\"Length\"] = np.NaN\n",
    "cohort_df"
   ]
  },
  {
   "cell_type": "code",
   "execution_count": null,
   "metadata": {},
   "outputs": [],
   "source": [
    "Extr_OpnameGegevens_df = pd.read_csv(data_path+\"Extr_OpnameGegevens.csv\",sep=\";\", encoding = \"ISO-8859-1\")\n",
    "Extr_OpnameGegevens_df = Extr_OpnameGegevens_df[Extr_OpnameGegevens_df.variable==\"sepsis opnam\"]\n",
    "Extr_OpnameGegevens_df[\"sepsis_bool_extra_opn\"] = 0\n",
    "Extr_OpnameGegevens_df.loc[Extr_OpnameGegevens_df.code==1,\"sepsis_bool_extra_opn\"] = 1\n",
    "Extr_OpnameGegevens_df = Extr_OpnameGegevens_df.rename(columns={'mins_since_admission':'sepsis_extra_opn_measuredat'})\n",
    "Extr_OpnameGegevens_df = Extr_OpnameGegevens_df[['ICUSessionID','sepsis_extra_opn_measuredat', 'sepsis_bool_extra_opn']]\n",
    "Extr_OpnameGegevens_df = Extr_OpnameGegevens_df.drop_duplicates(\"ICUSessionID\",keep=\"last\")"
   ]
  },
  {
   "cell_type": "code",
   "execution_count": null,
   "metadata": {},
   "outputs": [],
   "source": [
    "AF_dataset_df = cohort_df.merge(Extr_OpnameGegevens_df,how=\"left\",on=\"ICUSessionID\")\n",
    "AF_dataset_df = AF_dataset_df[['ICUSessionID', 'HospAdmissionID', 'ICUAdmissionSequence','AgeOnAdmission', 'ICUAdmissionTime','icu_los','icuurg','Length','Weight', 'bmi', 'bsa', 'sepsis_extra_opn_measuredat','sepsis_bool_extra_opn']]\n",
    "AF_dataset_df.ICUAdmissionTime = pd.to_datetime(AF_dataset_df.ICUAdmissionTime)\n",
    "\n",
    "AF_dataset_df"
   ]
  },
  {
   "cell_type": "markdown",
   "metadata": {},
   "source": [
    "## observrec"
   ]
  },
  {
   "cell_type": "code",
   "execution_count": null,
   "metadata": {},
   "outputs": [],
   "source": [
    "observrec_df = pd.read_csv(data_path+\"observrec.csv\",sep=\";\", encoding = \"ISO-8859-1\")\n",
    "observrec_df"
   ]
  },
  {
   "cell_type": "code",
   "execution_count": null,
   "metadata": {},
   "outputs": [],
   "source": [
    "af_icusession_id_df = observrec_df[observrec_df.stringvalue==\"VKF\"].drop_duplicates(\"icusessionid\",keep=\"first\")\n",
    "af_icusession_id_df = af_icusession_id_df.rename(columns={\"mins_since_admission\":\"AF_measuredat\",\"icusessionid\":\"ICUSessionID\"})\n",
    "af_icusession_id_df[\"AF\"] = 1\n",
    "af_icusession_id_df = af_icusession_id_df[[\"ICUSessionID\",\"AF_measuredat\",\"AF\"]]\n",
    "af_icusession_id_df\n",
    "\n",
    "AF_dataset_df = AF_dataset_df.merge(af_icusession_id_df,how=\"left\",on=\"ICUSessionID\")\n",
    "AF_dataset_df.loc[AF_dataset_df.AF.isna(),\"AF\"]=0\n",
    "\n",
    "AF_dataset_df.loc[AF_dataset_df.AF_measuredat.isna(),\"AF_measuredat\"]=0\n",
    "\n",
    "AF_dataset_df"
   ]
  },
  {
   "cell_type": "markdown",
   "metadata": {},
   "source": [
    "## Comorb"
   ]
  },
  {
   "cell_type": "code",
   "execution_count": null,
   "metadata": {},
   "outputs": [],
   "source": [
    "comorb_df = pd.read_csv(data_path+\"comorb.csv\", encoding = \"ISO-8859-1\",sep=\";\")\n",
    "comorb_df.loc[comorb_df.Diagnose.isna(),\"Diagnose\"]=\"\"\n",
    "comorb_df"
   ]
  },
  {
   "cell_type": "code",
   "execution_count": null,
   "metadata": {},
   "outputs": [],
   "source": [
    "ids_sepsis = comorb_df[comorb_df.Diagnose.str.contains(\"sepsis\",flags=re.IGNORECASE)].ICUSessionID.unique()\n",
    "comorb_df[comorb_df.Diagnose.str.contains(\"sepsis\",flags=re.IGNORECASE)].sort_values(\"ICUSessionID\")"
   ]
  },
  {
   "cell_type": "code",
   "execution_count": null,
   "metadata": {},
   "outputs": [],
   "source": [
    "AF_dataset_df[\"sepsis_bool_comorb_source\"]=0\n",
    "AF_dataset_df.loc[AF_dataset_df.ICUSessionID.isin(ids_sepsis),\"sepsis_bool_comorb_source\"]=1\n",
    "AF_dataset_df"
   ]
  },
  {
   "cell_type": "markdown",
   "metadata": {},
   "source": [
    "## apache"
   ]
  },
  {
   "cell_type": "code",
   "execution_count": null,
   "metadata": {},
   "outputs": [],
   "source": [
    "apache_2_df = pd.read_csv(data_path+\"apache2.csv\",sep=\";\", encoding = \"ISO-8859-1\")\n",
    "apache_2_df"
   ]
  },
  {
   "cell_type": "code",
   "execution_count": null,
   "metadata": {},
   "outputs": [],
   "source": [
    "AF_dataset_df = AF_dataset_df.merge(apache_2_df,how=\"left\",on=\"ICUSessionID\")\n",
    "AF_dataset_df"
   ]
  },
  {
   "cell_type": "code",
   "execution_count": null,
   "metadata": {},
   "outputs": [],
   "source": [
    "apache_4_df = pd.read_csv(data_path+\"apache4.csv\",sep=\";\", encoding = \"ISO-8859-1\")\n",
    "apache_4_df"
   ]
  },
  {
   "cell_type": "code",
   "execution_count": null,
   "metadata": {},
   "outputs": [],
   "source": [
    "AF_dataset_df = AF_dataset_df.merge(apache_4_df[[\"ICUSessionID\",\"ap4score\"]],how=\"left\",on=\"ICUSessionID\")\n",
    "AF_dataset_df"
   ]
  },
  {
   "cell_type": "markdown",
   "metadata": {},
   "source": [
    "## sec diagnosises"
   ]
  },
  {
   "cell_type": "code",
   "execution_count": null,
   "metadata": {},
   "outputs": [],
   "source": [
    "SecDiagnoses_df = pd.read_csv(data_path+\"SecDiagnoses.csv\",sep=\";\", encoding = \"ISO-8859-1\")\n",
    "SecDiagnoses_df"
   ]
  },
  {
   "cell_type": "markdown",
   "metadata": {},
   "source": [
    "# Preparing full dataset with preprocessing on time"
   ]
  },
  {
   "cell_type": "markdown",
   "metadata": {},
   "source": [
    "## Preparing"
   ]
  },
  {
   "cell_type": "code",
   "execution_count": null,
   "metadata": {},
   "outputs": [],
   "source": [
    "one_half_hour_model = False\n",
    "six_hour_model = True\n",
    "non_biased_model = True #Match the NO AF measurement point distribution to the AF patients to avoid time-dependent treatment bias\n",
    "\n",
    "if one_half_hour_model:\n",
    "    time_shift = 1.5*60\n",
    "    margin_time = 1.5*60\n",
    "else:\n",
    "    time_shift = 12*60\n",
    "    margin_time = 0*60\n",
    "\n",
    "if six_hour_model:\n",
    "    time_shift = 6*60\n",
    "    margin_time = 0*60\n",
    "    \n",
    "hours_to_first_AF = 12*60\n",
    "total_window = (hours_to_first_AF+time_shift)#*60 #in minutes\n",
    "total_window/60\n",
    "\n",
    "to_hour_multiplier = 1"
   ]
  },
  {
   "cell_type": "code",
   "execution_count": null,
   "metadata": {},
   "outputs": [],
   "source": [
    "only_data_of_first_hours = False #Use only data of the first X hours of admission\n",
    "include_AF_patients_without_AF_at_sample = True #Include moments in time of AF patients before the AF diagnosis in the dataset.\n",
    "\n",
    "np.random.seed(42)\n",
    "\n",
    "#exclusion, minimum 2014\n",
    "AF_dataset_df = AF_dataset_df[AF_dataset_df.ICUAdmissionTime>pd.to_datetime(\"2014\")]\n",
    "\n",
    "AF_dataset_df = AF_dataset_df[(AF_dataset_df.icu_los>=total_window)].copy(deep=True)\n",
    "\n",
    "AF_dataset_df = AF_dataset_df.sample(len(AF_dataset_df),random_state=42)\n",
    "AF_dataset_df = AF_dataset_df[(AF_dataset_df.AF==0)|(AF_dataset_df.AF_measuredat>=to_hour_multiplier*total_window)]\n",
    "\n",
    "if non_biased_model:\n",
    "    AF_measuredat_sample_df = AF_dataset_df[(AF_dataset_df.AF==1)&(AF_dataset_df.AF_measuredat>(total_window))][[\"ICUSessionID\",\"AF_measuredat\"]].copy(deep=True)\n",
    "    AF_dataset_df[\"date_corresponds_to_AF_admid\"] = AF_dataset_df.ICUSessionID\n",
    "    for ICUSessionID in AF_dataset_df[AF_dataset_df.AF==0].ICUSessionID.values:\n",
    "        if len(AF_measuredat_sample_df) == 0:\n",
    "            break\n",
    "        else:\n",
    "            if len(AF_measuredat_sample_df[AF_measuredat_sample_df.AF_measuredat<=((AF_dataset_df[AF_dataset_df.ICUSessionID==ICUSessionID]['icu_los'].values[0]))])>0:\n",
    "                random_state_admission = np.random.RandomState(ICUSessionID)\n",
    "                choice = random_state_admission.choice(AF_measuredat_sample_df[AF_measuredat_sample_df.AF_measuredat<=((AF_dataset_df[AF_dataset_df.ICUSessionID==ICUSessionID]['icu_los'].values[0]+0.1))]['ICUSessionID'].values)\n",
    "                AF_dataset_df.loc[AF_dataset_df.ICUSessionID==ICUSessionID,\"AF_measuredat\"] = AF_measuredat_sample_df[AF_measuredat_sample_df.ICUSessionID==choice].AF_measuredat.values[0]\n",
    "                AF_dataset_df.loc[AF_dataset_df.ICUSessionID==ICUSessionID,\"date_corresponds_to_AF_admid\"] = AF_measuredat_sample_df[AF_measuredat_sample_df.ICUSessionID==choice].ICUSessionID.values[0]\n",
    "                AF_measuredat_sample_df = AF_measuredat_sample_df[AF_measuredat_sample_df.ICUSessionID!=choice]   \n",
    "    AF_dataset_df.loc[:,\"AF_measuredat\"] = AF_dataset_df.apply(lambda row: np.random.randint(total_window,row['icu_los']+1) if (row['AF']==0) and ((pd.isnull(row[\"AF_measuredat\"])|(row[\"AF_measuredat\"]==0))) else row['AF_measuredat'],axis=1).values #the no AF patients should have a timesample to \"measure\" AF.                     \n",
    "else:\n",
    "    AF_dataset_df.loc[:,\"AF_measuredat\"] = AF_dataset_df.apply(lambda row: np.random.randint(total_window,row['icu_los']+1) if (row['AF']==0) and ((pd.isnull(row[\"AF_measuredat\"])|(row[\"AF_measuredat\"]==0))) else row['AF_measuredat'],axis=1).values #the no AF patients should have a timesample to \"measure\" AF.                     \n",
    "\n",
    "\n",
    "AF_dataset_df[\"AF_orig\"]=AF_dataset_df.AF\n",
    "AF_admission_dataset = AF_dataset_df[AF_dataset_df.AF_measuredat>=to_hour_multiplier*total_window]#pd.concat([first_AFs_pd_timed,temp_pd]).reset_index(drop=True) #AF_dataset\n",
    "\n",
    "if only_data_of_first_hours:\n",
    "    AF_admission_dataset[\"AF_measuredat\"] = total_window #only take data of the first 48 hours\n",
    "    \n",
    "first_AFs_pd_timed = None\n",
    "temp_pd = None"
   ]
  },
  {
   "cell_type": "markdown",
   "metadata": {},
   "source": [
    "## labdata"
   ]
  },
  {
   "cell_type": "code",
   "execution_count": null,
   "metadata": {},
   "outputs": [],
   "source": [
    "labdata_df = pd.read_csv(data_path+\"labdata.csv\",sep=\";\", encoding = \"ISO-8859-1\")\n",
    "labdata_df = labdata_df.rename(columns={\"mins_since_icu_adm\":\"measuredat\",\"VariableValue\":\"value\"})\n",
    "labdata_df"
   ]
  },
  {
   "cell_type": "code",
   "execution_count": null,
   "metadata": {},
   "outputs": [],
   "source": [
    "#NUMERIC ITEMS PREPROCESSING, this takes around 2 minutes\n",
    "if non_biased_model:\n",
    "    labdata_df_patients = (labdata_df[labdata_df.ICUSessionID.isin(AF_admission_dataset.ICUSessionID)]).merge(AF_admission_dataset[[\"ICUSessionID\",\"AF_measuredat\",\"date_corresponds_to_AF_admid\"]],how='left',on='ICUSessionID')\n",
    "else:\n",
    "    labdata_df_patients = (labdata_df[labdata_df.ICUSessionID.isin(AF_admission_dataset.ICUSessionID)]).merge(AF_admission_dataset[[\"ICUSessionID\",\"AF_measuredat\"]],how='left',on='ICUSessionID')\n",
    "\n",
    "labdata_df_patients[\"time_to_AF\"]=(labdata_df_patients.AF_measuredat.values-margin_time) - labdata_df_patients.measuredat.values #add one margin_time to AF extra\n",
    "labdata_df_patients = labdata_df_patients[(labdata_df_patients.time_to_AF > (time_shift-margin_time)) & (labdata_df_patients.time_to_AF <= (time_shift+hours_to_first_AF-margin_time) )]\n",
    "\n",
    "for VariableID_loop in labdata_df.VariableID.unique():\n",
    "    labdata_df_patients.VariableID = labdata_df_patients.VariableID.replace(VariableID_loop,labdata_df[labdata_df.VariableID==VariableID_loop].Var_Abbr.values[0])\n",
    "\n",
    "labdata_df = None #RAM Optimization\n",
    "\n",
    "labdata_df_patients_agg = labdata_df_patients[[\"ICUSessionID\",\"VariableID\",\"value\"]].groupby([\"ICUSessionID\",\"VariableID\"]).agg({'mean','min','max',pd.DataFrame.kurt}).reset_index()\n",
    "labdata_df_patients_agg.VariableID = labdata_df_patients_agg.VariableID.astype(str)\n",
    "labdata_df_patients_agg.columns = ['_'.join(col).rstrip('_') for col in labdata_df_patients_agg.columns.values]\n",
    "labdata_df_patients_agg.columns = [col.replace('value_','') if 'value_' in col else col for col in labdata_df_patients_agg.columns.values]\n",
    "labdata_df_patients_agg = labdata_df_patients_agg.pivot(index='ICUSessionID', columns='VariableID')\n",
    "labdata_df_patients_agg.columns = ['_'.join(col).rstrip('_') for col in labdata_df_patients_agg.columns.values]\n",
    "\n",
    "labdata_df_patients_slope = labdata_df_patients[[\"ICUSessionID\",\"VariableID\",\"measuredat\",\"value\"]].groupby([\"ICUSessionID\",\"VariableID\"]).apply(lambda x:linregress(x.measuredat,x.value)[0]).reset_index()\n",
    "labdata_df_patients_slope.columns = [str(col) for col in labdata_df_patients_slope.columns.values]\n",
    "labdata_df_patients_slope = labdata_df_patients_slope.rename(columns={'0':\"slope\"})\n",
    "labdata_df_patients_slope.VariableID = labdata_df_patients_slope.VariableID.astype(str)\n",
    "labdata_df_patients_slope = labdata_df_patients_slope.pivot(index='ICUSessionID', columns='VariableID')\n",
    "labdata_df_patients_slope.columns = ['_'.join(col).rstrip('_') for col in labdata_df_patients_slope.columns.values]\n",
    "labdata_df_patients_slope = labdata_df_patients_slope.reset_index()\n",
    "\n",
    "labdata_df_patients_total = labdata_df_patients_agg.merge(labdata_df_patients_slope,how='left',on='ICUSessionID')\n",
    "labdata_df_patients = None #Save RAM\n",
    "labdata_df_patients_slope = None\n",
    "labdata_df_patients_agg = None"
   ]
  },
  {
   "cell_type": "markdown",
   "metadata": {},
   "source": [
    "## diagnosisprocedures"
   ]
  },
  {
   "cell_type": "code",
   "execution_count": null,
   "metadata": {},
   "outputs": [],
   "source": [
    "diagnosis_and_procedures_df = pd.read_csv(data_path+\"diagnosis_and_procedures.csv\",sep=\";\", encoding = \"ISO-8859-1\")\n",
    "diagnosis_and_procedures_df = diagnosis_and_procedures_df.rename(columns={\"start_mins_since_icu_adm\":\"start_measuredat\",\n",
    "                                                                          \"end_mins_since_icu_adm\":\"end_measuredat\"})\n",
    "diagnosis_and_procedures_df[\"value\"]=1\n",
    "diagnosis_and_procedures_df\n"
   ]
  },
  {
   "cell_type": "code",
   "execution_count": null,
   "metadata": {},
   "outputs": [],
   "source": [
    "#NUMERIC ITEMS PREPROCESSING, this takes around 2 minutes\n",
    "if non_biased_model:\n",
    "    diagnosis_and_procedures_df_patients = (diagnosis_and_procedures_df[diagnosis_and_procedures_df.ICUSessionID.isin(AF_admission_dataset.ICUSessionID)]).merge(AF_admission_dataset[[\"ICUSessionID\",\"AF_measuredat\",\"date_corresponds_to_AF_admid\"]],how='left',on='ICUSessionID')\n",
    "else:\n",
    "    diagnosis_and_procedures_df_patients = (diagnosis_and_procedures_df[diagnosis_and_procedures_df.ICUSessionID.isin(AF_admission_dataset.ICUSessionID)]).merge(AF_admission_dataset[[\"ICUSessionID\",\"AF_measuredat\"]],how='left',on='ICUSessionID')\n",
    "    \n",
    "diagnosis_and_procedures_df_patients[\"start_time_to_AF\"]=(diagnosis_and_procedures_df_patients.AF_measuredat.values-margin_time) - diagnosis_and_procedures_df_patients.start_measuredat.values #add one margin_time to AF extra\n",
    "diagnosis_and_procedures_df_patients[\"stop_time_to_AF\"]=(diagnosis_and_procedures_df_patients.AF_measuredat.values-margin_time) - diagnosis_and_procedures_df_patients.end_measuredat.values #add one margin_time to AF extra\n",
    "\n",
    "diagnosis_and_procedures_df_patients = diagnosis_and_procedures_df_patients[((diagnosis_and_procedures_df_patients.start_time_to_AF > (time_shift-margin_time)) & (diagnosis_and_procedures_df_patients.start_time_to_AF <= (time_shift+hours_to_first_AF-margin_time) ))|\n",
    "                            ((diagnosis_and_procedures_df_patients.stop_time_to_AF > (time_shift-margin_time)) & (diagnosis_and_procedures_df_patients.stop_time_to_AF <= (time_shift+hours_to_first_AF-margin_time) ))]\n",
    "\n",
    "for VariableID_loop in diagnosis_and_procedures_df.VariableID.unique():\n",
    "    diagnosis_and_procedures_df_patients.VariableID = diagnosis_and_procedures_df_patients.VariableID.replace(VariableID_loop,diagnosis_and_procedures_df[diagnosis_and_procedures_df.VariableID==VariableID_loop].Var_Abbr.values[0])\n",
    "\n",
    "diagnosis_and_procedures_df = None #RAM Optimization\n",
    "\n",
    "diagnosis_and_procedures_df_patients_agg = diagnosis_and_procedures_df_patients[[\"ICUSessionID\",\"VariableID\",\"value\"]].groupby([\"ICUSessionID\",\"VariableID\"]).agg({'mean'}).reset_index()\n",
    "diagnosis_and_procedures_df_patients_agg.VariableID = diagnosis_and_procedures_df_patients_agg.VariableID.astype(str)\n",
    "diagnosis_and_procedures_df_patients_agg.columns = ['_'.join(col).rstrip('_') for col in diagnosis_and_procedures_df_patients_agg.columns.values]\n",
    "diagnosis_and_procedures_df_patients_agg.columns = [col.replace('value_','') if 'value_' in col else col for col in diagnosis_and_procedures_df_patients_agg.columns.values]\n",
    "diagnosis_and_procedures_df_patients_agg = diagnosis_and_procedures_df_patients_agg.pivot(index='ICUSessionID', columns='VariableID')\n",
    "diagnosis_and_procedures_df_patients_agg.columns = ['_'.join(col).rstrip('_') for col in diagnosis_and_procedures_df_patients_agg.columns.values]\n",
    "\n",
    "diagnosis_and_procedures_df_patients_total = diagnosis_and_procedures_df_patients_agg\n",
    "diagnosis_and_procedures_df_patients = None #Save RAM\n",
    "diagnosis_and_procedures_df_patients_slope = None\n",
    "diagnosis_and_procedures_df_patients_agg = None"
   ]
  },
  {
   "cell_type": "markdown",
   "metadata": {},
   "source": [
    "## medtreatment"
   ]
  },
  {
   "cell_type": "code",
   "execution_count": null,
   "metadata": {},
   "outputs": [],
   "source": [
    "medtreatment_df = pd.read_csv(data_path+\"medtreatment.csv\",sep=\";\", encoding = \"ISO-8859-1\")\n",
    "medtreatment_df = medtreatment_df.rename(columns={\"start_mins_since_icu_adm\":\"start_measuredat\",\"Dose\":\"value\",\n",
    "                                                                          \"end_mins_since_icu_adm\":\"end_measuredat\"})\n",
    "medtreatment_df = medtreatment_df[~medtreatment_df.value.str.contains(\",\")]\n",
    "medtreatment_df[\"value\"] = pd.to_numeric(medtreatment_df[\"value\"])\n",
    "medtreatment_df"
   ]
  },
  {
   "cell_type": "code",
   "execution_count": null,
   "metadata": {},
   "outputs": [],
   "source": [
    "#NUMERIC ITEMS PREPROCESSING, this takes around 2 minutes\n",
    "if non_biased_model:\n",
    "    medtreatment_df_patients = (medtreatment_df[medtreatment_df.ICUSessionID.isin(AF_admission_dataset.ICUSessionID)]).merge(AF_admission_dataset[[\"ICUSessionID\",\"AF_measuredat\",\"date_corresponds_to_AF_admid\"]],how='left',on='ICUSessionID')\n",
    "else:\n",
    "    medtreatment_df_patients = (medtreatment_df[medtreatment_df.ICUSessionID.isin(AF_admission_dataset.ICUSessionID)]).merge(AF_admission_dataset[[\"ICUSessionID\",\"AF_measuredat\"]],how='left',on='ICUSessionID')\n",
    "    \n",
    "medtreatment_df_patients[\"start_time_to_AF\"]=(medtreatment_df_patients.AF_measuredat.values-margin_time) - medtreatment_df_patients.start_measuredat.values #add one margin_time to AF extra\n",
    "medtreatment_df_patients[\"stop_time_to_AF\"]=(medtreatment_df_patients.AF_measuredat.values-margin_time) - medtreatment_df_patients.end_measuredat.values #add one margin_time to AF extra\n",
    "\n",
    "medtreatment_df_patients = medtreatment_df_patients[((medtreatment_df_patients.start_time_to_AF > (time_shift-margin_time)) & (medtreatment_df_patients.start_time_to_AF <= (time_shift+hours_to_first_AF-margin_time) ))|\n",
    "                            ((medtreatment_df_patients.stop_time_to_AF > (time_shift-margin_time)) & (medtreatment_df_patients.stop_time_to_AF <= (time_shift+hours_to_first_AF-margin_time) ))]\n",
    "\n",
    "for VariableID_loop in medtreatment_df.VariableID.unique():\n",
    "    medtreatment_df_patients.VariableID = medtreatment_df_patients.VariableID.replace(VariableID_loop,medtreatment_df[medtreatment_df.VariableID==VariableID_loop].Var_Abbr.values[0])\n",
    "\n",
    "medtreatment_df = None #RAM Optimization\n",
    "\n",
    "medtreatment_df_patients_agg = medtreatment_df_patients[[\"ICUSessionID\",\"VariableID\",\"value\"]].groupby([\"ICUSessionID\",\"VariableID\"]).agg({'mean'}).reset_index()\n",
    "medtreatment_df_patients_agg.VariableID = medtreatment_df_patients_agg.VariableID.astype(str)\n",
    "medtreatment_df_patients_agg.columns = ['_'.join(col).rstrip('_') for col in medtreatment_df_patients_agg.columns.values]\n",
    "medtreatment_df_patients_agg.columns = [col.replace('value_','') if 'value_' in col else col for col in medtreatment_df_patients_agg.columns.values]\n",
    "medtreatment_df_patients_agg = medtreatment_df_patients_agg.pivot(index='ICUSessionID', columns='VariableID')\n",
    "medtreatment_df_patients_agg.columns = ['_'.join(col).rstrip('_') for col in medtreatment_df_patients_agg.columns.values]\n",
    "\n",
    "medtreatment_df_patients_total = medtreatment_df_patients_agg\n",
    "medtreatment_df_patients = None #Save RAM\n",
    "medtreatment_df_patients_slope = None\n",
    "medtreatment_df_patients_agg = None"
   ]
  },
  {
   "cell_type": "markdown",
   "metadata": {},
   "source": [
    "## izis dervals"
   ]
  },
  {
   "cell_type": "code",
   "execution_count": null,
   "metadata": {},
   "outputs": [],
   "source": [
    "izisdervals_df = pd.read_csv(data_path+\"izisdervals.csv\",sep=\";\", encoding = \"ISO-8859-1\")\n",
    "izisdervals_df.varvalue = pd.to_numeric(izisdervals_df.varvalue)\n",
    "izisdervals_df = izisdervals_df.rename(columns={\"icusessionid\":\"ICUSessionID\",\"mins_since_admission\":\"measuredat\",\"varvalue\":\"value\",\"variablename\":\"Var_Abbr\"})\n",
    "izisdervals_df"
   ]
  },
  {
   "cell_type": "code",
   "execution_count": null,
   "metadata": {},
   "outputs": [],
   "source": [
    "#NUMERIC ITEMS PREPROCESSING, this takes around 2 minutes\n",
    "if non_biased_model:\n",
    "    izisdervals_df_patients = (izisdervals_df[izisdervals_df.ICUSessionID.isin(AF_admission_dataset.ICUSessionID)]).merge(AF_admission_dataset[[\"ICUSessionID\",\"AF_measuredat\",\"date_corresponds_to_AF_admid\"]],how='left',on='ICUSessionID')\n",
    "else:\n",
    "    izisdervals_df_patients = (izisdervals_df[izisdervals_df.ICUSessionID.isin(AF_admission_dataset.ICUSessionID)]).merge(AF_admission_dataset[[\"ICUSessionID\",\"AF_measuredat\"]],how='left',on='ICUSessionID')\n",
    "\n",
    "izisdervals_df_patients[\"time_to_AF\"]=(izisdervals_df_patients.AF_measuredat.values-margin_time) - izisdervals_df_patients.measuredat.values #add one margin_time to AF extra\n",
    "izisdervals_df_patients = izisdervals_df_patients[(izisdervals_df_patients.time_to_AF > (time_shift-margin_time)) & (izisdervals_df_patients.time_to_AF <= (time_shift+hours_to_first_AF-margin_time) )]\n",
    "\n",
    "for VariableID_loop in izisdervals_df.Var_Abbr.unique():\n",
    "    izisdervals_df_patients.Var_Abbr = izisdervals_df_patients.Var_Abbr.replace(VariableID_loop,izisdervals_df[izisdervals_df.Var_Abbr==VariableID_loop].Var_Abbr.values[0])\n",
    "\n",
    "izisdervals_df = None #RAM Optimization\n",
    "\n",
    "izisdervals_df_patients_agg = izisdervals_df_patients[[\"ICUSessionID\",\"Var_Abbr\",\"value\"]].groupby([\"ICUSessionID\",\"Var_Abbr\"]).agg({'mean','min','max',pd.DataFrame.kurt}).reset_index()\n",
    "izisdervals_df_patients_agg.Var_Abbr = izisdervals_df_patients_agg.Var_Abbr.astype(str)\n",
    "izisdervals_df_patients_agg.columns = ['_'.join(col).rstrip('_') for col in izisdervals_df_patients_agg.columns.values]\n",
    "izisdervals_df_patients_agg.columns = [col.replace('value_','') if 'value_' in col else col for col in izisdervals_df_patients_agg.columns.values]\n",
    "izisdervals_df_patients_agg = izisdervals_df_patients_agg.pivot(index='ICUSessionID', columns='Var_Abbr')\n",
    "izisdervals_df_patients_agg.columns = ['_'.join(col).rstrip('_') for col in izisdervals_df_patients_agg.columns.values]\n",
    "\n",
    "izisdervals_df_patients_total = izisdervals_df_patients_agg\n",
    "izisdervals_df_patients = None #Save RAM\n",
    "izisdervals_df_patients_slope = None\n",
    "izisdervals_df_patients_agg = None"
   ]
  },
  {
   "cell_type": "markdown",
   "metadata": {},
   "source": [
    "## izis monvals"
   ]
  },
  {
   "cell_type": "code",
   "execution_count": null,
   "metadata": {},
   "outputs": [],
   "source": [
    "izismonvals_df = pd.read_csv(data_path+\"izismonvals.csv\",sep=\";\", encoding = \"ISO-8859-1\")\n",
    "izismonvals_df = izismonvals_df[~izismonvals_df.varvalue.str.contains(\",\")]\n",
    "izismonvals_df.varvalue = pd.to_numeric(izismonvals_df.varvalue)\n",
    "izismonvals_df = izismonvals_df.rename(columns={\"icusessionid\":\"ICUSessionID\",\"mins_since_admission\":\"measuredat\",\"varvalue\":\"value\",\"variablename\":\"Var_Abbr\"})\n",
    "izismonvals_df"
   ]
  },
  {
   "cell_type": "code",
   "execution_count": null,
   "metadata": {},
   "outputs": [],
   "source": [
    "#NUMERIC ITEMS PREPROCESSING, this takes around 2 minutes\n",
    "if non_biased_model:\n",
    "    izismonvals_df_patients = (izismonvals_df[izismonvals_df.ICUSessionID.isin(AF_admission_dataset.ICUSessionID)]).merge(AF_admission_dataset[[\"ICUSessionID\",\"AF_measuredat\",\"date_corresponds_to_AF_admid\"]],how='left',on='ICUSessionID')\n",
    "else:\n",
    "    izismonvals_df_patients = (izismonvals_df[izismonvals_df.ICUSessionID.isin(AF_admission_dataset.ICUSessionID)]).merge(AF_admission_dataset[[\"ICUSessionID\",\"AF_measuredat\"]],how='left',on='ICUSessionID')\n",
    "\n",
    "izismonvals_df_patients[\"time_to_AF\"]=(izismonvals_df_patients.AF_measuredat.values-margin_time) - izismonvals_df_patients.measuredat.values #add one margin_time to AF extra\n",
    "izismonvals_df_patients = izismonvals_df_patients[(izismonvals_df_patients.time_to_AF > (time_shift-margin_time)) & (izismonvals_df_patients.time_to_AF <= (time_shift+hours_to_first_AF-margin_time) )]\n",
    "\n",
    "for VariableID_loop in izismonvals_df.Var_Abbr.unique():\n",
    "    izismonvals_df_patients.Var_Abbr = izismonvals_df_patients.Var_Abbr.replace(VariableID_loop,izismonvals_df[izismonvals_df.Var_Abbr==VariableID_loop].Var_Abbr.values[0])\n",
    "\n",
    "izismonvals_df = None #RAM Optimization\n",
    "\n",
    "izismonvals_df_patients_agg = izismonvals_df_patients[[\"ICUSessionID\",\"Var_Abbr\",\"value\"]].groupby([\"ICUSessionID\",\"Var_Abbr\"]).agg({'mean','min','max',pd.DataFrame.kurt}).reset_index()\n",
    "izismonvals_df_patients_agg.Var_Abbr = izismonvals_df_patients_agg.Var_Abbr.astype(str)\n",
    "izismonvals_df_patients_agg.columns = ['_'.join(col).rstrip('_') for col in izismonvals_df_patients_agg.columns.values]\n",
    "izismonvals_df_patients_agg.columns = [col.replace('value_','') if 'value_' in col else col for col in izismonvals_df_patients_agg.columns.values]\n",
    "izismonvals_df_patients_agg = izismonvals_df_patients_agg.pivot(index='ICUSessionID', columns='Var_Abbr')\n",
    "izismonvals_df_patients_agg.columns = ['_'.join(col).rstrip('_') for col in izismonvals_df_patients_agg.columns.values]\n",
    "\n",
    "izismonvals_df_patients_total = izismonvals_df_patients_agg\n",
    "izismonvals_df_patients = None #Save RAM\n",
    "izismonvals_df_patients_slope = None\n",
    "izismonvals_df_patients_agg = None"
   ]
  },
  {
   "cell_type": "markdown",
   "metadata": {},
   "source": [
    "## mondata val"
   ]
  },
  {
   "cell_type": "code",
   "execution_count": null,
   "metadata": {},
   "outputs": [],
   "source": [
    "mondata_validated_df = pd.read_csv(data_path+\"mondata_validated.csv\",sep=\";\", encoding = \"ISO-8859-1\")\n",
    "mondata_validated_df = mondata_validated_df.rename(columns={\"mins_since_icu_adm\":\"measuredat\",\"VariableValue\":\"value\"})"
   ]
  },
  {
   "cell_type": "code",
   "execution_count": null,
   "metadata": {},
   "outputs": [],
   "source": [
    "mondata_validated_df.Var_Abbr.unique()"
   ]
  },
  {
   "cell_type": "code",
   "execution_count": null,
   "metadata": {},
   "outputs": [],
   "source": [
    "#NUMERIC ITEMS PREPROCESSING\n",
    "if non_biased_model:\n",
    "    mondata_validated_df_patients = (mondata_validated_df[mondata_validated_df.ICUSessionID.isin(AF_admission_dataset.ICUSessionID)]).merge(AF_admission_dataset[[\"ICUSessionID\",\"AF_measuredat\",\"date_corresponds_to_AF_admid\"]],how='left',on='ICUSessionID')\n",
    "else:\n",
    "    mondata_validated_df_patients = (mondata_validated_df[mondata_validated_df.ICUSessionID.isin(AF_admission_dataset.ICUSessionID)]).merge(AF_admission_dataset[[\"ICUSessionID\",\"AF_measuredat\"]],how='left',on='ICUSessionID')\n",
    "\n",
    "mondata_validated_df_patients[\"time_to_AF\"]=(mondata_validated_df_patients.AF_measuredat.values-margin_time) - mondata_validated_df_patients.measuredat.values #add one margin_time to AF extra\n",
    "mondata_validated_df_patients = mondata_validated_df_patients[(mondata_validated_df_patients.time_to_AF > (time_shift-margin_time)) & (mondata_validated_df_patients.time_to_AF <= (time_shift+hours_to_first_AF-margin_time) )]\n",
    "\n",
    "for VariableID_loop in mondata_validated_df.VariableID.unique():\n",
    "    mondata_validated_df_patients.VariableID = mondata_validated_df_patients.VariableID.replace(VariableID_loop,mondata_validated_df[mondata_validated_df.VariableID==VariableID_loop].Var_Abbr.values[0])\n",
    "\n",
    "mondata_validated_df = None #RAM Optimization\n",
    "\n",
    "mondata_validated_df_patients_agg = mondata_validated_df_patients[[\"ICUSessionID\",\"VariableID\",\"value\"]].groupby([\"ICUSessionID\",\"VariableID\"]).agg({'mean','min','max',pd.DataFrame.kurt}).reset_index()\n",
    "mondata_validated_df_patients_agg.VariableID = mondata_validated_df_patients_agg.VariableID.astype(str)\n",
    "mondata_validated_df_patients_agg.columns = ['_'.join(col).rstrip('_') for col in mondata_validated_df_patients_agg.columns.values]\n",
    "mondata_validated_df_patients_agg.columns = [col.replace('value_','') if 'value_' in col else col for col in mondata_validated_df_patients_agg.columns.values]\n",
    "mondata_validated_df_patients_agg = mondata_validated_df_patients_agg.pivot(index='ICUSessionID', columns='VariableID')\n",
    "mondata_validated_df_patients_agg.columns = ['_'.join(col).rstrip('_') for col in mondata_validated_df_patients_agg.columns.values]\n",
    "\n",
    "def linreg_except(x,value,measuredat):\n",
    "    try:\n",
    "        return linregress(x[measuredat],x[value])[0]\n",
    "    except:\n",
    "        return np.nan\n",
    "\n",
    "mondata_validated_df_patients_slope = mondata_validated_df_patients[[\"ICUSessionID\",\"VariableID\",\"measuredat\",\"value\"]].groupby([\"ICUSessionID\",\"VariableID\"]).apply(lambda x:linreg_except(x,\"value\",\"measuredat\")).reset_index()\n",
    "mondata_validated_df_patients_slope.columns = [str(col) for col in mondata_validated_df_patients_slope.columns.values]\n",
    "mondata_validated_df_patients_slope = mondata_validated_df_patients_slope.rename(columns={'0':\"slope\"})\n",
    "mondata_validated_df_patients_slope.VariableID = mondata_validated_df_patients_slope.VariableID.astype(str)\n",
    "mondata_validated_df_patients_slope = mondata_validated_df_patients_slope.pivot(index='ICUSessionID', columns='VariableID')\n",
    "mondata_validated_df_patients_slope.columns = ['_'.join(col).rstrip('_') for col in mondata_validated_df_patients_slope.columns.values]\n",
    "mondata_validated_df_patients_slope = mondata_validated_df_patients_slope.reset_index()\n",
    "\n",
    "mondata_validated_df_patients_total = mondata_validated_df_patients_agg.merge(mondata_validated_df_patients_slope,how='left',on='ICUSessionID')\n",
    "mondata_validated_df_patients = None #Save RAM\n",
    "mondata_validated_df_patients_slope = None\n",
    "mondata_validated_df_patients_agg = None"
   ]
  },
  {
   "cell_type": "markdown",
   "metadata": {},
   "source": [
    "## scores"
   ]
  },
  {
   "cell_type": "code",
   "execution_count": null,
   "metadata": {},
   "outputs": [],
   "source": [
    "sofa_df = pd.read_csv(data_path+\"sofa_recalc.csv\",sep=\";\", encoding = \"ISO-8859-1\")\n",
    "sofa_df = sofa_df.fillna(0)\n",
    "sofa_df = sofa_df.rename(columns={\"icusessionid\":\"ICUSessionID\"})\n",
    "sofa_df[\"sofa\"] = sofa_df.resp+sofa_df.coag+sofa_df.liver+sofa_df.cardio+sofa_df.cns+sofa_df.renal\n",
    "sofa_df"
   ]
  },
  {
   "cell_type": "code",
   "execution_count": null,
   "metadata": {},
   "outputs": [],
   "source": [
    "#NUMERIC ITEMS PREPROCESSING\n",
    "if non_biased_model:\n",
    "    sofa_df_patients = (sofa_df[sofa_df.ICUSessionID.isin(AF_admission_dataset.ICUSessionID)]).merge(AF_admission_dataset[[\"ICUSessionID\",\"AF_measuredat\",\"date_corresponds_to_AF_admid\",\"ICUAdmissionTime\"]],how='left',on='ICUSessionID')\n",
    "else:\n",
    "    sofa_df_patients = (sofa_df[sofa_df.ICUSessionID.isin(AF_admission_dataset.ICUSessionID)]).merge(AF_admission_dataset[[\"ICUSessionID\",\"AF_measuredat\",\"ICUAdmissionTime\"]],how='left',on='ICUSessionID')\n",
    "\n",
    "sofa_df_patients[\"AF_admissionday\"] = ((sofa_df_patients.ICUAdmissionTime+pd.to_timedelta(sofa_df_patients.AF_measuredat,\"m\")).dt.date - sofa_df_patients.ICUAdmissionTime.dt.date).dt.days\n",
    "sofa_df_total = sofa_df_patients[sofa_df_patients.AF_admissionday == sofa_df_patients.AdmissionDay][[\"ICUSessionID\",\"sofa\"]]"
   ]
  },
  {
   "cell_type": "markdown",
   "metadata": {},
   "source": [
    "## Merging them all"
   ]
  },
  {
   "cell_type": "code",
   "execution_count": null,
   "metadata": {},
   "outputs": [],
   "source": [
    "AF_full_dataset = AF_admission_dataset.merge(sofa_df_total,how='left',on='ICUSessionID').merge(\n",
    "    labdata_df_patients_total,how='left',on='ICUSessionID').merge(\n",
    "    mondata_validated_df_patients_total,how='left',on='ICUSessionID').merge(\n",
    "    izismonvals_df_patients_total,how='left',on='ICUSessionID').merge(\n",
    "    izisdervals_df_patients_total,how='left',on='ICUSessionID').merge(\n",
    "    medtreatment_df_patients_total,how='left',on='ICUSessionID').merge(\n",
    "    diagnosis_and_procedures_df_patients_total,how='left',on='ICUSessionID')"
   ]
  },
  {
   "cell_type": "code",
   "execution_count": null,
   "metadata": {},
   "outputs": [],
   "source": [
    "AF_full_dataset"
   ]
  },
  {
   "cell_type": "code",
   "execution_count": null,
   "metadata": {},
   "outputs": [],
   "source": [
    "data_save_path = \"./Data/312_Validatie_VKF_Predictiemodellen/\"\n",
    "\n",
    "if non_biased_model:\n",
    "    if not six_hour_model:\n",
    "        if one_half_hour_model:\n",
    "            AF_full_dataset.to_csv(data_save_path+\"AF_dataset_1_5_hours_no_af_distribution_matched.csv\",index=False)\n",
    "        else:\n",
    "            AF_full_dataset.to_csv(data_save_path+\"AF_dataset_12_hours_no_af_distribution_matched.csv\",index=False)\n",
    "    else:\n",
    "        AF_full_dataset.to_csv(data_save_path+\"AF_dataset_\"+str(int(time_shift/60))+\"_hours_no_af_distribution_matched.csv\",index=False)\n",
    "else:\n",
    "    if not six_hour_model:\n",
    "        if one_half_hour_model:\n",
    "            AF_full_dataset.to_csv(data_save_path+\"AF_dataset_1_5_hours.csv\",index=False)\n",
    "        else:\n",
    "            AF_full_dataset.to_csv(data_save_path+\"AF_dataset_12_hours.csv\",index=False)\n",
    "    else:\n",
    "        AF_full_dataset.to_csv(data_save_path+\"AF_dataset_\"+str(int(time_shift/60))+\"_hours.csv\",index=False)"
   ]
  }
 ],
 "metadata": {
  "kernelspec": {
   "display_name": "Python 3.8.10 64-bit (windows store)",
   "language": "python",
   "name": "python3"
  },
  "language_info": {
   "codemirror_mode": {
    "name": "ipython",
    "version": 3
   },
   "file_extension": ".py",
   "mimetype": "text/x-python",
   "name": "python",
   "nbconvert_exporter": "python",
   "pygments_lexer": "ipython3",
   "version": "3.8.10 (tags/v3.8.10:3d8993a, May  3 2021, 11:48:03) [MSC v.1928 64 bit (AMD64)]"
  },
  "vscode": {
   "interpreter": {
    "hash": "7e1f392defe650829700f492eb57f9ca780dd56d6bebdcdeef32d1ec2c20a25b"
   }
  }
 },
 "nbformat": 4,
 "nbformat_minor": 4
}
