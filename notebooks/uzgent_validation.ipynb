{
 "cells": [
  {
   "cell_type": "markdown",
   "metadata": {},
   "source": [
    "# Imports"
   ]
  },
  {
   "cell_type": "code",
   "execution_count": 1,
   "metadata": {},
   "outputs": [],
   "source": [
    "# Imports\n",
    "import matplotlib.pyplot as plt\n",
    "from tqdm import tqdm\n",
    "plt.rcParams[\"axes.grid\"] = False #disable ugly white lines which are present in google colab for matplotlib\n",
    "import numpy as np\n",
    "import datetime\n",
    "today = datetime.datetime.today() #To work with datetime values. Only relative time matters in this project, so selecting a random date is not a problem. \n",
    "from sklearn.metrics import classification_report,auc,r2_score,matthews_corrcoef\n",
    "import shap\n",
    "from catboost import CatBoostClassifier,CatBoostRegressor,Pool\n",
    "from catboost.utils import get_roc_curve\n",
    "import pandas as pd\n",
    "import re\n",
    "import os\n",
    "from scipy.stats import linregress,ttest_ind,ranksums\n",
    "uzgent_data_path = \"../data/uzgent/\"\n",
    "amsterdam_data_path = \"../data/amsterdam/\"\n",
    "from tabulate import tabulate\n",
    "from sklearn.model_selection import train_test_split"
   ]
  },
  {
   "cell_type": "code",
   "execution_count": 2,
   "metadata": {},
   "outputs": [],
   "source": [
    "pd.set_option('display.max_columns', None)"
   ]
  },
  {
   "cell_type": "code",
   "execution_count": 3,
   "metadata": {},
   "outputs": [],
   "source": [
    "present = False\n",
    "if present:\n",
    "    params = {\"ytick.color\" : \"w\",\n",
    "            \"xtick.color\" : \"w\",\n",
    "            \"axes.titlecolor\" : \"w\",\n",
    "            \"axes.labelcolor\" : \"w\",\n",
    "            \"axes.edgecolor\" : \"w\"}\n",
    "    plt.rcParams.update(params)\n",
    "    plt.rcParams.update({'font.size': 18})\n",
    "else:\n",
    "    params = {\"ytick.color\" : \"black\",\n",
    "            \"xtick.color\" : \"black\",\n",
    "            \"axes.titlecolor\" : \"black\",\n",
    "            \"axes.labelcolor\" : \"black\",\n",
    "            \"axes.edgecolor\" : \"black\"}\n",
    "    plt.rcParams.update(params)"
   ]
  },
  {
   "cell_type": "markdown",
   "metadata": {},
   "source": [
    "# External Validation"
   ]
  },
  {
   "attachments": {},
   "cell_type": "markdown",
   "metadata": {},
   "source": [
    "## Function declarations"
   ]
  },
  {
   "cell_type": "code",
   "execution_count": 4,
   "metadata": {},
   "outputs": [],
   "source": [
    "def ece_calculator(X,y,model,plot_bool=False):\n",
    "    confidences = np.max(model.predict_proba(X),axis=1)\n",
    "    output_t = np.argmax(model.predict_proba(X),axis=1)\n",
    "\n",
    "    max_bin = 5\n",
    "\n",
    "    ECE_arr = np.array([])\n",
    "    cal_plot_ECE = list([])\n",
    "    ESCE_arr = np.array([])\n",
    "    for i in np.arange(0.5,max_bin + 0.1,0.1):\n",
    "        bins_size = i\n",
    "        bin_epsilon = 0.00001\n",
    "        bin_min = np.round(np.min(confidences*100))\n",
    "\n",
    "        pred_out = output_t\n",
    "        real_out = y.values\n",
    "        bins_correct = plt.hist(confidences[np.where(pred_out==real_out)]*100,density=False,label=\"Correct pred\",bins=np.arange(bin_min,101.0,bins_size),ec='black')\n",
    "        bins_incorrect = plt.hist(confidences[np.where(pred_out!=real_out)]*100,density=False,label=\"Incorrect pred\",bins=np.arange(bin_min,101.0,bins_size),ec='black')\n",
    "        \n",
    "\n",
    "        bin_means = np.array([])\n",
    "        for b in np.arange(bin_min,101.0,bins_size):\n",
    "            bin_means = np.append(bin_means,np.array(np.mean(np.append([bin_epsilon],confidences[np.where((confidences > b/100.0)&(confidences <= (b/100.0+bins_size/100.0)))]))))\n",
    "\n",
    "        bin_means = bin_means[:-1]\n",
    "\n",
    "        #avg accuracy per bin - avg confidence per bin (summed over all bins and normalized by width of size of bin)\n",
    "        ECE = np.sum((bins_correct[0]+bins_incorrect[0])/len(confidences) * (np.abs(bins_correct[0]/(bins_correct[0]+bins_incorrect[0]+bin_epsilon) - bin_means)))\n",
    "        cal_plot_ECE.append(np.array((bins_correct[0]/(bins_correct[0]+bins_incorrect[0]+bin_epsilon))))\n",
    "        ESCE = np.sum((bins_correct[0]+bins_incorrect[0])/len(confidences) * (bins_correct[0]/(bins_correct[0]+bins_incorrect[0]+bin_epsilon) - bin_means))\n",
    "        ECE_arr = np.append(ECE_arr,np.array(ECE))\n",
    "        ESCE_arr = np.append(ESCE_arr,np.array(ESCE))\n",
    "\n",
    "    plt.clf()\n",
    "\n",
    "    if plot_bool:\n",
    "        plt.figure(figsize=(12,8))\n",
    "        plt.plot(np.arange(0.5,max_bin + 0.1,0.1),ECE_arr*100,label=\"avg ECE\")\n",
    "        plt.plot(np.arange(0.5,max_bin + 0.1,0.1),ESCE_arr*100,label=\"avg ESCE\")\n",
    "\n",
    "        plt.legend()\n",
    "        plt.xlabel(\"Bin size \")\n",
    "        plt.ylabel(\"ECE (% error)\")\n",
    "        plt.show()\n",
    "\n",
    "        plt.figure(figsize=(12,8))\n",
    "\n",
    "        bin_min = np.round(np.min(confidences*100))\n",
    "\n",
    "        mean_sece = np.array([])\n",
    "        increment_perc = 1\n",
    "        for perc in np.arange(bin_min+increment_perc,100+increment_perc,increment_perc):\n",
    "            mean_array = np.array([])\n",
    "            idx = 0\n",
    "            for calplots in cal_plot_ECE:\n",
    "                bins_size = np.arange(0.5,max_bin + 0.1,0.1)[idx]\n",
    "                plot_arr = np.where(calplots!=0)\n",
    "\n",
    "                x_ar = (np.arange(bin_min,101.0,bins_size)[:-1]+bins_size/2)[plot_arr]\n",
    "                cal_plot_mean = calplots[plot_arr][np.where((x_ar < perc) & (x_ar >= perc-increment_perc))]\n",
    "                \n",
    "                if len(cal_plot_mean>0):\n",
    "                    temp_mean = np.mean(cal_plot_mean)\n",
    "                    mean_array = np.append(mean_array,temp_mean)\n",
    "                \n",
    "                idx += 1\n",
    "\n",
    "            mean_sece = np.append(mean_sece,np.mean(mean_array))\n",
    "\n",
    "\n",
    "        for i in range(len(cal_plot_ECE)):\n",
    "            bins_size = np.arange(0.5,max_bin + 0.1,0.1)[i]\n",
    "            x_ar = np.arange(bin_min,101.0,bins_size)[:-1]+bins_size/2\n",
    "            plot_arr = np.where(cal_plot_ECE[i]!=0)\n",
    "            plt.plot(x_ar[plot_arr],cal_plot_ECE[i][plot_arr]*100,alpha=0.2,color=\"blue\")\n",
    "        plt.plot(np.arange(bin_min+increment_perc/2,100+increment_perc/2,increment_perc),mean_sece*100,color=\"red\",label=\"average\")\n",
    "        plt.plot([50,100],[50,100],color=\"black\",label=\"Perfect calibration\")\n",
    "        plt.xlim([50,100])\n",
    "        plt.ylim([0,100])\n",
    "        plt.xticks(np.arange(50,104,5))\n",
    "        plt.xlabel(\"Predicted probabilities (%)\")\n",
    "        plt.ylabel(\"Observed probabilities (%)\")\n",
    "        plt.grid()\n",
    "        plt.legend()\n",
    "        plt.show()\n",
    "\n",
    "    print(\"ECE normalized AUC (%) = \"+str(np.round(np.mean(ECE_arr)*100,2))+\" %\")\n",
    "    print(\"ESCE normalized AUC (%) = \"+str(np.round(np.mean(ESCE_arr)*100,2))+\" %\")\n",
    "\n",
    "    return np.mean(ECE_arr),np.mean(ESCE_arr)\n",
    "\n",
    "def pandas_result_AF_maker(patient_group_string,X,y,model,append_df):\n",
    "    (fpr, tpr, thresholds) = get_roc_curve(model, Pool(data=X,label=y), plot=False)\n",
    "    res_dict = classification_report(y,model.predict(X),target_names=[\"No-AF\",\"AF\"],output_dict=True)\n",
    "\n",
    "    ECE,ESCE = ece_calculator(X,y,model)\n",
    "\n",
    "    append_df = pd.concat([append_df,pd.DataFrame(data=[[model_string,validation_type_string,patient_group_string,\n",
    "                    res_dict[\"No-AF\"][\"support\"],res_dict[\"AF\"][\"support\"],\n",
    "                    res_dict[\"No-AF\"][\"recall\"],res_dict[\"AF\"][\"recall\"],\n",
    "                    res_dict[\"No-AF\"][\"precision\"],res_dict[\"AF\"][\"precision\"],\n",
    "                    res_dict[\"No-AF\"][\"f1-score\"],res_dict[\"AF\"][\"f1-score\"],\n",
    "                    matthews_corrcoef(y,model.predict(X)),auc(fpr,tpr),ECE,ESCE\n",
    "                   ]],columns=uzgent_result_dataframe_columns)])\n",
    "    \n",
    "    return append_df\n",
    "\n",
    "\n",
    "uzgent_result_dataframe_columns=[\"model\",\"validation_type\",\"patient_group\",\"NO AF patients\",\"AF patients\",\"NO AF recall\",\"AF recall\",\"NO AF precision\",\"AF precision\",\"NO AF f1\",\"AF f1\",\"mcc\",\"auc\",\"ECE\",\"ESCE\"]\n",
    "# uzgent_result_dataframe = pd.DataFrame(columns=uzgent_result_dataframe_columns)\n",
    "\n",
    "uzgent_p_value_result_dataframe_columns=[\"model\",\"comparison\",\"AF_group\",\"p_value\"]\n",
    "# uzgent_p_value_result_dataframe = pd.DataFrame(columns=uzgent_p_value_result_dataframe_columns)\n",
    "\n",
    "# missing_dataframe = pd.DataFrame(columns=[\"model\",\"feature\",\"train amst\",\"balanced test amst\",\"all test amst\",\"train uzgent\",\"balanced test uzgent\",\"all test uzgent\"])"
   ]
  },
  {
   "cell_type": "code",
   "execution_count": 5,
   "metadata": {},
   "outputs": [],
   "source": [
    "#uzgent_result_dataframe.reset_index(drop=True).to_csv(\"../results/uzgent_af_prediction_results.csv\")"
   ]
  },
  {
   "cell_type": "code",
   "execution_count": 24,
   "metadata": {},
   "outputs": [
    {
     "name": "stdout",
     "output_type": "stream",
     "text": [
      "6\n"
     ]
    }
   ],
   "source": [
    "#True\n",
    "#False\n",
    "\n",
    "one_half_hour_model = False\n",
    "six_hour_model = True\n",
    "\n",
    "model_string = (\"1.5\"*int(one_half_hour_model)+\"12\"*int(1-one_half_hour_model))*int(1-six_hour_model)+\"6\"*int(six_hour_model)\n",
    "print(model_string)"
   ]
  },
  {
   "cell_type": "markdown",
   "metadata": {},
   "source": [
    "## Transfer validation"
   ]
  },
  {
   "cell_type": "code",
   "execution_count": 25,
   "metadata": {},
   "outputs": [],
   "source": [
    "validation_type_string = \"transfer\""
   ]
  },
  {
   "cell_type": "markdown",
   "metadata": {},
   "source": [
    "### Data import"
   ]
  },
  {
   "cell_type": "code",
   "execution_count": 26,
   "metadata": {},
   "outputs": [
    {
     "name": "stderr",
     "output_type": "stream",
     "text": [
      "Columns (9) have mixed types.Specify dtype option on import or set low_memory=False.\n"
     ]
    }
   ],
   "source": [
    "if one_half_hour_model:\n",
    "    AF_dataset = pd.read_csv(uzgent_data_path+\"AF_dataset_1_5_hours.csv\") \n",
    "elif six_hour_model:\n",
    "    AF_dataset = pd.read_csv(uzgent_data_path+\"AF_dataset_6_hours.csv\") \n",
    "else:\n",
    "    AF_dataset = pd.read_csv(uzgent_data_path+\"AF_dataset_12_hours.csv\") \n",
    "\n",
    "        \n",
    "AF_dataset = AF_dataset.rename(columns={\"HospAdmissionID\":\"patientid\",\"AgeOnAdmission\":\"Age\",\"ICUSessionID\":\"admissionid\"})\n",
    "AF_dataset.loc[AF_dataset.sepsis_extra_opn_measuredat > AF_dataset.AF_measuredat,\"sepsis_bool_extra_opn\"]=0\n",
    "\n",
    "AF_dataset.loc[(~AF_dataset.bmi.isna())&(AF_dataset.bmi.str.contains(\",\")),'bmi']=np.NaN"
   ]
  },
  {
   "cell_type": "code",
   "execution_count": 27,
   "metadata": {},
   "outputs": [],
   "source": [
    "AF_dataset[\"is_given_NORepinefrine\"]=0\n",
    "AF_dataset.loc[AF_dataset['mean_CV_norepinephrine']>0,\"is_given_NORepinefrine\"]=1\n",
    "\n",
    "\n",
    "AF_dataset[\"is_given_Calcium Glubionaat (Calcium Sandoz)\"]=0\n",
    "AF_dataset.loc[(AF_dataset[\"mean_VI_calcium carbonate\"]>1)|(AF_dataset[\"mean_VI_calcium chloride\"]>1),\"is_given_Calcium Glubionaat (Calcium Sandoz)\"] = 1\n",
    "    \n",
    "AF_dataset[\"is_given_Dopamine (Inotropin)\"]=0\n",
    "AF_dataset.loc[AF_dataset['mean_CV_dopamine']>0,\"is_given_Dopamine (Inotropin)\"]=1\n",
    "\n",
    "AF_dataset['is_given_Propofol (Diprivan)']=0\n",
    "AF_dataset.loc[AF_dataset['mean_NS_propofol']>0,'is_given_Propofol (Diprivan)']=1\n",
    "\n",
    "AF_dataset['is_given_Fentanyl']=0\n",
    "AF_dataset.loc[AF_dataset['mean_NS_fentanyl']>0,'is_given_Fentanyl']=1\n",
    "\n",
    "AF_dataset[\"is_given_Furosemide (Lasix)\"]=0\n",
    "AF_dataset.loc[AF_dataset['mean_DI_furosemide']>0,\"is_given_Furosemide (Lasix)\"]=1\n",
    "\n",
    "AF_dataset[\"is_given_LoopDiuretics\"]=0\n",
    "AF_dataset.loc[(AF_dataset['mean_DI_furosemide']>0),\"is_given_LoopDiuretics\"]=1\n",
    "\n",
    "AF_dataset[\"sepsis_bool\"]=0\n",
    "AF_dataset.loc[(AF_dataset.sepsis_bool_comorb_source==1) | (AF_dataset.sepsis_bool_extra_opn==1),\"sepsis_bool\"]=1\n",
    "\n",
    "AF_dataset.loc[AF_dataset['mean_PEEP_M_ALL'].isna(),\"mean_PEEP_M_ALL\"]=0\n",
    "\n",
    "AF_dataset.loc[AF_dataset.icuurg==\"Urgent\",\"icuurg\"]=1\n",
    "AF_dataset.loc[AF_dataset.icuurg!=1,\"icuurg\"]=0\n"
   ]
  },
  {
   "cell_type": "code",
   "execution_count": 28,
   "metadata": {},
   "outputs": [],
   "source": [
    "#Rename for distr change 12 hour model\n",
    "AF_dataset = AF_dataset.rename(columns={'mean_PEEP_M_ALL':'mean_PEEP (Set)', 'is_given_NORepinefrine':'is_given_Noradrenaline (Norepinefrine)', 'mean_URINE_VOL':'mean_UrineCAD', \n",
    "                            'max_PEEP_M_ALL':'max_PEEP (Set)','min_PEEP_M_ALL':'min_PEEP (Set)',\n",
    "                            'max_PHOSPHATE_ALL':'max_Fosfaat (bloed)','min_HR_ALL':'min_Hartfrequentie','mean_HR_ALL':'mean_Hartfrequentie','slope_HR_ALL':'slope_Hartfrequentie',\n",
    "                            'min_PH_ART_ALL':'min_pH (bloed)','mean_PH_ART_ALL':'mean_pH (bloed)','max_PH_ART_ALL':'max_pH (bloed)',\n",
    "                            'mean_LACTATE_ART':'mean_Lactaat (bloed)','max_LACTATE_ART':'max_Lactaat (bloed)' ,'min_LACTATE_ART':'min_Lactaat (bloed)' , \n",
    "                            'min_URINE_VOL':'min_UrineCAD', 'max_URINE_VOL':'max_UrineCAD', 'slope_URINE_VOL':'slope_UrineCAD', 'icuurg':'urgency',\n",
    "                            'mean_BALANS-Tot.':'fluid_balance', 'slope_RESPRATE_ALL':'slope_O2 l/min','Length':'Height',\n",
    "                            'mean_HCO3_ART':'mean_Act.HCO3 (bloed)','max_HCO3_ART':'max_Act.HCO3 (bloed)','min_HCO3_ART':'min_Act.HCO3 (bloed)','slope_HCO3_ART':'slope_Act.HCO3 (bloed)',\n",
    "                            'mean_PO2_ART':'mean_PO2 (bloed)','min_PO2_ART':'min_PO2 (bloed)','max_PO2_ART':'max_PO2 (bloed)','slope_PO2_ART':'slope_PO2 (bloed)',\n",
    "                            'mean_BE_ART':'mean_B.E. (bloed)','min_BE_ART':'min_B.E. (bloed)','max_BE_ART':'max_B.E. (bloed)','slope_BE_ART':'slope_B.E. (bloed)',\n",
    "                            'mean_PCO2_ART':'mean_pCO2 (bloed)','min_PCO2_ART':'min_pCO2 (bloed)','max_PCO2_ART':'max_pCO2 (bloed)','slope_PCO2_ART':'slope_pCO2 (bloed)',\n",
    "                            'mean_IBP_M':'mean_ABP gemiddeld','min_IBP_M':'min_ABP gemiddeld','max_IBP_M':'max_ABP gemiddeld','slope_IBP_M':'slope_ABP gemiddeld',\n",
    "                            'mean_IBP_S':'mean_ABP systolisch','min_IBP_S':'min_ABP systolisch','max_IBP_S':'max_ABP systolisch','slope_IBP_S':'slope_ABP systolisch',\n",
    "                            'mean_FIO2_MV_ALL':'mean_O2 concentratie (Set)','max_FIO2_MV_ALL':'max_O2 concentratie (Set)','min_FIO2_MV_ALL':'min_O2 concentratie (Set)',\n",
    "                            'mean_O2SAT_ART':'mean_O2-Saturatie (bloed)','max_O2SAT_ART':'max_O2-Saturatie (bloed)','min_O2SAT_ART':'min_O2-Saturatie (bloed)',\n",
    "                           'min_NS_propofol':'min_Propofol (Diprivan)', 'min_NS_fentanyl':'min_Fentanyl', 'mean_RESPRATE_ALL':'mean_O2 l/min', \n",
    "                           'mean_PHOSPHATE_ALL':'mean_Fosfaat (bloed)', 'kurt_CVD':'kurt_CVD', 'max_HR_ALL':'max_Hartfrequentie', \"max_PLATELETS\":\"max_Thrombo's (bloed)\"})\n",
    "\n",
    "#Rename for distr change 6 hour model\n",
    "AF_dataset = AF_dataset.rename(columns={'max_RESPRATE_ALL':'max_O2 l/min',\n",
    "                                        'min_PHOSPHATE_ALL':'min_Fosfaat (bloed)', 'mean_CVD':'mean_CVD', \n",
    "                                        \"min_PLATELETS\":\"min_Thrombo's (bloed)\",\"slope_PLATELETS\":\"slope_Thrombo's (bloed)\"})\n",
    "\n",
    "#Rename for distr change 1.5 hour model\n",
    "AF_dataset = AF_dataset.rename(columns={'max_UREA_ALL':'max_Ureum (bloed)','mean_UREA_ALL':'mean_Ureum (bloed)','min_UREA_ALL':'min_Ureum (bloed)'})\n",
    "\n",
    "#Rename for standard 12 hour model\n",
    "AF_dataset = AF_dataset.rename(columns={\"slope_PO2_ART\":'slope_PO2 (bloed)'})\n",
    "\n",
    "#Rename for standard 1.5 hour model\n",
    "AF_dataset = AF_dataset.rename(columns={ 'min_RESPRATE_ALL':'min_O2 l/min', \"mean_PLATELETS\":\"mean_Thrombo's (bloed)\",\n",
    "                                        'min_CVD':'min_CVD'})"
   ]
  },
  {
   "cell_type": "code",
   "execution_count": 29,
   "metadata": {},
   "outputs": [],
   "source": [
    "AF_1_df = AF_dataset[AF_dataset.AF==1]\n",
    "AF_0_matched_df = AF_dataset[(AF_dataset.AF==0)&(AF_dataset.admissionid!=AF_dataset.date_corresponds_to_AF_admid)]\n",
    "\n",
    "train_admissionid,test_admissionid = train_test_split(AF_1_df.admissionid.unique(), test_size=0.2, random_state=42)\n",
    "\n",
    "train_AF_1_dataset = AF_1_df[AF_1_df.admissionid.isin(train_admissionid)]\n",
    "test_AF_1_dataset = AF_1_df[AF_1_df.admissionid.isin(test_admissionid)]\n",
    "\n",
    "train_AF_0_dataset = AF_0_matched_df[AF_0_matched_df.date_corresponds_to_AF_admid.isin(train_AF_1_dataset.admissionid)]\n",
    "test_AF_0_dataset = AF_0_matched_df[AF_0_matched_df.date_corresponds_to_AF_admid.isin(test_AF_1_dataset.admissionid)]\n",
    "\n",
    "train_AF_dataset = train_AF_0_dataset.append(train_AF_1_dataset).reset_index(drop=True).sample(len(train_AF_0_dataset)+len(train_AF_1_dataset),random_state=42)\n",
    "test_AF_dataset = test_AF_0_dataset.append(test_AF_1_dataset).reset_index(drop=True).sample(len(test_AF_0_dataset)+len(test_AF_1_dataset),random_state=42)"
   ]
  },
  {
   "cell_type": "code",
   "execution_count": 30,
   "metadata": {},
   "outputs": [],
   "source": [
    "X_train_or = train_AF_dataset\n",
    "X_test_or = test_AF_dataset\n",
    "y_train = train_AF_dataset.AF\n",
    "y_test = test_AF_dataset.AF"
   ]
  },
  {
   "cell_type": "markdown",
   "metadata": {},
   "source": [
    "### Testing"
   ]
  },
  {
   "cell_type": "code",
   "execution_count": 31,
   "metadata": {},
   "outputs": [],
   "source": [
    "if one_half_hour_model:\n",
    "\n",
    "    feature_columns = ['Age', \n",
    "        'is_given_Noradrenaline (Norepinefrine)', \n",
    "        'max_Hartfrequentie',\n",
    "       'mean_PEEP (Set)', \n",
    "       'mean_CVD', \n",
    "       'mean_O2 concentratie (Set)',\n",
    "       \"min_Thrombo's (bloed)\",\n",
    "       'urgency', \n",
    "       'mean_UrineCAD', \n",
    "       'is_given_Furosemide (Lasix)', \n",
    "       'mean_Ureum (bloed)',\n",
    "       'slope_B.E. (bloed)',\n",
    "       'slope_ABP systolisch', \n",
    "       'mean_O2-Saturatie (bloed)', \n",
    "       'fluid_balance']\n",
    "\n",
    "elif six_hour_model:\n",
    "\n",
    "    feature_columns = ['Age', \n",
    "        'is_given_Noradrenaline (Norepinefrine)',\n",
    "        'max_Hartfrequentie', \n",
    "        'mean_PEEP (Set)',\n",
    "        'min_CVD',\n",
    "        'mean_O2 concentratie (Set)', \n",
    "        'urgency', \n",
    "        'mean_UrineCAD',\n",
    "        'is_given_Furosemide (Lasix)', \n",
    "        'fluid_balance', \n",
    "        'slope_ABP gemiddeld',\n",
    "        'mean_O2-Saturatie (bloed)', \n",
    "        'max_Fosfaat (bloed)',\n",
    "        'max_ABP systolisch',\n",
    "        'min_Lactaat (bloed)'\n",
    "    ]\n",
    "\n",
    "else:\n",
    "\n",
    "    feature_columns = ['Age',\n",
    "        'mean_CVD',\n",
    "        'mean_O2 concentratie (Set)',\n",
    "        'mean_PEEP (Set)',\n",
    "        'is_given_Noradrenaline (Norepinefrine)',\n",
    "        'min_pH (bloed)',\n",
    "        'max_UrineCAD',\n",
    "        'mean_Hartfrequentie',\n",
    "        'urgency',\n",
    "        'min_Fosfaat (bloed)',\n",
    "        'is_given_Furosemide (Lasix)',\n",
    "        'is_given_Propofol (Diprivan)',\n",
    "        'mean_O2-Saturatie (bloed)',\n",
    "        \"max_Thrombo's (bloed)\",\n",
    "        'max_ABP systolisch'\n",
    "    ]\n",
    "\n",
    "X_train=X_train_or[feature_columns]    \n",
    "X_test= X_test_or[feature_columns] "
   ]
  },
  {
   "cell_type": "code",
   "execution_count": 134,
   "metadata": {},
   "outputs": [
    {
     "name": "stdout",
     "output_type": "stream",
     "text": [
      "0:\tlearn: 0.6833561\ttotal: 1.27ms\tremaining: 381ms\n",
      "100:\tlearn: 0.4760895\ttotal: 96.2ms\tremaining: 189ms\n",
      "200:\tlearn: 0.4372438\ttotal: 176ms\tremaining: 86.8ms\n",
      "299:\tlearn: 0.4069179\ttotal: 257ms\tremaining: 0us\n"
     ]
    },
    {
     "data": {
      "text/plain": [
       "<catboost.core.CatBoostClassifier at 0x269b4593850>"
      ]
     },
     "execution_count": 134,
     "metadata": {},
     "output_type": "execute_result"
    }
   ],
   "source": [
    "AF_class_balance = [y_train.sum()/len(y_train),1-y_train.sum()/len(y_train)]\n",
    "\n",
    "\n",
    "if one_half_hour_model:\n",
    "    CB_AF = CatBoostClassifier(\n",
    "        verbose=100, iterations=300, l2_leaf_reg=3, depth=3, class_weights=AF_class_balance)\n",
    "elif six_hour_model:\n",
    "    CB_AF = CatBoostClassifier(\n",
    "        verbose=100, iterations=400, depth=3, l2_leaf_reg=3, class_weights=AF_class_balance)\n",
    "else:\n",
    "    CB_AF = CatBoostClassifier(\n",
    "        verbose=100, iterations=300, depth=3, l2_leaf_reg=3, class_weights=AF_class_balance)\n",
    "\n",
    "\n",
    "CB_AF.fit(X_train,y_train)"
   ]
  },
  {
   "cell_type": "code",
   "execution_count": 135,
   "metadata": {},
   "outputs": [
    {
     "name": "stdout",
     "output_type": "stream",
     "text": [
      "              precision    recall  f1-score   support\n",
      "\n",
      "       No-AF       0.84      0.82      0.83       630\n",
      "          AF       0.82      0.85      0.84       630\n",
      "\n",
      "    accuracy                           0.83      1260\n",
      "   macro avg       0.83      0.83      0.83      1260\n",
      "weighted avg       0.83      0.83      0.83      1260\n",
      "\n"
     ]
    }
   ],
   "source": [
    "print(classification_report(y_train,CB_AF.predict(X_train),target_names=[\"No-AF\",\"AF\"]))"
   ]
  },
  {
   "cell_type": "code",
   "execution_count": 136,
   "metadata": {},
   "outputs": [
    {
     "name": "stdout",
     "output_type": "stream",
     "text": [
      "BALANCED TEST PATIENTS\n",
      "              precision    recall  f1-score   support\n",
      "\n",
      "       No-AF       0.76      0.71      0.73       157\n",
      "          AF       0.73      0.77      0.75       158\n",
      "\n",
      "    accuracy                           0.74       315\n",
      "   macro avg       0.74      0.74      0.74       315\n",
      "weighted avg       0.74      0.74      0.74       315\n",
      "\n",
      "\n",
      "\n",
      "AUC = 0.8182\n",
      "MCC = 0.4864\n",
      "==================================================\n",
      "ECE normalized AUC (%) = 10.52 %\n",
      "ESCE normalized AUC (%) = 5.19 %\n"
     ]
    },
    {
     "data": {
      "text/plain": [
       "<Figure size 432x288 with 0 Axes>"
      ]
     },
     "metadata": {},
     "output_type": "display_data"
    }
   ],
   "source": [
    "print(\"BALANCED TEST PATIENTS\")\n",
    "print(classification_report(y_test,CB_AF.predict(X_test),target_names=[\"No-AF\",\"AF\"]))\n",
    "print(\"\\n\")\n",
    "(fpr, tpr, thresholds) = get_roc_curve(CB_AF, Pool(data=X_test,label=y_test), plot=False)\n",
    "print(\"AUC = \"+str(np.round(auc(fpr,tpr),4)))\n",
    "print(\"MCC = \"+str(np.round(matthews_corrcoef(y_test,CB_AF.predict(X_test)),4)))\n",
    "print(50*\"=\")\n",
    "\n",
    "uzgent_result_dataframe = pandas_result_AF_maker(\"balanced test\",X_test,y_test,CB_AF,uzgent_result_dataframe)"
   ]
  },
  {
   "cell_type": "code",
   "execution_count": 137,
   "metadata": {},
   "outputs": [],
   "source": [
    "transfer_y_test = y_test\n",
    "transfer_predict = CB_AF.predict(X_test)"
   ]
  },
  {
   "cell_type": "code",
   "execution_count": 138,
   "metadata": {},
   "outputs": [
    {
     "name": "stdout",
     "output_type": "stream",
     "text": [
      "ALL PATIENTS\n",
      "              precision    recall  f1-score   support\n",
      "\n",
      "       No-AF       1.00      0.74      0.85      9835\n",
      "          AF       0.05      0.77      0.09       158\n",
      "\n",
      "    accuracy                           0.74      9993\n",
      "   macro avg       0.52      0.76      0.47      9993\n",
      "weighted avg       0.98      0.74      0.84      9993\n",
      "\n",
      "\n",
      "\n",
      "AUC = 0.8292\n",
      "MCC = 0.1458\n",
      "==================================================\n",
      "ECE normalized AUC (%) = 3.2 %\n",
      "ESCE normalized AUC (%) = -1.92 %\n",
      "BALANCED TEST PATIENTS\n",
      "              precision    recall  f1-score   support\n",
      "\n",
      "       No-AF       0.76      0.71      0.73       157\n",
      "          AF       0.73      0.77      0.75       158\n",
      "\n",
      "    accuracy                           0.74       315\n",
      "   macro avg       0.74      0.74      0.74       315\n",
      "weighted avg       0.74      0.74      0.74       315\n",
      "\n",
      "\n",
      "\n",
      "AUC = 0.8182\n",
      "MCC = 0.4864\n",
      "==================================================\n"
     ]
    },
    {
     "data": {
      "text/plain": [
       "<Figure size 432x288 with 0 Axes>"
      ]
     },
     "metadata": {},
     "output_type": "display_data"
    }
   ],
   "source": [
    "temp_large_db = AF_dataset[((AF_dataset.AF==0)&(~AF_dataset.admissionid.isin(AF_0_matched_df.admissionid)))|(AF_dataset.admissionid.isin(test_AF_dataset.admissionid))]\n",
    "\n",
    "y_test_all_pat = temp_large_db.AF\n",
    "X_test_all_pat = temp_large_db[feature_columns]\n",
    "\n",
    "print(\"ALL PATIENTS\")\n",
    "print(classification_report(y_test_all_pat,CB_AF.predict(X_test_all_pat),target_names=[\"No-AF\",\"AF\"]))\n",
    "print(\"\\n\")\n",
    "(fpr, tpr, thresholds) = get_roc_curve(CB_AF, Pool(data=X_test_all_pat,label=y_test_all_pat), plot=False)\n",
    "print(\"AUC = \"+str(np.round(auc(fpr,tpr),4)))\n",
    "print(\"MCC = \"+str(np.round(matthews_corrcoef(y_test_all_pat,CB_AF.predict(X_test_all_pat)),4)))\n",
    "print(50*\"=\")\n",
    "\n",
    "uzgent_result_dataframe = pandas_result_AF_maker(\"all patients\",X_test_all_pat,y_test_all_pat,CB_AF,uzgent_result_dataframe)\n",
    "\n",
    "print(\"BALANCED TEST PATIENTS\")\n",
    "print(classification_report(y_test,CB_AF.predict(X_test),target_names=[\"No-AF\",\"AF\"]))\n",
    "print(\"\\n\")\n",
    "(fpr, tpr, thresholds) = get_roc_curve(CB_AF, Pool(data=X_test,label=y_test), plot=False)\n",
    "print(\"AUC = \"+str(np.round(auc(fpr,tpr),4)))\n",
    "print(\"MCC = \"+str(np.round(matthews_corrcoef(y_test,CB_AF.predict(X_test)),4)))\n",
    "print(50*\"=\")"
   ]
  },
  {
   "cell_type": "code",
   "execution_count": 139,
   "metadata": {},
   "outputs": [
    {
     "data": {
      "image/png": "[encoded data removed]",
      "text/plain": [
       "<Figure size 720x432 with 1 Axes>"
      ]
     },
     "metadata": {
      "needs_background": "light"
     },
     "output_type": "display_data"
    }
   ],
   "source": [
    "present=False\n",
    "\n",
    "am_show_features = 60 if len(X_train.columns)>=30 else len(X_train.columns)\n",
    "fi = CB_AF.feature_importances_\n",
    "plt.figure(figsize=(10,6))\n",
    "indices_T0 = np.argsort(fi)[::-1][0:am_show_features]\n",
    "if present:\n",
    "    plt.barh(range(am_show_features),fi[indices_T0],color=\"#e898ac\")\n",
    "else:\n",
    "    plt.barh(range(am_show_features),fi[indices_T0])\n",
    "plt.yticks(range(am_show_features), X_train.columns[indices_T0])\n",
    "plt.xlabel(\"Mean feature importance (%)\")\n",
    "if present:\n",
    "    ax = plt.gca()\n",
    "    ax.patch.set_alpha(0)\n",
    "#plt.tight_layout()\n",
    "plt.show()"
   ]
  },
  {
   "cell_type": "code",
   "execution_count": 140,
   "metadata": {},
   "outputs": [
    {
     "data": {
      "image/png": "[encoded data removed]",
      "text/plain": [
       "<Figure size 576x540 with 2 Axes>"
      ]
     },
     "metadata": {
      "needs_background": "light"
     },
     "output_type": "display_data"
    }
   ],
   "source": [
    "present=False\n",
    "\n",
    "explainer = shap.TreeExplainer(CB_AF)\n",
    "shap_values = explainer.shap_values(X_test)\n",
    "shap.summary_plot(shap_values, X_test,show=False)\n"
   ]
  },
  {
   "cell_type": "markdown",
   "metadata": {},
   "source": [
    "## Combo validation "
   ]
  },
  {
   "cell_type": "code",
   "execution_count": 141,
   "metadata": {},
   "outputs": [],
   "source": [
    "validation_type_string = \"combo\""
   ]
  },
  {
   "cell_type": "markdown",
   "metadata": {},
   "source": [
    "### Data Import"
   ]
  },
  {
   "cell_type": "code",
   "execution_count": 142,
   "metadata": {},
   "outputs": [
    {
     "name": "stderr",
     "output_type": "stream",
     "text": [
      "Columns (9) have mixed types.Specify dtype option on import or set low_memory=False.\n"
     ]
    }
   ],
   "source": [
    "if one_half_hour_model:\n",
    "        AF_dataset_uzgent = pd.read_csv(uzgent_data_path+\"AF_dataset_1_5_hours.csv\") \n",
    "        AF_dataset = pd.read_csv(amsterdam_data_path+\"AF_dataset_1_5_hours.csv\") \n",
    "elif six_hour_model:\n",
    "        AF_dataset_uzgent = pd.read_csv(uzgent_data_path+\"AF_dataset_6_hours.csv\") \n",
    "        AF_dataset = pd.read_csv(amsterdam_data_path+\"AF_dataset_6_hours.csv\") \n",
    "else:\n",
    "        AF_dataset_uzgent = pd.read_csv(uzgent_data_path+\"AF_dataset_12_hours.csv\") \n",
    "        AF_dataset = pd.read_csv(amsterdam_data_path+\"AF_dataset_12_hours.csv\") \n",
    "        \n",
    "AF_dataset_uzgent = AF_dataset_uzgent.rename(columns={\"HospAdmissionID\":\"patientid\",\"AgeOnAdmission\":\"Age\",\"ICUSessionID\":\"admissionid\"})\n",
    "AF_dataset_uzgent.loc[AF_dataset_uzgent.sepsis_extra_opn_measuredat > AF_dataset_uzgent.AF_measuredat,\"sepsis_bool_extra_opn\"]=0"
   ]
  },
  {
   "cell_type": "code",
   "execution_count": 143,
   "metadata": {},
   "outputs": [],
   "source": [
    "AF_dataset_uzgent[\"is_given_NORepinefrine\"]=0\n",
    "AF_dataset_uzgent.loc[AF_dataset_uzgent['mean_CV_norepinephrine']>0,\"is_given_NORepinefrine\"]=1\n",
    "\n",
    "AF_dataset_uzgent[\"is_given_Calcium Glubionaat (Calcium Sandoz)\"]=0\n",
    "AF_dataset_uzgent.loc[(AF_dataset_uzgent[\"mean_VI_calcium carbonate\"]>1)|(AF_dataset_uzgent[\"mean_VI_calcium chloride\"]>1),\"is_given_Calcium Glubionaat (Calcium Sandoz)\"] = 1\n",
    "    \n",
    "AF_dataset_uzgent[\"is_given_Dopamine (Inotropin)\"]=0\n",
    "AF_dataset_uzgent.loc[AF_dataset_uzgent['mean_CV_dopamine']>0,\"is_given_Dopamine (Inotropin)\"]=1\n",
    "\n",
    "AF_dataset_uzgent['is_given_Propofol (Diprivan)']=0\n",
    "AF_dataset_uzgent.loc[AF_dataset_uzgent['mean_NS_propofol']>0,'is_given_Propofol (Diprivan)']=1\n",
    "\n",
    "AF_dataset_uzgent['is_given_Fentanyl']=0\n",
    "AF_dataset_uzgent.loc[AF_dataset_uzgent['mean_NS_fentanyl']>0,'is_given_Fentanyl']=1\n",
    "\n",
    "AF_dataset_uzgent[\"is_given_Furosemide (Lasix)\"]=0\n",
    "AF_dataset_uzgent.loc[AF_dataset_uzgent['mean_DI_furosemide']>0,\"is_given_Furosemide (Lasix)\"]=1\n",
    "\n",
    "AF_dataset_uzgent[\"is_given_LoopDiuretics\"]=0\n",
    "AF_dataset_uzgent.loc[(AF_dataset_uzgent['mean_DI_furosemide']>0),\"is_given_LoopDiuretics\"]=1\n",
    "\n",
    "AF_dataset_uzgent[\"sepsis_bool\"]=0\n",
    "AF_dataset_uzgent.loc[(AF_dataset_uzgent.sepsis_bool_comorb_source==1) | (AF_dataset_uzgent.sepsis_bool_extra_opn==1),\"sepsis_bool\"]=1\n",
    "\n",
    "AF_dataset_uzgent.loc[AF_dataset_uzgent.icuurg==\"URGENT\",\"icuurg\"]=1\n",
    "AF_dataset_uzgent.loc[AF_dataset_uzgent.icuurg!=1,\"icuurg\"]=0\n"
   ]
  },
  {
   "cell_type": "code",
   "execution_count": 144,
   "metadata": {},
   "outputs": [],
   "source": [
    "AF_dataset[\"is_given_Magnesiumsulfaat (MgSO4)\"]=0\n",
    "AF_dataset.loc[AF_dataset['mean_Magnesiumsulfaat (MgSO4)']>0,\"is_given_Magnesiumsulfaat (MgSO4)\"]=1\n",
    "\n",
    "AF_dataset[\"is_given_Calcium Glubionaat (Calcium Sandoz)\"]=0\n",
    "AF_dataset.loc[AF_dataset['mean_Calcium Glubionaat (Calcium Sandoz)']>0,\"is_given_Calcium Glubionaat (Calcium Sandoz)\"]=1\n",
    "\n",
    "AF_dataset[\"is_given_LoopDiuretics\"]=0\n",
    "AF_dataset.loc[ (AF_dataset['mean_Furosemide (Lasix)']>0),\"is_given_LoopDiuretics\"]=1\n",
    "\n",
    "AF_dataset['is_given_Propofol (Diprivan)']=0\n",
    "AF_dataset.loc[AF_dataset['mean_Propofol (Diprivan)']>0,'is_given_Propofol (Diprivan)']=1\n",
    "\n",
    "AF_dataset['is_given_Dopamine (Inotropin)']=0\n",
    "AF_dataset.loc[AF_dataset['mean_Dopamine (Inotropin)']>0,'is_given_Dopamine (Inotropin)']=1"
   ]
  },
  {
   "cell_type": "code",
   "execution_count": 145,
   "metadata": {},
   "outputs": [],
   "source": [
    "AF_dataset.loc[AF_dataset.Age==65,'Age'] = 69\n",
    "AF_dataset.loc[AF_dataset.Age==35,'Age'] = 39\n",
    "AF_dataset.loc[AF_dataset.Age==45,'Age'] = 49\n",
    "AF_dataset.loc[AF_dataset.Age==55,'Age'] = 59\n",
    "AF_dataset.loc[AF_dataset.Age==79,'Age'] = 79\n",
    "AF_dataset.loc[AF_dataset.Age==85,'Age'] = 80"
   ]
  },
  {
   "cell_type": "code",
   "execution_count": 146,
   "metadata": {},
   "outputs": [],
   "source": [
    "#Rename for distr change 12 hour model\n",
    "AF_dataset_uzgent = AF_dataset_uzgent.rename(columns={'mean_PEEP_M_ALL':'mean_PEEP (Set)', 'is_given_NORepinefrine':'is_given_Noradrenaline (Norepinefrine)', 'mean_URINE_VOL':'mean_UrineCAD', \n",
    "                            'max_PEEP_M_ALL':'max_PEEP (Set)','min_PEEP_M_ALL':'min_PEEP (Set)',\n",
    "                            'max_PHOSPHATE_ALL':'max_Fosfaat (bloed)','min_HR_ALL':'min_Hartfrequentie','mean_HR_ALL':'mean_Hartfrequentie','slope_HR_ALL':'slope_Hartfrequentie',\n",
    "                            'min_PH_ART_ALL':'min_pH (bloed)','mean_PH_ART_ALL':'mean_pH (bloed)','max_PH_ART_ALL':'max_pH (bloed)',\n",
    "                            'mean_LACTATE_ART':'mean_Lactaat (bloed)','max_LACTATE_ART':'max_Lactaat (bloed)' ,'min_LACTATE_ART':'min_Lactaat (bloed)' , \n",
    "                            'min_URINE_VOL':'min_UrineCAD', 'max_URINE_VOL':'max_UrineCAD', 'slope_URINE_VOL':'slope_UrineCAD', 'icuurg':'urgency',\n",
    "                            'mean_BALANS-Tot.':'fluid_balance', 'slope_RESPRATE_ALL':'slope_O2 l/min','Length':'Height',\n",
    "                            'mean_HCO3_ART':'mean_Act.HCO3 (bloed)','max_HCO3_ART':'max_Act.HCO3 (bloed)','min_HCO3_ART':'min_Act.HCO3 (bloed)','slope_HCO3_ART':'slope_Act.HCO3 (bloed)',\n",
    "                            'mean_PO2_ART':'mean_PO2 (bloed)','min_PO2_ART':'min_PO2 (bloed)','max_PO2_ART':'max_PO2 (bloed)','slope_PO2_ART':'slope_PO2 (bloed)',\n",
    "                            'mean_BE_ART':'mean_B.E. (bloed)','min_BE_ART':'min_B.E. (bloed)','max_BE_ART':'max_B.E. (bloed)','slope_BE_ART':'slope_B.E. (bloed)',\n",
    "                            'mean_PCO2_ART':'mean_pCO2 (bloed)','min_PCO2_ART':'min_pCO2 (bloed)','max_PCO2_ART':'max_pCO2 (bloed)','slope_PCO2_ART':'slope_pCO2 (bloed)',\n",
    "                            'mean_IBP_M':'mean_ABP gemiddeld','min_IBP_M':'min_ABP gemiddeld','max_IBP_M':'max_ABP gemiddeld','slope_IBP_M':'slope_ABP gemiddeld',\n",
    "                            'mean_IBP_S':'mean_ABP systolisch','min_IBP_S':'min_ABP systolisch','max_IBP_S':'max_ABP systolisch','slope_IBP_S':'slope_ABP systolisch',\n",
    "                            'mean_FIO2_MV_ALL':'mean_O2 concentratie (Set)','max_FIO2_MV_ALL':'max_O2 concentratie (Set)','min_FIO2_MV_ALL':'min_O2 concentratie (Set)',\n",
    "                            'mean_O2SAT_ART':'mean_O2-Saturatie (bloed)','max_O2SAT_ART':'max_O2-Saturatie (bloed)','min_O2SAT_ART':'min_O2-Saturatie (bloed)',\n",
    "                           'min_NS_propofol':'min_Propofol (Diprivan)', 'min_NS_fentanyl':'min_Fentanyl', 'mean_RESPRATE_ALL':'mean_O2 l/min',\n",
    "                           'mean_PHOSPHATE_ALL':'mean_Fosfaat (bloed)', 'kurt_CVD':'kurt_CVD', 'max_HR_ALL':'max_Hartfrequentie', \"max_PLATELETS\":\"max_Thrombo's (bloed)\"})\n",
    "\n",
    "#Rename for distr change 6 hour model\n",
    "AF_dataset_uzgent = AF_dataset_uzgent.rename(columns={'max_RESPRATE_ALL':'max_O2 l/min', \n",
    "                                        'min_PHOSPHATE_ALL':'min_Fosfaat (bloed)', 'mean_CVD':'mean_CVD', \n",
    "                                        \"min_PLATELETS\":\"min_Thrombo's (bloed)\",\"slope_PLATELETS\":\"slope_Thrombo's (bloed)\"})\n",
    "\n",
    "#Rename for distr change 1.5 hour model\n",
    "AF_dataset_uzgent = AF_dataset_uzgent.rename(columns={'max_UREA_ALL':'max_Ureum (bloed)','mean_UREA_ALL':'mean_Ureum (bloed)','min_UREA_ALL':'min_Ureum (bloed)'})\n",
    "\n",
    "#Rename for standard 12 hour model\n",
    "AF_dataset_uzgent = AF_dataset_uzgent.rename(columns={\"slope_PO2_ART\":'slope_PO2 (bloed)'})\n",
    "\n",
    "#Rename for standard 1.5 hour model\n",
    "AF_dataset_uzgent = AF_dataset_uzgent.rename(columns={ 'min_RESPRATE_ALL':'min_O2 l/min', \"mean_PLATELETS\":\"mean_Thrombo's (bloed)\",\n",
    "                                        'min_CVD':'min_CVD'})"
   ]
  },
  {
   "cell_type": "code",
   "execution_count": 147,
   "metadata": {},
   "outputs": [],
   "source": [
    "#convert from mg/dl to mmol/l\n",
    "AF_dataset_uzgent.loc[:,\"min_Ureum (bloed)\"] = AF_dataset_uzgent[\"min_Ureum (bloed)\"]*0.357\n",
    "#convert from percentages to fraction\n",
    "AF_dataset_uzgent.loc[:,\"mean_O2-Saturatie (bloed)\"] = AF_dataset_uzgent[\"mean_O2-Saturatie (bloed)\"]/100.0\n",
    "#convert from mg/dl to mmol/l\n",
    "AF_dataset_uzgent.loc[:,\"mean_Lactaat (bloed)\"] = AF_dataset_uzgent[\"mean_Lactaat (bloed)\"]/9.0"
   ]
  },
  {
   "cell_type": "code",
   "execution_count": 148,
   "metadata": {},
   "outputs": [],
   "source": [
    "AF_1_df = AF_dataset[AF_dataset.AF==1]\n",
    "AF_0_matched_df = AF_dataset[(AF_dataset.AF==0)&(AF_dataset.admissionid!=AF_dataset.date_corresponds_to_AF_admid)]\n",
    "\n",
    "train_admissionid,test_admissionid = train_test_split(AF_1_df.admissionid.unique(), test_size=0.2, random_state=42)\n",
    "\n",
    "train_AF_1_dataset = AF_1_df[AF_1_df.admissionid.isin(train_admissionid)]\n",
    "test_AF_1_dataset = AF_1_df[AF_1_df.admissionid.isin(test_admissionid)]\n",
    "\n",
    "train_AF_0_dataset = AF_0_matched_df[AF_0_matched_df.date_corresponds_to_AF_admid.isin(train_AF_1_dataset.admissionid)]\n",
    "test_AF_0_dataset = AF_0_matched_df[AF_0_matched_df.date_corresponds_to_AF_admid.isin(test_AF_1_dataset.admissionid)]\n",
    "\n",
    "train_AF_dataset = train_AF_0_dataset.append(train_AF_1_dataset).reset_index(drop=True).sample(len(train_AF_0_dataset)+len(train_AF_1_dataset),random_state=42)\n",
    "test_AF_dataset = test_AF_0_dataset.append(test_AF_1_dataset).reset_index(drop=True).sample(len(test_AF_0_dataset)+len(test_AF_1_dataset),random_state=42)"
   ]
  },
  {
   "cell_type": "code",
   "execution_count": 149,
   "metadata": {},
   "outputs": [],
   "source": [
    "AF_1_df_uzgent = AF_dataset_uzgent[AF_dataset_uzgent.AF==1]\n",
    "AF_0_matched_df_uzgent = AF_dataset_uzgent[(AF_dataset_uzgent.AF==0)&(AF_dataset_uzgent.admissionid!=AF_dataset_uzgent.date_corresponds_to_AF_admid)]\n",
    "\n",
    "train_admissionid_uzgent,test_admissionid_uzgent = train_test_split(AF_1_df_uzgent.admissionid.unique(), test_size=0.2, random_state=42)\n",
    "\n",
    "train_AF_1_dataset_uzgent = AF_1_df_uzgent[AF_1_df_uzgent.admissionid.isin(train_admissionid_uzgent)]\n",
    "test_AF_1_dataset_uzgent = AF_1_df_uzgent[AF_1_df_uzgent.admissionid.isin(test_admissionid_uzgent)]\n",
    "\n",
    "train_AF_0_dataset_uzgent = AF_0_matched_df_uzgent[AF_0_matched_df_uzgent.date_corresponds_to_AF_admid.isin(train_AF_1_dataset_uzgent.admissionid)]\n",
    "test_AF_0_dataset_uzgent = AF_0_matched_df_uzgent[AF_0_matched_df_uzgent.date_corresponds_to_AF_admid.isin(test_AF_1_dataset_uzgent.admissionid)]\n",
    "\n",
    "train_AF_dataset_uzgent = train_AF_0_dataset_uzgent.append(train_AF_1_dataset_uzgent).reset_index(drop=True).sample(len(train_AF_0_dataset_uzgent)+len(train_AF_1_dataset_uzgent),random_state=42)\n",
    "test_AF_dataset_uzgent = test_AF_0_dataset_uzgent.append(test_AF_1_dataset_uzgent).reset_index(drop=True).sample(len(test_AF_0_dataset_uzgent)+len(test_AF_1_dataset_uzgent),random_state=42)"
   ]
  },
  {
   "cell_type": "code",
   "execution_count": 150,
   "metadata": {},
   "outputs": [],
   "source": [
    "uzgent_drop_columns = ['patientid', 'hadm_id', 'admittime', 'AF_measuredat', 'intime',\n",
    "       'outtime', 'admissionid', 'lengthofstay']\n",
    "\n",
    "drop_columns = [\"dateofdeath_delta\",\"admittedat_delta\",\"admissionid\",\"origin\",\n",
    "                \"lengthofstay\",\"destination\",\"weightgroup\",\"agegroup\",\"dateofdeath\",\n",
    "                \"admittedat\",\"heightgroup\",\"specialty\",\"dateofdeath_delta\",\"admittedat_delta\",\"weightsource\",\"dischargedat\",\"heightsource\",\n",
    "                \"gender\",\"Mortality\",\"AF_orig\",\"AF_measuredat\",\"AF\",\"new_onset_AF\",\"Preadmission_AF\",\"patientid\",\"location\",\"admissionyeargroup\"]\n",
    "\n",
    "uzgent_drop_columns.append('date_corresponds_to_AF_admid')\n",
    "drop_columns.append('date_corresponds_to_AF_admid')"
   ]
  },
  {
   "cell_type": "code",
   "execution_count": 151,
   "metadata": {},
   "outputs": [],
   "source": [
    "X_train_or_amst = train_AF_dataset\n",
    "X_test_or_amst = test_AF_dataset\n",
    "y_train_amst = train_AF_dataset.AF\n",
    "y_test_amst = test_AF_dataset.AF\n",
    "\n",
    "X_train_or_uzgent = train_AF_dataset_uzgent\n",
    "X_test_or_uzgent = test_AF_dataset_uzgent\n",
    "y_train_uzgent = train_AF_dataset_uzgent.AF\n",
    "y_test_uzgent = test_AF_dataset_uzgent.AF"
   ]
  },
  {
   "cell_type": "markdown",
   "metadata": {},
   "source": [
    "### Testing"
   ]
  },
  {
   "cell_type": "code",
   "execution_count": 152,
   "metadata": {},
   "outputs": [],
   "source": [
    "if one_half_hour_model:\n",
    "\n",
    "    feature_columns = ['Age', \n",
    "        'is_given_Noradrenaline (Norepinefrine)', \n",
    "        'max_Hartfrequentie',\n",
    "       'mean_PEEP (Set)', \n",
    "       'mean_CVD', \n",
    "       'mean_O2 concentratie (Set)',\n",
    "       \"min_Thrombo's (bloed)\",\n",
    "       'urgency', \n",
    "       'mean_UrineCAD', \n",
    "       'is_given_Furosemide (Lasix)', \n",
    "       'mean_Ureum (bloed)',\n",
    "       'slope_B.E. (bloed)',\n",
    "       'slope_ABP systolisch', \n",
    "       'mean_O2-Saturatie (bloed)', \n",
    "       'fluid_balance']\n",
    "\n",
    "elif six_hour_model:\n",
    "\n",
    "    feature_columns = ['Age', \n",
    "        'is_given_Noradrenaline (Norepinefrine)',\n",
    "        'max_Hartfrequentie', \n",
    "        'mean_PEEP (Set)',\n",
    "        'min_CVD',\n",
    "        'mean_O2 concentratie (Set)', \n",
    "        'urgency', \n",
    "        'mean_UrineCAD',\n",
    "        'is_given_Furosemide (Lasix)', \n",
    "        'fluid_balance', \n",
    "        'slope_ABP gemiddeld',\n",
    "        'mean_O2-Saturatie (bloed)', \n",
    "        'max_Fosfaat (bloed)',\n",
    "        'max_ABP systolisch',\n",
    "        'min_Lactaat (bloed)'\n",
    "    ]\n",
    "\n",
    "else:\n",
    "\n",
    "    feature_columns = ['Age',\n",
    "        'mean_CVD',\n",
    "        'mean_O2 concentratie (Set)',\n",
    "        'mean_PEEP (Set)',\n",
    "        'is_given_Noradrenaline (Norepinefrine)',\n",
    "        'min_pH (bloed)',\n",
    "        'max_UrineCAD',\n",
    "        'mean_Hartfrequentie',\n",
    "        'urgency',\n",
    "        'min_Fosfaat (bloed)',\n",
    "        'is_given_Furosemide (Lasix)',\n",
    "        'is_given_Propofol (Diprivan)',\n",
    "        'mean_O2-Saturatie (bloed)',\n",
    "        \"max_Thrombo's (bloed)\",\n",
    "        'max_ABP systolisch'\n",
    "    ]\n",
    "\n",
    "X_train_amst=X_train_or_amst[feature_columns]    \n",
    "X_test_amst=X_test_or_amst[feature_columns]   \n",
    "X_train_uzgent=X_train_or_uzgent[feature_columns]    \n",
    "X_test_uzgent=X_test_or_uzgent[feature_columns]  \n",
    "\n",
    "X_train = X_train_amst.append(X_train_uzgent).reset_index(drop=True).sample(len(X_train_amst)+len(X_train_uzgent),random_state=42)\n",
    "\n",
    "y_train = np.append(y_train_amst,y_train_uzgent)[X_train.index.values]"
   ]
  },
  {
   "cell_type": "code",
   "execution_count": 153,
   "metadata": {},
   "outputs": [
    {
     "name": "stdout",
     "output_type": "stream",
     "text": [
      "0:\tlearn: 0.6859691\ttotal: 1.36ms\tremaining: 408ms\n",
      "100:\tlearn: 0.5419275\ttotal: 129ms\tremaining: 253ms\n",
      "200:\tlearn: 0.5229569\ttotal: 259ms\tremaining: 128ms\n",
      "299:\tlearn: 0.5097280\ttotal: 389ms\tremaining: 0us\n"
     ]
    },
    {
     "data": {
      "text/plain": [
       "<catboost.core.CatBoostClassifier at 0x269ba41d760>"
      ]
     },
     "execution_count": 153,
     "metadata": {},
     "output_type": "execute_result"
    }
   ],
   "source": [
    "AF_class_balance = [y_train.sum()/len(y_train),1-y_train.sum()/len(y_train)]\n",
    "\n",
    "\n",
    "if one_half_hour_model:\n",
    "    CB_AF = CatBoostClassifier(\n",
    "        verbose=100, iterations=300, l2_leaf_reg=3, depth=3, class_weights=AF_class_balance)\n",
    "elif six_hour_model:\n",
    "    CB_AF = CatBoostClassifier(\n",
    "        verbose=100, iterations=400, depth=3, l2_leaf_reg=3, class_weights=AF_class_balance)\n",
    "else:\n",
    "    CB_AF = CatBoostClassifier(\n",
    "        verbose=100, iterations=300, depth=3, l2_leaf_reg=3, class_weights=AF_class_balance)\n",
    "\n",
    "CB_AF.fit(X_train,y_train)"
   ]
  },
  {
   "cell_type": "code",
   "execution_count": 154,
   "metadata": {},
   "outputs": [
    {
     "name": "stdout",
     "output_type": "stream",
     "text": [
      "              precision    recall  f1-score   support\n",
      "\n",
      "       No-AF       0.75      0.73      0.74      1965\n",
      "          AF       0.74      0.76      0.75      1965\n",
      "\n",
      "    accuracy                           0.75      3930\n",
      "   macro avg       0.75      0.75      0.75      3930\n",
      "weighted avg       0.75      0.75      0.75      3930\n",
      "\n"
     ]
    }
   ],
   "source": [
    "print(classification_report(y_train,CB_AF.predict(X_train),target_names=[\"No-AF\",\"AF\"]))"
   ]
  },
  {
   "cell_type": "code",
   "execution_count": 155,
   "metadata": {},
   "outputs": [
    {
     "name": "stdout",
     "output_type": "stream",
     "text": [
      "BALANCED TEST AMSTERDAM PATIENTS\n",
      "              precision    recall  f1-score   support\n",
      "\n",
      "       No-AF       0.69      0.73      0.71       334\n",
      "          AF       0.72      0.68      0.70       334\n",
      "\n",
      "    accuracy                           0.70       668\n",
      "   macro avg       0.70      0.70      0.70       668\n",
      "weighted avg       0.70      0.70      0.70       668\n",
      "\n",
      "\n",
      "\n",
      "AUC = 0.7749\n",
      "MCC = 0.4078\n",
      "==================================================\n"
     ]
    }
   ],
   "source": [
    "print(\"BALANCED TEST AMSTERDAM PATIENTS\")\n",
    "print(classification_report(y_test_amst,CB_AF.predict(X_test_amst),target_names=[\"No-AF\",\"AF\"]))\n",
    "print(\"\\n\")\n",
    "(fpr, tpr, thresholds) = get_roc_curve(CB_AF, Pool(data=X_test_amst,label=y_test_amst), plot=False)\n",
    "print(\"AUC = \"+str(np.round(auc(fpr,tpr),4)))\n",
    "print(\"MCC = \"+str(np.round(matthews_corrcoef(y_test_amst,CB_AF.predict(X_test_amst)),4)))\n",
    "print(50*\"=\")"
   ]
  },
  {
   "cell_type": "code",
   "execution_count": 156,
   "metadata": {},
   "outputs": [
    {
     "name": "stdout",
     "output_type": "stream",
     "text": [
      "BALANCED TEST UZGENT PATIENTS\n",
      "              precision    recall  f1-score   support\n",
      "\n",
      "       No-AF       0.75      0.71      0.73       157\n",
      "          AF       0.73      0.77      0.75       158\n",
      "\n",
      "    accuracy                           0.74       315\n",
      "   macro avg       0.74      0.74      0.74       315\n",
      "weighted avg       0.74      0.74      0.74       315\n",
      "\n",
      "\n",
      "\n",
      "AUC = 0.7877\n",
      "MCC = 0.4799\n",
      "==================================================\n"
     ]
    }
   ],
   "source": [
    "print(\"BALANCED TEST UZGENT PATIENTS\")\n",
    "print(classification_report(y_test_uzgent,CB_AF.predict(X_test_uzgent),target_names=[\"No-AF\",\"AF\"]))\n",
    "print(\"\\n\")\n",
    "(fpr, tpr, thresholds) = get_roc_curve(CB_AF, Pool(data=X_test_uzgent,label=y_test_uzgent), plot=False)\n",
    "print(\"AUC = \"+str(np.round(auc(fpr,tpr),4)))\n",
    "print(\"MCC = \"+str(np.round(matthews_corrcoef(y_test_uzgent,CB_AF.predict(X_test_uzgent)),4)))\n",
    "print(50*\"=\")"
   ]
  },
  {
   "cell_type": "code",
   "execution_count": 157,
   "metadata": {},
   "outputs": [],
   "source": [
    "combo_uzgent_y_test = y_test_uzgent\n",
    "combo_uzgent_predict = CB_AF.predict(X_test_uzgent)\n",
    "combo_amst_y_test = y_test_amst\n",
    "combo_amst_predict = CB_AF.predict(X_test_amst)"
   ]
  },
  {
   "cell_type": "code",
   "execution_count": 158,
   "metadata": {},
   "outputs": [
    {
     "name": "stdout",
     "output_type": "stream",
     "text": [
      "ALL PATIENTS\n",
      "              precision    recall  f1-score   support\n",
      "\n",
      "       No-AF       0.99      0.70      0.83      9835\n",
      "          AF       0.04      0.77      0.08       158\n",
      "\n",
      "    accuracy                           0.71      9993\n",
      "   macro avg       0.52      0.74      0.45      9993\n",
      "weighted avg       0.98      0.71      0.81      9993\n",
      "\n",
      "\n",
      "\n",
      "AUC = 0.8072\n",
      "MCC = 0.1278\n",
      "==================================================\n",
      "ECE normalized AUC (%) = 4.21 %\n",
      "ESCE normalized AUC (%) = -2.65 %\n",
      "BALANCED TEST PATIENTS\n",
      "              precision    recall  f1-score   support\n",
      "\n",
      "       No-AF       0.75      0.71      0.73       157\n",
      "          AF       0.73      0.77      0.75       158\n",
      "\n",
      "    accuracy                           0.74       315\n",
      "   macro avg       0.74      0.74      0.74       315\n",
      "weighted avg       0.74      0.74      0.74       315\n",
      "\n",
      "\n",
      "\n",
      "AUC = 0.7877\n",
      "MCC = 0.4799\n",
      "==================================================\n",
      "ECE normalized AUC (%) = 11.84 %\n",
      "ESCE normalized AUC (%) = 7.78 %\n"
     ]
    },
    {
     "data": {
      "text/plain": [
       "<Figure size 432x288 with 0 Axes>"
      ]
     },
     "metadata": {},
     "output_type": "display_data"
    }
   ],
   "source": [
    "temp_large_db = AF_dataset_uzgent[((AF_dataset_uzgent.AF==0)&(~AF_dataset_uzgent.admissionid.isin(AF_0_matched_df_uzgent.admissionid)))|(AF_dataset_uzgent.admissionid.isin(test_AF_dataset_uzgent.admissionid))]\n",
    "\n",
    "y_test_all_pat = temp_large_db.AF\n",
    "X_test_all_pat = temp_large_db[feature_columns]\n",
    "\n",
    "\n",
    "print(\"ALL PATIENTS\")\n",
    "print(classification_report(y_test_all_pat,CB_AF.predict(X_test_all_pat),target_names=[\"No-AF\",\"AF\"]))\n",
    "print(\"\\n\")\n",
    "(fpr, tpr, thresholds) = get_roc_curve(CB_AF, Pool(data=X_test_all_pat,label=y_test_all_pat), plot=False)\n",
    "print(\"AUC = \"+str(np.round(auc(fpr,tpr),4)))\n",
    "print(\"MCC = \"+str(np.round(matthews_corrcoef(y_test_all_pat,CB_AF.predict(X_test_all_pat)),4)))\n",
    "print(50*\"=\")\n",
    "\n",
    "\n",
    "uzgent_result_dataframe = pandas_result_AF_maker(\"all patients uzgent\",X_test_all_pat,y_test_all_pat,CB_AF,uzgent_result_dataframe)\n",
    "\n",
    "print(\"BALANCED TEST PATIENTS\")\n",
    "print(classification_report(y_test_uzgent,CB_AF.predict(X_test_uzgent),target_names=[\"No-AF\",\"AF\"]))\n",
    "print(\"\\n\")\n",
    "(fpr, tpr, thresholds) = get_roc_curve(CB_AF, Pool(data=X_test_uzgent,label=y_test_uzgent), plot=False)\n",
    "print(\"AUC = \"+str(np.round(auc(fpr,tpr),4)))\n",
    "print(\"MCC = \"+str(np.round(matthews_corrcoef(y_test_uzgent,CB_AF.predict(X_test_uzgent)),4)))\n",
    "print(50*\"=\")\n",
    "\n",
    "\n",
    "uzgent_result_dataframe = pandas_result_AF_maker(\"balanced test uzgent\",X_test_uzgent,y_test_uzgent,CB_AF,uzgent_result_dataframe)"
   ]
  },
  {
   "cell_type": "code",
   "execution_count": 159,
   "metadata": {},
   "outputs": [
    {
     "name": "stdout",
     "output_type": "stream",
     "text": [
      "ALL PATIENTS\n",
      "              precision    recall  f1-score   support\n",
      "\n",
      "       No-AF       0.98      0.66      0.79      8623\n",
      "          AF       0.07      0.68      0.13       334\n",
      "\n",
      "    accuracy                           0.66      8957\n",
      "   macro avg       0.53      0.67      0.46      8957\n",
      "weighted avg       0.95      0.66      0.77      8957\n",
      "\n",
      "\n",
      "\n",
      "AUC = 0.7456\n",
      "MCC = 0.1343\n",
      "==================================================\n",
      "ECE normalized AUC (%) = 5.56 %\n",
      "ESCE normalized AUC (%) = -4.27 %\n",
      "BALANCED TEST PATIENTS\n",
      "              precision    recall  f1-score   support\n",
      "\n",
      "       No-AF       0.69      0.73      0.71       334\n",
      "          AF       0.72      0.68      0.70       334\n",
      "\n",
      "    accuracy                           0.70       668\n",
      "   macro avg       0.70      0.70      0.70       668\n",
      "weighted avg       0.70      0.70      0.70       668\n",
      "\n",
      "\n",
      "\n",
      "AUC = 0.7749\n",
      "MCC = 0.4078\n",
      "==================================================\n",
      "ECE normalized AUC (%) = 6.45 %\n",
      "ESCE normalized AUC (%) = 2.3 %\n"
     ]
    },
    {
     "data": {
      "text/plain": [
       "<Figure size 432x288 with 0 Axes>"
      ]
     },
     "metadata": {},
     "output_type": "display_data"
    }
   ],
   "source": [
    "temp_large_db = AF_dataset[((AF_dataset.AF==0)&(~AF_dataset.admissionid.isin(AF_0_matched_df.admissionid)))|(AF_dataset.admissionid.isin(test_AF_dataset.admissionid))]\n",
    "\n",
    "y_test_all_pat = temp_large_db[(temp_large_db.AF==1)|((temp_large_db.AF_orig==0)&(temp_large_db.AF==0))].AF\n",
    "X_test_all_pat = temp_large_db[(temp_large_db.AF==1)|((temp_large_db.AF_orig==0)&(temp_large_db.AF==0))][feature_columns]\n",
    "\n",
    "print(\"ALL PATIENTS\")\n",
    "print(classification_report(y_test_all_pat,CB_AF.predict(X_test_all_pat),target_names=[\"No-AF\",\"AF\"]))\n",
    "print(\"\\n\")\n",
    "(fpr, tpr, thresholds) = get_roc_curve(CB_AF, Pool(data=X_test_all_pat,label=y_test_all_pat), plot=False)\n",
    "print(\"AUC = \"+str(np.round(auc(fpr,tpr),4)))\n",
    "print(\"MCC = \"+str(np.round(matthews_corrcoef(y_test_all_pat,CB_AF.predict(X_test_all_pat)),4)))\n",
    "print(50*\"=\")\n",
    "\n",
    "uzgent_result_dataframe = pandas_result_AF_maker(\"all patients amsterdam\",X_test_all_pat,y_test_all_pat,CB_AF,uzgent_result_dataframe)\n",
    "\n",
    "print(\"BALANCED TEST PATIENTS\")\n",
    "print(classification_report(y_test_amst,CB_AF.predict(X_test_amst),target_names=[\"No-AF\",\"AF\"]))\n",
    "print(\"\\n\")\n",
    "(fpr, tpr, thresholds) = get_roc_curve(CB_AF, Pool(data=X_test_amst,label=y_test_amst), plot=False)\n",
    "print(\"AUC = \"+str(np.round(auc(fpr,tpr),4)))\n",
    "print(\"MCC = \"+str(np.round(matthews_corrcoef(y_test_amst,CB_AF.predict(X_test_amst)),4)))\n",
    "print(50*\"=\")\n",
    "\n",
    "uzgent_result_dataframe = pandas_result_AF_maker(\"balanced test amsterdam\",X_test_amst,y_test_amst,CB_AF,uzgent_result_dataframe)"
   ]
  },
  {
   "cell_type": "code",
   "execution_count": 160,
   "metadata": {},
   "outputs": [
    {
     "data": {
      "image/png": "[encoded data removed]",
      "text/plain": [
       "<Figure size 720x432 with 1 Axes>"
      ]
     },
     "metadata": {
      "needs_background": "light"
     },
     "output_type": "display_data"
    }
   ],
   "source": [
    "present=False\n",
    "\n",
    "am_show_features = 60 if len(X_train.columns)>=30 else len(X_train.columns)\n",
    "fi = CB_AF.feature_importances_\n",
    "plt.figure(figsize=(10,6))\n",
    "indices_T0 = np.argsort(fi)[::-1][0:am_show_features]\n",
    "if present:\n",
    "    plt.barh(range(am_show_features),fi[indices_T0],color=\"#e898ac\")\n",
    "else:\n",
    "    plt.barh(range(am_show_features),fi[indices_T0])\n",
    "plt.yticks(range(am_show_features), X_train.columns[indices_T0])\n",
    "plt.xlabel(\"Mean feature importance (%)\")\n",
    "if present:\n",
    "    ax = plt.gca()\n",
    "    ax.patch.set_alpha(0)\n",
    "#plt.tight_layout()\n",
    "plt.show()"
   ]
  },
  {
   "cell_type": "code",
   "execution_count": 161,
   "metadata": {},
   "outputs": [
    {
     "data": {
      "image/png": "[encoded data removed]",
      "text/plain": [
       "<Figure size 576x540 with 2 Axes>"
      ]
     },
     "metadata": {
      "needs_background": "light"
     },
     "output_type": "display_data"
    },
    {
     "data": {
      "image/png": "[encoded data removed]",
      "text/plain": [
       "<Figure size 576x540 with 2 Axes>"
      ]
     },
     "metadata": {
      "needs_background": "light"
     },
     "output_type": "display_data"
    }
   ],
   "source": [
    "present=False\n",
    "\n",
    "plt.figure()\n",
    "explainer = shap.TreeExplainer(CB_AF)\n",
    "shap_values = explainer.shap_values(X_test_amst)\n",
    "shap.summary_plot(shap_values, X_test_amst,show=False)\n",
    "plt.plot()\n",
    "plt.figure()\n",
    "explainer = shap.TreeExplainer(CB_AF)\n",
    "shap_values = explainer.shap_values(X_test_uzgent)\n",
    "shap.summary_plot(shap_values, X_test_uzgent,show=False)"
   ]
  },
  {
   "cell_type": "markdown",
   "metadata": {},
   "source": [
    "## Direct validation"
   ]
  },
  {
   "cell_type": "code",
   "execution_count": 162,
   "metadata": {},
   "outputs": [],
   "source": [
    "validation_type_string = \"direct\""
   ]
  },
  {
   "cell_type": "markdown",
   "metadata": {},
   "source": [
    "### Data Import"
   ]
  },
  {
   "cell_type": "code",
   "execution_count": 163,
   "metadata": {},
   "outputs": [
    {
     "name": "stderr",
     "output_type": "stream",
     "text": [
      "Columns (9) have mixed types.Specify dtype option on import or set low_memory=False.\n"
     ]
    }
   ],
   "source": [
    "if one_half_hour_model:\n",
    "        AF_dataset_uzgent = pd.read_csv(uzgent_data_path+\"AF_dataset_1_5_hours.csv\") \n",
    "        AF_dataset = pd.read_csv(amsterdam_data_path+\"AF_dataset_1_5_hours.csv\") \n",
    "elif six_hour_model:\n",
    "        AF_dataset_uzgent = pd.read_csv(uzgent_data_path+\"AF_dataset_6_hours.csv\") \n",
    "        AF_dataset = pd.read_csv(amsterdam_data_path+\"AF_dataset_6_hours.csv\") \n",
    "else:\n",
    "        AF_dataset_uzgent = pd.read_csv(uzgent_data_path+\"AF_dataset_12_hours.csv\") \n",
    "        AF_dataset = pd.read_csv(amsterdam_data_path+\"AF_dataset_12_hours.csv\") \n",
    "\n",
    "AF_dataset_uzgent = AF_dataset_uzgent.rename(columns={\"HospAdmissionID\":\"patientid\",\"AgeOnAdmission\":\"Age\",\"ICUSessionID\":\"admissionid\"})\n",
    "AF_dataset_uzgent.loc[AF_dataset_uzgent.sepsis_extra_opn_measuredat > AF_dataset_uzgent.AF_measuredat,\"sepsis_bool_extra_opn\"]=0"
   ]
  },
  {
   "cell_type": "code",
   "execution_count": 164,
   "metadata": {},
   "outputs": [],
   "source": [
    "AF_dataset_uzgent[\"is_given_NORepinefrine\"]=0\n",
    "AF_dataset_uzgent.loc[AF_dataset_uzgent['mean_CV_norepinephrine']>0,\"is_given_NORepinefrine\"]=1\n",
    "\n",
    "AF_dataset_uzgent[\"is_given_Calcium Glubionaat (Calcium Sandoz)\"]=0\n",
    "AF_dataset_uzgent.loc[(AF_dataset_uzgent[\"mean_VI_calcium carbonate\"]>1)|(AF_dataset_uzgent[\"mean_VI_calcium chloride\"]>1),\"is_given_Calcium Glubionaat (Calcium Sandoz)\"] = 1\n",
    "    \n",
    "AF_dataset_uzgent[\"is_given_Dopamine (Inotropin)\"]=0\n",
    "AF_dataset_uzgent.loc[AF_dataset_uzgent['mean_CV_dopamine']>0,\"is_given_Dopamine (Inotropin)\"]=1\n",
    "\n",
    "AF_dataset_uzgent['is_given_Propofol (Diprivan)']=0\n",
    "AF_dataset_uzgent.loc[AF_dataset_uzgent['mean_NS_propofol']>0,'is_given_Propofol (Diprivan)']=1\n",
    "\n",
    "AF_dataset_uzgent['is_given_Fentanyl']=0\n",
    "AF_dataset_uzgent.loc[AF_dataset_uzgent['mean_NS_fentanyl']>0,'is_given_Fentanyl']=1\n",
    "\n",
    "AF_dataset_uzgent[\"is_given_Furosemide (Lasix)\"]=0\n",
    "AF_dataset_uzgent.loc[AF_dataset_uzgent['mean_DI_furosemide']>0,\"is_given_Furosemide (Lasix)\"]=1\n",
    "\n",
    "AF_dataset_uzgent[\"is_given_LoopDiuretics\"]=0\n",
    "AF_dataset_uzgent.loc[(AF_dataset_uzgent['mean_DI_furosemide']>0),\"is_given_LoopDiuretics\"]=1\n",
    "\n",
    "AF_dataset_uzgent[\"sepsis_bool\"]=0\n",
    "AF_dataset_uzgent.loc[(AF_dataset_uzgent.sepsis_bool_comorb_source==1) | (AF_dataset_uzgent.sepsis_bool_extra_opn==1),\"sepsis_bool\"]=1\n",
    "\n",
    "AF_dataset_uzgent.loc[AF_dataset_uzgent.icuurg==\"URGENT\",\"icuurg\"]=1\n",
    "AF_dataset_uzgent.loc[AF_dataset_uzgent.icuurg!=1,\"icuurg\"]=0"
   ]
  },
  {
   "cell_type": "code",
   "execution_count": 165,
   "metadata": {},
   "outputs": [],
   "source": [
    "AF_dataset[\"is_given_Magnesiumsulfaat (MgSO4)\"]=0\n",
    "AF_dataset.loc[AF_dataset['mean_Magnesiumsulfaat (MgSO4)']>0,\"is_given_Magnesiumsulfaat (MgSO4)\"]=1\n",
    "\n",
    "AF_dataset[\"is_given_Calcium Glubionaat (Calcium Sandoz)\"]=0\n",
    "AF_dataset.loc[AF_dataset['mean_Calcium Glubionaat (Calcium Sandoz)']>0,\"is_given_Calcium Glubionaat (Calcium Sandoz)\"]=1\n",
    "\n",
    "AF_dataset[\"is_given_LoopDiuretics\"]=0\n",
    "AF_dataset.loc[ (AF_dataset['mean_Furosemide (Lasix)']>0),\"is_given_LoopDiuretics\"]=1\n",
    "\n",
    "AF_dataset['is_given_Propofol (Diprivan)']=0\n",
    "AF_dataset.loc[AF_dataset['mean_Propofol (Diprivan)']>0,'is_given_Propofol (Diprivan)']=1\n",
    "\n",
    "AF_dataset['is_given_Dopamine (Inotropin)']=0\n",
    "AF_dataset.loc[AF_dataset['mean_Dopamine (Inotropin)']>0,'is_given_Dopamine (Inotropin)']=1"
   ]
  },
  {
   "cell_type": "code",
   "execution_count": 166,
   "metadata": {},
   "outputs": [],
   "source": [
    "AF_dataset.loc[AF_dataset.Age==65,'Age'] = 69\n",
    "AF_dataset.loc[AF_dataset.Age==35,'Age'] = 39\n",
    "AF_dataset.loc[AF_dataset.Age==45,'Age'] = 49\n",
    "AF_dataset.loc[AF_dataset.Age==55,'Age'] = 59\n",
    "AF_dataset.loc[AF_dataset.Age==79,'Age'] = 79\n",
    "AF_dataset.loc[AF_dataset.Age==85,'Age'] = 80"
   ]
  },
  {
   "cell_type": "code",
   "execution_count": 167,
   "metadata": {},
   "outputs": [],
   "source": [
    "#Rename for distr change 12 hour model\n",
    "AF_dataset_uzgent = AF_dataset_uzgent.rename(columns={'mean_PEEP_M_ALL':'mean_PEEP (Set)', 'is_given_NORepinefrine':'is_given_Noradrenaline (Norepinefrine)', 'mean_URINE_VOL':'mean_UrineCAD', \n",
    "                            'max_PEEP_M_ALL':'max_PEEP (Set)','min_PEEP_M_ALL':'min_PEEP (Set)',\n",
    "                            'max_PHOSPHATE_ALL':'max_Fosfaat (bloed)','min_HR_ALL':'min_Hartfrequentie','mean_HR_ALL':'mean_Hartfrequentie','slope_HR_ALL':'slope_Hartfrequentie',\n",
    "                            'min_PH_ART_ALL':'min_pH (bloed)','mean_PH_ART_ALL':'mean_pH (bloed)','max_PH_ART_ALL':'max_pH (bloed)',\n",
    "                            'mean_LACTATE_ART':'mean_Lactaat (bloed)','max_LACTATE_ART':'max_Lactaat (bloed)' ,'min_LACTATE_ART':'min_Lactaat (bloed)' , \n",
    "                            'min_URINE_VOL':'min_UrineCAD', 'max_URINE_VOL':'max_UrineCAD', 'slope_URINE_VOL':'slope_UrineCAD', 'icuurg':'urgency',\n",
    "                            'mean_BALANS-Tot.':'fluid_balance', 'slope_RESPRATE_ALL':'slope_O2 l/min','Length':'Height',\n",
    "                            'mean_HCO3_ART':'mean_Act.HCO3 (bloed)','max_HCO3_ART':'max_Act.HCO3 (bloed)','min_HCO3_ART':'min_Act.HCO3 (bloed)','slope_HCO3_ART':'slope_Act.HCO3 (bloed)',\n",
    "                            'mean_PO2_ART':'mean_PO2 (bloed)','min_PO2_ART':'min_PO2 (bloed)','max_PO2_ART':'max_PO2 (bloed)','slope_PO2_ART':'slope_PO2 (bloed)',\n",
    "                            'mean_BE_ART':'mean_B.E. (bloed)','min_BE_ART':'min_B.E. (bloed)','max_BE_ART':'max_B.E. (bloed)','slope_BE_ART':'slope_B.E. (bloed)',\n",
    "                            'mean_PCO2_ART':'mean_pCO2 (bloed)','min_PCO2_ART':'min_pCO2 (bloed)','max_PCO2_ART':'max_pCO2 (bloed)','slope_PCO2_ART':'slope_pCO2 (bloed)',\n",
    "                            'mean_IBP_M':'mean_ABP gemiddeld','min_IBP_M':'min_ABP gemiddeld','max_IBP_M':'max_ABP gemiddeld','slope_IBP_M':'slope_ABP gemiddeld',\n",
    "                            'mean_IBP_S':'mean_ABP systolisch','min_IBP_S':'min_ABP systolisch','max_IBP_S':'max_ABP systolisch','slope_IBP_S':'slope_ABP systolisch',\n",
    "                            'mean_FIO2_MV_ALL':'mean_O2 concentratie (Set)','max_FIO2_MV_ALL':'max_O2 concentratie (Set)','min_FIO2_MV_ALL':'min_O2 concentratie (Set)',\n",
    "                            'mean_O2SAT_ART':'mean_O2-Saturatie (bloed)','max_O2SAT_ART':'max_O2-Saturatie (bloed)','min_O2SAT_ART':'min_O2-Saturatie (bloed)',\n",
    "                           'min_NS_propofol':'min_Propofol (Diprivan)', 'min_NS_fentanyl':'min_Fentanyl', 'mean_RESPRATE_ALL':'mean_O2 l/min', \n",
    "                           'mean_PHOSPHATE_ALL':'mean_Fosfaat (bloed)', 'kurt_CVD':'kurt_CVD', 'max_HR_ALL':'max_Hartfrequentie', \"max_PLATELETS\":\"max_Thrombo's (bloed)\"})\n",
    "\n",
    "#Rename for distr change 6 hour model\n",
    "AF_dataset_uzgent = AF_dataset_uzgent.rename(columns={'max_RESPRATE_ALL':'max_O2 l/min',\n",
    "                                        'min_PHOSPHATE_ALL':'min_Fosfaat (bloed)', 'mean_CVD':'mean_CVD', \n",
    "                                        \"min_PLATELETS\":\"min_Thrombo's (bloed)\",\"slope_PLATELETS\":\"slope_Thrombo's (bloed)\"})\n",
    "\n",
    "#Rename for distr change 1.5 hour model\n",
    "AF_dataset_uzgent = AF_dataset_uzgent.rename(columns={'max_UREA_ALL':'max_Ureum (bloed)','mean_UREA_ALL':'mean_Ureum (bloed)','min_UREA_ALL':'min_Ureum (bloed)'})\n",
    "\n",
    "#Rename for standard 12 hour model\n",
    "AF_dataset_uzgent = AF_dataset_uzgent.rename(columns={\"slope_PO2_ART\":'slope_PO2 (bloed)'})\n",
    "\n",
    "#Rename for standard 1.5 hour model\n",
    "AF_dataset_uzgent = AF_dataset_uzgent.rename(columns={ 'min_RESPRATE_ALL':'min_O2 l/min', \"mean_PLATELETS\":\"mean_Thrombo's (bloed)\",\n",
    "                                        'min_CVD':'min_CVD'})\n",
    "\n",
    "#convert from mg/dl to mmol/l\n",
    "AF_dataset_uzgent.loc[:,\"min_Ureum (bloed)\"] = AF_dataset_uzgent[\"min_Ureum (bloed)\"]*0.357\n",
    "#convert from percentages to fraction\n",
    "AF_dataset_uzgent.loc[:,\"mean_O2-Saturatie (bloed)\"] = AF_dataset_uzgent[\"mean_O2-Saturatie (bloed)\"]/100.0\n",
    "#convert from mg/dl to mmol/l\n",
    "AF_dataset_uzgent.loc[:,\"mean_Lactaat (bloed)\"] = AF_dataset_uzgent[\"mean_Lactaat (bloed)\"]/9.0"
   ]
  },
  {
   "cell_type": "code",
   "execution_count": 168,
   "metadata": {},
   "outputs": [],
   "source": [
    "AF_1_df = AF_dataset[AF_dataset.AF==1]\n",
    "AF_0_matched_df = AF_dataset[(AF_dataset.AF==0)&(AF_dataset.admissionid!=AF_dataset.date_corresponds_to_AF_admid)]\n",
    "\n",
    "train_admissionid,test_admissionid = train_test_split(AF_1_df.admissionid.unique(), test_size=0.2, random_state=42)\n",
    "\n",
    "train_AF_1_dataset = AF_1_df[AF_1_df.admissionid.isin(train_admissionid)]\n",
    "test_AF_1_dataset = AF_1_df[AF_1_df.admissionid.isin(test_admissionid)]\n",
    "\n",
    "train_AF_0_dataset = AF_0_matched_df[AF_0_matched_df.date_corresponds_to_AF_admid.isin(train_AF_1_dataset.admissionid)]\n",
    "test_AF_0_dataset = AF_0_matched_df[AF_0_matched_df.date_corresponds_to_AF_admid.isin(test_AF_1_dataset.admissionid)]\n",
    "\n",
    "train_AF_dataset = train_AF_0_dataset.append(train_AF_1_dataset).reset_index(drop=True).sample(len(train_AF_0_dataset)+len(train_AF_1_dataset),random_state=42)\n",
    "test_AF_dataset_amst = test_AF_0_dataset.append(test_AF_1_dataset).reset_index(drop=True).sample(len(test_AF_0_dataset)+len(test_AF_1_dataset),random_state=42)"
   ]
  },
  {
   "cell_type": "code",
   "execution_count": 169,
   "metadata": {},
   "outputs": [],
   "source": [
    "AF_1_df_uzgent = AF_dataset_uzgent[AF_dataset_uzgent.AF==1]\n",
    "AF_0_matched_df_uzgent = AF_dataset_uzgent[(AF_dataset_uzgent.AF==0)&(AF_dataset_uzgent.admissionid!=AF_dataset_uzgent.date_corresponds_to_AF_admid)]\n",
    "\n",
    "train_admissionid_uzgent,test_admissionid_uzgent = train_test_split(AF_1_df_uzgent.admissionid.unique(), test_size=0.2, random_state=42)\n",
    "\n",
    "test_AF_1_dataset_uzgent = AF_1_df_uzgent[AF_1_df_uzgent.admissionid.isin(test_admissionid_uzgent)]\n",
    "test_AF_0_dataset_uzgent = AF_0_matched_df_uzgent[AF_0_matched_df_uzgent.date_corresponds_to_AF_admid.isin(test_AF_1_dataset_uzgent.admissionid)]\n",
    "test_AF_dataset = test_AF_0_dataset_uzgent.append(test_AF_1_dataset_uzgent).reset_index(drop=True).sample(len(test_AF_0_dataset_uzgent)+len(test_AF_1_dataset_uzgent),random_state=42)"
   ]
  },
  {
   "cell_type": "code",
   "execution_count": 170,
   "metadata": {},
   "outputs": [],
   "source": [
    "uzgent_drop_columns = ['patientid', 'hadm_id', 'admittime', 'AF_measuredat', 'intime',\n",
    "       'outtime', 'admissionid', 'lengthofstay']\n",
    "\n",
    "drop_columns = [\"dateofdeath_delta\",\"admittedat_delta\",\"admissionid\",\"origin\",\n",
    "                \"lengthofstay\",\"destination\",\"weightgroup\",\"agegroup\",\"dateofdeath\",\n",
    "                \"admittedat\",\"heightgroup\",\"specialty\",\"dateofdeath_delta\",\"admittedat_delta\",\"weightsource\",\"dischargedat\",\"heightsource\",\n",
    "                \"gender\",\"Mortality\",\"AF_orig\",\"AF_measuredat\",\"AF\",\"new_onset_AF\",\"Preadmission_AF\",\"patientid\",\"location\",\"admissionyeargroup\"]\n",
    "\n",
    "uzgent_drop_columns.append('date_corresponds_to_AF_admid')\n",
    "drop_columns.append('date_corresponds_to_AF_admid')"
   ]
  },
  {
   "cell_type": "code",
   "execution_count": 171,
   "metadata": {},
   "outputs": [],
   "source": [
    "X_train_or = train_AF_dataset\n",
    "X_test_or = test_AF_dataset\n",
    "y_train = train_AF_dataset.AF\n",
    "y_test = test_AF_dataset.AF\n",
    "\n",
    "X_test_or_amst = test_AF_dataset_amst\n",
    "y_test_amst = test_AF_dataset_amst.AF"
   ]
  },
  {
   "cell_type": "markdown",
   "metadata": {},
   "source": [
    "### Testing"
   ]
  },
  {
   "cell_type": "code",
   "execution_count": 172,
   "metadata": {},
   "outputs": [],
   "source": [
    "if one_half_hour_model:\n",
    "\n",
    "    feature_columns = ['Age', \n",
    "        'is_given_Noradrenaline (Norepinefrine)', \n",
    "        'max_Hartfrequentie',\n",
    "       'mean_PEEP (Set)', \n",
    "       'mean_CVD', \n",
    "       'mean_O2 concentratie (Set)',\n",
    "       \"min_Thrombo's (bloed)\",\n",
    "       'urgency', \n",
    "       'mean_UrineCAD', \n",
    "       'is_given_Furosemide (Lasix)', \n",
    "       'mean_Ureum (bloed)',\n",
    "       'slope_B.E. (bloed)',\n",
    "       'slope_ABP systolisch', \n",
    "       'mean_O2-Saturatie (bloed)', \n",
    "       'fluid_balance']\n",
    "\n",
    "elif six_hour_model:\n",
    "\n",
    "    feature_columns = ['Age', \n",
    "        'is_given_Noradrenaline (Norepinefrine)',\n",
    "        'max_Hartfrequentie', \n",
    "        'mean_PEEP (Set)',\n",
    "        'min_CVD',\n",
    "        'mean_O2 concentratie (Set)', \n",
    "        'urgency', \n",
    "        'mean_UrineCAD',\n",
    "        'is_given_Furosemide (Lasix)', \n",
    "        'fluid_balance', \n",
    "        'slope_ABP gemiddeld',\n",
    "        'mean_O2-Saturatie (bloed)', \n",
    "        'max_Fosfaat (bloed)',\n",
    "        'max_ABP systolisch',\n",
    "        'min_Lactaat (bloed)'\n",
    "    ]\n",
    "\n",
    "else:\n",
    "\n",
    "    feature_columns = ['Age',\n",
    "        'mean_CVD',\n",
    "        'mean_O2 concentratie (Set)',\n",
    "        'mean_PEEP (Set)',\n",
    "        'is_given_Noradrenaline (Norepinefrine)',\n",
    "        'min_pH (bloed)',\n",
    "        'max_UrineCAD',\n",
    "        'mean_Hartfrequentie',\n",
    "        'urgency',\n",
    "        'min_Fosfaat (bloed)',\n",
    "        'is_given_Furosemide (Lasix)',\n",
    "        'is_given_Propofol (Diprivan)',\n",
    "        'mean_O2-Saturatie (bloed)',\n",
    "        \"max_Thrombo's (bloed)\",\n",
    "        'max_ABP systolisch'\n",
    "    ]\n",
    "\n",
    "\n",
    "X_train=X_train_or[feature_columns]    \n",
    "X_test=X_test_or[feature_columns]   \n",
    "\n",
    "X_test_amst = X_test_or_amst[feature_columns]"
   ]
  },
  {
   "cell_type": "code",
   "execution_count": 173,
   "metadata": {},
   "outputs": [
    {
     "name": "stdout",
     "output_type": "stream",
     "text": [
      "0:\tlearn: 0.6868328\ttotal: 1.3ms\tremaining: 390ms\n",
      "100:\tlearn: 0.5484908\ttotal: 111ms\tremaining: 218ms\n",
      "200:\tlearn: 0.5242838\ttotal: 210ms\tremaining: 103ms\n",
      "299:\tlearn: 0.5086253\ttotal: 314ms\tremaining: 0us\n"
     ]
    },
    {
     "data": {
      "text/plain": [
       "<catboost.core.CatBoostClassifier at 0x269ba7ac100>"
      ]
     },
     "execution_count": 173,
     "metadata": {},
     "output_type": "execute_result"
    }
   ],
   "source": [
    "AF_class_balance = [y_train.sum()/len(y_train),1-y_train.sum()/len(y_train)]\n",
    "\n",
    "if one_half_hour_model:\n",
    "    CB_AF = CatBoostClassifier(\n",
    "        verbose=100, iterations=300, l2_leaf_reg=3, depth=3, class_weights=AF_class_balance)\n",
    "elif six_hour_model:\n",
    "    CB_AF = CatBoostClassifier(\n",
    "        verbose=100, iterations=400, depth=3, l2_leaf_reg=3, class_weights=AF_class_balance)\n",
    "else:\n",
    "    CB_AF = CatBoostClassifier(\n",
    "        verbose=100, iterations=300, depth=3, l2_leaf_reg=3, class_weights=AF_class_balance)\n",
    "\n",
    "\n",
    "CB_AF.fit(X_train,y_train)"
   ]
  },
  {
   "cell_type": "code",
   "execution_count": 174,
   "metadata": {},
   "outputs": [
    {
     "name": "stdout",
     "output_type": "stream",
     "text": [
      "              precision    recall  f1-score   support\n",
      "\n",
      "       No-AF       0.76      0.74      0.75      1335\n",
      "          AF       0.75      0.76      0.75      1335\n",
      "\n",
      "    accuracy                           0.75      2670\n",
      "   macro avg       0.75      0.75      0.75      2670\n",
      "weighted avg       0.75      0.75      0.75      2670\n",
      "\n"
     ]
    }
   ],
   "source": [
    "print(classification_report(y_train,CB_AF.predict(X_train),target_names=[\"No-AF\",\"AF\"]))"
   ]
  },
  {
   "cell_type": "code",
   "execution_count": 175,
   "metadata": {},
   "outputs": [
    {
     "name": "stdout",
     "output_type": "stream",
     "text": [
      "BALANCED TEST PATIENTS\n",
      "              precision    recall  f1-score   support\n",
      "\n",
      "       No-AF       0.71      0.68      0.69       157\n",
      "          AF       0.69      0.73      0.71       158\n",
      "\n",
      "    accuracy                           0.70       315\n",
      "   macro avg       0.70      0.70      0.70       315\n",
      "weighted avg       0.70      0.70      0.70       315\n",
      "\n",
      "\n",
      "\n",
      "AUC = 0.746\n",
      "MCC = 0.4036\n",
      "==================================================\n"
     ]
    }
   ],
   "source": [
    "print(\"BALANCED TEST PATIENTS\")\n",
    "print(classification_report(y_test,CB_AF.predict(X_test),target_names=[\"No-AF\",\"AF\"]))\n",
    "print(\"\\n\")\n",
    "(fpr, tpr, thresholds) = get_roc_curve(CB_AF, Pool(data=X_test,label=y_test), plot=False)\n",
    "print(\"AUC = \"+str(np.round(auc(fpr,tpr),4)))\n",
    "print(\"MCC = \"+str(np.round(matthews_corrcoef(y_test,CB_AF.predict(X_test)),4)))\n",
    "print(50*\"=\")"
   ]
  },
  {
   "cell_type": "code",
   "execution_count": 176,
   "metadata": {},
   "outputs": [],
   "source": [
    "direct_y_test = y_test\n",
    "direct_predict = CB_AF.predict(X_test)\n",
    "AMST_y_test = y_test_amst\n",
    "AMST_predict = CB_AF.predict(X_test_amst)"
   ]
  },
  {
   "cell_type": "code",
   "execution_count": 177,
   "metadata": {},
   "outputs": [
    {
     "name": "stdout",
     "output_type": "stream",
     "text": [
      "ALL PATIENTS\n",
      "              precision    recall  f1-score   support\n",
      "\n",
      "       No-AF       0.99      0.67      0.80      9835\n",
      "          AF       0.03      0.73      0.07       158\n",
      "\n",
      "    accuracy                           0.67      9993\n",
      "   macro avg       0.51      0.70      0.43      9993\n",
      "weighted avg       0.98      0.67      0.79      9993\n",
      "\n",
      "\n",
      "\n",
      "AUC = 0.7687\n",
      "MCC = 0.1061\n",
      "==================================================\n",
      "ECE normalized AUC (%) = 5.84 %\n",
      "ESCE normalized AUC (%) = -3.98 %\n",
      "BALANCED TEST PATIENTS\n",
      "              precision    recall  f1-score   support\n",
      "\n",
      "       No-AF       0.71      0.68      0.69       157\n",
      "          AF       0.69      0.73      0.71       158\n",
      "\n",
      "    accuracy                           0.70       315\n",
      "   macro avg       0.70      0.70      0.70       315\n",
      "weighted avg       0.70      0.70      0.70       315\n",
      "\n",
      "\n",
      "\n",
      "AUC = 0.746\n",
      "MCC = 0.4036\n",
      "==================================================\n",
      "ECE normalized AUC (%) = 14.0 %\n",
      "ESCE normalized AUC (%) = 5.35 %\n"
     ]
    },
    {
     "data": {
      "text/plain": [
       "<Figure size 432x288 with 0 Axes>"
      ]
     },
     "metadata": {},
     "output_type": "display_data"
    }
   ],
   "source": [
    "temp_large_db = AF_dataset_uzgent[((AF_dataset_uzgent.AF==0)&(~AF_dataset_uzgent.admissionid.isin(AF_0_matched_df_uzgent.admissionid)))|(AF_dataset_uzgent.admissionid.isin(test_AF_dataset.admissionid))]\n",
    "\n",
    "y_test_all_pat = temp_large_db.AF\n",
    "X_test_all_pat = temp_large_db[feature_columns]\n",
    "\n",
    "\n",
    "print(\"ALL PATIENTS\")\n",
    "print(classification_report(y_test_all_pat,CB_AF.predict(X_test_all_pat),target_names=[\"No-AF\",\"AF\"]))\n",
    "print(\"\\n\")\n",
    "(fpr, tpr, thresholds) = get_roc_curve(CB_AF, Pool(data=X_test_all_pat,label=y_test_all_pat), plot=False)\n",
    "print(\"AUC = \"+str(np.round(auc(fpr,tpr),4)))\n",
    "print(\"MCC = \"+str(np.round(matthews_corrcoef(y_test_all_pat,CB_AF.predict(X_test_all_pat)),4)))\n",
    "print(50*\"=\")\n",
    "\n",
    "uzgent_result_dataframe = pandas_result_AF_maker(\"all patients\",X_test_all_pat,y_test_all_pat,CB_AF,uzgent_result_dataframe)\n",
    "\n",
    "print(\"BALANCED TEST PATIENTS\")\n",
    "print(classification_report(y_test,CB_AF.predict(X_test),target_names=[\"No-AF\",\"AF\"]))\n",
    "print(\"\\n\")\n",
    "(fpr, tpr, thresholds) = get_roc_curve(CB_AF, Pool(data=X_test,label=y_test), plot=False)\n",
    "print(\"AUC = \"+str(np.round(auc(fpr,tpr),4)))\n",
    "print(\"MCC = \"+str(np.round(matthews_corrcoef(y_test,CB_AF.predict(X_test)),4)))\n",
    "print(50*\"=\")\n",
    "\n",
    "uzgent_result_dataframe = pandas_result_AF_maker(\"balanced test\",X_test,y_test,CB_AF,uzgent_result_dataframe)"
   ]
  },
  {
   "cell_type": "code",
   "execution_count": 178,
   "metadata": {},
   "outputs": [
    {
     "data": {
      "image/png": "[encoded data removed]",
      "text/plain": [
       "<Figure size 720x432 with 1 Axes>"
      ]
     },
     "metadata": {
      "needs_background": "light"
     },
     "output_type": "display_data"
    }
   ],
   "source": [
    "present=False\n",
    "\n",
    "am_show_features = 60 if len(X_train.columns)>=30 else len(X_train.columns)\n",
    "fi = CB_AF.feature_importances_\n",
    "plt.figure(figsize=(10,6))\n",
    "indices_T0 = np.argsort(fi)[::-1][0:am_show_features]\n",
    "if present:\n",
    "    plt.barh(range(am_show_features),fi[indices_T0],color=\"#e898ac\")\n",
    "else:\n",
    "    plt.barh(range(am_show_features),fi[indices_T0])\n",
    "plt.yticks(range(am_show_features), X_train.columns[indices_T0])\n",
    "plt.xlabel(\"Mean feature importance (%)\")\n",
    "if present:\n",
    "    ax = plt.gca()\n",
    "    ax.patch.set_alpha(0)\n",
    "plt.show()"
   ]
  },
  {
   "cell_type": "code",
   "execution_count": 179,
   "metadata": {},
   "outputs": [
    {
     "data": {
      "image/png": "[encoded data removed]",
      "text/plain": [
       "<Figure size 576x540 with 2 Axes>"
      ]
     },
     "metadata": {
      "needs_background": "light"
     },
     "output_type": "display_data"
    }
   ],
   "source": [
    "present=False\n",
    "\n",
    "explainer = shap.TreeExplainer(CB_AF)\n",
    "shap_values = explainer.shap_values(X_test)\n",
    "shap.summary_plot(shap_values, X_test,show=False)\n"
   ]
  },
  {
   "cell_type": "code",
   "execution_count": 180,
   "metadata": {},
   "outputs": [
    {
     "data": {
      "text/html": [
       "<div>\n",
       "<style scoped>\n",
       "    .dataframe tbody tr th:only-of-type {\n",
       "        vertical-align: middle;\n",
       "    }\n",
       "\n",
       "    .dataframe tbody tr th {\n",
       "        vertical-align: top;\n",
       "    }\n",
       "\n",
       "    .dataframe thead th {\n",
       "        text-align: right;\n",
       "    }\n",
       "</style>\n",
       "<table border=\"1\" class=\"dataframe\">\n",
       "  <thead>\n",
       "    <tr style=\"text-align: right;\">\n",
       "      <th></th>\n",
       "      <th>model</th>\n",
       "      <th>validation_type</th>\n",
       "      <th>patient_group</th>\n",
       "      <th>NO AF patients</th>\n",
       "      <th>AF patients</th>\n",
       "      <th>NO AF recall</th>\n",
       "      <th>AF recall</th>\n",
       "      <th>NO AF precision</th>\n",
       "      <th>AF precision</th>\n",
       "      <th>NO AF f1</th>\n",
       "      <th>AF f1</th>\n",
       "      <th>mcc</th>\n",
       "      <th>auc</th>\n",
       "      <th>ECE</th>\n",
       "      <th>ESCE</th>\n",
       "    </tr>\n",
       "  </thead>\n",
       "  <tbody>\n",
       "    <tr>\n",
       "      <th>0</th>\n",
       "      <td>1.5</td>\n",
       "      <td>transfer</td>\n",
       "      <td>balanced test</td>\n",
       "      <td>182</td>\n",
       "      <td>183</td>\n",
       "      <td>0.741758</td>\n",
       "      <td>0.836066</td>\n",
       "      <td>0.818182</td>\n",
       "      <td>0.765000</td>\n",
       "      <td>0.778098</td>\n",
       "      <td>0.798956</td>\n",
       "      <td>0.580497</td>\n",
       "      <td>0.851889</td>\n",
       "      <td>0.093160</td>\n",
       "      <td>0.073044</td>\n",
       "    </tr>\n",
       "    <tr>\n",
       "      <th>0</th>\n",
       "      <td>1.5</td>\n",
       "      <td>transfer</td>\n",
       "      <td>all patients</td>\n",
       "      <td>19244</td>\n",
       "      <td>183</td>\n",
       "      <td>0.735190</td>\n",
       "      <td>0.836066</td>\n",
       "      <td>0.997884</td>\n",
       "      <td>0.029148</td>\n",
       "      <td>0.846628</td>\n",
       "      <td>0.056333</td>\n",
       "      <td>0.124268</td>\n",
       "      <td>0.849723</td>\n",
       "      <td>0.043709</td>\n",
       "      <td>-0.036589</td>\n",
       "    </tr>\n",
       "    <tr>\n",
       "      <th>0</th>\n",
       "      <td>1.5</td>\n",
       "      <td>combo</td>\n",
       "      <td>all patients uzgent</td>\n",
       "      <td>19244</td>\n",
       "      <td>183</td>\n",
       "      <td>0.709312</td>\n",
       "      <td>0.830601</td>\n",
       "      <td>0.997734</td>\n",
       "      <td>0.026453</td>\n",
       "      <td>0.829157</td>\n",
       "      <td>0.051273</td>\n",
       "      <td>0.114276</td>\n",
       "      <td>0.844137</td>\n",
       "      <td>0.043521</td>\n",
       "      <td>-0.031597</td>\n",
       "    </tr>\n",
       "    <tr>\n",
       "      <th>0</th>\n",
       "      <td>1.5</td>\n",
       "      <td>combo</td>\n",
       "      <td>balanced test uzgent</td>\n",
       "      <td>182</td>\n",
       "      <td>183</td>\n",
       "      <td>0.708791</td>\n",
       "      <td>0.830601</td>\n",
       "      <td>0.806250</td>\n",
       "      <td>0.741463</td>\n",
       "      <td>0.754386</td>\n",
       "      <td>0.783505</td>\n",
       "      <td>0.543537</td>\n",
       "      <td>0.833964</td>\n",
       "      <td>0.102046</td>\n",
       "      <td>0.079551</td>\n",
       "    </tr>\n",
       "    <tr>\n",
       "      <th>0</th>\n",
       "      <td>1.5</td>\n",
       "      <td>combo</td>\n",
       "      <td>all patients amsterdam</td>\n",
       "      <td>14563</td>\n",
       "      <td>400</td>\n",
       "      <td>0.733983</td>\n",
       "      <td>0.702500</td>\n",
       "      <td>0.988990</td>\n",
       "      <td>0.067629</td>\n",
       "      <td>0.842616</td>\n",
       "      <td>0.123381</td>\n",
       "      <td>0.157204</td>\n",
       "      <td>0.798620</td>\n",
       "      <td>0.022080</td>\n",
       "      <td>0.018473</td>\n",
       "    </tr>\n",
       "    <tr>\n",
       "      <th>0</th>\n",
       "      <td>1.5</td>\n",
       "      <td>combo</td>\n",
       "      <td>balanced test amsterdam</td>\n",
       "      <td>400</td>\n",
       "      <td>400</td>\n",
       "      <td>0.745000</td>\n",
       "      <td>0.702500</td>\n",
       "      <td>0.714628</td>\n",
       "      <td>0.733681</td>\n",
       "      <td>0.729498</td>\n",
       "      <td>0.717752</td>\n",
       "      <td>0.447905</td>\n",
       "      <td>0.809369</td>\n",
       "      <td>0.059303</td>\n",
       "      <td>0.018051</td>\n",
       "    </tr>\n",
       "    <tr>\n",
       "      <th>0</th>\n",
       "      <td>1.5</td>\n",
       "      <td>direct</td>\n",
       "      <td>all patients</td>\n",
       "      <td>19244</td>\n",
       "      <td>183</td>\n",
       "      <td>0.571191</td>\n",
       "      <td>0.912568</td>\n",
       "      <td>0.998547</td>\n",
       "      <td>0.019836</td>\n",
       "      <td>0.726696</td>\n",
       "      <td>0.038828</td>\n",
       "      <td>0.094301</td>\n",
       "      <td>0.835052</td>\n",
       "      <td>0.147671</td>\n",
       "      <td>-0.146993</td>\n",
       "    </tr>\n",
       "    <tr>\n",
       "      <th>0</th>\n",
       "      <td>1.5</td>\n",
       "      <td>direct</td>\n",
       "      <td>balanced test</td>\n",
       "      <td>182</td>\n",
       "      <td>183</td>\n",
       "      <td>0.565934</td>\n",
       "      <td>0.912568</td>\n",
       "      <td>0.865546</td>\n",
       "      <td>0.678862</td>\n",
       "      <td>0.684385</td>\n",
       "      <td>0.778555</td>\n",
       "      <td>0.510393</td>\n",
       "      <td>0.831952</td>\n",
       "      <td>0.081436</td>\n",
       "      <td>0.035613</td>\n",
       "    </tr>\n",
       "    <tr>\n",
       "      <th>0</th>\n",
       "      <td>6</td>\n",
       "      <td>transfer</td>\n",
       "      <td>balanced test</td>\n",
       "      <td>158</td>\n",
       "      <td>158</td>\n",
       "      <td>0.746835</td>\n",
       "      <td>0.841772</td>\n",
       "      <td>0.825175</td>\n",
       "      <td>0.768786</td>\n",
       "      <td>0.784053</td>\n",
       "      <td>0.803625</td>\n",
       "      <td>0.591278</td>\n",
       "      <td>0.876662</td>\n",
       "      <td>0.104162</td>\n",
       "      <td>0.081829</td>\n",
       "    </tr>\n",
       "    <tr>\n",
       "      <th>0</th>\n",
       "      <td>6</td>\n",
       "      <td>transfer</td>\n",
       "      <td>all patients</td>\n",
       "      <td>12241</td>\n",
       "      <td>158</td>\n",
       "      <td>0.750511</td>\n",
       "      <td>0.841772</td>\n",
       "      <td>0.997286</td>\n",
       "      <td>0.041732</td>\n",
       "      <td>0.856477</td>\n",
       "      <td>0.079522</td>\n",
       "      <td>0.152019</td>\n",
       "      <td>0.866587</td>\n",
       "      <td>0.039773</td>\n",
       "      <td>-0.031281</td>\n",
       "    </tr>\n",
       "    <tr>\n",
       "      <th>0</th>\n",
       "      <td>6</td>\n",
       "      <td>combo</td>\n",
       "      <td>all patients uzgent</td>\n",
       "      <td>12241</td>\n",
       "      <td>158</td>\n",
       "      <td>0.739891</td>\n",
       "      <td>0.778481</td>\n",
       "      <td>0.996150</td>\n",
       "      <td>0.037194</td>\n",
       "      <td>0.849107</td>\n",
       "      <td>0.070996</td>\n",
       "      <td>0.131471</td>\n",
       "      <td>0.851612</td>\n",
       "      <td>0.044143</td>\n",
       "      <td>-0.012041</td>\n",
       "    </tr>\n",
       "    <tr>\n",
       "      <th>0</th>\n",
       "      <td>6</td>\n",
       "      <td>combo</td>\n",
       "      <td>balanced test uzgent</td>\n",
       "      <td>158</td>\n",
       "      <td>158</td>\n",
       "      <td>0.759494</td>\n",
       "      <td>0.778481</td>\n",
       "      <td>0.774194</td>\n",
       "      <td>0.763975</td>\n",
       "      <td>0.766773</td>\n",
       "      <td>0.771160</td>\n",
       "      <td>0.538072</td>\n",
       "      <td>0.868050</td>\n",
       "      <td>0.131224</td>\n",
       "      <td>0.092988</td>\n",
       "    </tr>\n",
       "    <tr>\n",
       "      <th>0</th>\n",
       "      <td>6</td>\n",
       "      <td>combo</td>\n",
       "      <td>all patients amsterdam</td>\n",
       "      <td>14578</td>\n",
       "      <td>371</td>\n",
       "      <td>0.670462</td>\n",
       "      <td>0.690027</td>\n",
       "      <td>0.988371</td>\n",
       "      <td>0.050593</td>\n",
       "      <td>0.798954</td>\n",
       "      <td>0.094274</td>\n",
       "      <td>0.118516</td>\n",
       "      <td>0.760578</td>\n",
       "      <td>0.036610</td>\n",
       "      <td>-0.022228</td>\n",
       "    </tr>\n",
       "    <tr>\n",
       "      <th>0</th>\n",
       "      <td>6</td>\n",
       "      <td>combo</td>\n",
       "      <td>balanced test amsterdam</td>\n",
       "      <td>371</td>\n",
       "      <td>371</td>\n",
       "      <td>0.719677</td>\n",
       "      <td>0.690027</td>\n",
       "      <td>0.698953</td>\n",
       "      <td>0.711111</td>\n",
       "      <td>0.709163</td>\n",
       "      <td>0.700410</td>\n",
       "      <td>0.409884</td>\n",
       "      <td>0.786975</td>\n",
       "      <td>0.048790</td>\n",
       "      <td>0.019227</td>\n",
       "    </tr>\n",
       "    <tr>\n",
       "      <th>0</th>\n",
       "      <td>6</td>\n",
       "      <td>direct</td>\n",
       "      <td>all patients</td>\n",
       "      <td>12241</td>\n",
       "      <td>158</td>\n",
       "      <td>0.780410</td>\n",
       "      <td>0.677215</td>\n",
       "      <td>0.994690</td>\n",
       "      <td>0.038283</td>\n",
       "      <td>0.874617</td>\n",
       "      <td>0.072469</td>\n",
       "      <td>0.122837</td>\n",
       "      <td>0.804171</td>\n",
       "      <td>0.055516</td>\n",
       "      <td>0.051827</td>\n",
       "    </tr>\n",
       "    <tr>\n",
       "      <th>0</th>\n",
       "      <td>6</td>\n",
       "      <td>direct</td>\n",
       "      <td>balanced test</td>\n",
       "      <td>158</td>\n",
       "      <td>158</td>\n",
       "      <td>0.810127</td>\n",
       "      <td>0.677215</td>\n",
       "      <td>0.715084</td>\n",
       "      <td>0.781022</td>\n",
       "      <td>0.759644</td>\n",
       "      <td>0.725424</td>\n",
       "      <td>0.491704</td>\n",
       "      <td>0.823105</td>\n",
       "      <td>0.103171</td>\n",
       "      <td>0.089783</td>\n",
       "    </tr>\n",
       "    <tr>\n",
       "      <th>0</th>\n",
       "      <td>12</td>\n",
       "      <td>transfer</td>\n",
       "      <td>balanced test</td>\n",
       "      <td>157</td>\n",
       "      <td>158</td>\n",
       "      <td>0.713376</td>\n",
       "      <td>0.772152</td>\n",
       "      <td>0.756757</td>\n",
       "      <td>0.730539</td>\n",
       "      <td>0.734426</td>\n",
       "      <td>0.750769</td>\n",
       "      <td>0.486411</td>\n",
       "      <td>0.818189</td>\n",
       "      <td>0.105192</td>\n",
       "      <td>0.051909</td>\n",
       "    </tr>\n",
       "    <tr>\n",
       "      <th>0</th>\n",
       "      <td>12</td>\n",
       "      <td>transfer</td>\n",
       "      <td>all patients</td>\n",
       "      <td>9835</td>\n",
       "      <td>158</td>\n",
       "      <td>0.743569</td>\n",
       "      <td>0.772152</td>\n",
       "      <td>0.995101</td>\n",
       "      <td>0.046142</td>\n",
       "      <td>0.851141</td>\n",
       "      <td>0.087081</td>\n",
       "      <td>0.145843</td>\n",
       "      <td>0.829214</td>\n",
       "      <td>0.031956</td>\n",
       "      <td>-0.019233</td>\n",
       "    </tr>\n",
       "    <tr>\n",
       "      <th>0</th>\n",
       "      <td>12</td>\n",
       "      <td>combo</td>\n",
       "      <td>all patients uzgent</td>\n",
       "      <td>9835</td>\n",
       "      <td>158</td>\n",
       "      <td>0.704830</td>\n",
       "      <td>0.765823</td>\n",
       "      <td>0.994691</td>\n",
       "      <td>0.040013</td>\n",
       "      <td>0.825042</td>\n",
       "      <td>0.076053</td>\n",
       "      <td>0.127803</td>\n",
       "      <td>0.807217</td>\n",
       "      <td>0.042134</td>\n",
       "      <td>-0.026515</td>\n",
       "    </tr>\n",
       "    <tr>\n",
       "      <th>0</th>\n",
       "      <td>12</td>\n",
       "      <td>combo</td>\n",
       "      <td>balanced test uzgent</td>\n",
       "      <td>157</td>\n",
       "      <td>158</td>\n",
       "      <td>0.713376</td>\n",
       "      <td>0.765823</td>\n",
       "      <td>0.751678</td>\n",
       "      <td>0.728916</td>\n",
       "      <td>0.732026</td>\n",
       "      <td>0.746914</td>\n",
       "      <td>0.479896</td>\n",
       "      <td>0.787713</td>\n",
       "      <td>0.118418</td>\n",
       "      <td>0.077762</td>\n",
       "    </tr>\n",
       "    <tr>\n",
       "      <th>0</th>\n",
       "      <td>12</td>\n",
       "      <td>combo</td>\n",
       "      <td>all patients amsterdam</td>\n",
       "      <td>8623</td>\n",
       "      <td>334</td>\n",
       "      <td>0.661719</td>\n",
       "      <td>0.676647</td>\n",
       "      <td>0.981424</td>\n",
       "      <td>0.071906</td>\n",
       "      <td>0.790469</td>\n",
       "      <td>0.129997</td>\n",
       "      <td>0.134332</td>\n",
       "      <td>0.745634</td>\n",
       "      <td>0.055635</td>\n",
       "      <td>-0.042687</td>\n",
       "    </tr>\n",
       "    <tr>\n",
       "      <th>0</th>\n",
       "      <td>12</td>\n",
       "      <td>combo</td>\n",
       "      <td>balanced test amsterdam</td>\n",
       "      <td>334</td>\n",
       "      <td>334</td>\n",
       "      <td>0.730539</td>\n",
       "      <td>0.676647</td>\n",
       "      <td>0.693182</td>\n",
       "      <td>0.715190</td>\n",
       "      <td>0.711370</td>\n",
       "      <td>0.695385</td>\n",
       "      <td>0.407778</td>\n",
       "      <td>0.774947</td>\n",
       "      <td>0.064501</td>\n",
       "      <td>0.023020</td>\n",
       "    </tr>\n",
       "    <tr>\n",
       "      <th>0</th>\n",
       "      <td>12</td>\n",
       "      <td>direct</td>\n",
       "      <td>all patients</td>\n",
       "      <td>9835</td>\n",
       "      <td>158</td>\n",
       "      <td>0.673106</td>\n",
       "      <td>0.727848</td>\n",
       "      <td>0.993546</td>\n",
       "      <td>0.034535</td>\n",
       "      <td>0.802522</td>\n",
       "      <td>0.065940</td>\n",
       "      <td>0.106109</td>\n",
       "      <td>0.768742</td>\n",
       "      <td>0.058410</td>\n",
       "      <td>-0.039801</td>\n",
       "    </tr>\n",
       "    <tr>\n",
       "      <th>0</th>\n",
       "      <td>12</td>\n",
       "      <td>direct</td>\n",
       "      <td>balanced test</td>\n",
       "      <td>157</td>\n",
       "      <td>158</td>\n",
       "      <td>0.675159</td>\n",
       "      <td>0.727848</td>\n",
       "      <td>0.711409</td>\n",
       "      <td>0.692771</td>\n",
       "      <td>0.692810</td>\n",
       "      <td>0.709877</td>\n",
       "      <td>0.403593</td>\n",
       "      <td>0.745989</td>\n",
       "      <td>0.139991</td>\n",
       "      <td>0.053485</td>\n",
       "    </tr>\n",
       "  </tbody>\n",
       "</table>\n",
       "</div>"
      ],
      "text/plain": [
       "  model validation_type            patient_group NO AF patients AF patients  \\\n",
       "0   1.5        transfer            balanced test            182         183   \n",
       "0   1.5        transfer             all patients          19244         183   \n",
       "0   1.5           combo      all patients uzgent          19244         183   \n",
       "0   1.5           combo     balanced test uzgent            182         183   \n",
       "0   1.5           combo   all patients amsterdam          14563         400   \n",
       "0   1.5           combo  balanced test amsterdam            400         400   \n",
       "0   1.5          direct             all patients          19244         183   \n",
       "0   1.5          direct            balanced test            182         183   \n",
       "0     6        transfer            balanced test            158         158   \n",
       "0     6        transfer             all patients          12241         158   \n",
       "0     6           combo      all patients uzgent          12241         158   \n",
       "0     6           combo     balanced test uzgent            158         158   \n",
       "0     6           combo   all patients amsterdam          14578         371   \n",
       "0     6           combo  balanced test amsterdam            371         371   \n",
       "0     6          direct             all patients          12241         158   \n",
       "0     6          direct            balanced test            158         158   \n",
       "0    12        transfer            balanced test            157         158   \n",
       "0    12        transfer             all patients           9835         158   \n",
       "0    12           combo      all patients uzgent           9835         158   \n",
       "0    12           combo     balanced test uzgent            157         158   \n",
       "0    12           combo   all patients amsterdam           8623         334   \n",
       "0    12           combo  balanced test amsterdam            334         334   \n",
       "0    12          direct             all patients           9835         158   \n",
       "0    12          direct            balanced test            157         158   \n",
       "\n",
       "   NO AF recall  AF recall  NO AF precision  AF precision  NO AF f1     AF f1  \\\n",
       "0      0.741758   0.836066         0.818182      0.765000  0.778098  0.798956   \n",
       "0      0.735190   0.836066         0.997884      0.029148  0.846628  0.056333   \n",
       "0      0.709312   0.830601         0.997734      0.026453  0.829157  0.051273   \n",
       "0      0.708791   0.830601         0.806250      0.741463  0.754386  0.783505   \n",
       "0      0.733983   0.702500         0.988990      0.067629  0.842616  0.123381   \n",
       "0      0.745000   0.702500         0.714628      0.733681  0.729498  0.717752   \n",
       "0      0.571191   0.912568         0.998547      0.019836  0.726696  0.038828   \n",
       "0      0.565934   0.912568         0.865546      0.678862  0.684385  0.778555   \n",
       "0      0.746835   0.841772         0.825175      0.768786  0.784053  0.803625   \n",
       "0      0.750511   0.841772         0.997286      0.041732  0.856477  0.079522   \n",
       "0      0.739891   0.778481         0.996150      0.037194  0.849107  0.070996   \n",
       "0      0.759494   0.778481         0.774194      0.763975  0.766773  0.771160   \n",
       "0      0.670462   0.690027         0.988371      0.050593  0.798954  0.094274   \n",
       "0      0.719677   0.690027         0.698953      0.711111  0.709163  0.700410   \n",
       "0      0.780410   0.677215         0.994690      0.038283  0.874617  0.072469   \n",
       "0      0.810127   0.677215         0.715084      0.781022  0.759644  0.725424   \n",
       "0      0.713376   0.772152         0.756757      0.730539  0.734426  0.750769   \n",
       "0      0.743569   0.772152         0.995101      0.046142  0.851141  0.087081   \n",
       "0      0.704830   0.765823         0.994691      0.040013  0.825042  0.076053   \n",
       "0      0.713376   0.765823         0.751678      0.728916  0.732026  0.746914   \n",
       "0      0.661719   0.676647         0.981424      0.071906  0.790469  0.129997   \n",
       "0      0.730539   0.676647         0.693182      0.715190  0.711370  0.695385   \n",
       "0      0.673106   0.727848         0.993546      0.034535  0.802522  0.065940   \n",
       "0      0.675159   0.727848         0.711409      0.692771  0.692810  0.709877   \n",
       "\n",
       "        mcc       auc       ECE      ESCE  \n",
       "0  0.580497  0.851889  0.093160  0.073044  \n",
       "0  0.124268  0.849723  0.043709 -0.036589  \n",
       "0  0.114276  0.844137  0.043521 -0.031597  \n",
       "0  0.543537  0.833964  0.102046  0.079551  \n",
       "0  0.157204  0.798620  0.022080  0.018473  \n",
       "0  0.447905  0.809369  0.059303  0.018051  \n",
       "0  0.094301  0.835052  0.147671 -0.146993  \n",
       "0  0.510393  0.831952  0.081436  0.035613  \n",
       "0  0.591278  0.876662  0.104162  0.081829  \n",
       "0  0.152019  0.866587  0.039773 -0.031281  \n",
       "0  0.131471  0.851612  0.044143 -0.012041  \n",
       "0  0.538072  0.868050  0.131224  0.092988  \n",
       "0  0.118516  0.760578  0.036610 -0.022228  \n",
       "0  0.409884  0.786975  0.048790  0.019227  \n",
       "0  0.122837  0.804171  0.055516  0.051827  \n",
       "0  0.491704  0.823105  0.103171  0.089783  \n",
       "0  0.486411  0.818189  0.105192  0.051909  \n",
       "0  0.145843  0.829214  0.031956 -0.019233  \n",
       "0  0.127803  0.807217  0.042134 -0.026515  \n",
       "0  0.479896  0.787713  0.118418  0.077762  \n",
       "0  0.134332  0.745634  0.055635 -0.042687  \n",
       "0  0.407778  0.774947  0.064501  0.023020  \n",
       "0  0.106109  0.768742  0.058410 -0.039801  \n",
       "0  0.403593  0.745989  0.139991  0.053485  "
      ]
     },
     "execution_count": 180,
     "metadata": {},
     "output_type": "execute_result"
    }
   ],
   "source": [
    "uzgent_result_dataframe"
   ]
  },
  {
   "cell_type": "code",
   "execution_count": null,
   "metadata": {},
   "outputs": [],
   "source": [
    "# uzgent_result_dataframe.to_csv(\"../results/uzgent_result_dataframe.csv\",index=False)"
   ]
  },
  {
   "cell_type": "markdown",
   "metadata": {},
   "source": [
    "# P-tests"
   ]
  },
  {
   "cell_type": "code",
   "execution_count": null,
   "metadata": {},
   "outputs": [],
   "source": [
    "#bonferri correction: alpha/m, with m the amount of total tests\n",
    "from scipy.stats import ranksums\n",
    "\n",
    "# print(\"p-value comparisons\")\n",
    "# print(100*\"=\")\n",
    "# print(\"\")\n",
    "    \n",
    "\n",
    "# print(\"Direct - Internal\")\n",
    "# print(\"\")\n",
    "# print(\"Rank-sum p-value: \"+ str(ranksums(direct_predict,AMST_predict)[1]))\n",
    "# print(10*\"-\")\n",
    "# print(\"AF \")\n",
    "# print(\"Rank-sum p-value: \"+ str(ranksums(direct_predict[np.where(direct_y_test==1)],AMST_predict[np.where(AMST_y_test==1)])[1]))\n",
    "# print(10*\"-\")\n",
    "# print(\"NO AF\")\n",
    "# print(\"Rank-sum p-value: \"+ str(ranksums(direct_predict[np.where(direct_y_test==0)],AMST_predict[np.where(AMST_y_test==0)])[1]))\n",
    "# print(40*\"=\")\n",
    "# print(\"\")\n",
    "uzgent_p_value_result_dataframe = pd.concat([uzgent_p_value_result_dataframe,pd.DataFrame(data=[[model_string,\"Direct - Internal\",\"all\",ranksums(direct_predict,AMST_predict)[1]]],columns=uzgent_p_value_result_dataframe_columns)])\n",
    "uzgent_p_value_result_dataframe = pd.concat([uzgent_p_value_result_dataframe,pd.DataFrame(data=[[model_string,\"Direct - Internal\",\"AF\",ranksums(direct_predict[np.where(direct_y_test==1)],AMST_predict[np.where(AMST_y_test==1)])[1]]],columns=uzgent_p_value_result_dataframe_columns)])\n",
    "uzgent_p_value_result_dataframe = pd.concat([uzgent_p_value_result_dataframe,pd.DataFrame(data=[[model_string,\"Direct - Internal\",\"NO AF\",ranksums(direct_predict[np.where(direct_y_test==0)],AMST_predict[np.where(AMST_y_test==0)])[1]]],columns=uzgent_p_value_result_dataframe_columns)])\n",
    "\n",
    "\n",
    "# print(\"Combo uzgent - Internal \")\n",
    "# print(\"\")\n",
    "# print(\"Rank-sum p-value: \"+ str(ranksums(combo_uzgent_predict,AMST_predict)[1]))\n",
    "# print(10*\"-\")\n",
    "# print(\"AF \")\n",
    "# print(\"Rank-sum p-value: \"+ str(ranksums(combo_uzgent_predict[np.where(combo_uzgent_y_test==1)],AMST_predict[np.where(AMST_y_test==1)])[1]))\n",
    "# print(10*\"-\")\n",
    "# print(\"NO AF\")\n",
    "# print(\"Rank-sum p-value: \"+ str(ranksums(combo_uzgent_predict[np.where(combo_uzgent_y_test==0)],AMST_predict[np.where(AMST_y_test==0)])[1]))\n",
    "# print(40*\"=\")\n",
    "# print(\"\")\n",
    "uzgent_p_value_result_dataframe = pd.concat([uzgent_p_value_result_dataframe,pd.DataFrame(data=[[model_string,\"Combo uzgent - Internal\",\"all\",ranksums(combo_uzgent_predict,AMST_predict)[1]]],columns=uzgent_p_value_result_dataframe_columns)])\n",
    "uzgent_p_value_result_dataframe = pd.concat([uzgent_p_value_result_dataframe,pd.DataFrame(data=[[model_string,\"Combo uzgent - Internal\",\"AF\",ranksums(combo_uzgent_predict[np.where(combo_uzgent_y_test==1)],AMST_predict[np.where(AMST_y_test==1)])[1]]],columns=uzgent_p_value_result_dataframe_columns)])\n",
    "uzgent_p_value_result_dataframe = pd.concat([uzgent_p_value_result_dataframe,pd.DataFrame(data=[[model_string,\"Combo uzgent - Internal\",\"NO AF\",ranksums(combo_uzgent_predict[np.where(combo_uzgent_y_test==0)],AMST_predict[np.where(AMST_y_test==0)])[1]]],columns=uzgent_p_value_result_dataframe_columns)])\n",
    "\n",
    "\n",
    "# print(\"Combo amst - Internal \")\n",
    "# print(\"\")\n",
    "# print(\"Rank-sum p-value: \"+ str(ranksums(combo_amst_predict,AMST_predict)[1]))\n",
    "# print(10*\"-\")\n",
    "# print(\"AF \")\n",
    "# print(\"Rank-sum p-value: \"+ str(ranksums(combo_amst_predict[np.where(combo_amst_y_test==1)],AMST_predict[np.where(AMST_y_test==1)])[1]))\n",
    "# print(10*\"-\")\n",
    "# print(\"NO AF\")\n",
    "# print(\"Rank-sum p-value: \"+ str(ranksums(combo_amst_predict[np.where(combo_amst_y_test==0)],AMST_predict[np.where(AMST_y_test==0)])[1]))\n",
    "# print(40*\"=\")\n",
    "# print(\"\")\n",
    "uzgent_p_value_result_dataframe = pd.concat([uzgent_p_value_result_dataframe,pd.DataFrame(data=[[model_string,\"Combo amst - Internal\",\"all\",ranksums(combo_amst_predict,AMST_predict)[1]]],columns=uzgent_p_value_result_dataframe_columns)])\n",
    "uzgent_p_value_result_dataframe = pd.concat([uzgent_p_value_result_dataframe,pd.DataFrame(data=[[model_string,\"Combo amst - Internal\",\"AF\",ranksums(combo_amst_predict[np.where(combo_amst_y_test==1)],AMST_predict[np.where(AMST_y_test==1)])[1]]],columns=uzgent_p_value_result_dataframe_columns)])\n",
    "uzgent_p_value_result_dataframe = pd.concat([uzgent_p_value_result_dataframe,pd.DataFrame(data=[[model_string,\"Combo amst - Internal\",\"NO AF\",ranksums(combo_amst_predict[np.where(combo_amst_y_test==0)],AMST_predict[np.where(AMST_y_test==0)])[1]]],columns=uzgent_p_value_result_dataframe_columns)])\n",
    "\n",
    "\n",
    "# print(\"Transfer - Internal \")\n",
    "# print(\"\")\n",
    "# print(\"Rank-sum p-value: \"+ str(ranksums(transfer_predict,AMST_predict)[1]))\n",
    "# print(10*\"-\")\n",
    "# print(\"AF \")\n",
    "# print(\"Rank-sum p-value: \"+ str(ranksums(transfer_predict[np.where(transfer_y_test==1)],AMST_predict[np.where(AMST_y_test==1)])[1]))\n",
    "# print(10*\"-\")\n",
    "# print(\"NO AF\")\n",
    "# print(\"Rank-sum p-value: \"+ str(ranksums(transfer_predict[np.where(transfer_y_test==0)],AMST_predict[np.where(AMST_y_test==0)])[1]))\n",
    "# print(40*\"=\")\n",
    "# print(\"\")\n",
    "uzgent_p_value_result_dataframe = pd.concat([uzgent_p_value_result_dataframe,pd.DataFrame(data=[[model_string,\"Transfer - Internal\",\"all\",ranksums(transfer_predict,AMST_predict)[1]]],columns=uzgent_p_value_result_dataframe_columns)])\n",
    "uzgent_p_value_result_dataframe = pd.concat([uzgent_p_value_result_dataframe,pd.DataFrame(data=[[model_string,\"Transfer - Internal\",\"AF\",ranksums(transfer_predict[np.where(transfer_y_test==1)],AMST_predict[np.where(AMST_y_test==1)])[1]]],columns=uzgent_p_value_result_dataframe_columns)])\n",
    "uzgent_p_value_result_dataframe = pd.concat([uzgent_p_value_result_dataframe,pd.DataFrame(data=[[model_string,\"Transfer - Internal\",\"NO AF\",ranksums(transfer_predict[np.where(transfer_y_test==0)],AMST_predict[np.where(AMST_y_test==0)])[1]]],columns=uzgent_p_value_result_dataframe_columns)])\n",
    "\n",
    "\n",
    "# print(\"Transfer - Combo uzgent \")\n",
    "# print(\"\")\n",
    "# print(\"Rank-sum p-value: \"+ str(ranksums(transfer_predict,combo_uzgent_predict)[1]))\n",
    "# print(10*\"-\")\n",
    "# print(\"AF \")\n",
    "# print(\"Rank-sum p-value: \"+ str(ranksums(transfer_predict[np.where(transfer_y_test==1)],combo_uzgent_predict[np.where(combo_uzgent_y_test==1)])[1]))\n",
    "# print(10*\"-\")\n",
    "# print(\"NO AF\")\n",
    "# print(\"Rank-sum p-value: \"+ str(ranksums(transfer_predict[np.where(transfer_y_test==0)],combo_uzgent_predict[np.where(combo_uzgent_y_test==0)])[1]))\n",
    "# print(40*\"=\")\n",
    "# print(\"\")\n",
    "uzgent_p_value_result_dataframe = pd.concat([uzgent_p_value_result_dataframe,pd.DataFrame(data=[[model_string,\"Transfer - Combo uzgent\",\"all\",ranksums(transfer_predict,combo_uzgent_predict)[1]]],columns=uzgent_p_value_result_dataframe_columns)])\n",
    "uzgent_p_value_result_dataframe = pd.concat([uzgent_p_value_result_dataframe,pd.DataFrame(data=[[model_string,\"Transfer - Combo uzgent\",\"AF\",ranksums(transfer_predict[np.where(transfer_y_test==1)],combo_uzgent_predict[np.where(combo_uzgent_y_test==1)])[1]]],columns=uzgent_p_value_result_dataframe_columns)])\n",
    "uzgent_p_value_result_dataframe = pd.concat([uzgent_p_value_result_dataframe,pd.DataFrame(data=[[model_string,\"Transfer - Combo uzgent\",\"NO AF\",ranksums(transfer_predict[np.where(transfer_y_test==0)],combo_uzgent_predict[np.where(combo_uzgent_y_test==0)])[1]]],columns=uzgent_p_value_result_dataframe_columns)])\n",
    "\n",
    "\n",
    "# print(\"Transfer - Direct \")\n",
    "# print(\"\")\n",
    "# print(\"Rank-sum p-value: \"+ str(ranksums(transfer_predict,direct_predict)[1]))\n",
    "# print(10*\"-\")\n",
    "# print(\"AF \")\n",
    "# print(\"Rank-sum p-value: \"+ str(ranksums(transfer_predict[np.where(transfer_y_test==1)],direct_predict[np.where(direct_y_test==1)])[1]))\n",
    "# print(10*\"-\")\n",
    "# print(\"NO AF\")\n",
    "# print(\"Rank-sum p-value: \"+ str(ranksums(transfer_predict[np.where(transfer_y_test==0)],direct_predict[np.where(direct_y_test==0)])[1]))\n",
    "# print(40*\"=\")\n",
    "# print(\"\")\n",
    "uzgent_p_value_result_dataframe = pd.concat([uzgent_p_value_result_dataframe,pd.DataFrame(data=[[model_string,\"Transfer - Direct\",\"all\",ranksums(transfer_predict,direct_predict)[1]]],columns=uzgent_p_value_result_dataframe_columns)])\n",
    "uzgent_p_value_result_dataframe = pd.concat([uzgent_p_value_result_dataframe,pd.DataFrame(data=[[model_string,\"Transfer - Direct\",\"AF\",ranksums(transfer_predict[np.where(transfer_y_test==1)],direct_predict[np.where(direct_y_test==1)])[1]]],columns=uzgent_p_value_result_dataframe_columns)])\n",
    "uzgent_p_value_result_dataframe = pd.concat([uzgent_p_value_result_dataframe,pd.DataFrame(data=[[model_string,\"Transfer - Direct\",\"NO AF\",ranksums(transfer_predict[np.where(transfer_y_test==0)],direct_predict[np.where(direct_y_test==0)])[1]]],columns=uzgent_p_value_result_dataframe_columns)])\n",
    "\n",
    "\n",
    "# print(\"Combo uzgent - Direct \")\n",
    "# print(\"\")\n",
    "# print(\"Rank-sum p-value: \"+ str(ranksums(combo_uzgent_predict,direct_predict)[1]))\n",
    "# print(10*\"-\")\n",
    "# print(\"AF \")\n",
    "# print(\"Rank-sum p-value: \"+ str(ranksums(combo_uzgent_predict[np.where(combo_uzgent_y_test==1)],direct_predict[np.where(direct_y_test==1)])[1]))\n",
    "# print(10*\"-\")\n",
    "# print(\"NO AF\")\n",
    "# print(\"Rank-sum p-value: \"+ str(ranksums(combo_uzgent_predict[np.where(combo_uzgent_y_test==0)],direct_predict[np.where(direct_y_test==0)])[1]))\n",
    "# print(40*\"=\")\n",
    "uzgent_p_value_result_dataframe = pd.concat([uzgent_p_value_result_dataframe,pd.DataFrame(data=[[model_string,\"Combo uzgent - Direct\",\"all\",ranksums(combo_uzgent_predict,direct_predict)[1]]],columns=uzgent_p_value_result_dataframe_columns)])\n",
    "uzgent_p_value_result_dataframe = pd.concat([uzgent_p_value_result_dataframe,pd.DataFrame(data=[[model_string,\"Combo uzgent - Direct\",\"AF\",ranksums(combo_uzgent_predict[np.where(combo_uzgent_y_test==1)],direct_predict[np.where(direct_y_test==1)])[1]]],columns=uzgent_p_value_result_dataframe_columns)])\n",
    "uzgent_p_value_result_dataframe = pd.concat([uzgent_p_value_result_dataframe,pd.DataFrame(data=[[model_string,\"Combo uzgent - Direct\",\"NO AF\",ranksums(combo_uzgent_predict[np.where(combo_uzgent_y_test==0)],direct_predict[np.where(direct_y_test==0)])[1]]],columns=uzgent_p_value_result_dataframe_columns)])\n",
    "\n"
   ]
  },
  {
   "cell_type": "code",
   "execution_count": 198,
   "metadata": {},
   "outputs": [],
   "source": [
    "# uzgent_p_value_result_dataframe.to_csv(\"../results/uzgent_p_value_result_dataframe.csv\",index=False)"
   ]
  },
  {
   "attachments": {},
   "cell_type": "markdown",
   "metadata": {},
   "source": [
    "# Data description"
   ]
  },
  {
   "cell_type": "code",
   "execution_count": 32,
   "metadata": {},
   "outputs": [],
   "source": [
    "rename_dict = {'mean_Lactaat (bloed)':'Mean lactate (mmol/L)',\n",
    "'slope_Hartfrequentie':'Slope heart frequency (bpm)',\n",
    "'max_Hartfrequentie':'Max heart frequency (bpm)',\n",
    "'mean_UrineCAD':'Mean hourly urinary volume (mL/h)',\n",
    "'min_UrineCAD':'Min hourly urinary volume (mL/h)',\n",
    "'mean_O2-Saturatie (bloed)':'Mean calculated O2 saturation on ABG (%)',\n",
    "'max_PO2 (bloed)':'Max ABG partial oxygen pressure (mmHg)',\n",
    "'mean_O2 concentratie (Set)':'Mean ventilator administered FiO2 (%)',\n",
    "'urgency':'ICU admission Urgency',\n",
    "\"min_Thrombo's (bloed)\":'Min thrombocytes (10³/µL)',\n",
    "'is_given_Noradrenaline (Norepinefrine)':'Has received noradrenalin',\n",
    "'min_Ureum (bloed)':'Min blood ureum (mmol/L)',\n",
    "'mean_Ureum (bloed)':'Mean blood ureum (mmol/L)',\n",
    "'is_given_Furosemide (Lasix)':'Has received loop diuretics',\n",
    "'min_Act.HCO3 (bloed)':'Min bicarbonate (mmol/L',\n",
    "'mean_Act.HCO3 (bloed)':'Mean bicarbonate (mmol/L',\n",
    "'Weight':'Weight (kg)',\n",
    "'mean_PEEP (Set)':'Mean PEEP setting (mmHg)',\n",
    "'fluid_balance':'Fluid Balance (mL)',\n",
    "'mean_CVD':'Mean CVP (mmHg)',\n",
    "'min_CVD':'Min CVP (mmHg)',\n",
    "'max_CVD':'Man CVP (mmHg)',\n",
    "'slope_ABP systolisch':'Slope systolic ABP (mmHg)',\n",
    "'min_ABP systolisch':'Min systolic ABP (mmHg)',\n",
    "'min_pH (bloed)':'Min arterial pH on blood gas',\n",
    "'slope_ABP gemiddeld':'Slope mean ABP (mmHg)',\n",
    "'min_ABP gemiddeld':'Min mean ABP (mmHg)',\n",
    "'max_Fosfaat (bloed)':'Max Phosphate (mmol/L)',\n",
    "'max_ABP systolisch':'Max systolic ABP (mmHg)',\n",
    "'min_Lactaat (bloed)':'Min Lactate (mmol/L)',\n",
    "'max_UrineCAD':'Max hourly urinary volume (mL/h)',\n",
    "'mean_Hartfrequentie':'Mean heart frequency (bpm)',\n",
    "'min_Fosfaat (bloed)':'Min Phosphate (mmol/L)',\n",
    "'is_given_Propofol (Diprivan)':'Has received Propofol (Diprivan)',\n",
    "\"max_Thrombo's (bloed)\":'Max thrombocytes (10³/µL)',\n",
    "'slope_B.E. (bloed)':'Slope base excess (mmol/L)'}\n",
    "\n",
    "X_train_descr = X_train.rename(columns=rename_dict)\n",
    "X_train_descr[\"ICU admission Urgency\"] = X_train_descr[\"ICU admission Urgency\"].astype(np.int32)\n",
    "\n",
    "\n",
    "if one_half_hour_model:\n",
    "    describe_df_15_no_AF = X_train_descr[y_train==0].describe().loc[['mean','25%','75%']].transpose().round(2)\n",
    "    describe_df_15_no_AF[\"text\"]=describe_df_15_no_AF[\"mean\"].astype(str) +' ('+describe_df_15_no_AF[\"25%\"].astype(str) +\" - \" + describe_df_15_no_AF[\"75%\"].astype(str) + \")\"\n",
    "    describe_df_15_no_AF = describe_df_15_no_AF[[\"text\"]]\n",
    "    describe_df_15_no_AF = describe_df_15_no_AF.rename(columns={\"text\":\"Model-1.5\"})\n",
    "    describe_df_15_no_AF = describe_df_15_no_AF.rename_axis('Feature').reset_index()\n",
    "\n",
    "    describe_df_15_AF = X_train_descr[y_train==1].describe().loc[['mean','25%','75%']].transpose().round(2)\n",
    "    describe_df_15_AF[\"text\"]=describe_df_15_AF[\"mean\"].astype(str) +' ('+describe_df_15_AF[\"25%\"].astype(str) +\" - \" + describe_df_15_AF[\"75%\"].astype(str) + \")\"\n",
    "    describe_df_15_AF = describe_df_15_AF[[\"text\"]]\n",
    "    describe_df_15_AF = describe_df_15_AF.rename(columns={\"text\":\"Model-1.5\"})\n",
    "    describe_df_15_AF = describe_df_15_AF.rename_axis('Feature').reset_index()\n",
    "\n",
    "    nans_15_AF_df = pd.DataFrame((X_train_descr[y_train==0].isna().mean()*100).round(2),columns=[\"Model-1.5_AF\"]).rename_axis('Feature').reset_index()\n",
    "    nans_15_noAF_df = pd.DataFrame((X_train_descr[y_train==1].isna().mean()*100).round(2),columns=[\"Model-1.5_noAF\"]).rename_axis('Feature').reset_index()\n",
    "\n",
    "    nans_15_df = nans_15_AF_df.copy(deep=True)\n",
    "    nans_15_df[\"Model-1.5\"] = nans_15_noAF_df[\"Model-1.5_noAF\"].astype(str) + \" - \" +nans_15_AF_df[\"Model-1.5_AF\"].astype(str)\n",
    "    nans_15_df = nans_15_df[[\"Feature\",\"Model-1.5\"]]\n",
    "    \n",
    "    \n",
    "elif six_hour_model:\n",
    "    describe_df_6_no_AF = X_train_descr[y_train==0].describe().loc[['mean','25%','75%']].transpose().round(2)\n",
    "    describe_df_6_no_AF[\"text\"]=describe_df_6_no_AF[\"mean\"].astype(str) +' ('+describe_df_6_no_AF[\"25%\"].astype(str) +\" - \" + describe_df_6_no_AF[\"75%\"].astype(str) + \")\"\n",
    "    describe_df_6_no_AF = describe_df_6_no_AF[[\"text\"]]\n",
    "    describe_df_6_no_AF = describe_df_6_no_AF.rename(columns={\"text\":\"Model-6\"})\n",
    "    describe_df_6_no_AF = describe_df_6_no_AF.rename_axis('Feature').reset_index()\n",
    "\n",
    "    describe_df_6_AF = X_train_descr[y_train==1].describe().loc[['mean','25%','75%']].transpose().round(2)\n",
    "    describe_df_6_AF[\"text\"]=describe_df_6_AF[\"mean\"].astype(str) +' ('+describe_df_6_AF[\"25%\"].astype(str) +\" - \" + describe_df_6_AF[\"75%\"].astype(str) + \")\"\n",
    "    describe_df_6_AF = describe_df_6_AF[[\"text\"]]\n",
    "    describe_df_6_AF = describe_df_6_AF.rename(columns={\"text\":\"Model-6\"})\n",
    "    describe_df_6_AF = describe_df_6_AF.rename_axis('Feature').reset_index()\n",
    "\n",
    "    nans_6_AF_df = pd.DataFrame((X_train_descr[y_train==0].isna().mean()*100).round(2),columns=[\"Model-6_AF\"]).rename_axis('Feature').reset_index()\n",
    "    nans_6_noAF_df = pd.DataFrame((X_train_descr[y_train==1].isna().mean()*100).round(2),columns=[\"Model-6_noAF\"]).rename_axis('Feature').reset_index()\n",
    "\n",
    "    nans_6_df = nans_6_AF_df.copy(deep=True)\n",
    "    nans_6_df[\"Model-6\"] = nans_6_noAF_df[\"Model-6_noAF\"].astype(str) + \" - \" +nans_6_AF_df[\"Model-6_AF\"].astype(str)\n",
    "    nans_6_df = nans_6_df[[\"Feature\",\"Model-6\"]]\n",
    "\n",
    "else:\n",
    "    describe_df_12_no_AF = X_train_descr[y_train==0].describe().loc[['mean','25%','75%']].transpose().round(2)\n",
    "    describe_df_12_no_AF[\"text\"]=describe_df_12_no_AF[\"mean\"].astype(str) +' ('+describe_df_12_no_AF[\"25%\"].astype(str) +\" - \" + describe_df_12_no_AF[\"75%\"].astype(str) + \")\"\n",
    "    describe_df_12_no_AF = describe_df_12_no_AF[[\"text\"]]\n",
    "    describe_df_12_no_AF = describe_df_12_no_AF.rename(columns={\"text\":\"Model-12\"})\n",
    "    describe_df_12_no_AF = describe_df_12_no_AF.rename_axis('Feature').reset_index()\n",
    "\n",
    "    describe_df_12_AF = X_train_descr[y_train==1].describe().loc[['mean','25%','75%']].transpose().round(2)\n",
    "    describe_df_12_AF[\"text\"]=describe_df_12_AF[\"mean\"].astype(str) +' ('+describe_df_12_AF[\"25%\"].astype(str) +\" - \" + describe_df_12_AF[\"75%\"].astype(str) + \")\"\n",
    "    describe_df_12_AF = describe_df_12_AF[[\"text\"]]\n",
    "    describe_df_12_AF = describe_df_12_AF.rename(columns={\"text\":\"Model-12\"})\n",
    "    describe_df_12_AF = describe_df_12_AF.rename_axis('Feature').reset_index()\n",
    "\n",
    "    nans_12_AF_df = pd.DataFrame((X_train_descr[y_train==0].isna().mean()*100).round(2),columns=[\"Model-12_AF\"]).rename_axis('Feature').reset_index()\n",
    "    nans_12_noAF_df = pd.DataFrame((X_train_descr[y_train==1].isna().mean()*100).round(2),columns=[\"Model-12_noAF\"]).rename_axis('Feature').reset_index()\n",
    "\n",
    "    nans_12_df = nans_12_AF_df.copy(deep=True)\n",
    "    nans_12_df[\"Model-12\"] = nans_12_noAF_df[\"Model-12_noAF\"].astype(str) + \" - \" +nans_12_AF_df[\"Model-12_AF\"].astype(str)\n",
    "    nans_12_df = nans_12_df[[\"Feature\",\"Model-12\"]]\n"
   ]
  },
  {
   "cell_type": "code",
   "execution_count": 34,
   "metadata": {},
   "outputs": [],
   "source": [
    "if len(describe_df_15_no_AF)*len(describe_df_6_no_AF)*len(describe_df_12_no_AF)>0:\n",
    "    describe_df_15_AF.merge(describe_df_6_AF,on=\"Feature\",how=\"outer\").merge(describe_df_12_AF,on=\"Feature\",how=\"outer\").to_csv(\"../results/features_descriptions_AF_uzgent.csv\",index=False)\n",
    "    describe_df_15_no_AF.merge(describe_df_6_no_AF,on=\"Feature\",how=\"outer\").merge(describe_df_12_no_AF,on=\"Feature\",how=\"outer\").to_csv(\"../results/features_descriptions_no_AF_uzgent.csv\",index=False)"
   ]
  },
  {
   "cell_type": "code",
   "execution_count": 33,
   "metadata": {},
   "outputs": [],
   "source": [
    "if len(nans_15_df)*len(nans_6_df)*len(nans_12_df)>0:\n",
    "    nans_15_df.merge(nans_6_df,on=\"Feature\",how=\"outer\").merge(nans_12_df,on=\"Feature\",how=\"outer\").to_csv(\"../results/nans_GUH.csv\",index=False)"
   ]
  },
  {
   "cell_type": "markdown",
   "metadata": {},
   "source": [
    "# Patient Demographics GUH"
   ]
  },
  {
   "cell_type": "code",
   "execution_count": null,
   "metadata": {},
   "outputs": [],
   "source": [
    "#227428 SOFA mimic\n",
    "#226743 \tAPACHE II \t\n",
    "\n",
    "#13081 numeric items amst (apache II)"
   ]
  },
  {
   "cell_type": "code",
   "execution_count": null,
   "metadata": {},
   "outputs": [],
   "source": [
    "admissions_pd_uzgent = pd.read_csv(r\"Data/uzgent/uzgent-iv-1.0/df_adm_icu.csv\",sep=',')\n",
    "admissions_pd_uzgent = admissions_pd_uzgent.rename(columns={\"subject_id\":\"patientid\",\"stay_id\":\"admissionid\",\"los\":\"lengthofstay\"})\n",
    "admissions_pd_uzgent.loc[:,\"intime\"] = pd.to_datetime(admissions_pd_uzgent.intime)\n",
    "admissions_pd_uzgent.loc[:,\"outtime\"] = pd.to_datetime(admissions_pd_uzgent.outtime)\n",
    "admissions_pd_uzgent.loc[:,\"lengthofstay\"]=admissions_pd_uzgent.lengthofstay*24\n",
    "admissions_pd_uzgent.loc[admissions_pd_uzgent.AF_measuredat==\"0\",\"AF_measuredat\"]=0.0\n",
    "admissions_pd_uzgent.loc[admissions_pd_uzgent.AF_measuredat!=0,\"AF_measuredat\"]=(pd.to_datetime(admissions_pd_uzgent[admissions_pd_uzgent.AF_measuredat!=0].AF_measuredat)-pd.to_datetime(admissions_pd_uzgent[admissions_pd_uzgent.AF_measuredat!=0].intime)).dt.total_seconds()/60/60\n",
    "admissions_pd_uzgent[\"AF_measuredat\"] = np.float32(admissions_pd_uzgent[\"AF_measuredat\"])\n",
    "admissions_pd_uzgent = admissions_pd_uzgent[admissions_pd_uzgent.lengthofstay>=12]\n",
    "\n",
    "weight_csv = pd.read_csv(\"Data/uzgent/uzgent-iv-1.0/icu/csv/chartevents/\"+str(226512)+\".csv\")[[\"stay_id\",\"valuenum\"]]\n",
    "weight_csv = weight_csv.rename(columns={\"subject_id\":\"patientid\",\"stay_id\":\"admissionid\",\"valuenum\":\"weight\"})\n",
    "height_csv = pd.read_csv(\"Data/uzgent/uzgent-iv-1.0/icu/csv/chartevents/\"+str(226730)+\".csv\")[[\"stay_id\",\"valuenum\"]]\n",
    "height_csv = height_csv.rename(columns={\"subject_id\":\"patientid\",\"stay_id\":\"admissionid\",\"valuenum\":\"height\"})\n",
    "\n",
    "\n",
    "admissions_pd_uzgent = admissions_pd_uzgent.merge(height_csv,how='left',on='admissionid')\n",
    "admissions_pd_uzgent.loc[(admissions_pd_uzgent.height<50)|(admissions_pd_uzgent.height>250)]=int(admissions_pd_uzgent[(admissions_pd_uzgent.height<50)|(admissions_pd_uzgent.height>250)].height.mean())\n",
    "admissions_pd_uzgent = admissions_pd_uzgent.merge(weight_csv,how='left',on='admissionid')\n",
    "admissions_pd_uzgent.loc[(admissions_pd_uzgent.weight<20)|(admissions_pd_uzgent.weight>500)]=int(admissions_pd_uzgent[(admissions_pd_uzgent.weight<20)|(admissions_pd_uzgent.weight>500)].weight.mean())\n",
    "admissions_pd_uzgent[\"BMI\"]=admissions_pd_uzgent.weight/((admissions_pd_uzgent.height/100)**2)\n",
    "    \n",
    "df_patients = pd.read_csv(r\"Data/uzgent/uzgent-iv-1.0/core/csv/patients.csv\",sep=',')\n",
    "df_patients = df_patients.rename(columns={\"subject_id\":\"patientid\",\"anchor_age\":\"Age\"})\n",
    "\n",
    "admissions_pd_uzgent = admissions_pd_uzgent.merge(df_patients[['patientid','Age','gender']],how='left',on='patientid')\n",
    "#If no gender was specified, the value is -1.\n",
    "gender_category = {'M':1,\"F\":0,\"\":-1}\n",
    "\n",
    "#Replace the strings with numbers\n",
    "admissions_pd_uzgent[\"gender\"]=admissions_pd_uzgent[\"gender\"].replace(gender_category)\n",
    "\n",
    "admissions_pd_uzgent = admissions_pd_uzgent[(admissions_pd_uzgent.AF==0)|((admissions_pd_uzgent.AF==1)&(admissions_pd_uzgent.AF_measuredat>=12))]\n",
    "\n",
    "print(len(admissions_pd_uzgent.patientid.unique()))"
   ]
  },
  {
   "cell_type": "code",
   "execution_count": null,
   "metadata": {},
   "outputs": [],
   "source": [
    "sofa_uzgent_csv = pd.read_csv(\"Data/uzgent/uzgent-iv-1.0/uzgent_sofa.csv\")[[\"stay_id\",\"sofa_24hours\",\"starttime\",\"endtime\"]]\n",
    "sofa_uzgent_csv = sofa_uzgent_csv.rename(columns={\"stay_id\":\"admissionid\",\"sofa_24hours\":\"sofa\"})\n",
    "sofa_uzgent_csv.loc[:,\"starttime\"]=pd.to_datetime(sofa_uzgent_csv.starttime)\n",
    "sofa_uzgent_csv.loc[:,\"endtime\"]=pd.to_datetime(sofa_uzgent_csv.endtime)\n",
    "sofa_uzgent_csv = sofa_uzgent_csv.merge(admissions_pd_uzgent[[\"admissionid\",\"patientid\",\"intime\",\"outtime\",\"AF_measuredat\",\"AF\"]],how=\"inner\",on=\"admissionid\")\n",
    "sofa_uzgent_csv[\"time_to_adm\"] = (pd.to_datetime(sofa_uzgent_csv.starttime)-pd.to_datetime(sofa_uzgent_csv.intime)).dt.total_seconds()/60/60\n",
    "sofa_mean_day_uzgent = sofa_uzgent_csv[sofa_uzgent_csv.time_to_adm<=24][[\"patientid\",\"admissionid\",\"sofa\"]].groupby([\"patientid\",\"admissionid\"]).mean().reset_index()\n",
    "sofa_mean_day_uzgent = sofa_mean_day_uzgent.rename(columns={\"sofa\":\"sofa_first24h\"})\n",
    "sofa_AF_uzgent = sofa_uzgent_csv[(sofa_uzgent_csv.AF==1)&(sofa_uzgent_csv.AF_measuredat - sofa_uzgent_csv.time_to_adm <= 1)&(sofa_uzgent_csv.AF_measuredat - sofa_uzgent_csv.time_to_adm >= 0)][[\"patientid\",\"admissionid\",\"sofa\"]].groupby([\"patientid\",\"admissionid\"]).mean().reset_index()\n",
    "sofa_AF_uzgent = sofa_AF_uzgent.rename(columns={\"sofa\":\"sofa_AF_matched\"})\n",
    "admissions_pd_uzgent = admissions_pd_uzgent.merge(sofa_mean_day_uzgent,how='left',on=['patientid','admissionid'])\n",
    "admissions_pd_uzgent = admissions_pd_uzgent.merge(sofa_AF_uzgent,how='left',on=['patientid','admissionid'])"
   ]
  },
  {
   "cell_type": "code",
   "execution_count": null,
   "metadata": {},
   "outputs": [],
   "source": [
    "admissions_pd_amst = pd.read_csv(\"Data/Extracted/admissions_demographics.csv\")\n",
    "admissions_pd_amst = admissions_pd_amst[admissions_pd_amst.lengthofstay>=12]\n",
    "admissions_pd_amst.loc[admissions_pd_amst.Weight==0] = admissions_pd_amst[admissions_pd_amst.Weight>0].Weight.mean()\n",
    "admissions_pd_amst.loc[admissions_pd_amst.Height==0] = admissions_pd_amst[admissions_pd_amst.Height>0].Height.mean()\n",
    "admissions_pd_amst[\"BMI\"]=admissions_pd_amst.Weight/((admissions_pd_amst.Height/100)**2)\n",
    "admissions_pd_amst[\"AF_measuredat\"] = admissions_pd_amst[\"AF_measuredat\"]/1000/60/60\n",
    "admissions_pd_amst = admissions_pd_amst[(admissions_pd_amst.AF==0)|((admissions_pd_amst.AF==1)&(admissions_pd_amst.AF_measuredat>=12))]\n",
    "\n",
    "print(len(admissions_pd_amst.patientid.unique()))\n",
    "\n",
    "amst_sofa = pd.read_csv(r\"Data/sofa.csv\",sep=',')\n",
    "amst_apache_II = pd.read_csv(r\"Data/apache_ii.csv\",sep=',')\n",
    "admissions_pd_amst = admissions_pd_amst.merge(amst_sofa[[\"admissionid\",\"sofa_total_score\"]],how='left',on='admissionid')\n",
    "admissions_pd_amst = admissions_pd_amst.merge(amst_apache_II[[\"admissionid\",\"apache_ii_total_score\"]],how='left',on='admissionid')"
   ]
  },
  {
   "cell_type": "code",
   "execution_count": null,
   "metadata": {},
   "outputs": [],
   "source": [
    "print(len(admissions_pd_uzgent.patientid.unique()))\n",
    "print(len(admissions_pd_amst.patientid.unique()))\n",
    "print(len(admissions_pd_uzgent[admissions_pd_uzgent.AF==1].patientid.unique()))\n",
    "print(len(admissions_pd_amst[admissions_pd_amst.AF==1].patientid.unique()))\n",
    "print(len(admissions_pd_uzgent[admissions_pd_uzgent.AF==0].patientid.unique()))\n",
    "print(len(admissions_pd_amst[admissions_pd_amst.AF==0].patientid.unique()))"
   ]
  },
  {
   "cell_type": "code",
   "execution_count": null,
   "metadata": {},
   "outputs": [],
   "source": [
    "print(\"AMSTERDAM COLUMNS\")\n",
    "print(\"\")\n",
    "print(admissions_pd_amst.columns)\n",
    "print(50*\"-\")\n",
    "print(\"\")\n",
    "print(\"UZGENT COLUMNS\")\n",
    "print(\"\")\n",
    "print(admissions_pd_uzgent.columns)"
   ]
  },
  {
   "cell_type": "code",
   "execution_count": null,
   "metadata": {},
   "outputs": [],
   "source": [
    "admissions_pd_uzgent[admissions_pd_uzgent.AF==1].admission_type.value_counts()"
   ]
  },
  {
   "cell_type": "code",
   "execution_count": null,
   "metadata": {},
   "outputs": [],
   "source": [
    "(1292+623)/len(admissions_pd_uzgent[admissions_pd_uzgent.AF==1])*100"
   ]
  },
  {
   "cell_type": "code",
   "execution_count": null,
   "metadata": {},
   "outputs": [],
   "source": [
    "admissions_pd_amst[admissions_pd_amst.AF==0].specialty.value_counts()"
   ]
  },
  {
   "cell_type": "code",
   "execution_count": null,
   "metadata": {},
   "outputs": [],
   "source": [
    "(6172+2092+1019+32)/len(admissions_pd_amst[admissions_pd_amst.AF==0])*100"
   ]
  },
  {
   "cell_type": "code",
   "execution_count": null,
   "metadata": {},
   "outputs": [],
   "source": [
    "admissions_pd_uzgent.admission_type.value_counts()"
   ]
  },
  {
   "cell_type": "code",
   "execution_count": null,
   "metadata": {},
   "outputs": [],
   "source": [
    "admissions_pd_uzgent[admissions_pd_uzgent.AF>=0].drop_duplicates(\"patientid\").ethnicity.value_counts()"
   ]
  },
  {
   "cell_type": "code",
   "execution_count": null,
   "metadata": {},
   "outputs": [],
   "source": [
    "print(admissions_pd_amst[admissions_pd_amst.AF==0].cardio_surgery_new.sum())\n",
    "print(admissions_pd_amst[admissions_pd_amst.AF==0].sepsis_bool.sum())\n",
    "admissions_pd_amst[admissions_pd_amst.AF==0].drop_duplicates(\"patientid\").describe()"
   ]
  },
  {
   "cell_type": "code",
   "execution_count": null,
   "metadata": {},
   "outputs": [],
   "source": [
    "print(admissions_pd_uzgent[admissions_pd_uzgent.AF==0].cardiac_bool_new.sum())\n",
    "print(admissions_pd_uzgent[admissions_pd_uzgent.AF==0].sepsis_bool.sum())\n",
    "admissions_pd_uzgent[admissions_pd_uzgent.AF==0].drop_duplicates(\"patientid\").describe()"
   ]
  },
  {
   "cell_type": "code",
   "execution_count": null,
   "metadata": {},
   "outputs": [],
   "source": [
    "5165*0.692352"
   ]
  },
  {
   "cell_type": "code",
   "execution_count": null,
   "metadata": {},
   "outputs": [],
   "source": [
    "admissions_pd_uzgent.AF_measuredat"
   ]
  },
  {
   "cell_type": "code",
   "execution_count": null,
   "metadata": {},
   "outputs": [],
   "source": [
    "1-0.519807"
   ]
  },
  {
   "cell_type": "code",
   "execution_count": null,
   "metadata": {},
   "outputs": [],
   "source": [
    "1868*0.480193"
   ]
  },
  {
   "cell_type": "code",
   "execution_count": null,
   "metadata": {},
   "outputs": [],
   "source": [
    "from scipy import stats\n",
    "\n",
    "stats.ttest_ind(admissions_pd_amst[admissions_pd_amst.AF==0].sofa_total_score, admissions_pd_uzgent[(admissions_pd_uzgent.AF==0)&(~admissions_pd_uzgent.sofa_first24h.isna())].sofa_first24h)"
   ]
  },
  {
   "cell_type": "code",
   "execution_count": null,
   "metadata": {},
   "outputs": [],
   "source": [
    "stats.ranksums(admissions_pd_amst[admissions_pd_amst.AF==0].Gender_category, admissions_pd_uzgent[admissions_pd_uzgent.AF==0].gender)"
   ]
  }
 ],
 "metadata": {
  "interpreter": {
   "hash": "7e1f392defe650829700f492eb57f9ca780dd56d6bebdcdeef32d1ec2c20a25b"
  },
  "kernelspec": {
   "display_name": "Python 3.8.10 64-bit (windows store)",
   "language": "python",
   "name": "python3"
  },
  "language_info": {
   "codemirror_mode": {
    "name": "ipython",
    "version": 3
   },
   "file_extension": ".py",
   "mimetype": "text/x-python",
   "name": "python",
   "nbconvert_exporter": "python",
   "pygments_lexer": "ipython3",
   "version": "3.8.10"
  }
 },
 "nbformat": 4,
 "nbformat_minor": 4
}
