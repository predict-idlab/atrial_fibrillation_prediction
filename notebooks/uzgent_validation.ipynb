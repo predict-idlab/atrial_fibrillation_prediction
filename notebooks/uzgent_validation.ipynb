{
 "cells": [
  {
   "cell_type": "markdown",
   "metadata": {},
   "source": [
    "# Imports"
   ]
  },
  {
   "cell_type": "code",
   "execution_count": 134,
   "metadata": {},
   "outputs": [],
   "source": [
    "# Imports\n",
    "import matplotlib.pyplot as plt\n",
    "from tqdm import tqdm\n",
    "plt.rcParams[\"axes.grid\"] = False #disable ugly white lines which are present in google colab for matplotlib\n",
    "import numpy as np\n",
    "import datetime\n",
    "today = datetime.datetime.today() #To work with datetime values. Only relative time matters in this project, so selecting a random date is not a problem. \n",
    "from sklearn.metrics import classification_report,auc,r2_score,matthews_corrcoef\n",
    "import shap\n",
    "from catboost import CatBoostClassifier,CatBoostRegressor,Pool\n",
    "from catboost.utils import get_roc_curve\n",
    "import pandas as pd\n",
    "import re\n",
    "import os\n",
    "from scipy.stats import linregress,ttest_ind,ranksums\n",
    "uzgent_data_path = \"../data/uzgent/\"\n",
    "amsterdam_data_path = \"../data/amsterdam/\"\n",
    "from tabulate import tabulate"
   ]
  },
  {
   "cell_type": "code",
   "execution_count": 135,
   "metadata": {},
   "outputs": [],
   "source": [
    "pd.set_option('display.max_columns', None)"
   ]
  },
  {
   "cell_type": "code",
   "execution_count": 136,
   "metadata": {},
   "outputs": [],
   "source": [
    "present = False\n",
    "if present:\n",
    "    params = {\"ytick.color\" : \"w\",\n",
    "            \"xtick.color\" : \"w\",\n",
    "            \"axes.titlecolor\" : \"w\",\n",
    "            \"axes.labelcolor\" : \"w\",\n",
    "            \"axes.edgecolor\" : \"w\"}\n",
    "    plt.rcParams.update(params)\n",
    "    plt.rcParams.update({'font.size': 18})\n",
    "else:\n",
    "    params = {\"ytick.color\" : \"black\",\n",
    "            \"xtick.color\" : \"black\",\n",
    "            \"axes.titlecolor\" : \"black\",\n",
    "            \"axes.labelcolor\" : \"black\",\n",
    "            \"axes.edgecolor\" : \"black\"}\n",
    "    plt.rcParams.update(params)"
   ]
  },
  {
   "cell_type": "markdown",
   "metadata": {},
   "source": [
    "# External Validation"
   ]
  },
  {
   "cell_type": "code",
   "execution_count": 137,
   "metadata": {},
   "outputs": [],
   "source": [
    "def ece_calculator(X,y,model,plot_bool=False):\n",
    "    confidences = np.max(model.predict_proba(X),axis=1)\n",
    "    output_t = np.argmax(model.predict_proba(X),axis=1)\n",
    "\n",
    "    max_bin = 5\n",
    "\n",
    "    ECE_arr = np.array([])\n",
    "    cal_plot_ECE = list([])\n",
    "    ESCE_arr = np.array([])\n",
    "    for i in np.arange(0.5,max_bin + 0.1,0.1):\n",
    "        bins_size = i#1.5\n",
    "        bin_epsilon = 0.00001\n",
    "        bin_min = np.round(np.min(confidences*100))\n",
    "\n",
    "        pred_out = output_t\n",
    "        real_out = y.values\n",
    "        bins_correct = plt.hist(confidences[np.where(pred_out==real_out)]*100,density=False,label=\"Correct pred\",bins=np.arange(bin_min,101.0,bins_size),ec='black')#,color=\"#e898ac\",ec='white')\n",
    "        bins_incorrect = plt.hist(confidences[np.where(pred_out!=real_out)]*100,density=False,label=\"Incorrect pred\",bins=np.arange(bin_min,101.0,bins_size),ec='black')#,color=\"#e898ac\",ec='white')\n",
    "        \n",
    "\n",
    "        bin_means = np.array([])\n",
    "        for b in np.arange(bin_min,101.0,bins_size):\n",
    "            bin_means = np.append(bin_means,np.array(np.mean(np.append([bin_epsilon],confidences[np.where((confidences > b/100.0)&(confidences <= (b/100.0+bins_size/100.0)))]))))\n",
    "\n",
    "        bin_means = bin_means[:-1]\n",
    "\n",
    "        #avg accuracy per bin - avg confidence per bin (summed over all bins and normalized by width of size of bin)\n",
    "        ECE = np.sum((bins_correct[0]+bins_incorrect[0])/len(confidences) * (np.abs(bins_correct[0]/(bins_correct[0]+bins_incorrect[0]+bin_epsilon) - bin_means)))\n",
    "        cal_plot_ECE.append(np.array((bins_correct[0]/(bins_correct[0]+bins_incorrect[0]+bin_epsilon))))\n",
    "        ESCE = np.sum((bins_correct[0]+bins_incorrect[0])/len(confidences) * (bins_correct[0]/(bins_correct[0]+bins_incorrect[0]+bin_epsilon) - bin_means))\n",
    "        ECE_arr = np.append(ECE_arr,np.array(ECE))\n",
    "        ESCE_arr = np.append(ESCE_arr,np.array(ESCE))\n",
    "\n",
    "    plt.clf()\n",
    "\n",
    "    if plot_bool:\n",
    "        plt.figure(figsize=(12,8))\n",
    "        plt.plot(np.arange(0.5,max_bin + 0.1,0.1),ECE_arr*100,label=\"avg ECE\")\n",
    "        plt.plot(np.arange(0.5,max_bin + 0.1,0.1),ESCE_arr*100,label=\"avg ESCE\")\n",
    "\n",
    "        plt.legend()\n",
    "        plt.xlabel(\"Bin size \")\n",
    "        # plt.xlim([0.5,10])\n",
    "        plt.ylabel(\"ECE (% error)\")\n",
    "        plt.show()\n",
    "\n",
    "        plt.figure(figsize=(12,8))\n",
    "\n",
    "        bin_min = np.round(np.min(confidences*100))\n",
    "\n",
    "        mean_sece = np.array([])\n",
    "        increment_perc = 1\n",
    "        for perc in np.arange(bin_min+increment_perc,100+increment_perc,increment_perc):\n",
    "            mean_array = np.array([])\n",
    "            idx = 0\n",
    "            for calplots in cal_plot_ECE:\n",
    "                bins_size = np.arange(0.5,max_bin + 0.1,0.1)[idx]\n",
    "                plot_arr = np.where(calplots!=0)\n",
    "\n",
    "                x_ar = (np.arange(bin_min,101.0,bins_size)[:-1]+bins_size/2)[plot_arr]\n",
    "                cal_plot_mean = calplots[plot_arr][np.where((x_ar < perc) & (x_ar >= perc-increment_perc))]\n",
    "                \n",
    "                if len(cal_plot_mean>0):\n",
    "                    temp_mean = np.mean(cal_plot_mean)\n",
    "                    mean_array = np.append(mean_array,temp_mean)\n",
    "                \n",
    "                idx += 1\n",
    "\n",
    "            mean_sece = np.append(mean_sece,np.mean(mean_array))\n",
    "\n",
    "\n",
    "        for i in range(len(cal_plot_ECE)):\n",
    "            bins_size = np.arange(0.5,max_bin + 0.1,0.1)[i]\n",
    "            x_ar = np.arange(bin_min,101.0,bins_size)[:-1]+bins_size/2\n",
    "            plot_arr = np.where(cal_plot_ECE[i]!=0)\n",
    "            plt.plot(x_ar[plot_arr],cal_plot_ECE[i][plot_arr]*100,alpha=0.2,color=\"blue\")\n",
    "        plt.plot(np.arange(bin_min+increment_perc/2,100+increment_perc/2,increment_perc),mean_sece*100,color=\"red\",label=\"average\")\n",
    "        plt.plot([50,100],[50,100],color=\"black\",label=\"Perfect calibration\")\n",
    "        plt.xlim([50,100])\n",
    "        plt.ylim([0,100])\n",
    "        plt.xticks(np.arange(50,104,5))\n",
    "        plt.xlabel(\"Predicted probabilities (%)\")\n",
    "        plt.ylabel(\"Observed probabilities (%)\")\n",
    "        plt.grid()\n",
    "        plt.legend()\n",
    "        plt.show()\n",
    "\n",
    "    print(\"ECE normalized AUC (%) = \"+str(np.round(np.mean(ECE_arr)*100,2))+\" %\")\n",
    "    print(\"ESCE normalized AUC (%) = \"+str(np.round(np.mean(ESCE_arr)*100,2))+\" %\")\n",
    "\n",
    "    return np.mean(ECE_arr),np.mean(ESCE_arr)\n",
    "\n",
    "def pandas_result_AF_maker(patient_group_string,X,y,model,append_df):\n",
    "    (fpr, tpr, thresholds) = get_roc_curve(model, Pool(data=X,label=y), plot=False)\n",
    "    res_dict = classification_report(y,model.predict(X),target_names=[\"No-AF\",\"AF\"],output_dict=True)\n",
    "\n",
    "    ECE,ESCE = ece_calculator(X,y,model)\n",
    "\n",
    "    append_df = pd.concat([append_df,pd.DataFrame(data=[[model_string,validation_type_string,patient_group_string,\n",
    "                    res_dict[\"No-AF\"][\"support\"],res_dict[\"AF\"][\"support\"],\n",
    "                    res_dict[\"No-AF\"][\"recall\"],res_dict[\"AF\"][\"recall\"],\n",
    "                    res_dict[\"No-AF\"][\"precision\"],res_dict[\"AF\"][\"precision\"],\n",
    "                    res_dict[\"No-AF\"][\"f1-score\"],res_dict[\"AF\"][\"f1-score\"],\n",
    "                    matthews_corrcoef(y,model.predict(X)),auc(fpr,tpr),ECE,ESCE\n",
    "                   ]],columns=uzgent_result_dataframe_columns)])\n",
    "    \n",
    "    return append_df\n",
    "\n",
    "\n",
    "uzgent_result_dataframe_columns=[\"model\",\"validation_type\",\"patient_group\",\"NO AF patients\",\"AF patients\",\"NO AF recall\",\"AF recall\",\"NO AF precision\",\"AF precision\",\"NO AF f1\",\"AF f1\",\"mcc\",\"auc\",\"ECE\",\"ESCE\"]\n",
    "# uzgent_result_dataframe = pd.DataFrame(columns=uzgent_result_dataframe_columns)\n",
    "\n",
    "uzgent_p_value_result_dataframe_columns=[\"model\",\"comparison\",\"AF_group\",\"p_value\"]\n",
    "# uzgent_p_value_result_dataframe = pd.DataFrame(columns=uzgent_p_value_result_dataframe_columns)\n",
    "\n",
    "# missing_dataframe = pd.DataFrame(columns=[\"model\",\"feature\",\"train amst\",\"balanced test amst\",\"all test amst\",\"train uzgent\",\"balanced test uzgent\",\"all test uzgent\"])"
   ]
  },
  {
   "cell_type": "code",
   "execution_count": 138,
   "metadata": {},
   "outputs": [],
   "source": [
    "#uzgent_result_dataframe.reset_index(drop=True).to_csv(\"../results/uzgent_af_prediction_results.csv\")"
   ]
  },
  {
   "cell_type": "code",
   "execution_count": 139,
   "metadata": {},
   "outputs": [
    {
     "name": "stdout",
     "output_type": "stream",
     "text": [
      "6\n"
     ]
    }
   ],
   "source": [
    "#True\n",
    "#False\n",
    "\n",
    "one_half_hour_model = False\n",
    "six_hour_model = True\n",
    "\n",
    "model_string = (\"1.5\"*int(one_half_hour_model)+\"12\"*int(1-one_half_hour_model))*int(1-six_hour_model)+\"6\"*int(six_hour_model)\n",
    "print(model_string)"
   ]
  },
  {
   "cell_type": "markdown",
   "metadata": {},
   "source": [
    "## Transfer validation"
   ]
  },
  {
   "cell_type": "code",
   "execution_count": 140,
   "metadata": {},
   "outputs": [],
   "source": [
    "validation_type_string = \"transfer\""
   ]
  },
  {
   "cell_type": "markdown",
   "metadata": {},
   "source": [
    "### Data import"
   ]
  },
  {
   "cell_type": "code",
   "execution_count": 141,
   "metadata": {},
   "outputs": [
    {
     "name": "stderr",
     "output_type": "stream",
     "text": [
      "Columns (9) have mixed types.Specify dtype option on import or set low_memory=False.\n"
     ]
    }
   ],
   "source": [
    "if one_half_hour_model:\n",
    "    AF_dataset = pd.read_csv(uzgent_data_path+\"AF_dataset_1_5_hours.csv\") \n",
    "elif six_hour_model:\n",
    "    AF_dataset = pd.read_csv(uzgent_data_path+\"AF_dataset_6_hours.csv\") \n",
    "else:\n",
    "    AF_dataset = pd.read_csv(uzgent_data_path+\"AF_dataset_12_hours.csv\") \n",
    "\n",
    "        \n",
    "AF_dataset = AF_dataset.rename(columns={\"HospAdmissionID\":\"patientid\",\"AgeOnAdmission\":\"Age\",\"ICUSessionID\":\"admissionid\"})\n",
    "AF_dataset.loc[AF_dataset.sepsis_extra_opn_measuredat > AF_dataset.AF_measuredat,\"sepsis_bool_extra_opn\"]=0\n",
    "\n",
    "AF_dataset.loc[(~AF_dataset.bmi.isna())&(AF_dataset.bmi.str.contains(\",\")),'bmi']=np.NaN"
   ]
  },
  {
   "cell_type": "code",
   "execution_count": 142,
   "metadata": {},
   "outputs": [],
   "source": [
    "AF_dataset[\"is_given_NORepinefrine\"]=0\n",
    "AF_dataset.loc[AF_dataset['mean_CV_norepinephrine']>0,\"is_given_NORepinefrine\"]=1\n",
    "\n",
    "\n",
    "AF_dataset[\"is_given_Calcium Glubionaat (Calcium Sandoz)\"]=0\n",
    "AF_dataset.loc[(AF_dataset[\"mean_VI_calcium carbonate\"]>1)|(AF_dataset[\"mean_VI_calcium chloride\"]>1),\"is_given_Calcium Glubionaat (Calcium Sandoz)\"] = 1\n",
    "    \n",
    "AF_dataset[\"is_given_Dopamine (Inotropin)\"]=0\n",
    "AF_dataset.loc[AF_dataset['mean_CV_dopamine']>0,\"is_given_Dopamine (Inotropin)\"]=1\n",
    "\n",
    "AF_dataset['is_given_Propofol (Diprivan)']=0\n",
    "AF_dataset.loc[AF_dataset['mean_NS_propofol']>0,'is_given_Propofol (Diprivan)']=1\n",
    "\n",
    "AF_dataset['is_given_Fentanyl']=0\n",
    "AF_dataset.loc[AF_dataset['mean_NS_fentanyl']>0,'is_given_Fentanyl']=1\n",
    "\n",
    "AF_dataset[\"is_given_Furosemide (Lasix)\"]=0\n",
    "AF_dataset.loc[AF_dataset['mean_DI_furosemide']>0,\"is_given_Furosemide (Lasix)\"]=1\n",
    "\n",
    "AF_dataset[\"is_given_LoopDiuretics\"]=0\n",
    "AF_dataset.loc[(AF_dataset['mean_DI_furosemide']>0),\"is_given_LoopDiuretics\"]=1\n",
    "\n",
    "AF_dataset[\"sepsis_bool\"]=0\n",
    "AF_dataset.loc[(AF_dataset.sepsis_bool_comorb_source==1) | (AF_dataset.sepsis_bool_extra_opn==1),\"sepsis_bool\"]=1\n",
    "\n",
    "AF_dataset.loc[AF_dataset['mean_PEEP_M_ALL'].isna(),\"mean_PEEP_M_ALL\"]=0\n",
    "\n",
    "AF_dataset.loc[AF_dataset.icuurg==\"Urgent\",\"icuurg\"]=1\n",
    "AF_dataset.loc[AF_dataset.icuurg!=1,\"icuurg\"]=0\n"
   ]
  },
  {
   "cell_type": "code",
   "execution_count": 143,
   "metadata": {},
   "outputs": [],
   "source": [
    "#Rename for distr change 12 hour model\n",
    "AF_dataset = AF_dataset.rename(columns={'mean_PEEP_M_ALL':'mean_PEEP (Set)', 'is_given_NORepinefrine':'is_given_Noradrenaline (Norepinefrine)', 'mean_URINE_VOL':'mean_UrineCAD', \n",
    "                            'max_PEEP_M_ALL':'max_PEEP (Set)','min_PEEP_M_ALL':'min_PEEP (Set)',\n",
    "                            'max_PHOSPHATE_ALL':'max_Fosfaat (bloed)','min_HR_ALL':'min_Hartfrequentie','mean_HR_ALL':'mean_Hartfrequentie','slope_HR_ALL':'slope_Hartfrequentie',\n",
    "                            'min_PH_ART_ALL':'min_pH (bloed)','mean_PH_ART_ALL':'mean_pH (bloed)','max_PH_ART_ALL':'max_pH (bloed)',\n",
    "                            'mean_LACTATE_ART':'mean_Lactaat (bloed)','max_LACTATE_ART':'max_Lactaat (bloed)' ,'min_LACTATE_ART':'min_Lactaat (bloed)' , \n",
    "                            'min_URINE_VOL':'min_UrineCAD', 'max_URINE_VOL':'max_UrineCAD', 'slope_URINE_VOL':'slope_UrineCAD', 'icuurg':'urgency',\n",
    "                            'mean_BALANS-Tot.':'fluid_balance', 'slope_RESPRATE_ALL':'slope_O2 l/min','Length':'Height',\n",
    "                            'mean_HCO3_ART':'mean_Act.HCO3 (bloed)','max_HCO3_ART':'max_Act.HCO3 (bloed)','min_HCO3_ART':'min_Act.HCO3 (bloed)','slope_HCO3_ART':'slope_Act.HCO3 (bloed)',\n",
    "                            'mean_PO2_ART':'mean_PO2 (bloed)','min_PO2_ART':'min_PO2 (bloed)','max_PO2_ART':'max_PO2 (bloed)','slope_PO2_ART':'slope_PO2 (bloed)',\n",
    "                            'mean_BE_ART':'mean_B.E. (bloed)','min_BE_ART':'min_B.E. (bloed)','max_BE_ART':'max_B.E. (bloed)','slope_BE_ART':'slope_B.E. (bloed)',\n",
    "                            'mean_PCO2_ART':'mean_pCO2 (bloed)','min_PCO2_ART':'min_pCO2 (bloed)','max_PCO2_ART':'max_pCO2 (bloed)','slope_PCO2_ART':'slope_pCO2 (bloed)',\n",
    "                            'mean_IBP_M':'mean_ABP gemiddeld','min_IBP_M':'min_ABP gemiddeld','max_IBP_M':'max_ABP gemiddeld','slope_IBP_M':'slope_ABP gemiddeld',\n",
    "                            'mean_IBP_S':'mean_ABP systolisch','min_IBP_S':'min_ABP systolisch','max_IBP_S':'max_ABP systolisch','slope_IBP_S':'slope_ABP systolisch',\n",
    "                            'mean_FIO2_MV_ALL':'mean_O2 concentratie (Set)','max_FIO2_MV_ALL':'max_O2 concentratie (Set)','min_FIO2_MV_ALL':'min_O2 concentratie (Set)',\n",
    "                            'mean_O2SAT_ART':'mean_O2-Saturatie (bloed)','max_O2SAT_ART':'max_O2-Saturatie (bloed)','min_O2SAT_ART':'min_O2-Saturatie (bloed)',\n",
    "                           'min_NS_propofol':'min_Propofol (Diprivan)', 'min_NS_fentanyl':'min_Fentanyl', 'mean_RESPRATE_ALL':'mean_O2 l/min', #'cardiac_bool_new':'cardio_surgery_new',\n",
    "                           'mean_PHOSPHATE_ALL':'mean_Fosfaat (bloed)', 'kurt_CVD':'kurt_CVD', 'max_HR_ALL':'max_Hartfrequentie', \"max_PLATELETS\":\"max_Thrombo's (bloed)\"})\n",
    "\n",
    "#Rename for distr change 6 hour model\n",
    "AF_dataset = AF_dataset.rename(columns={'max_RESPRATE_ALL':'max_O2 l/min', #'cardiac_bool_new':'cardio_surgery_new',\n",
    "                                        'min_PHOSPHATE_ALL':'min_Fosfaat (bloed)', 'mean_CVD':'mean_CVD', \n",
    "                                        \"min_PLATELETS\":\"min_Thrombo's (bloed)\",\"slope_PLATELETS\":\"slope_Thrombo's (bloed)\"})\n",
    "\n",
    "#Rename for distr change 1.5 hour model\n",
    "AF_dataset = AF_dataset.rename(columns={'max_UREA_ALL':'max_Ureum (bloed)','mean_UREA_ALL':'mean_Ureum (bloed)','min_UREA_ALL':'min_Ureum (bloed)'})\n",
    "\n",
    "#Rename for standard 12 hour model\n",
    "AF_dataset = AF_dataset.rename(columns={\"slope_PO2_ART\":'slope_PO2 (bloed)'})\n",
    "\n",
    "#Rename for standard 1.5 hour model\n",
    "AF_dataset = AF_dataset.rename(columns={ 'min_RESPRATE_ALL':'min_O2 l/min', \"mean_PLATELETS\":\"mean_Thrombo's (bloed)\",\n",
    "                                        'min_CVD':'min_CVD'})"
   ]
  },
  {
   "cell_type": "code",
   "execution_count": 144,
   "metadata": {},
   "outputs": [],
   "source": [
    "AF_temp_db = AF_dataset[(AF_dataset.AF==0)&(AF_dataset.AF_orig==0)&(AF_dataset.admissionid!=AF_dataset.date_corresponds_to_AF_admid)]\n",
    "\n",
    "AF_NOW = AF_temp_db.append(AF_dataset[AF_dataset.AF==1]).reset_index(drop=True)"
   ]
  },
  {
   "cell_type": "code",
   "execution_count": 145,
   "metadata": {},
   "outputs": [],
   "source": [
    "from sklearn.model_selection import train_test_split\n",
    "\n",
    "train_patientid,test_patientid = train_test_split(AF_NOW.patientid.unique(), test_size=0.2, random_state=42)#,stratify=AF_NOW[\"AF\"])\n",
    "\n",
    "train_AF_dataset = AF_NOW[AF_NOW.patientid.isin(train_patientid)]\n",
    "test_AF_dataset = AF_NOW[AF_NOW.patientid.isin(test_patientid)]\n",
    "\n"
   ]
  },
  {
   "cell_type": "code",
   "execution_count": 146,
   "metadata": {},
   "outputs": [],
   "source": [
    "X_train_or = train_AF_dataset#[train_AF_dataset.columns.drop(drop_columns)]\n",
    "X_test_or = test_AF_dataset#[test_AF_dataset.columns.drop(drop_columns)]\n",
    "y_train = train_AF_dataset.AF\n",
    "y_test = test_AF_dataset.AF"
   ]
  },
  {
   "cell_type": "code",
   "execution_count": 147,
   "metadata": {},
   "outputs": [],
   "source": [
    "X_train_or = train_AF_dataset#[(train_AF_dataset.AF==1)|((train_AF_dataset.AF_orig==0)&(train_AF_dataset.AF==0))]#[train_AF_dataset.columns.drop(drop_columns)]\n",
    "X_test_or = test_AF_dataset#[(test_AF_dataset.AF==1)|((test_AF_dataset.AF_orig==0)&(test_AF_dataset.AF==0))]#[test_AF_dataset.columns.drop(drop_columns)]\n",
    "y_train = train_AF_dataset.AF#[(train_AF_dataset.AF==1)|((train_AF_dataset.AF_orig==0)&(train_AF_dataset.AF==0))].AF\n",
    "y_test = test_AF_dataset.AF#[(test_AF_dataset.AF==1)|((test_AF_dataset.AF_orig==0)&(test_AF_dataset.AF==0))].AF"
   ]
  },
  {
   "cell_type": "markdown",
   "metadata": {},
   "source": [
    "### Testing"
   ]
  },
  {
   "cell_type": "code",
   "execution_count": 148,
   "metadata": {},
   "outputs": [],
   "source": [
    "if one_half_hour_model:\n",
    "    feature_columns = ['Age',\n",
    "        'mean_Lactaat (bloed)',\n",
    "        'slope_Hartfrequentie',\n",
    "        'mean_UrineCAD',\n",
    "        'mean_O2-Saturatie (bloed)',\n",
    "        'max_PO2 (bloed)',\n",
    "        'mean_O2 concentratie (Set)',\n",
    "        'urgency',\n",
    "        \"min_Thrombo's (bloed)\",\n",
    "        'is_given_Noradrenaline (Norepinefrine)',\n",
    "        'min_Ureum (bloed)',\n",
    "        'is_given_Furosemide (Lasix)',\n",
    "        'min_Act.HCO3 (bloed)',\n",
    "        'Weight',\n",
    "        'mean_PEEP (Set)',\n",
    "        'fluid_balance',\n",
    "        'mean_CVD',\n",
    "        'slope_ABP systolisch',\n",
    "        'min_pH (bloed)',\n",
    "        'slope_ABP gemiddeld',\n",
    "        ]\n",
    "\n",
    "elif six_hour_model:\n",
    "    feature_columns = ['Age',\n",
    "        'slope_Hartfrequentie',\n",
    "        'is_given_Noradrenaline (Norepinefrine)',\n",
    "        'mean_Lactaat (bloed)',\n",
    "        'min_UrineCAD',\n",
    "        'mean_O2 concentratie (Set)',\n",
    "        'max_PO2 (bloed)',\n",
    "        'min_CVD',\n",
    "        'is_given_Furosemide (Lasix)',\n",
    "        'fluid_balance',\n",
    "        'min_ABP gemiddeld',\n",
    "        'mean_PEEP (Set)',\n",
    "        'mean_Act.HCO3 (bloed)',\n",
    "        'min_ABP systolisch',\n",
    "        'urgency',\n",
    "        'slope_B.E. (bloed)']\n",
    "\n",
    "else:\n",
    "    feature_columns = ['Age',\n",
    "        'slope_Hartfrequentie',\n",
    "        'mean_O2 concentratie (Set)',\n",
    "        'mean_UrineCAD',\n",
    "        'max_PO2 (bloed)',\n",
    "        'max_CVD',\n",
    "        'mean_Lactaat (bloed)',\n",
    "        'min_pH (bloed)',\n",
    "        'mean_O2-Saturatie (bloed)',\n",
    "        'urgency',\n",
    "        'mean_PEEP (Set)']\n",
    "\n",
    "        \n",
    "X_train=X_train_or[feature_columns]    \n",
    "X_test= X_test_or[feature_columns] "
   ]
  },
  {
   "cell_type": "code",
   "execution_count": 149,
   "metadata": {},
   "outputs": [
    {
     "name": "stdout",
     "output_type": "stream",
     "text": [
      "0:\tlearn: 0.6805780\ttotal: 1.45ms\tremaining: 579ms\n",
      "100:\tlearn: 0.3973882\ttotal: 150ms\tremaining: 445ms\n",
      "200:\tlearn: 0.3228920\ttotal: 267ms\tremaining: 264ms\n",
      "300:\tlearn: 0.2679669\ttotal: 394ms\tremaining: 130ms\n",
      "399:\tlearn: 0.2225190\ttotal: 536ms\tremaining: 0us\n"
     ]
    },
    {
     "data": {
      "text/plain": [
       "<catboost.core.CatBoostClassifier at 0x2000b222a00>"
      ]
     },
     "execution_count": 149,
     "metadata": {},
     "output_type": "execute_result"
    }
   ],
   "source": [
    "AF_class_balance = [y_train.sum()/len(y_train),1-y_train.sum()/len(y_train)]\n",
    "\n",
    "if one_half_hour_model:\n",
    "    CB_AF = CatBoostClassifier(\n",
    "        verbose=100, iterations=300, l2_leaf_reg=6, class_weights=AF_class_balance)\n",
    "elif six_hour_model:\n",
    "    CB_AF = CatBoostClassifier(\n",
    "        verbose=100, iterations=400, depth=5, l2_leaf_reg=2, class_weights=AF_class_balance)\n",
    "else:\n",
    "    CB_AF = CatBoostClassifier(\n",
    "        verbose=100, iterations=300, depth=4, l2_leaf_reg=2, class_weights=AF_class_balance)\n",
    "\n",
    "\n",
    "CB_AF.fit(X_train,y_train)"
   ]
  },
  {
   "cell_type": "code",
   "execution_count": 150,
   "metadata": {},
   "outputs": [
    {
     "name": "stdout",
     "output_type": "stream",
     "text": [
      "              precision    recall  f1-score   support\n",
      "\n",
      "       No-AF       0.97      0.92      0.95       623\n",
      "          AF       0.93      0.97      0.95       637\n",
      "\n",
      "    accuracy                           0.95      1260\n",
      "   macro avg       0.95      0.95      0.95      1260\n",
      "weighted avg       0.95      0.95      0.95      1260\n",
      "\n"
     ]
    }
   ],
   "source": [
    "print(classification_report(y_train,CB_AF.predict(X_train),target_names=[\"No-AF\",\"AF\"]))"
   ]
  },
  {
   "cell_type": "code",
   "execution_count": 151,
   "metadata": {},
   "outputs": [
    {
     "name": "stdout",
     "output_type": "stream",
     "text": [
      "BALANCED TEST PATIENTS\n",
      "              precision    recall  f1-score   support\n",
      "\n",
      "       No-AF       0.79      0.70      0.75       165\n",
      "          AF       0.71      0.80      0.75       151\n",
      "\n",
      "    accuracy                           0.75       316\n",
      "   macro avg       0.75      0.75      0.75       316\n",
      "weighted avg       0.75      0.75      0.75       316\n",
      "\n",
      "\n",
      "\n",
      "AUC = 0.8281\n",
      "MCC = 0.5053\n",
      "==================================================\n",
      "ECE normalized AUC (%) = 7.88 %\n",
      "ESCE normalized AUC (%) = 1.39 %\n"
     ]
    },
    {
     "data": {
      "text/plain": [
       "<Figure size 432x288 with 0 Axes>"
      ]
     },
     "metadata": {},
     "output_type": "display_data"
    }
   ],
   "source": [
    "print(\"BALANCED TEST PATIENTS\")\n",
    "print(classification_report(y_test,CB_AF.predict(X_test),target_names=[\"No-AF\",\"AF\"]))\n",
    "print(\"\\n\")\n",
    "(fpr, tpr, thresholds) = get_roc_curve(CB_AF, Pool(data=X_test,label=y_test), plot=False)\n",
    "print(\"AUC = \"+str(np.round(auc(fpr,tpr),4)))\n",
    "print(\"MCC = \"+str(np.round(matthews_corrcoef(y_test,CB_AF.predict(X_test)),4)))\n",
    "print(50*\"=\")\n",
    "\n",
    "uzgent_result_dataframe = pandas_result_AF_maker(\"balanced test\",X_test,y_test,CB_AF,uzgent_result_dataframe)"
   ]
  },
  {
   "cell_type": "code",
   "execution_count": 152,
   "metadata": {},
   "outputs": [],
   "source": [
    "transfer_y_test = y_test\n",
    "transfer_predict = CB_AF.predict(X_test)"
   ]
  },
  {
   "cell_type": "code",
   "execution_count": 153,
   "metadata": {},
   "outputs": [
    {
     "name": "stdout",
     "output_type": "stream",
     "text": [
      "ALL PATIENTS\n",
      "              precision    recall  f1-score   support\n",
      "\n",
      "       No-AF       1.00      0.74      0.85     12070\n",
      "          AF       0.04      0.80      0.07       151\n",
      "\n",
      "    accuracy                           0.74     12221\n",
      "   macro avg       0.52      0.77      0.46     12221\n",
      "weighted avg       0.98      0.74      0.84     12221\n",
      "\n",
      "\n",
      "\n",
      "AUC = 0.8417\n",
      "MCC = 0.1344\n",
      "==================================================\n",
      "ECE normalized AUC (%) = 8.16 %\n",
      "ESCE normalized AUC (%) = -7.91 %\n",
      "BALANCED TEST PATIENTS\n",
      "              precision    recall  f1-score   support\n",
      "\n",
      "       No-AF       0.79      0.70      0.75       165\n",
      "          AF       0.71      0.80      0.75       151\n",
      "\n",
      "    accuracy                           0.75       316\n",
      "   macro avg       0.75      0.75      0.75       316\n",
      "weighted avg       0.75      0.75      0.75       316\n",
      "\n",
      "\n",
      "\n",
      "AUC = 0.8281\n",
      "MCC = 0.5053\n",
      "==================================================\n"
     ]
    },
    {
     "data": {
      "text/plain": [
       "<Figure size 432x288 with 0 Axes>"
      ]
     },
     "metadata": {},
     "output_type": "display_data"
    }
   ],
   "source": [
    "temp_large_db = AF_dataset[((AF_dataset.AF==0)&(~AF_dataset.patientid.isin(AF_NOW.patientid)))|(AF_dataset.patientid.isin(test_AF_dataset.patientid))]\n",
    "\n",
    "y_test_all_pat = temp_large_db[(temp_large_db.AF==1)|((temp_large_db.AF_orig==0)&(temp_large_db.AF==0))].AF\n",
    "X_test_all_pat = temp_large_db[(temp_large_db.AF==1)|((temp_large_db.AF_orig==0)&(temp_large_db.AF==0))][feature_columns]\n",
    "\n",
    "print(\"ALL PATIENTS\")\n",
    "print(classification_report(y_test_all_pat,CB_AF.predict(X_test_all_pat),target_names=[\"No-AF\",\"AF\"]))\n",
    "print(\"\\n\")\n",
    "(fpr, tpr, thresholds) = get_roc_curve(CB_AF, Pool(data=X_test_all_pat,label=y_test_all_pat), plot=False)\n",
    "print(\"AUC = \"+str(np.round(auc(fpr,tpr),4)))\n",
    "print(\"MCC = \"+str(np.round(matthews_corrcoef(y_test_all_pat,CB_AF.predict(X_test_all_pat)),4)))\n",
    "print(50*\"=\")\n",
    "\n",
    "uzgent_result_dataframe = pandas_result_AF_maker(\"all patients\",X_test_all_pat,y_test_all_pat,CB_AF,uzgent_result_dataframe)\n",
    "\n",
    "print(\"BALANCED TEST PATIENTS\")\n",
    "print(classification_report(y_test,CB_AF.predict(X_test),target_names=[\"No-AF\",\"AF\"]))\n",
    "print(\"\\n\")\n",
    "(fpr, tpr, thresholds) = get_roc_curve(CB_AF, Pool(data=X_test,label=y_test), plot=False)\n",
    "print(\"AUC = \"+str(np.round(auc(fpr,tpr),4)))\n",
    "print(\"MCC = \"+str(np.round(matthews_corrcoef(y_test,CB_AF.predict(X_test)),4)))\n",
    "print(50*\"=\")"
   ]
  },
  {
   "cell_type": "code",
   "execution_count": 154,
   "metadata": {},
   "outputs": [
    {
     "data": {
      "image/png": "[encoded data removed]",
      "text/plain": [
       "<Figure size 720x432 with 1 Axes>"
      ]
     },
     "metadata": {
      "needs_background": "light"
     },
     "output_type": "display_data"
    }
   ],
   "source": [
    "present=False\n",
    "\n",
    "am_show_features = 60 if len(X_train.columns)>=30 else len(X_train.columns)\n",
    "fi = CB_AF.feature_importances_\n",
    "plt.figure(figsize=(10,6))\n",
    "indices_T0 = np.argsort(fi)[::-1][0:am_show_features]\n",
    "if present:\n",
    "    plt.barh(range(am_show_features),fi[indices_T0],color=\"#e898ac\")\n",
    "else:\n",
    "    plt.barh(range(am_show_features),fi[indices_T0])\n",
    "plt.yticks(range(am_show_features), X_train.columns[indices_T0])\n",
    "plt.xlabel(\"Mean feature importance (%)\")\n",
    "if present:\n",
    "    ax = plt.gca()\n",
    "    ax.patch.set_alpha(0)\n",
    "#plt.tight_layout()\n",
    "plt.show()"
   ]
  },
  {
   "cell_type": "code",
   "execution_count": 155,
   "metadata": {},
   "outputs": [
    {
     "data": {
      "image/png": "[encoded data removed]",
      "text/plain": [
       "<Figure size 576x568.8 with 2 Axes>"
      ]
     },
     "metadata": {
      "needs_background": "light"
     },
     "output_type": "display_data"
    }
   ],
   "source": [
    "present=False\n",
    "\n",
    "explainer = shap.TreeExplainer(CB_AF)\n",
    "shap_values = explainer.shap_values(X_test)\n",
    "shap.summary_plot(shap_values, X_test,show=False)\n"
   ]
  },
  {
   "cell_type": "markdown",
   "metadata": {},
   "source": [
    "## Combo validation "
   ]
  },
  {
   "cell_type": "code",
   "execution_count": 156,
   "metadata": {},
   "outputs": [],
   "source": [
    "validation_type_string = \"combo\""
   ]
  },
  {
   "cell_type": "markdown",
   "metadata": {},
   "source": [
    "### Data Import"
   ]
  },
  {
   "cell_type": "code",
   "execution_count": 157,
   "metadata": {},
   "outputs": [
    {
     "name": "stderr",
     "output_type": "stream",
     "text": [
      "Columns (9) have mixed types.Specify dtype option on import or set low_memory=False.\n"
     ]
    }
   ],
   "source": [
    "if one_half_hour_model:\n",
    "        AF_dataset_uzgent = pd.read_csv(uzgent_data_path+\"AF_dataset_1_5_hours.csv\") \n",
    "        AF_dataset = pd.read_csv(amsterdam_data_path+\"AF_dataset_1_5_hours.csv\") \n",
    "elif six_hour_model:\n",
    "        AF_dataset_uzgent = pd.read_csv(uzgent_data_path+\"AF_dataset_6_hours.csv\") \n",
    "        AF_dataset = pd.read_csv(amsterdam_data_path+\"AF_dataset_6_hours.csv\") \n",
    "else:\n",
    "        AF_dataset_uzgent = pd.read_csv(uzgent_data_path+\"AF_dataset_12_hours.csv\") \n",
    "        AF_dataset = pd.read_csv(amsterdam_data_path+\"AF_dataset_12_hours.csv\") \n",
    "        \n",
    "AF_dataset_uzgent = AF_dataset_uzgent.rename(columns={\"HospAdmissionID\":\"patientid\",\"AgeOnAdmission\":\"Age\",\"ICUSessionID\":\"admissionid\"})\n",
    "AF_dataset_uzgent.loc[AF_dataset_uzgent.sepsis_extra_opn_measuredat > AF_dataset_uzgent.AF_measuredat,\"sepsis_bool_extra_opn\"]=0"
   ]
  },
  {
   "cell_type": "code",
   "execution_count": 158,
   "metadata": {},
   "outputs": [],
   "source": [
    "AF_dataset_uzgent[\"is_given_NORepinefrine\"]=0\n",
    "AF_dataset_uzgent.loc[AF_dataset_uzgent['mean_CV_norepinephrine']>0,\"is_given_NORepinefrine\"]=1\n",
    "\n",
    "AF_dataset_uzgent[\"is_given_Calcium Glubionaat (Calcium Sandoz)\"]=0\n",
    "AF_dataset_uzgent.loc[(AF_dataset_uzgent[\"mean_VI_calcium carbonate\"]>1)|(AF_dataset_uzgent[\"mean_VI_calcium chloride\"]>1),\"is_given_Calcium Glubionaat (Calcium Sandoz)\"] = 1\n",
    "    \n",
    "AF_dataset_uzgent[\"is_given_Dopamine (Inotropin)\"]=0\n",
    "AF_dataset_uzgent.loc[AF_dataset_uzgent['mean_CV_dopamine']>0,\"is_given_Dopamine (Inotropin)\"]=1\n",
    "\n",
    "AF_dataset_uzgent['is_given_Propofol (Diprivan)']=0\n",
    "AF_dataset_uzgent.loc[AF_dataset_uzgent['mean_NS_propofol']>0,'is_given_Propofol (Diprivan)']=1\n",
    "\n",
    "AF_dataset_uzgent['is_given_Fentanyl']=0\n",
    "AF_dataset_uzgent.loc[AF_dataset_uzgent['mean_NS_fentanyl']>0,'is_given_Fentanyl']=1\n",
    "\n",
    "AF_dataset_uzgent[\"is_given_Furosemide (Lasix)\"]=0\n",
    "AF_dataset_uzgent.loc[AF_dataset_uzgent['mean_DI_furosemide']>0,\"is_given_Furosemide (Lasix)\"]=1\n",
    "\n",
    "AF_dataset_uzgent[\"is_given_LoopDiuretics\"]=0\n",
    "AF_dataset_uzgent.loc[(AF_dataset_uzgent['mean_DI_furosemide']>0),\"is_given_LoopDiuretics\"]=1\n",
    "\n",
    "AF_dataset_uzgent[\"sepsis_bool\"]=0\n",
    "AF_dataset_uzgent.loc[(AF_dataset_uzgent.sepsis_bool_comorb_source==1) | (AF_dataset_uzgent.sepsis_bool_extra_opn==1),\"sepsis_bool\"]=1\n",
    "\n",
    "AF_dataset_uzgent.loc[AF_dataset_uzgent.icuurg==\"URGENT\",\"icuurg\"]=1\n",
    "AF_dataset_uzgent.loc[AF_dataset_uzgent.icuurg!=1,\"icuurg\"]=0"
   ]
  },
  {
   "cell_type": "code",
   "execution_count": 159,
   "metadata": {},
   "outputs": [],
   "source": [
    "AF_dataset[\"is_given_Magnesiumsulfaat (MgSO4)\"]=0\n",
    "AF_dataset.loc[AF_dataset['mean_Magnesiumsulfaat (MgSO4)']>0,\"is_given_Magnesiumsulfaat (MgSO4)\"]=1\n",
    "\n",
    "AF_dataset[\"is_given_Calcium Glubionaat (Calcium Sandoz)\"]=0\n",
    "AF_dataset.loc[AF_dataset['mean_Calcium Glubionaat (Calcium Sandoz)']>0,\"is_given_Calcium Glubionaat (Calcium Sandoz)\"]=1\n",
    "\n",
    "AF_dataset[\"is_given_LoopDiuretics\"]=0\n",
    "AF_dataset.loc[ (AF_dataset['mean_Furosemide (Lasix)']>0),\"is_given_LoopDiuretics\"]=1\n",
    "\n",
    "AF_dataset['is_given_Propofol (Diprivan)']=0\n",
    "AF_dataset.loc[AF_dataset['mean_Propofol (Diprivan)']>0,'is_given_Propofol (Diprivan)']=1\n",
    "\n",
    "AF_dataset['is_given_Dopamine (Inotropin)']=0\n",
    "AF_dataset.loc[AF_dataset['mean_Dopamine (Inotropin)']>0,'is_given_Dopamine (Inotropin)']=1"
   ]
  },
  {
   "cell_type": "code",
   "execution_count": 160,
   "metadata": {},
   "outputs": [],
   "source": [
    "#Rename for distr change 12 hour model\n",
    "AF_dataset_uzgent = AF_dataset_uzgent.rename(columns={'mean_PEEP_M_ALL':'mean_PEEP (Set)', 'is_given_NORepinefrine':'is_given_Noradrenaline (Norepinefrine)', 'mean_URINE_VOL':'mean_UrineCAD', \n",
    "                            'max_PEEP_M_ALL':'max_PEEP (Set)','min_PEEP_M_ALL':'min_PEEP (Set)',\n",
    "                            'max_PHOSPHATE_ALL':'max_Fosfaat (bloed)','min_HR_ALL':'min_Hartfrequentie','mean_HR_ALL':'mean_Hartfrequentie','slope_HR_ALL':'slope_Hartfrequentie',\n",
    "                            'min_PH_ART_ALL':'min_pH (bloed)','mean_PH_ART_ALL':'mean_pH (bloed)','max_PH_ART_ALL':'max_pH (bloed)',\n",
    "                            'mean_LACTATE_ART':'mean_Lactaat (bloed)','max_LACTATE_ART':'max_Lactaat (bloed)' ,'min_LACTATE_ART':'min_Lactaat (bloed)' , \n",
    "                            'min_URINE_VOL':'min_UrineCAD', 'max_URINE_VOL':'max_UrineCAD', 'slope_URINE_VOL':'slope_UrineCAD', 'icuurg':'urgency',\n",
    "                            'mean_BALANS-Tot.':'fluid_balance', 'slope_RESPRATE_ALL':'slope_O2 l/min','Length':'Height',\n",
    "                            'mean_HCO3_ART':'mean_Act.HCO3 (bloed)','max_HCO3_ART':'max_Act.HCO3 (bloed)','min_HCO3_ART':'min_Act.HCO3 (bloed)','slope_HCO3_ART':'slope_Act.HCO3 (bloed)',\n",
    "                            'mean_PO2_ART':'mean_PO2 (bloed)','min_PO2_ART':'min_PO2 (bloed)','max_PO2_ART':'max_PO2 (bloed)','slope_PO2_ART':'slope_PO2 (bloed)',\n",
    "                            'mean_BE_ART':'mean_B.E. (bloed)','min_BE_ART':'min_B.E. (bloed)','max_BE_ART':'max_B.E. (bloed)','slope_BE_ART':'slope_B.E. (bloed)',\n",
    "                            'mean_PCO2_ART':'mean_pCO2 (bloed)','min_PCO2_ART':'min_pCO2 (bloed)','max_PCO2_ART':'max_pCO2 (bloed)','slope_PCO2_ART':'slope_pCO2 (bloed)',\n",
    "                            'mean_IBP_M':'mean_ABP gemiddeld','min_IBP_M':'min_ABP gemiddeld','max_IBP_M':'max_ABP gemiddeld','slope_IBP_M':'slope_ABP gemiddeld',\n",
    "                            'mean_IBP_S':'mean_ABP systolisch','min_IBP_S':'min_ABP systolisch','max_IBP_S':'max_ABP systolisch','slope_IBP_S':'slope_ABP systolisch',\n",
    "                            'mean_FIO2_MV_ALL':'mean_O2 concentratie (Set)','max_FIO2_MV_ALL':'max_O2 concentratie (Set)','min_FIO2_MV_ALL':'min_O2 concentratie (Set)',\n",
    "                            'mean_O2SAT_ART':'mean_O2-Saturatie (bloed)','max_O2SAT_ART':'max_O2-Saturatie (bloed)','min_O2SAT_ART':'min_O2-Saturatie (bloed)',\n",
    "                           'min_NS_propofol':'min_Propofol (Diprivan)', 'min_NS_fentanyl':'min_Fentanyl', 'mean_RESPRATE_ALL':'mean_O2 l/min', #'cardiac_bool_new':'cardio_surgery_new',\n",
    "                           'mean_PHOSPHATE_ALL':'mean_Fosfaat (bloed)', 'kurt_CVD':'kurt_CVD', 'max_HR_ALL':'max_Hartfrequentie', \"max_PLATELETS\":\"max_Thrombo's (bloed)\"})\n",
    "\n",
    "#Rename for distr change 6 hour model\n",
    "AF_dataset_uzgent = AF_dataset_uzgent.rename(columns={'max_RESPRATE_ALL':'max_O2 l/min', #'cardiac_bool_new':'cardio_surgery_new',\n",
    "                                        'min_PHOSPHATE_ALL':'min_Fosfaat (bloed)', 'mean_CVD':'mean_CVD', \n",
    "                                        \"min_PLATELETS\":\"min_Thrombo's (bloed)\",\"slope_PLATELETS\":\"slope_Thrombo's (bloed)\"})\n",
    "\n",
    "#Rename for distr change 1.5 hour model\n",
    "AF_dataset_uzgent = AF_dataset_uzgent.rename(columns={'max_UREA_ALL':'max_Ureum (bloed)','mean_UREA_ALL':'mean_Ureum (bloed)','min_UREA_ALL':'min_Ureum (bloed)'})\n",
    "\n",
    "#Rename for standard 12 hour model\n",
    "AF_dataset_uzgent = AF_dataset_uzgent.rename(columns={\"slope_PO2_ART\":'slope_PO2 (bloed)'})\n",
    "\n",
    "#Rename for standard 1.5 hour model\n",
    "AF_dataset_uzgent = AF_dataset_uzgent.rename(columns={ 'min_RESPRATE_ALL':'min_O2 l/min', \"mean_PLATELETS\":\"mean_Thrombo's (bloed)\",\n",
    "                                        'min_CVD':'min_CVD'})"
   ]
  },
  {
   "cell_type": "code",
   "execution_count": 161,
   "metadata": {},
   "outputs": [],
   "source": [
    "AF_temp_db_uzgent = AF_dataset_uzgent[(AF_dataset_uzgent.AF==0)&(AF_dataset_uzgent.AF_orig==0)&(AF_dataset_uzgent.admissionid!=AF_dataset_uzgent.date_corresponds_to_AF_admid)]\n",
    "AF_temp_db = AF_dataset[(AF_dataset.AF==0)&(AF_dataset.AF_orig==0)&(AF_dataset.admissionid!=AF_dataset.date_corresponds_to_AF_admid)]\n",
    "\n",
    "AF_NOW_uzgent = pd.concat([AF_temp_db_uzgent,AF_dataset_uzgent[AF_dataset_uzgent.AF==1]]).reset_index(drop=True)\n",
    "AF_NOW = pd.concat([AF_temp_db,AF_dataset[AF_dataset.AF==1]]).reset_index(drop=True)"
   ]
  },
  {
   "cell_type": "code",
   "execution_count": 162,
   "metadata": {},
   "outputs": [],
   "source": [
    "from sklearn.model_selection import train_test_split\n",
    "\n",
    "train_patientid_uzgent,test_patientid_uzgent = train_test_split(AF_NOW_uzgent.patientid.unique(), test_size=0.2, random_state=42)\n",
    "train_patientid,test_patientid = train_test_split(AF_NOW.patientid.unique(), test_size=0.2, random_state=42)\n",
    "\n",
    "train_AF_dataset = AF_NOW[AF_NOW.patientid.isin(train_patientid)]\n",
    "train_AF_dataset_uzgent = AF_NOW_uzgent[AF_NOW_uzgent.patientid.isin(train_patientid_uzgent)]\n",
    "test_AF_dataset = AF_NOW[AF_NOW.patientid.isin(test_patientid)]\n",
    "test_AF_dataset_uzgent = AF_NOW_uzgent[AF_NOW_uzgent.patientid.isin(test_patientid_uzgent)]"
   ]
  },
  {
   "cell_type": "code",
   "execution_count": 163,
   "metadata": {},
   "outputs": [],
   "source": [
    "uzgent_drop_columns = ['patientid', 'hadm_id', 'admittime', 'AF_measuredat', 'intime',\n",
    "       'outtime', 'admissionid', 'lengthofstay']\n",
    "\n",
    "drop_columns = [\"dateofdeath_delta\",\"admittedat_delta\",\"admissionid\",\"origin\",\n",
    "                \"lengthofstay\",\"destination\",\"weightgroup\",\"agegroup\",\"dateofdeath\",\n",
    "                \"admittedat\",\"heightgroup\",\"specialty\",\"dateofdeath_delta\",\"admittedat_delta\",\"weightsource\",\"dischargedat\",\"heightsource\",\n",
    "                \"gender\",\"Mortality\",\"AF_orig\",\"AF_measuredat\",\"AF\",\"new_onset_AF\",\"Preadmission_AF\",\"patientid\",\"location\",\"admissionyeargroup\"]\n",
    "\n",
    "uzgent_drop_columns.append('date_corresponds_to_AF_admid')\n",
    "drop_columns.append('date_corresponds_to_AF_admid')"
   ]
  },
  {
   "cell_type": "code",
   "execution_count": 164,
   "metadata": {},
   "outputs": [],
   "source": [
    "X_train_or_amst = train_AF_dataset[(train_AF_dataset.AF==1)|((train_AF_dataset.AF_orig==0)&(train_AF_dataset.AF==0))]#[train_AF_dataset.columns.drop(drop_columns)]\n",
    "X_test_or_amst = test_AF_dataset[(test_AF_dataset.AF==1)|((test_AF_dataset.AF_orig==0)&(test_AF_dataset.AF==0))]#[test_AF_dataset.columns.drop(uzgent_drop_columns)]\n",
    "y_train_amst = train_AF_dataset[(train_AF_dataset.AF==1)|((train_AF_dataset.AF_orig==0)&(train_AF_dataset.AF==0))].AF\n",
    "y_test_amst = test_AF_dataset[(test_AF_dataset.AF==1)|((test_AF_dataset.AF_orig==0)&(test_AF_dataset.AF==0))].AF\n",
    "\n",
    "X_train_or_uzgent = train_AF_dataset_uzgent[(train_AF_dataset_uzgent.AF==1)|((train_AF_dataset_uzgent.AF_orig==0)&(train_AF_dataset_uzgent.AF==0))]\n",
    "X_test_or_uzgent = test_AF_dataset_uzgent[(test_AF_dataset_uzgent.AF==1)|((test_AF_dataset_uzgent.AF_orig==0)&(test_AF_dataset_uzgent.AF==0))]\n",
    "y_train_uzgent = train_AF_dataset_uzgent[(train_AF_dataset_uzgent.AF==1)|((train_AF_dataset_uzgent.AF_orig==0)&(train_AF_dataset_uzgent.AF==0))].AF\n",
    "y_test_uzgent = test_AF_dataset_uzgent[(test_AF_dataset_uzgent.AF==1)|((test_AF_dataset_uzgent.AF_orig==0)&(test_AF_dataset_uzgent.AF==0))].AF"
   ]
  },
  {
   "cell_type": "markdown",
   "metadata": {},
   "source": [
    "### Testing"
   ]
  },
  {
   "cell_type": "code",
   "execution_count": 165,
   "metadata": {},
   "outputs": [],
   "source": [
    "if one_half_hour_model:\n",
    "    feature_columns = ['Age',\n",
    "        'mean_Lactaat (bloed)',\n",
    "        'slope_Hartfrequentie',\n",
    "        'mean_UrineCAD',\n",
    "        'mean_O2-Saturatie (bloed)',\n",
    "        'max_PO2 (bloed)',\n",
    "        'mean_O2 concentratie (Set)',\n",
    "        'urgency',\n",
    "        \"min_Thrombo's (bloed)\",\n",
    "        'is_given_Noradrenaline (Norepinefrine)',\n",
    "        'min_Ureum (bloed)',\n",
    "        'is_given_Furosemide (Lasix)',\n",
    "        'min_Act.HCO3 (bloed)',\n",
    "        'Weight',\n",
    "        'mean_PEEP (Set)',\n",
    "        'fluid_balance',\n",
    "        'mean_CVD',\n",
    "        'slope_ABP systolisch',\n",
    "        'min_pH (bloed)',\n",
    "        'slope_ABP gemiddeld',\n",
    "        ]\n",
    "\n",
    "elif six_hour_model:\n",
    "    feature_columns = ['Age',\n",
    "        'slope_Hartfrequentie',\n",
    "        'is_given_Noradrenaline (Norepinefrine)',\n",
    "        'mean_Lactaat (bloed)',\n",
    "        'min_UrineCAD',\n",
    "        'mean_O2 concentratie (Set)',\n",
    "        'max_PO2 (bloed)',\n",
    "        'min_CVD',\n",
    "        'is_given_Furosemide (Lasix)',\n",
    "        'fluid_balance',\n",
    "        'min_ABP gemiddeld',\n",
    "        'mean_PEEP (Set)',\n",
    "        'mean_Act.HCO3 (bloed)',\n",
    "        'min_ABP systolisch',\n",
    "        'urgency',\n",
    "        'slope_B.E. (bloed)']\n",
    "\n",
    "else:\n",
    "    feature_columns = ['Age',\n",
    "        'slope_Hartfrequentie',\n",
    "        'mean_O2 concentratie (Set)',\n",
    "        'mean_UrineCAD',\n",
    "        'max_PO2 (bloed)',\n",
    "        'max_CVD',\n",
    "        'mean_Lactaat (bloed)',\n",
    "        'min_pH (bloed)',\n",
    "        'mean_O2-Saturatie (bloed)',\n",
    "        'urgency',\n",
    "        'mean_PEEP (Set)']\n",
    "\n",
    "            \n",
    "X_train_amst=X_train_or_amst[feature_columns]    \n",
    "X_test_amst=X_test_or_amst[feature_columns]   \n",
    "X_train_uzgent=X_train_or_uzgent[feature_columns]    \n",
    "X_test_uzgent=X_test_or_uzgent[feature_columns]  \n",
    "\n",
    "X_train = X_train_amst.append(X_train_uzgent).reset_index(drop=True).sample(len(X_train_amst)+len(X_train_uzgent),random_state=42)\n",
    "#X_train = X_train_amst\n",
    "#X_train = X_train_uzgent\n",
    "\n",
    "y_train = np.append(y_train_amst,y_train_uzgent)[X_train.index.values]\n",
    "#y_train = y_train_amst\n",
    "#y_train = y_train_uzgent"
   ]
  },
  {
   "cell_type": "code",
   "execution_count": 166,
   "metadata": {},
   "outputs": [
    {
     "name": "stdout",
     "output_type": "stream",
     "text": [
      "0:\tlearn: 0.6861822\ttotal: 2.18ms\tremaining: 871ms\n",
      "100:\tlearn: 0.5298519\ttotal: 238ms\tremaining: 704ms\n",
      "200:\tlearn: 0.4975046\ttotal: 484ms\tremaining: 480ms\n",
      "300:\tlearn: 0.4717043\ttotal: 659ms\tremaining: 217ms\n",
      "399:\tlearn: 0.4455113\ttotal: 860ms\tremaining: 0us\n"
     ]
    },
    {
     "data": {
      "text/plain": [
       "<catboost.core.CatBoostClassifier at 0x2000baa5880>"
      ]
     },
     "execution_count": 166,
     "metadata": {},
     "output_type": "execute_result"
    }
   ],
   "source": [
    "AF_class_balance = [y_train.sum()/len(y_train),1-y_train.sum()/len(y_train)]\n",
    "\n",
    "if one_half_hour_model:\n",
    "    CB_AF = CatBoostClassifier(\n",
    "        verbose=100, iterations=300, l2_leaf_reg=6, class_weights=AF_class_balance)\n",
    "elif six_hour_model:\n",
    "    CB_AF = CatBoostClassifier(\n",
    "        verbose=100, iterations=400, depth=5, l2_leaf_reg=2, class_weights=AF_class_balance)\n",
    "else:\n",
    "    CB_AF = CatBoostClassifier(\n",
    "        verbose=100, iterations=300, depth=4, l2_leaf_reg=2, class_weights=AF_class_balance)\n",
    "\n",
    "CB_AF.fit(X_train,y_train)"
   ]
  },
  {
   "cell_type": "code",
   "execution_count": 167,
   "metadata": {},
   "outputs": [
    {
     "name": "stdout",
     "output_type": "stream",
     "text": [
      "              precision    recall  f1-score   support\n",
      "\n",
      "       No-AF       0.81      0.77      0.79      1928\n",
      "          AF       0.79      0.83      0.81      1998\n",
      "\n",
      "    accuracy                           0.80      3926\n",
      "   macro avg       0.80      0.80      0.80      3926\n",
      "weighted avg       0.80      0.80      0.80      3926\n",
      "\n"
     ]
    }
   ],
   "source": [
    "print(classification_report(y_train,CB_AF.predict(X_train),target_names=[\"No-AF\",\"AF\"]))"
   ]
  },
  {
   "cell_type": "code",
   "execution_count": 168,
   "metadata": {},
   "outputs": [
    {
     "name": "stdout",
     "output_type": "stream",
     "text": [
      "BALANCED TEST AMSTERDAM PATIENTS\n",
      "              precision    recall  f1-score   support\n",
      "\n",
      "       No-AF       0.72      0.72      0.72       350\n",
      "          AF       0.69      0.68      0.69       311\n",
      "\n",
      "    accuracy                           0.70       661\n",
      "   macro avg       0.70      0.70      0.70       661\n",
      "weighted avg       0.70      0.70      0.70       661\n",
      "\n",
      "\n",
      "\n",
      "AUC = 0.7789\n",
      "MCC = 0.4078\n",
      "==================================================\n"
     ]
    }
   ],
   "source": [
    "print(\"BALANCED TEST AMSTERDAM PATIENTS\")\n",
    "print(classification_report(y_test_amst,CB_AF.predict(X_test_amst),target_names=[\"No-AF\",\"AF\"]))\n",
    "print(\"\\n\")\n",
    "(fpr, tpr, thresholds) = get_roc_curve(CB_AF, Pool(data=X_test_amst,label=y_test_amst), plot=False)\n",
    "print(\"AUC = \"+str(np.round(auc(fpr,tpr),4)))\n",
    "print(\"MCC = \"+str(np.round(matthews_corrcoef(y_test_amst,CB_AF.predict(X_test_amst)),4)))\n",
    "print(50*\"=\")"
   ]
  },
  {
   "cell_type": "code",
   "execution_count": 169,
   "metadata": {},
   "outputs": [
    {
     "name": "stdout",
     "output_type": "stream",
     "text": [
      "BALANCED TEST UZGENT PATIENTS\n",
      "              precision    recall  f1-score   support\n",
      "\n",
      "       No-AF       0.80      0.67      0.73       165\n",
      "          AF       0.69      0.81      0.75       151\n",
      "\n",
      "    accuracy                           0.74       316\n",
      "   macro avg       0.75      0.74      0.74       316\n",
      "weighted avg       0.75      0.74      0.74       316\n",
      "\n",
      "\n",
      "\n",
      "AUC = 0.8299\n",
      "MCC = 0.4904\n",
      "==================================================\n"
     ]
    }
   ],
   "source": [
    "print(\"BALANCED TEST UZGENT PATIENTS\")\n",
    "print(classification_report(y_test_uzgent,CB_AF.predict(X_test_uzgent),target_names=[\"No-AF\",\"AF\"]))\n",
    "print(\"\\n\")\n",
    "(fpr, tpr, thresholds) = get_roc_curve(CB_AF, Pool(data=X_test_uzgent,label=y_test_uzgent), plot=False)\n",
    "print(\"AUC = \"+str(np.round(auc(fpr,tpr),4)))\n",
    "print(\"MCC = \"+str(np.round(matthews_corrcoef(y_test_uzgent,CB_AF.predict(X_test_uzgent)),4)))\n",
    "print(50*\"=\")"
   ]
  },
  {
   "cell_type": "code",
   "execution_count": 170,
   "metadata": {},
   "outputs": [],
   "source": [
    "combo_uzgent_y_test = y_test_uzgent\n",
    "combo_uzgent_predict = CB_AF.predict(X_test_uzgent)\n",
    "combo_amst_y_test = y_test_amst\n",
    "combo_amst_predict = CB_AF.predict(X_test_amst)"
   ]
  },
  {
   "cell_type": "code",
   "execution_count": 171,
   "metadata": {},
   "outputs": [
    {
     "name": "stdout",
     "output_type": "stream",
     "text": [
      "ALL PATIENTS\n",
      "              precision    recall  f1-score   support\n",
      "\n",
      "       No-AF       1.00      0.73      0.84     12070\n",
      "          AF       0.04      0.81      0.07       151\n",
      "\n",
      "    accuracy                           0.73     12221\n",
      "   macro avg       0.52      0.77      0.46     12221\n",
      "weighted avg       0.98      0.73      0.83     12221\n",
      "\n",
      "\n",
      "\n",
      "AUC = 0.8468\n",
      "MCC = 0.1343\n",
      "==================================================\n",
      "ECE normalized AUC (%) = 5.76 %\n",
      "ESCE normalized AUC (%) = -4.57 %\n",
      "BALANCED TEST PATIENTS\n",
      "              precision    recall  f1-score   support\n",
      "\n",
      "       No-AF       0.80      0.67      0.73       165\n",
      "          AF       0.69      0.81      0.75       151\n",
      "\n",
      "    accuracy                           0.74       316\n",
      "   macro avg       0.75      0.74      0.74       316\n",
      "weighted avg       0.75      0.74      0.74       316\n",
      "\n",
      "\n",
      "\n",
      "AUC = 0.8299\n",
      "MCC = 0.4904\n",
      "==================================================\n",
      "ECE normalized AUC (%) = 9.24 %\n",
      "ESCE normalized AUC (%) = 4.78 %\n"
     ]
    },
    {
     "data": {
      "text/plain": [
       "<Figure size 432x288 with 0 Axes>"
      ]
     },
     "metadata": {},
     "output_type": "display_data"
    }
   ],
   "source": [
    "temp_large_db = AF_dataset_uzgent[((AF_dataset_uzgent.AF==0)&(~AF_dataset_uzgent.patientid.isin(AF_NOW_uzgent.patientid)))|(AF_dataset_uzgent.patientid.isin(test_patientid_uzgent))]\n",
    "\n",
    "y_test_all_pat = temp_large_db[(temp_large_db.AF==1)|((temp_large_db.AF_orig==0)&(temp_large_db.AF==0))].AF\n",
    "X_test_all_pat = temp_large_db[(temp_large_db.AF==1)|((temp_large_db.AF_orig==0)&(temp_large_db.AF==0))][feature_columns]\n",
    "\n",
    "\n",
    "print(\"ALL PATIENTS\")\n",
    "print(classification_report(y_test_all_pat,CB_AF.predict(X_test_all_pat),target_names=[\"No-AF\",\"AF\"]))\n",
    "print(\"\\n\")\n",
    "(fpr, tpr, thresholds) = get_roc_curve(CB_AF, Pool(data=X_test_all_pat,label=y_test_all_pat), plot=False)\n",
    "print(\"AUC = \"+str(np.round(auc(fpr,tpr),4)))\n",
    "print(\"MCC = \"+str(np.round(matthews_corrcoef(y_test_all_pat,CB_AF.predict(X_test_all_pat)),4)))\n",
    "print(50*\"=\")\n",
    "\n",
    "\n",
    "uzgent_result_dataframe = pandas_result_AF_maker(\"all patients uzgent\",X_test_all_pat,y_test_all_pat,CB_AF,uzgent_result_dataframe)\n",
    "\n",
    "print(\"BALANCED TEST PATIENTS\")\n",
    "print(classification_report(y_test_uzgent,CB_AF.predict(X_test_uzgent),target_names=[\"No-AF\",\"AF\"]))\n",
    "print(\"\\n\")\n",
    "(fpr, tpr, thresholds) = get_roc_curve(CB_AF, Pool(data=X_test_uzgent,label=y_test_uzgent), plot=False)\n",
    "print(\"AUC = \"+str(np.round(auc(fpr,tpr),4)))\n",
    "print(\"MCC = \"+str(np.round(matthews_corrcoef(y_test_uzgent,CB_AF.predict(X_test_uzgent)),4)))\n",
    "print(50*\"=\")\n",
    "\n",
    "\n",
    "uzgent_result_dataframe = pandas_result_AF_maker(\"balanced test uzgent\",X_test_uzgent,y_test_uzgent,CB_AF,uzgent_result_dataframe)"
   ]
  },
  {
   "cell_type": "code",
   "execution_count": 172,
   "metadata": {},
   "outputs": [
    {
     "name": "stdout",
     "output_type": "stream",
     "text": [
      "ALL PATIENTS\n",
      "              precision    recall  f1-score   support\n",
      "\n",
      "       No-AF       0.99      0.65      0.78     13320\n",
      "          AF       0.04      0.68      0.08       311\n",
      "\n",
      "    accuracy                           0.65     13631\n",
      "   macro avg       0.52      0.67      0.43     13631\n",
      "weighted avg       0.97      0.65      0.77     13631\n",
      "\n",
      "\n",
      "\n",
      "AUC = 0.7395\n",
      "MCC = 0.104\n",
      "==================================================\n",
      "ECE normalized AUC (%) = 5.59 %\n",
      "ESCE normalized AUC (%) = -4.1 %\n",
      "BALANCED TEST PATIENTS\n",
      "              precision    recall  f1-score   support\n",
      "\n",
      "       No-AF       0.72      0.72      0.72       350\n",
      "          AF       0.69      0.68      0.69       311\n",
      "\n",
      "    accuracy                           0.70       661\n",
      "   macro avg       0.70      0.70      0.70       661\n",
      "weighted avg       0.70      0.70      0.70       661\n",
      "\n",
      "\n",
      "\n",
      "AUC = 0.7789\n",
      "MCC = 0.4078\n",
      "==================================================\n",
      "ECE normalized AUC (%) = 7.18 %\n",
      "ESCE normalized AUC (%) = 2.67 %\n"
     ]
    },
    {
     "data": {
      "text/plain": [
       "<Figure size 432x288 with 0 Axes>"
      ]
     },
     "metadata": {},
     "output_type": "display_data"
    }
   ],
   "source": [
    "temp_large_db = AF_dataset[((AF_dataset.AF==0)&(~AF_dataset.patientid.isin(AF_NOW.patientid)))|(AF_dataset.patientid.isin(test_patientid))]\n",
    "\n",
    "y_test_all_pat = temp_large_db[(temp_large_db.AF==1)|((temp_large_db.AF_orig==0)&(temp_large_db.AF==0))].AF\n",
    "X_test_all_pat = temp_large_db[(temp_large_db.AF==1)|((temp_large_db.AF_orig==0)&(temp_large_db.AF==0))][feature_columns]\n",
    "\n",
    "print(\"ALL PATIENTS\")\n",
    "print(classification_report(y_test_all_pat,CB_AF.predict(X_test_all_pat),target_names=[\"No-AF\",\"AF\"]))\n",
    "print(\"\\n\")\n",
    "(fpr, tpr, thresholds) = get_roc_curve(CB_AF, Pool(data=X_test_all_pat,label=y_test_all_pat), plot=False)\n",
    "print(\"AUC = \"+str(np.round(auc(fpr,tpr),4)))\n",
    "print(\"MCC = \"+str(np.round(matthews_corrcoef(y_test_all_pat,CB_AF.predict(X_test_all_pat)),4)))\n",
    "print(50*\"=\")\n",
    "\n",
    "uzgent_result_dataframe = pandas_result_AF_maker(\"all patients amsterdam\",X_test_all_pat,y_test_all_pat,CB_AF,uzgent_result_dataframe)\n",
    "\n",
    "print(\"BALANCED TEST PATIENTS\")\n",
    "print(classification_report(y_test_amst,CB_AF.predict(X_test_amst),target_names=[\"No-AF\",\"AF\"]))\n",
    "print(\"\\n\")\n",
    "(fpr, tpr, thresholds) = get_roc_curve(CB_AF, Pool(data=X_test_amst,label=y_test_amst), plot=False)\n",
    "print(\"AUC = \"+str(np.round(auc(fpr,tpr),4)))\n",
    "print(\"MCC = \"+str(np.round(matthews_corrcoef(y_test_amst,CB_AF.predict(X_test_amst)),4)))\n",
    "print(50*\"=\")\n",
    "\n",
    "uzgent_result_dataframe = pandas_result_AF_maker(\"balanced test amsterdam\",X_test_amst,y_test_amst,CB_AF,uzgent_result_dataframe)"
   ]
  },
  {
   "cell_type": "code",
   "execution_count": 173,
   "metadata": {},
   "outputs": [
    {
     "data": {
      "image/png": "[encoded data removed]",
      "text/plain": [
       "<Figure size 720x432 with 1 Axes>"
      ]
     },
     "metadata": {
      "needs_background": "light"
     },
     "output_type": "display_data"
    }
   ],
   "source": [
    "present=False\n",
    "\n",
    "am_show_features = 60 if len(X_train.columns)>=30 else len(X_train.columns)\n",
    "fi = CB_AF.feature_importances_\n",
    "plt.figure(figsize=(10,6))\n",
    "indices_T0 = np.argsort(fi)[::-1][0:am_show_features]\n",
    "if present:\n",
    "    plt.barh(range(am_show_features),fi[indices_T0],color=\"#e898ac\")\n",
    "else:\n",
    "    plt.barh(range(am_show_features),fi[indices_T0])\n",
    "plt.yticks(range(am_show_features), X_train.columns[indices_T0])\n",
    "plt.xlabel(\"Mean feature importance (%)\")\n",
    "if present:\n",
    "    ax = plt.gca()\n",
    "    ax.patch.set_alpha(0)\n",
    "#plt.tight_layout()\n",
    "plt.show()"
   ]
  },
  {
   "cell_type": "code",
   "execution_count": 174,
   "metadata": {},
   "outputs": [
    {
     "data": {
      "image/png": "[encoded data removed]",
      "text/plain": [
       "<Figure size 576x568.8 with 2 Axes>"
      ]
     },
     "metadata": {
      "needs_background": "light"
     },
     "output_type": "display_data"
    },
    {
     "data": {
      "image/png": "[encoded data removed]",
      "text/plain": [
       "<Figure size 576x568.8 with 2 Axes>"
      ]
     },
     "metadata": {
      "needs_background": "light"
     },
     "output_type": "display_data"
    }
   ],
   "source": [
    "present=False\n",
    "\n",
    "plt.figure()\n",
    "explainer = shap.TreeExplainer(CB_AF)\n",
    "shap_values = explainer.shap_values(X_test_amst)\n",
    "shap.summary_plot(shap_values, X_test_amst,show=False)\n",
    "plt.plot()\n",
    "plt.figure()\n",
    "explainer = shap.TreeExplainer(CB_AF)\n",
    "shap_values = explainer.shap_values(X_test_uzgent)\n",
    "shap.summary_plot(shap_values, X_test_uzgent,show=False)"
   ]
  },
  {
   "cell_type": "markdown",
   "metadata": {},
   "source": [
    "## Direct validation"
   ]
  },
  {
   "cell_type": "code",
   "execution_count": 175,
   "metadata": {},
   "outputs": [],
   "source": [
    "validation_type_string = \"direct\""
   ]
  },
  {
   "cell_type": "markdown",
   "metadata": {},
   "source": [
    "### Data Import"
   ]
  },
  {
   "cell_type": "code",
   "execution_count": 176,
   "metadata": {},
   "outputs": [
    {
     "name": "stderr",
     "output_type": "stream",
     "text": [
      "Columns (9) have mixed types.Specify dtype option on import or set low_memory=False.\n"
     ]
    }
   ],
   "source": [
    "if one_half_hour_model:\n",
    "        AF_dataset_uzgent = pd.read_csv(uzgent_data_path+\"AF_dataset_1_5_hours.csv\") \n",
    "        AF_dataset = pd.read_csv(amsterdam_data_path+\"AF_dataset_1_5_hours.csv\") \n",
    "elif six_hour_model:\n",
    "        AF_dataset_uzgent = pd.read_csv(uzgent_data_path+\"AF_dataset_6_hours.csv\") \n",
    "        AF_dataset = pd.read_csv(amsterdam_data_path+\"AF_dataset_6_hours.csv\") \n",
    "else:\n",
    "        AF_dataset_uzgent = pd.read_csv(uzgent_data_path+\"AF_dataset_12_hours.csv\") \n",
    "        AF_dataset = pd.read_csv(amsterdam_data_path+\"AF_dataset_12_hours.csv\") \n",
    "\n",
    "AF_dataset_uzgent = AF_dataset_uzgent.rename(columns={\"HospAdmissionID\":\"patientid\",\"AgeOnAdmission\":\"Age\",\"ICUSessionID\":\"admissionid\"})\n",
    "AF_dataset_uzgent.loc[AF_dataset_uzgent.sepsis_extra_opn_measuredat > AF_dataset_uzgent.AF_measuredat,\"sepsis_bool_extra_opn\"]=0"
   ]
  },
  {
   "cell_type": "code",
   "execution_count": 177,
   "metadata": {},
   "outputs": [],
   "source": [
    "AF_dataset_uzgent[\"is_given_NORepinefrine\"]=0\n",
    "AF_dataset_uzgent.loc[AF_dataset_uzgent['mean_CV_norepinephrine']>0,\"is_given_NORepinefrine\"]=1\n",
    "\n",
    "AF_dataset_uzgent[\"is_given_Calcium Glubionaat (Calcium Sandoz)\"]=0\n",
    "AF_dataset_uzgent.loc[(AF_dataset_uzgent[\"mean_VI_calcium carbonate\"]>1)|(AF_dataset_uzgent[\"mean_VI_calcium chloride\"]>1),\"is_given_Calcium Glubionaat (Calcium Sandoz)\"] = 1\n",
    "    \n",
    "AF_dataset_uzgent[\"is_given_Dopamine (Inotropin)\"]=0\n",
    "AF_dataset_uzgent.loc[AF_dataset_uzgent['mean_CV_dopamine']>0,\"is_given_Dopamine (Inotropin)\"]=1\n",
    "\n",
    "AF_dataset_uzgent['is_given_Propofol (Diprivan)']=0\n",
    "AF_dataset_uzgent.loc[AF_dataset_uzgent['mean_NS_propofol']>0,'is_given_Propofol (Diprivan)']=1\n",
    "\n",
    "AF_dataset_uzgent['is_given_Fentanyl']=0\n",
    "AF_dataset_uzgent.loc[AF_dataset_uzgent['mean_NS_fentanyl']>0,'is_given_Fentanyl']=1\n",
    "\n",
    "AF_dataset_uzgent[\"is_given_Furosemide (Lasix)\"]=0\n",
    "AF_dataset_uzgent.loc[AF_dataset_uzgent['mean_DI_furosemide']>0,\"is_given_Furosemide (Lasix)\"]=1\n",
    "\n",
    "AF_dataset_uzgent[\"is_given_LoopDiuretics\"]=0\n",
    "AF_dataset_uzgent.loc[(AF_dataset_uzgent['mean_DI_furosemide']>0),\"is_given_LoopDiuretics\"]=1\n",
    "\n",
    "AF_dataset_uzgent[\"sepsis_bool\"]=0\n",
    "AF_dataset_uzgent.loc[(AF_dataset_uzgent.sepsis_bool_comorb_source==1) | (AF_dataset_uzgent.sepsis_bool_extra_opn==1),\"sepsis_bool\"]=1\n",
    "\n",
    "AF_dataset_uzgent.loc[AF_dataset_uzgent.icuurg==\"URGENT\",\"icuurg\"]=1\n",
    "AF_dataset_uzgent.loc[AF_dataset_uzgent.icuurg!=1,\"icuurg\"]=0"
   ]
  },
  {
   "cell_type": "code",
   "execution_count": 178,
   "metadata": {},
   "outputs": [],
   "source": [
    "AF_dataset[\"is_given_Magnesiumsulfaat (MgSO4)\"]=0\n",
    "AF_dataset.loc[AF_dataset['mean_Magnesiumsulfaat (MgSO4)']>0,\"is_given_Magnesiumsulfaat (MgSO4)\"]=1\n",
    "\n",
    "AF_dataset[\"is_given_Calcium Glubionaat (Calcium Sandoz)\"]=0\n",
    "AF_dataset.loc[AF_dataset['mean_Calcium Glubionaat (Calcium Sandoz)']>0,\"is_given_Calcium Glubionaat (Calcium Sandoz)\"]=1\n",
    "\n",
    "AF_dataset[\"is_given_LoopDiuretics\"]=0\n",
    "AF_dataset.loc[ (AF_dataset['mean_Furosemide (Lasix)']>0),\"is_given_LoopDiuretics\"]=1\n",
    "\n",
    "AF_dataset['is_given_Propofol (Diprivan)']=0\n",
    "AF_dataset.loc[AF_dataset['mean_Propofol (Diprivan)']>0,'is_given_Propofol (Diprivan)']=1\n",
    "\n",
    "AF_dataset['is_given_Dopamine (Inotropin)']=0\n",
    "AF_dataset.loc[AF_dataset['mean_Dopamine (Inotropin)']>0,'is_given_Dopamine (Inotropin)']=1"
   ]
  },
  {
   "cell_type": "code",
   "execution_count": 179,
   "metadata": {},
   "outputs": [],
   "source": [
    "#Rename for distr change 12 hour model\n",
    "AF_dataset_uzgent = AF_dataset_uzgent.rename(columns={'mean_PEEP_M_ALL':'mean_PEEP (Set)', 'is_given_NORepinefrine':'is_given_Noradrenaline (Norepinefrine)', 'mean_URINE_VOL':'mean_UrineCAD', \n",
    "                            'max_PEEP_M_ALL':'max_PEEP (Set)','min_PEEP_M_ALL':'min_PEEP (Set)',\n",
    "                            'max_PHOSPHATE_ALL':'max_Fosfaat (bloed)','min_HR_ALL':'min_Hartfrequentie','mean_HR_ALL':'mean_Hartfrequentie','slope_HR_ALL':'slope_Hartfrequentie',\n",
    "                            'min_PH_ART_ALL':'min_pH (bloed)','mean_PH_ART_ALL':'mean_pH (bloed)','max_PH_ART_ALL':'max_pH (bloed)',\n",
    "                            'mean_LACTATE_ART':'mean_Lactaat (bloed)','max_LACTATE_ART':'max_Lactaat (bloed)' ,'min_LACTATE_ART':'min_Lactaat (bloed)' , \n",
    "                            'min_URINE_VOL':'min_UrineCAD', 'max_URINE_VOL':'max_UrineCAD', 'slope_URINE_VOL':'slope_UrineCAD', 'icuurg':'urgency',\n",
    "                            'mean_BALANS-Tot.':'fluid_balance', 'slope_RESPRATE_ALL':'slope_O2 l/min','Length':'Height',\n",
    "                            'mean_HCO3_ART':'mean_Act.HCO3 (bloed)','max_HCO3_ART':'max_Act.HCO3 (bloed)','min_HCO3_ART':'min_Act.HCO3 (bloed)','slope_HCO3_ART':'slope_Act.HCO3 (bloed)',\n",
    "                            'mean_PO2_ART':'mean_PO2 (bloed)','min_PO2_ART':'min_PO2 (bloed)','max_PO2_ART':'max_PO2 (bloed)','slope_PO2_ART':'slope_PO2 (bloed)',\n",
    "                            'mean_BE_ART':'mean_B.E. (bloed)','min_BE_ART':'min_B.E. (bloed)','max_BE_ART':'max_B.E. (bloed)','slope_BE_ART':'slope_B.E. (bloed)',\n",
    "                            'mean_PCO2_ART':'mean_pCO2 (bloed)','min_PCO2_ART':'min_pCO2 (bloed)','max_PCO2_ART':'max_pCO2 (bloed)','slope_PCO2_ART':'slope_pCO2 (bloed)',\n",
    "                            'mean_IBP_M':'mean_ABP gemiddeld','min_IBP_M':'min_ABP gemiddeld','max_IBP_M':'max_ABP gemiddeld','slope_IBP_M':'slope_ABP gemiddeld',\n",
    "                            'mean_IBP_S':'mean_ABP systolisch','min_IBP_S':'min_ABP systolisch','max_IBP_S':'max_ABP systolisch','slope_IBP_S':'slope_ABP systolisch',\n",
    "                            'mean_FIO2_MV_ALL':'mean_O2 concentratie (Set)','max_FIO2_MV_ALL':'max_O2 concentratie (Set)','min_FIO2_MV_ALL':'min_O2 concentratie (Set)',\n",
    "                            'mean_O2SAT_ART':'mean_O2-Saturatie (bloed)','max_O2SAT_ART':'max_O2-Saturatie (bloed)','min_O2SAT_ART':'min_O2-Saturatie (bloed)',\n",
    "                           'min_NS_propofol':'min_Propofol (Diprivan)', 'min_NS_fentanyl':'min_Fentanyl', 'mean_RESPRATE_ALL':'mean_O2 l/min', #'cardiac_bool_new':'cardio_surgery_new',\n",
    "                           'mean_PHOSPHATE_ALL':'mean_Fosfaat (bloed)', 'kurt_CVD':'kurt_CVD', 'max_HR_ALL':'max_Hartfrequentie', \"max_PLATELETS\":\"max_Thrombo's (bloed)\"})\n",
    "\n",
    "#Rename for distr change 6 hour model\n",
    "AF_dataset_uzgent = AF_dataset_uzgent.rename(columns={'max_RESPRATE_ALL':'max_O2 l/min', #'cardiac_bool_new':'cardio_surgery_new',\n",
    "                                        'min_PHOSPHATE_ALL':'min_Fosfaat (bloed)', 'mean_CVD':'mean_CVD', \n",
    "                                        \"min_PLATELETS\":\"min_Thrombo's (bloed)\",\"slope_PLATELETS\":\"slope_Thrombo's (bloed)\"})\n",
    "\n",
    "#Rename for distr change 1.5 hour model\n",
    "AF_dataset_uzgent = AF_dataset_uzgent.rename(columns={'max_UREA_ALL':'max_Ureum (bloed)','mean_UREA_ALL':'mean_Ureum (bloed)','min_UREA_ALL':'min_Ureum (bloed)'})\n",
    "\n",
    "#Rename for standard 12 hour model\n",
    "AF_dataset_uzgent = AF_dataset_uzgent.rename(columns={\"slope_PO2_ART\":'slope_PO2 (bloed)'})\n",
    "\n",
    "#Rename for standard 1.5 hour model\n",
    "AF_dataset_uzgent = AF_dataset_uzgent.rename(columns={ 'min_RESPRATE_ALL':'min_O2 l/min', \"mean_PLATELETS\":\"mean_Thrombo's (bloed)\",\n",
    "                                        'min_CVD':'min_CVD'})"
   ]
  },
  {
   "cell_type": "code",
   "execution_count": 180,
   "metadata": {},
   "outputs": [],
   "source": [
    "AF_temp_db = AF_dataset[(AF_dataset.AF==0)&(AF_dataset.admissionid!=AF_dataset.date_corresponds_to_AF_admid)]\n",
    "AF_temp_db_uzgent = AF_dataset_uzgent[(AF_dataset_uzgent.AF==0)&(AF_dataset_uzgent.admissionid!=AF_dataset_uzgent.date_corresponds_to_AF_admid)]\n",
    "\n",
    "AF_NOW_uzgent = AF_temp_db_uzgent.append(AF_dataset_uzgent[AF_dataset_uzgent.AF==1]).reset_index(drop=True)\n",
    "\n",
    "AF_NOW = AF_temp_db.append(AF_dataset[(AF_dataset.AF==1)&(AF_dataset.admissionid.isin(AF_temp_db.date_corresponds_to_AF_admid))]).reset_index(drop=True)\n",
    "AF_NOW = AF_NOW[(AF_NOW.AF==1)|(AF_NOW.date_corresponds_to_AF_admid.isin(AF_NOW.admissionid))]\n",
    "AF_NOW = AF_NOW[~AF_NOW.admissionid.isin(AF_NOW[(AF_NOW.AF==0)&(AF_NOW.admissionid.isin(AF_NOW.date_corresponds_to_AF_admid))].admissionid.values)]\n"
   ]
  },
  {
   "cell_type": "code",
   "execution_count": 181,
   "metadata": {},
   "outputs": [],
   "source": [
    "from sklearn.model_selection import train_test_split\n",
    "\n",
    "train_patientid_uzgent,test_patientid_uzgent = train_test_split(AF_NOW_uzgent.date_corresponds_to_AF_admid.unique(), test_size=0.2, random_state=42)\n",
    "train_patientid,test_patientid = train_test_split(AF_NOW.date_corresponds_to_AF_admid.unique(), test_size=0.2, random_state=42)\n",
    "\n",
    "train_AF_dataset = AF_NOW[AF_NOW.date_corresponds_to_AF_admid.isin(train_patientid)]\n",
    "test_AF_dataset = AF_NOW_uzgent[AF_NOW_uzgent.date_corresponds_to_AF_admid.isin(test_patientid_uzgent)]\n",
    "test_AF_dataset_amst = AF_NOW[AF_NOW.date_corresponds_to_AF_admid.isin(test_patientid)]"
   ]
  },
  {
   "cell_type": "code",
   "execution_count": 182,
   "metadata": {},
   "outputs": [],
   "source": [
    "uzgent_drop_columns = ['patientid', 'hadm_id', 'admittime', 'AF_measuredat', 'intime',\n",
    "       'outtime', 'admissionid', 'lengthofstay']\n",
    "\n",
    "drop_columns = [\"dateofdeath_delta\",\"admittedat_delta\",\"admissionid\",\"origin\",\n",
    "                \"lengthofstay\",\"destination\",\"weightgroup\",\"agegroup\",\"dateofdeath\",\n",
    "                \"admittedat\",\"heightgroup\",\"specialty\",\"dateofdeath_delta\",\"admittedat_delta\",\"weightsource\",\"dischargedat\",\"heightsource\",\n",
    "                \"gender\",\"Mortality\",\"AF_orig\",\"AF_measuredat\",\"AF\",\"new_onset_AF\",\"Preadmission_AF\",\"patientid\",\"location\",\"admissionyeargroup\"]\n",
    "\n",
    "uzgent_drop_columns.append('date_corresponds_to_AF_admid')\n",
    "drop_columns.append('date_corresponds_to_AF_admid')"
   ]
  },
  {
   "cell_type": "code",
   "execution_count": 183,
   "metadata": {},
   "outputs": [],
   "source": [
    "X_train_or = train_AF_dataset#[train_AF_dataset.columns.drop(drop_columns)]\n",
    "X_test_or = test_AF_dataset#[test_AF_dataset.columns.drop(mimic_drop_columns)]\n",
    "y_train = train_AF_dataset.AF\n",
    "y_test = test_AF_dataset.AF"
   ]
  },
  {
   "cell_type": "code",
   "execution_count": 184,
   "metadata": {},
   "outputs": [],
   "source": [
    "X_train_or = train_AF_dataset[(train_AF_dataset.AF==1)|((train_AF_dataset.AF_orig==0)&(train_AF_dataset.AF==0))]#[train_AF_dataset.columns.drop(drop_columns)]\n",
    "X_test_or = test_AF_dataset[(test_AF_dataset.AF==1)|((test_AF_dataset.AF_orig==0)&(test_AF_dataset.AF==0))]#[test_AF_dataset.columns.drop(mimic_drop_columns)]\n",
    "y_train = train_AF_dataset[(train_AF_dataset.AF==1)|((train_AF_dataset.AF_orig==0)&(train_AF_dataset.AF==0))].AF\n",
    "y_test = test_AF_dataset[(test_AF_dataset.AF==1)|((test_AF_dataset.AF_orig==0)&(test_AF_dataset.AF==0))].AF\n",
    "\n",
    "X_test_or_amst = test_AF_dataset_amst[(test_AF_dataset_amst.AF==1)|((test_AF_dataset_amst.AF_orig==0)&(test_AF_dataset_amst.AF==0))]#[test_AF_dataset.columns.drop(mimic_drop_columns)]\n",
    "y_test_amst = test_AF_dataset_amst[(test_AF_dataset_amst.AF==1)|((test_AF_dataset_amst.AF_orig==0)&(test_AF_dataset_amst.AF==0))].AF"
   ]
  },
  {
   "cell_type": "markdown",
   "metadata": {},
   "source": [
    "### Testing"
   ]
  },
  {
   "cell_type": "code",
   "execution_count": 185,
   "metadata": {},
   "outputs": [],
   "source": [
    "if one_half_hour_model:\n",
    "    feature_columns = ['Age',\n",
    "        'mean_Lactaat (bloed)',\n",
    "        'slope_Hartfrequentie',\n",
    "        'mean_UrineCAD',\n",
    "        'mean_O2-Saturatie (bloed)',\n",
    "        'max_PO2 (bloed)',\n",
    "        'mean_O2 concentratie (Set)',\n",
    "        'urgency',\n",
    "        \"min_Thrombo's (bloed)\",\n",
    "        'is_given_Noradrenaline (Norepinefrine)',\n",
    "        'min_Ureum (bloed)',\n",
    "        'is_given_Furosemide (Lasix)',\n",
    "        'min_Act.HCO3 (bloed)',\n",
    "        'Weight',\n",
    "        'mean_PEEP (Set)',\n",
    "        'fluid_balance',\n",
    "        'mean_CVD',\n",
    "        'slope_ABP systolisch',\n",
    "        'min_pH (bloed)',\n",
    "        'slope_ABP gemiddeld',\n",
    "        ]\n",
    "\n",
    "elif six_hour_model:\n",
    "    feature_columns = ['Age',\n",
    "        'slope_Hartfrequentie',\n",
    "        'is_given_Noradrenaline (Norepinefrine)',\n",
    "        'mean_Lactaat (bloed)',\n",
    "        'min_UrineCAD',\n",
    "        'mean_O2 concentratie (Set)',\n",
    "        'max_PO2 (bloed)',\n",
    "        'min_CVD',\n",
    "        'is_given_Furosemide (Lasix)',\n",
    "        'fluid_balance',\n",
    "        'min_ABP gemiddeld',\n",
    "        'mean_PEEP (Set)',\n",
    "        'mean_Act.HCO3 (bloed)',\n",
    "        'min_ABP systolisch',\n",
    "        'urgency',\n",
    "        'slope_B.E. (bloed)']\n",
    "\n",
    "else:\n",
    "    feature_columns = ['Age',\n",
    "        'slope_Hartfrequentie',\n",
    "        'mean_O2 concentratie (Set)',\n",
    "        'mean_UrineCAD',\n",
    "        'max_PO2 (bloed)',\n",
    "        'max_CVD',\n",
    "        'mean_Lactaat (bloed)',\n",
    "        'min_pH (bloed)',\n",
    "        'mean_O2-Saturatie (bloed)',\n",
    "        'urgency',\n",
    "        'mean_PEEP (Set)']\n",
    "\n",
    "X_train=X_train_or[feature_columns]    \n",
    "X_test=X_test_or[feature_columns]   \n",
    "\n",
    "X_test_amst = X_test_or_amst[feature_columns]"
   ]
  },
  {
   "cell_type": "code",
   "execution_count": 186,
   "metadata": {},
   "outputs": [
    {
     "name": "stdout",
     "output_type": "stream",
     "text": [
      "0:\tlearn: 0.6863686\ttotal: 1.42ms\tremaining: 568ms\n",
      "100:\tlearn: 0.5269912\ttotal: 155ms\tremaining: 457ms\n",
      "200:\tlearn: 0.4875449\ttotal: 305ms\tremaining: 302ms\n",
      "300:\tlearn: 0.4513431\ttotal: 442ms\tremaining: 145ms\n",
      "399:\tlearn: 0.4190783\ttotal: 576ms\tremaining: 0us\n"
     ]
    },
    {
     "data": {
      "text/plain": [
       "<catboost.core.CatBoostClassifier at 0x2000c4a5220>"
      ]
     },
     "execution_count": 186,
     "metadata": {},
     "output_type": "execute_result"
    }
   ],
   "source": [
    "AF_class_balance = [y_train.sum()/len(y_train),1-y_train.sum()/len(y_train)]\n",
    "if one_half_hour_model:\n",
    "    CB_AF = CatBoostClassifier(\n",
    "        verbose=100, iterations=300, l2_leaf_reg=6, class_weights=AF_class_balance)\n",
    "elif six_hour_model:\n",
    "    CB_AF = CatBoostClassifier(\n",
    "        verbose=100, iterations=400, depth=5, l2_leaf_reg=2, class_weights=AF_class_balance)\n",
    "else:\n",
    "    CB_AF = CatBoostClassifier(\n",
    "        verbose=100, iterations=300, depth=4, l2_leaf_reg=2, class_weights=AF_class_balance)\n",
    "\n",
    "\n",
    "CB_AF.fit(X_train,y_train)"
   ]
  },
  {
   "cell_type": "code",
   "execution_count": 187,
   "metadata": {},
   "outputs": [
    {
     "name": "stdout",
     "output_type": "stream",
     "text": [
      "              precision    recall  f1-score   support\n",
      "\n",
      "       No-AF       0.84      0.80      0.82      1198\n",
      "          AF       0.81      0.85      0.83      1198\n",
      "\n",
      "    accuracy                           0.82      2396\n",
      "   macro avg       0.82      0.82      0.82      2396\n",
      "weighted avg       0.82      0.82      0.82      2396\n",
      "\n"
     ]
    }
   ],
   "source": [
    "print(classification_report(y_train,CB_AF.predict(X_train),target_names=[\"No-AF\",\"AF\"]))"
   ]
  },
  {
   "cell_type": "code",
   "execution_count": 188,
   "metadata": {},
   "outputs": [
    {
     "name": "stdout",
     "output_type": "stream",
     "text": [
      "BALANCED TEST PATIENTS\n",
      "              precision    recall  f1-score   support\n",
      "\n",
      "       No-AF       0.70      0.63      0.66       158\n",
      "          AF       0.66      0.73      0.69       158\n",
      "\n",
      "    accuracy                           0.68       316\n",
      "   macro avg       0.68      0.68      0.68       316\n",
      "weighted avg       0.68      0.68      0.68       316\n",
      "\n",
      "\n",
      "\n",
      "AUC = 0.756\n",
      "MCC = 0.3563\n",
      "==================================================\n"
     ]
    }
   ],
   "source": [
    "print(\"BALANCED TEST PATIENTS\")\n",
    "print(classification_report(y_test,CB_AF.predict(X_test),target_names=[\"No-AF\",\"AF\"]))\n",
    "print(\"\\n\")\n",
    "(fpr, tpr, thresholds) = get_roc_curve(CB_AF, Pool(data=X_test,label=y_test), plot=False)\n",
    "print(\"AUC = \"+str(np.round(auc(fpr,tpr),4)))\n",
    "print(\"MCC = \"+str(np.round(matthews_corrcoef(y_test,CB_AF.predict(X_test)),4)))\n",
    "print(50*\"=\")"
   ]
  },
  {
   "cell_type": "code",
   "execution_count": 189,
   "metadata": {},
   "outputs": [],
   "source": [
    "direct_y_test = y_test\n",
    "direct_predict = CB_AF.predict(X_test)\n",
    "AMST_y_test = y_test_amst\n",
    "AMST_predict = CB_AF.predict(X_test_amst)"
   ]
  },
  {
   "cell_type": "code",
   "execution_count": 190,
   "metadata": {},
   "outputs": [],
   "source": [
    "# plt.hist(CB_AF.predict(X_test)[np.where(y_test==0)],density=True)"
   ]
  },
  {
   "cell_type": "code",
   "execution_count": 191,
   "metadata": {},
   "outputs": [
    {
     "name": "stdout",
     "output_type": "stream",
     "text": [
      "ALL PATIENTS\n",
      "              precision    recall  f1-score   support\n",
      "\n",
      "       No-AF       0.99      0.64      0.78     12053\n",
      "          AF       0.03      0.73      0.05       161\n",
      "\n",
      "    accuracy                           0.64     12214\n",
      "   macro avg       0.51      0.68      0.41     12214\n",
      "weighted avg       0.98      0.64      0.77     12214\n",
      "\n",
      "\n",
      "\n",
      "AUC = 0.7626\n",
      "MCC = 0.0871\n",
      "==================================================\n",
      "ECE normalized AUC (%) = 7.94 %\n",
      "ESCE normalized AUC (%) = -6.8 %\n",
      "BALANCED TEST PATIENTS\n",
      "              precision    recall  f1-score   support\n",
      "\n",
      "       No-AF       0.70      0.63      0.66       158\n",
      "          AF       0.66      0.73      0.69       158\n",
      "\n",
      "    accuracy                           0.68       316\n",
      "   macro avg       0.68      0.68      0.68       316\n",
      "weighted avg       0.68      0.68      0.68       316\n",
      "\n",
      "\n",
      "\n",
      "AUC = 0.756\n",
      "MCC = 0.3563\n",
      "==================================================\n",
      "ECE normalized AUC (%) = 8.13 %\n",
      "ESCE normalized AUC (%) = 3.33 %\n"
     ]
    },
    {
     "data": {
      "text/plain": [
       "<Figure size 432x288 with 0 Axes>"
      ]
     },
     "metadata": {},
     "output_type": "display_data"
    }
   ],
   "source": [
    "temp_large_db = AF_dataset_uzgent[((AF_dataset_uzgent.AF==0)&(~AF_dataset_uzgent.patientid.isin(AF_NOW_uzgent.patientid)))|(AF_dataset_uzgent.patientid.isin(test_AF_dataset.patientid))]\n",
    "\n",
    "y_test_all_pat = temp_large_db[(temp_large_db.AF==1)|((temp_large_db.AF_orig==0)&(temp_large_db.AF==0))].AF\n",
    "X_test_all_pat = temp_large_db[(temp_large_db.AF==1)|((temp_large_db.AF_orig==0)&(temp_large_db.AF==0))][feature_columns]\n",
    "\n",
    "\n",
    "print(\"ALL PATIENTS\")\n",
    "print(classification_report(y_test_all_pat,CB_AF.predict(X_test_all_pat),target_names=[\"No-AF\",\"AF\"]))\n",
    "print(\"\\n\")\n",
    "(fpr, tpr, thresholds) = get_roc_curve(CB_AF, Pool(data=X_test_all_pat,label=y_test_all_pat), plot=False)\n",
    "print(\"AUC = \"+str(np.round(auc(fpr,tpr),4)))\n",
    "print(\"MCC = \"+str(np.round(matthews_corrcoef(y_test_all_pat,CB_AF.predict(X_test_all_pat)),4)))\n",
    "print(50*\"=\")\n",
    "\n",
    "uzgent_result_dataframe = pandas_result_AF_maker(\"all patients\",X_test_all_pat,y_test_all_pat,CB_AF,uzgent_result_dataframe)\n",
    "\n",
    "print(\"BALANCED TEST PATIENTS\")\n",
    "print(classification_report(y_test,CB_AF.predict(X_test),target_names=[\"No-AF\",\"AF\"]))\n",
    "print(\"\\n\")\n",
    "(fpr, tpr, thresholds) = get_roc_curve(CB_AF, Pool(data=X_test,label=y_test), plot=False)\n",
    "print(\"AUC = \"+str(np.round(auc(fpr,tpr),4)))\n",
    "print(\"MCC = \"+str(np.round(matthews_corrcoef(y_test,CB_AF.predict(X_test)),4)))\n",
    "print(50*\"=\")\n",
    "\n",
    "uzgent_result_dataframe = pandas_result_AF_maker(\"balanced test\",X_test,y_test,CB_AF,uzgent_result_dataframe)"
   ]
  },
  {
   "cell_type": "code",
   "execution_count": 192,
   "metadata": {},
   "outputs": [
    {
     "data": {
      "image/png": "[encoded data removed]",
      "text/plain": [
       "<Figure size 720x432 with 1 Axes>"
      ]
     },
     "metadata": {
      "needs_background": "light"
     },
     "output_type": "display_data"
    }
   ],
   "source": [
    "present=False\n",
    "\n",
    "am_show_features = 60 if len(X_train.columns)>=30 else len(X_train.columns)\n",
    "fi = CB_AF.feature_importances_\n",
    "plt.figure(figsize=(10,6))\n",
    "indices_T0 = np.argsort(fi)[::-1][0:am_show_features]\n",
    "if present:\n",
    "    plt.barh(range(am_show_features),fi[indices_T0],color=\"#e898ac\")\n",
    "else:\n",
    "    plt.barh(range(am_show_features),fi[indices_T0])\n",
    "plt.yticks(range(am_show_features), X_train.columns[indices_T0])\n",
    "plt.xlabel(\"Mean feature importance (%)\")\n",
    "if present:\n",
    "    ax = plt.gca()\n",
    "    ax.patch.set_alpha(0)\n",
    "#plt.tight_layout()\n",
    "plt.show()"
   ]
  },
  {
   "cell_type": "code",
   "execution_count": 193,
   "metadata": {},
   "outputs": [
    {
     "data": {
      "image/png": "[encoded data removed]",
      "text/plain": [
       "<Figure size 576x568.8 with 2 Axes>"
      ]
     },
     "metadata": {
      "needs_background": "light"
     },
     "output_type": "display_data"
    }
   ],
   "source": [
    "present=False\n",
    "\n",
    "explainer = shap.TreeExplainer(CB_AF)\n",
    "shap_values = explainer.shap_values(X_test)\n",
    "shap.summary_plot(shap_values, X_test,show=False)\n"
   ]
  },
  {
   "cell_type": "markdown",
   "metadata": {},
   "source": [
    "# P-tests"
   ]
  },
  {
   "cell_type": "code",
   "execution_count": 194,
   "metadata": {},
   "outputs": [],
   "source": [
    "#bonferri correction: alpha/m, with m the amount of total tests\n",
    "from scipy.stats import ranksums\n",
    "\n",
    "# print(\"p-value comparisons\")\n",
    "# print(100*\"=\")\n",
    "# print(\"\")\n",
    "    \n",
    "\n",
    "# print(\"Direct - Internal\")\n",
    "# print(\"\")\n",
    "# print(\"Rank-sum p-value: \"+ str(ranksums(direct_predict,AMST_predict)[1]))\n",
    "# print(10*\"-\")\n",
    "# print(\"AF \")\n",
    "# print(\"Rank-sum p-value: \"+ str(ranksums(direct_predict[np.where(direct_y_test==1)],AMST_predict[np.where(AMST_y_test==1)])[1]))\n",
    "# print(10*\"-\")\n",
    "# print(\"NO AF\")\n",
    "# print(\"Rank-sum p-value: \"+ str(ranksums(direct_predict[np.where(direct_y_test==0)],AMST_predict[np.where(AMST_y_test==0)])[1]))\n",
    "# print(40*\"=\")\n",
    "# print(\"\")\n",
    "uzgent_p_value_result_dataframe = pd.concat([uzgent_p_value_result_dataframe,pd.DataFrame(data=[[model_string,\"Direct - Internal\",\"all\",ranksums(direct_predict,AMST_predict)[1]]],columns=uzgent_p_value_result_dataframe_columns)])\n",
    "uzgent_p_value_result_dataframe = pd.concat([uzgent_p_value_result_dataframe,pd.DataFrame(data=[[model_string,\"Direct - Internal\",\"AF\",ranksums(direct_predict[np.where(direct_y_test==1)],AMST_predict[np.where(AMST_y_test==1)])[1]]],columns=uzgent_p_value_result_dataframe_columns)])\n",
    "uzgent_p_value_result_dataframe = pd.concat([uzgent_p_value_result_dataframe,pd.DataFrame(data=[[model_string,\"Direct - Internal\",\"NO AF\",ranksums(direct_predict[np.where(direct_y_test==0)],AMST_predict[np.where(AMST_y_test==0)])[1]]],columns=uzgent_p_value_result_dataframe_columns)])\n",
    "\n",
    "\n",
    "# print(\"Combo uzgent - Internal \")\n",
    "# print(\"\")\n",
    "# print(\"Rank-sum p-value: \"+ str(ranksums(combo_uzgent_predict,AMST_predict)[1]))\n",
    "# print(10*\"-\")\n",
    "# print(\"AF \")\n",
    "# print(\"Rank-sum p-value: \"+ str(ranksums(combo_uzgent_predict[np.where(combo_uzgent_y_test==1)],AMST_predict[np.where(AMST_y_test==1)])[1]))\n",
    "# print(10*\"-\")\n",
    "# print(\"NO AF\")\n",
    "# print(\"Rank-sum p-value: \"+ str(ranksums(combo_uzgent_predict[np.where(combo_uzgent_y_test==0)],AMST_predict[np.where(AMST_y_test==0)])[1]))\n",
    "# print(40*\"=\")\n",
    "# print(\"\")\n",
    "uzgent_p_value_result_dataframe = pd.concat([uzgent_p_value_result_dataframe,pd.DataFrame(data=[[model_string,\"Combo uzgent - Internal\",\"all\",ranksums(combo_uzgent_predict,AMST_predict)[1]]],columns=uzgent_p_value_result_dataframe_columns)])\n",
    "uzgent_p_value_result_dataframe = pd.concat([uzgent_p_value_result_dataframe,pd.DataFrame(data=[[model_string,\"Combo uzgent - Internal\",\"AF\",ranksums(combo_uzgent_predict[np.where(combo_uzgent_y_test==1)],AMST_predict[np.where(AMST_y_test==1)])[1]]],columns=uzgent_p_value_result_dataframe_columns)])\n",
    "uzgent_p_value_result_dataframe = pd.concat([uzgent_p_value_result_dataframe,pd.DataFrame(data=[[model_string,\"Combo uzgent - Internal\",\"NO AF\",ranksums(combo_uzgent_predict[np.where(combo_uzgent_y_test==0)],AMST_predict[np.where(AMST_y_test==0)])[1]]],columns=uzgent_p_value_result_dataframe_columns)])\n",
    "\n",
    "\n",
    "# print(\"Combo amst - Internal \")\n",
    "# print(\"\")\n",
    "# print(\"Rank-sum p-value: \"+ str(ranksums(combo_amst_predict,AMST_predict)[1]))\n",
    "# print(10*\"-\")\n",
    "# print(\"AF \")\n",
    "# print(\"Rank-sum p-value: \"+ str(ranksums(combo_amst_predict[np.where(combo_amst_y_test==1)],AMST_predict[np.where(AMST_y_test==1)])[1]))\n",
    "# print(10*\"-\")\n",
    "# print(\"NO AF\")\n",
    "# print(\"Rank-sum p-value: \"+ str(ranksums(combo_amst_predict[np.where(combo_amst_y_test==0)],AMST_predict[np.where(AMST_y_test==0)])[1]))\n",
    "# print(40*\"=\")\n",
    "# print(\"\")\n",
    "uzgent_p_value_result_dataframe = pd.concat([uzgent_p_value_result_dataframe,pd.DataFrame(data=[[model_string,\"Combo amst - Internal\",\"all\",ranksums(combo_amst_predict,AMST_predict)[1]]],columns=uzgent_p_value_result_dataframe_columns)])\n",
    "uzgent_p_value_result_dataframe = pd.concat([uzgent_p_value_result_dataframe,pd.DataFrame(data=[[model_string,\"Combo amst - Internal\",\"AF\",ranksums(combo_amst_predict[np.where(combo_amst_y_test==1)],AMST_predict[np.where(AMST_y_test==1)])[1]]],columns=uzgent_p_value_result_dataframe_columns)])\n",
    "uzgent_p_value_result_dataframe = pd.concat([uzgent_p_value_result_dataframe,pd.DataFrame(data=[[model_string,\"Combo amst - Internal\",\"NO AF\",ranksums(combo_amst_predict[np.where(combo_amst_y_test==0)],AMST_predict[np.where(AMST_y_test==0)])[1]]],columns=uzgent_p_value_result_dataframe_columns)])\n",
    "\n",
    "\n",
    "# print(\"Transfer - Internal \")\n",
    "# print(\"\")\n",
    "# print(\"Rank-sum p-value: \"+ str(ranksums(transfer_predict,AMST_predict)[1]))\n",
    "# print(10*\"-\")\n",
    "# print(\"AF \")\n",
    "# print(\"Rank-sum p-value: \"+ str(ranksums(transfer_predict[np.where(transfer_y_test==1)],AMST_predict[np.where(AMST_y_test==1)])[1]))\n",
    "# print(10*\"-\")\n",
    "# print(\"NO AF\")\n",
    "# print(\"Rank-sum p-value: \"+ str(ranksums(transfer_predict[np.where(transfer_y_test==0)],AMST_predict[np.where(AMST_y_test==0)])[1]))\n",
    "# print(40*\"=\")\n",
    "# print(\"\")\n",
    "uzgent_p_value_result_dataframe = pd.concat([uzgent_p_value_result_dataframe,pd.DataFrame(data=[[model_string,\"Transfer - Internal\",\"all\",ranksums(transfer_predict,AMST_predict)[1]]],columns=uzgent_p_value_result_dataframe_columns)])\n",
    "uzgent_p_value_result_dataframe = pd.concat([uzgent_p_value_result_dataframe,pd.DataFrame(data=[[model_string,\"Transfer - Internal\",\"AF\",ranksums(transfer_predict[np.where(transfer_y_test==1)],AMST_predict[np.where(AMST_y_test==1)])[1]]],columns=uzgent_p_value_result_dataframe_columns)])\n",
    "uzgent_p_value_result_dataframe = pd.concat([uzgent_p_value_result_dataframe,pd.DataFrame(data=[[model_string,\"Transfer - Internal\",\"NO AF\",ranksums(transfer_predict[np.where(transfer_y_test==0)],AMST_predict[np.where(AMST_y_test==0)])[1]]],columns=uzgent_p_value_result_dataframe_columns)])\n",
    "\n",
    "\n",
    "# print(\"Transfer - Combo uzgent \")\n",
    "# print(\"\")\n",
    "# print(\"Rank-sum p-value: \"+ str(ranksums(transfer_predict,combo_uzgent_predict)[1]))\n",
    "# print(10*\"-\")\n",
    "# print(\"AF \")\n",
    "# print(\"Rank-sum p-value: \"+ str(ranksums(transfer_predict[np.where(transfer_y_test==1)],combo_uzgent_predict[np.where(combo_uzgent_y_test==1)])[1]))\n",
    "# print(10*\"-\")\n",
    "# print(\"NO AF\")\n",
    "# print(\"Rank-sum p-value: \"+ str(ranksums(transfer_predict[np.where(transfer_y_test==0)],combo_uzgent_predict[np.where(combo_uzgent_y_test==0)])[1]))\n",
    "# print(40*\"=\")\n",
    "# print(\"\")\n",
    "uzgent_p_value_result_dataframe = pd.concat([uzgent_p_value_result_dataframe,pd.DataFrame(data=[[model_string,\"Transfer - Combo uzgent\",\"all\",ranksums(transfer_predict,combo_uzgent_predict)[1]]],columns=uzgent_p_value_result_dataframe_columns)])\n",
    "uzgent_p_value_result_dataframe = pd.concat([uzgent_p_value_result_dataframe,pd.DataFrame(data=[[model_string,\"Transfer - Combo uzgent\",\"AF\",ranksums(transfer_predict[np.where(transfer_y_test==1)],combo_uzgent_predict[np.where(combo_uzgent_y_test==1)])[1]]],columns=uzgent_p_value_result_dataframe_columns)])\n",
    "uzgent_p_value_result_dataframe = pd.concat([uzgent_p_value_result_dataframe,pd.DataFrame(data=[[model_string,\"Transfer - Combo uzgent\",\"NO AF\",ranksums(transfer_predict[np.where(transfer_y_test==0)],combo_uzgent_predict[np.where(combo_uzgent_y_test==0)])[1]]],columns=uzgent_p_value_result_dataframe_columns)])\n",
    "\n",
    "\n",
    "# print(\"Transfer - Direct \")\n",
    "# print(\"\")\n",
    "# print(\"Rank-sum p-value: \"+ str(ranksums(transfer_predict,direct_predict)[1]))\n",
    "# print(10*\"-\")\n",
    "# print(\"AF \")\n",
    "# print(\"Rank-sum p-value: \"+ str(ranksums(transfer_predict[np.where(transfer_y_test==1)],direct_predict[np.where(direct_y_test==1)])[1]))\n",
    "# print(10*\"-\")\n",
    "# print(\"NO AF\")\n",
    "# print(\"Rank-sum p-value: \"+ str(ranksums(transfer_predict[np.where(transfer_y_test==0)],direct_predict[np.where(direct_y_test==0)])[1]))\n",
    "# print(40*\"=\")\n",
    "# print(\"\")\n",
    "uzgent_p_value_result_dataframe = pd.concat([uzgent_p_value_result_dataframe,pd.DataFrame(data=[[model_string,\"Transfer - Direct\",\"all\",ranksums(transfer_predict,direct_predict)[1]]],columns=uzgent_p_value_result_dataframe_columns)])\n",
    "uzgent_p_value_result_dataframe = pd.concat([uzgent_p_value_result_dataframe,pd.DataFrame(data=[[model_string,\"Transfer - Direct\",\"AF\",ranksums(transfer_predict[np.where(transfer_y_test==1)],direct_predict[np.where(direct_y_test==1)])[1]]],columns=uzgent_p_value_result_dataframe_columns)])\n",
    "uzgent_p_value_result_dataframe = pd.concat([uzgent_p_value_result_dataframe,pd.DataFrame(data=[[model_string,\"Transfer - Direct\",\"NO AF\",ranksums(transfer_predict[np.where(transfer_y_test==0)],direct_predict[np.where(direct_y_test==0)])[1]]],columns=uzgent_p_value_result_dataframe_columns)])\n",
    "\n",
    "\n",
    "# print(\"Combo uzgent - Direct \")\n",
    "# print(\"\")\n",
    "# print(\"Rank-sum p-value: \"+ str(ranksums(combo_uzgent_predict,direct_predict)[1]))\n",
    "# print(10*\"-\")\n",
    "# print(\"AF \")\n",
    "# print(\"Rank-sum p-value: \"+ str(ranksums(combo_uzgent_predict[np.where(combo_uzgent_y_test==1)],direct_predict[np.where(direct_y_test==1)])[1]))\n",
    "# print(10*\"-\")\n",
    "# print(\"NO AF\")\n",
    "# print(\"Rank-sum p-value: \"+ str(ranksums(combo_uzgent_predict[np.where(combo_uzgent_y_test==0)],direct_predict[np.where(direct_y_test==0)])[1]))\n",
    "# print(40*\"=\")\n",
    "uzgent_p_value_result_dataframe = pd.concat([uzgent_p_value_result_dataframe,pd.DataFrame(data=[[model_string,\"Combo uzgent - Direct\",\"all\",ranksums(combo_uzgent_predict,direct_predict)[1]]],columns=uzgent_p_value_result_dataframe_columns)])\n",
    "uzgent_p_value_result_dataframe = pd.concat([uzgent_p_value_result_dataframe,pd.DataFrame(data=[[model_string,\"Combo uzgent - Direct\",\"AF\",ranksums(combo_uzgent_predict[np.where(combo_uzgent_y_test==1)],direct_predict[np.where(direct_y_test==1)])[1]]],columns=uzgent_p_value_result_dataframe_columns)])\n",
    "uzgent_p_value_result_dataframe = pd.concat([uzgent_p_value_result_dataframe,pd.DataFrame(data=[[model_string,\"Combo uzgent - Direct\",\"NO AF\",ranksums(combo_uzgent_predict[np.where(combo_uzgent_y_test==0)],direct_predict[np.where(direct_y_test==0)])[1]]],columns=uzgent_p_value_result_dataframe_columns)])\n",
    "\n"
   ]
  },
  {
   "cell_type": "code",
   "execution_count": 195,
   "metadata": {},
   "outputs": [
    {
     "data": {
      "text/html": [
       "<div>\n",
       "<style scoped>\n",
       "    .dataframe tbody tr th:only-of-type {\n",
       "        vertical-align: middle;\n",
       "    }\n",
       "\n",
       "    .dataframe tbody tr th {\n",
       "        vertical-align: top;\n",
       "    }\n",
       "\n",
       "    .dataframe thead th {\n",
       "        text-align: right;\n",
       "    }\n",
       "</style>\n",
       "<table border=\"1\" class=\"dataframe\">\n",
       "  <thead>\n",
       "    <tr style=\"text-align: right;\">\n",
       "      <th></th>\n",
       "      <th>model</th>\n",
       "      <th>validation_type</th>\n",
       "      <th>patient_group</th>\n",
       "      <th>NO AF patients</th>\n",
       "      <th>AF patients</th>\n",
       "      <th>NO AF recall</th>\n",
       "      <th>AF recall</th>\n",
       "      <th>NO AF precision</th>\n",
       "      <th>AF precision</th>\n",
       "      <th>NO AF f1</th>\n",
       "      <th>AF f1</th>\n",
       "      <th>mcc</th>\n",
       "      <th>auc</th>\n",
       "      <th>ECE</th>\n",
       "      <th>ESCE</th>\n",
       "    </tr>\n",
       "  </thead>\n",
       "  <tbody>\n",
       "    <tr>\n",
       "      <th>0</th>\n",
       "      <td>1.5</td>\n",
       "      <td>transfer</td>\n",
       "      <td>balanced test</td>\n",
       "      <td>183</td>\n",
       "      <td>184</td>\n",
       "      <td>0.759563</td>\n",
       "      <td>0.809783</td>\n",
       "      <td>0.798851</td>\n",
       "      <td>0.772021</td>\n",
       "      <td>0.778711</td>\n",
       "      <td>0.790451</td>\n",
       "      <td>0.570108</td>\n",
       "      <td>0.859705</td>\n",
       "      <td>0.089453</td>\n",
       "      <td>0.039840</td>\n",
       "    </tr>\n",
       "    <tr>\n",
       "      <th>0</th>\n",
       "      <td>1.5</td>\n",
       "      <td>transfer</td>\n",
       "      <td>all patients</td>\n",
       "      <td>18934</td>\n",
       "      <td>184</td>\n",
       "      <td>0.747438</td>\n",
       "      <td>0.809783</td>\n",
       "      <td>0.997533</td>\n",
       "      <td>0.030217</td>\n",
       "      <td>0.854564</td>\n",
       "      <td>0.058260</td>\n",
       "      <td>0.124350</td>\n",
       "      <td>0.854152</td>\n",
       "      <td>0.065771</td>\n",
       "      <td>-0.061127</td>\n",
       "    </tr>\n",
       "    <tr>\n",
       "      <th>0</th>\n",
       "      <td>1.5</td>\n",
       "      <td>combo</td>\n",
       "      <td>all patients uzgent</td>\n",
       "      <td>18934</td>\n",
       "      <td>184</td>\n",
       "      <td>0.733126</td>\n",
       "      <td>0.815217</td>\n",
       "      <td>0.997557</td>\n",
       "      <td>0.028830</td>\n",
       "      <td>0.845140</td>\n",
       "      <td>0.055690</td>\n",
       "      <td>0.120286</td>\n",
       "      <td>0.851310</td>\n",
       "      <td>0.058826</td>\n",
       "      <td>-0.051587</td>\n",
       "    </tr>\n",
       "    <tr>\n",
       "      <th>0</th>\n",
       "      <td>1.5</td>\n",
       "      <td>combo</td>\n",
       "      <td>balanced test uzgent</td>\n",
       "      <td>183</td>\n",
       "      <td>184</td>\n",
       "      <td>0.732240</td>\n",
       "      <td>0.815217</td>\n",
       "      <td>0.797619</td>\n",
       "      <td>0.753769</td>\n",
       "      <td>0.763533</td>\n",
       "      <td>0.783290</td>\n",
       "      <td>0.549419</td>\n",
       "      <td>0.853469</td>\n",
       "      <td>0.092907</td>\n",
       "      <td>0.052085</td>\n",
       "    </tr>\n",
       "    <tr>\n",
       "      <th>0</th>\n",
       "      <td>1.5</td>\n",
       "      <td>combo</td>\n",
       "      <td>all patients amsterdam</td>\n",
       "      <td>13191</td>\n",
       "      <td>344</td>\n",
       "      <td>0.699795</td>\n",
       "      <td>0.723837</td>\n",
       "      <td>0.989813</td>\n",
       "      <td>0.059159</td>\n",
       "      <td>0.819914</td>\n",
       "      <td>0.109378</td>\n",
       "      <td>0.144036</td>\n",
       "      <td>0.794687</td>\n",
       "      <td>0.020665</td>\n",
       "      <td>-0.009612</td>\n",
       "    </tr>\n",
       "    <tr>\n",
       "      <th>0</th>\n",
       "      <td>1.5</td>\n",
       "      <td>combo</td>\n",
       "      <td>balanced test amsterdam</td>\n",
       "      <td>378</td>\n",
       "      <td>344</td>\n",
       "      <td>0.735450</td>\n",
       "      <td>0.723837</td>\n",
       "      <td>0.745308</td>\n",
       "      <td>0.713467</td>\n",
       "      <td>0.740346</td>\n",
       "      <td>0.718615</td>\n",
       "      <td>0.459031</td>\n",
       "      <td>0.809039</td>\n",
       "      <td>0.070584</td>\n",
       "      <td>0.031264</td>\n",
       "    </tr>\n",
       "    <tr>\n",
       "      <th>0</th>\n",
       "      <td>1.5</td>\n",
       "      <td>direct</td>\n",
       "      <td>all patients</td>\n",
       "      <td>18970</td>\n",
       "      <td>194</td>\n",
       "      <td>0.514760</td>\n",
       "      <td>0.907216</td>\n",
       "      <td>0.998160</td>\n",
       "      <td>0.018761</td>\n",
       "      <td>0.679233</td>\n",
       "      <td>0.036762</td>\n",
       "      <td>0.084501</td>\n",
       "      <td>0.816245</td>\n",
       "      <td>0.177544</td>\n",
       "      <td>-0.177440</td>\n",
       "    </tr>\n",
       "    <tr>\n",
       "      <th>0</th>\n",
       "      <td>1.5</td>\n",
       "      <td>direct</td>\n",
       "      <td>balanced test</td>\n",
       "      <td>183</td>\n",
       "      <td>183</td>\n",
       "      <td>0.519126</td>\n",
       "      <td>0.901639</td>\n",
       "      <td>0.840708</td>\n",
       "      <td>0.652174</td>\n",
       "      <td>0.641892</td>\n",
       "      <td>0.756881</td>\n",
       "      <td>0.455398</td>\n",
       "      <td>0.827496</td>\n",
       "      <td>0.095191</td>\n",
       "      <td>0.033892</td>\n",
       "    </tr>\n",
       "    <tr>\n",
       "      <th>0</th>\n",
       "      <td>12</td>\n",
       "      <td>transfer</td>\n",
       "      <td>balanced test</td>\n",
       "      <td>165</td>\n",
       "      <td>150</td>\n",
       "      <td>0.703030</td>\n",
       "      <td>0.833333</td>\n",
       "      <td>0.822695</td>\n",
       "      <td>0.718391</td>\n",
       "      <td>0.758170</td>\n",
       "      <td>0.771605</td>\n",
       "      <td>0.538720</td>\n",
       "      <td>0.847273</td>\n",
       "      <td>0.087534</td>\n",
       "      <td>0.040794</td>\n",
       "    </tr>\n",
       "    <tr>\n",
       "      <th>0</th>\n",
       "      <td>12</td>\n",
       "      <td>transfer</td>\n",
       "      <td>all patients</td>\n",
       "      <td>9675</td>\n",
       "      <td>150</td>\n",
       "      <td>0.724961</td>\n",
       "      <td>0.833333</td>\n",
       "      <td>0.996448</td>\n",
       "      <td>0.044867</td>\n",
       "      <td>0.839296</td>\n",
       "      <td>0.085150</td>\n",
       "      <td>0.151876</td>\n",
       "      <td>0.850600</td>\n",
       "      <td>0.065123</td>\n",
       "      <td>-0.058105</td>\n",
       "    </tr>\n",
       "    <tr>\n",
       "      <th>0</th>\n",
       "      <td>12</td>\n",
       "      <td>combo</td>\n",
       "      <td>all patients uzgent</td>\n",
       "      <td>9675</td>\n",
       "      <td>150</td>\n",
       "      <td>0.708114</td>\n",
       "      <td>0.833333</td>\n",
       "      <td>0.996364</td>\n",
       "      <td>0.042387</td>\n",
       "      <td>0.827865</td>\n",
       "      <td>0.080671</td>\n",
       "      <td>0.144851</td>\n",
       "      <td>0.836105</td>\n",
       "      <td>0.064524</td>\n",
       "      <td>-0.049042</td>\n",
       "    </tr>\n",
       "    <tr>\n",
       "      <th>0</th>\n",
       "      <td>12</td>\n",
       "      <td>combo</td>\n",
       "      <td>balanced test uzgent</td>\n",
       "      <td>165</td>\n",
       "      <td>150</td>\n",
       "      <td>0.703030</td>\n",
       "      <td>0.833333</td>\n",
       "      <td>0.822695</td>\n",
       "      <td>0.718391</td>\n",
       "      <td>0.758170</td>\n",
       "      <td>0.771605</td>\n",
       "      <td>0.538720</td>\n",
       "      <td>0.845818</td>\n",
       "      <td>0.096402</td>\n",
       "      <td>0.065824</td>\n",
       "    </tr>\n",
       "    <tr>\n",
       "      <th>0</th>\n",
       "      <td>12</td>\n",
       "      <td>combo</td>\n",
       "      <td>all patients amsterdam</td>\n",
       "      <td>7733</td>\n",
       "      <td>298</td>\n",
       "      <td>0.593948</td>\n",
       "      <td>0.728188</td>\n",
       "      <td>0.982670</td>\n",
       "      <td>0.064641</td>\n",
       "      <td>0.740388</td>\n",
       "      <td>0.118741</td>\n",
       "      <td>0.123453</td>\n",
       "      <td>0.724498</td>\n",
       "      <td>0.120252</td>\n",
       "      <td>-0.109339</td>\n",
       "    </tr>\n",
       "    <tr>\n",
       "      <th>0</th>\n",
       "      <td>12</td>\n",
       "      <td>combo</td>\n",
       "      <td>balanced test amsterdam</td>\n",
       "      <td>298</td>\n",
       "      <td>298</td>\n",
       "      <td>0.664430</td>\n",
       "      <td>0.728188</td>\n",
       "      <td>0.709677</td>\n",
       "      <td>0.684543</td>\n",
       "      <td>0.686308</td>\n",
       "      <td>0.705691</td>\n",
       "      <td>0.393418</td>\n",
       "      <td>0.748604</td>\n",
       "      <td>0.087037</td>\n",
       "      <td>0.008528</td>\n",
       "    </tr>\n",
       "    <tr>\n",
       "      <th>0</th>\n",
       "      <td>12</td>\n",
       "      <td>direct</td>\n",
       "      <td>all patients</td>\n",
       "      <td>9653</td>\n",
       "      <td>160</td>\n",
       "      <td>0.485549</td>\n",
       "      <td>0.900000</td>\n",
       "      <td>0.996598</td>\n",
       "      <td>0.028180</td>\n",
       "      <td>0.652967</td>\n",
       "      <td>0.054649</td>\n",
       "      <td>0.097740</td>\n",
       "      <td>0.775127</td>\n",
       "      <td>0.175342</td>\n",
       "      <td>-0.174428</td>\n",
       "    </tr>\n",
       "    <tr>\n",
       "      <th>0</th>\n",
       "      <td>12</td>\n",
       "      <td>direct</td>\n",
       "      <td>balanced test</td>\n",
       "      <td>158</td>\n",
       "      <td>158</td>\n",
       "      <td>0.556962</td>\n",
       "      <td>0.898734</td>\n",
       "      <td>0.846154</td>\n",
       "      <td>0.669811</td>\n",
       "      <td>0.671756</td>\n",
       "      <td>0.767568</td>\n",
       "      <td>0.484895</td>\n",
       "      <td>0.799832</td>\n",
       "      <td>0.110227</td>\n",
       "      <td>0.089626</td>\n",
       "    </tr>\n",
       "    <tr>\n",
       "      <th>0</th>\n",
       "      <td>6</td>\n",
       "      <td>transfer</td>\n",
       "      <td>balanced test</td>\n",
       "      <td>165</td>\n",
       "      <td>151</td>\n",
       "      <td>0.703030</td>\n",
       "      <td>0.801325</td>\n",
       "      <td>0.794521</td>\n",
       "      <td>0.711765</td>\n",
       "      <td>0.745981</td>\n",
       "      <td>0.753894</td>\n",
       "      <td>0.505319</td>\n",
       "      <td>0.828096</td>\n",
       "      <td>0.078835</td>\n",
       "      <td>0.013861</td>\n",
       "    </tr>\n",
       "    <tr>\n",
       "      <th>0</th>\n",
       "      <td>6</td>\n",
       "      <td>transfer</td>\n",
       "      <td>all patients</td>\n",
       "      <td>12070</td>\n",
       "      <td>151</td>\n",
       "      <td>0.738028</td>\n",
       "      <td>0.801325</td>\n",
       "      <td>0.996644</td>\n",
       "      <td>0.036857</td>\n",
       "      <td>0.848058</td>\n",
       "      <td>0.070472</td>\n",
       "      <td>0.134419</td>\n",
       "      <td>0.841736</td>\n",
       "      <td>0.081557</td>\n",
       "      <td>-0.079146</td>\n",
       "    </tr>\n",
       "    <tr>\n",
       "      <th>0</th>\n",
       "      <td>6</td>\n",
       "      <td>combo</td>\n",
       "      <td>all patients uzgent</td>\n",
       "      <td>12070</td>\n",
       "      <td>151</td>\n",
       "      <td>0.729495</td>\n",
       "      <td>0.814570</td>\n",
       "      <td>0.996830</td>\n",
       "      <td>0.036305</td>\n",
       "      <td>0.842463</td>\n",
       "      <td>0.069511</td>\n",
       "      <td>0.134266</td>\n",
       "      <td>0.846822</td>\n",
       "      <td>0.057626</td>\n",
       "      <td>-0.045699</td>\n",
       "    </tr>\n",
       "    <tr>\n",
       "      <th>0</th>\n",
       "      <td>6</td>\n",
       "      <td>combo</td>\n",
       "      <td>balanced test uzgent</td>\n",
       "      <td>165</td>\n",
       "      <td>151</td>\n",
       "      <td>0.672727</td>\n",
       "      <td>0.814570</td>\n",
       "      <td>0.798561</td>\n",
       "      <td>0.694915</td>\n",
       "      <td>0.730263</td>\n",
       "      <td>0.750000</td>\n",
       "      <td>0.490377</td>\n",
       "      <td>0.829942</td>\n",
       "      <td>0.092357</td>\n",
       "      <td>0.047774</td>\n",
       "    </tr>\n",
       "    <tr>\n",
       "      <th>0</th>\n",
       "      <td>6</td>\n",
       "      <td>combo</td>\n",
       "      <td>all patients amsterdam</td>\n",
       "      <td>13320</td>\n",
       "      <td>311</td>\n",
       "      <td>0.649024</td>\n",
       "      <td>0.684887</td>\n",
       "      <td>0.988791</td>\n",
       "      <td>0.043576</td>\n",
       "      <td>0.783665</td>\n",
       "      <td>0.081939</td>\n",
       "      <td>0.103960</td>\n",
       "      <td>0.739473</td>\n",
       "      <td>0.055874</td>\n",
       "      <td>-0.041011</td>\n",
       "    </tr>\n",
       "    <tr>\n",
       "      <th>0</th>\n",
       "      <td>6</td>\n",
       "      <td>combo</td>\n",
       "      <td>balanced test amsterdam</td>\n",
       "      <td>350</td>\n",
       "      <td>311</td>\n",
       "      <td>0.722857</td>\n",
       "      <td>0.684887</td>\n",
       "      <td>0.720798</td>\n",
       "      <td>0.687097</td>\n",
       "      <td>0.721826</td>\n",
       "      <td>0.685990</td>\n",
       "      <td>0.407820</td>\n",
       "      <td>0.778916</td>\n",
       "      <td>0.071806</td>\n",
       "      <td>0.026688</td>\n",
       "    </tr>\n",
       "    <tr>\n",
       "      <th>0</th>\n",
       "      <td>6</td>\n",
       "      <td>direct</td>\n",
       "      <td>all patients</td>\n",
       "      <td>12053</td>\n",
       "      <td>161</td>\n",
       "      <td>0.640587</td>\n",
       "      <td>0.726708</td>\n",
       "      <td>0.994334</td>\n",
       "      <td>0.026298</td>\n",
       "      <td>0.779191</td>\n",
       "      <td>0.050759</td>\n",
       "      <td>0.087051</td>\n",
       "      <td>0.762629</td>\n",
       "      <td>0.079376</td>\n",
       "      <td>-0.067997</td>\n",
       "    </tr>\n",
       "    <tr>\n",
       "      <th>0</th>\n",
       "      <td>6</td>\n",
       "      <td>direct</td>\n",
       "      <td>balanced test</td>\n",
       "      <td>158</td>\n",
       "      <td>158</td>\n",
       "      <td>0.626582</td>\n",
       "      <td>0.727848</td>\n",
       "      <td>0.697183</td>\n",
       "      <td>0.660920</td>\n",
       "      <td>0.660000</td>\n",
       "      <td>0.692771</td>\n",
       "      <td>0.356262</td>\n",
       "      <td>0.756009</td>\n",
       "      <td>0.081274</td>\n",
       "      <td>0.033343</td>\n",
       "    </tr>\n",
       "  </tbody>\n",
       "</table>\n",
       "</div>"
      ],
      "text/plain": [
       "  model validation_type            patient_group NO AF patients AF patients  \\\n",
       "0   1.5        transfer            balanced test            183         184   \n",
       "0   1.5        transfer             all patients          18934         184   \n",
       "0   1.5           combo      all patients uzgent          18934         184   \n",
       "0   1.5           combo     balanced test uzgent            183         184   \n",
       "0   1.5           combo   all patients amsterdam          13191         344   \n",
       "0   1.5           combo  balanced test amsterdam            378         344   \n",
       "0   1.5          direct             all patients          18970         194   \n",
       "0   1.5          direct            balanced test            183         183   \n",
       "0    12        transfer            balanced test            165         150   \n",
       "0    12        transfer             all patients           9675         150   \n",
       "0    12           combo      all patients uzgent           9675         150   \n",
       "0    12           combo     balanced test uzgent            165         150   \n",
       "0    12           combo   all patients amsterdam           7733         298   \n",
       "0    12           combo  balanced test amsterdam            298         298   \n",
       "0    12          direct             all patients           9653         160   \n",
       "0    12          direct            balanced test            158         158   \n",
       "0     6        transfer            balanced test            165         151   \n",
       "0     6        transfer             all patients          12070         151   \n",
       "0     6           combo      all patients uzgent          12070         151   \n",
       "0     6           combo     balanced test uzgent            165         151   \n",
       "0     6           combo   all patients amsterdam          13320         311   \n",
       "0     6           combo  balanced test amsterdam            350         311   \n",
       "0     6          direct             all patients          12053         161   \n",
       "0     6          direct            balanced test            158         158   \n",
       "\n",
       "   NO AF recall  AF recall  NO AF precision  AF precision  NO AF f1     AF f1  \\\n",
       "0      0.759563   0.809783         0.798851      0.772021  0.778711  0.790451   \n",
       "0      0.747438   0.809783         0.997533      0.030217  0.854564  0.058260   \n",
       "0      0.733126   0.815217         0.997557      0.028830  0.845140  0.055690   \n",
       "0      0.732240   0.815217         0.797619      0.753769  0.763533  0.783290   \n",
       "0      0.699795   0.723837         0.989813      0.059159  0.819914  0.109378   \n",
       "0      0.735450   0.723837         0.745308      0.713467  0.740346  0.718615   \n",
       "0      0.514760   0.907216         0.998160      0.018761  0.679233  0.036762   \n",
       "0      0.519126   0.901639         0.840708      0.652174  0.641892  0.756881   \n",
       "0      0.703030   0.833333         0.822695      0.718391  0.758170  0.771605   \n",
       "0      0.724961   0.833333         0.996448      0.044867  0.839296  0.085150   \n",
       "0      0.708114   0.833333         0.996364      0.042387  0.827865  0.080671   \n",
       "0      0.703030   0.833333         0.822695      0.718391  0.758170  0.771605   \n",
       "0      0.593948   0.728188         0.982670      0.064641  0.740388  0.118741   \n",
       "0      0.664430   0.728188         0.709677      0.684543  0.686308  0.705691   \n",
       "0      0.485549   0.900000         0.996598      0.028180  0.652967  0.054649   \n",
       "0      0.556962   0.898734         0.846154      0.669811  0.671756  0.767568   \n",
       "0      0.703030   0.801325         0.794521      0.711765  0.745981  0.753894   \n",
       "0      0.738028   0.801325         0.996644      0.036857  0.848058  0.070472   \n",
       "0      0.729495   0.814570         0.996830      0.036305  0.842463  0.069511   \n",
       "0      0.672727   0.814570         0.798561      0.694915  0.730263  0.750000   \n",
       "0      0.649024   0.684887         0.988791      0.043576  0.783665  0.081939   \n",
       "0      0.722857   0.684887         0.720798      0.687097  0.721826  0.685990   \n",
       "0      0.640587   0.726708         0.994334      0.026298  0.779191  0.050759   \n",
       "0      0.626582   0.727848         0.697183      0.660920  0.660000  0.692771   \n",
       "\n",
       "        mcc       auc       ECE      ESCE  \n",
       "0  0.570108  0.859705  0.089453  0.039840  \n",
       "0  0.124350  0.854152  0.065771 -0.061127  \n",
       "0  0.120286  0.851310  0.058826 -0.051587  \n",
       "0  0.549419  0.853469  0.092907  0.052085  \n",
       "0  0.144036  0.794687  0.020665 -0.009612  \n",
       "0  0.459031  0.809039  0.070584  0.031264  \n",
       "0  0.084501  0.816245  0.177544 -0.177440  \n",
       "0  0.455398  0.827496  0.095191  0.033892  \n",
       "0  0.538720  0.847273  0.087534  0.040794  \n",
       "0  0.151876  0.850600  0.065123 -0.058105  \n",
       "0  0.144851  0.836105  0.064524 -0.049042  \n",
       "0  0.538720  0.845818  0.096402  0.065824  \n",
       "0  0.123453  0.724498  0.120252 -0.109339  \n",
       "0  0.393418  0.748604  0.087037  0.008528  \n",
       "0  0.097740  0.775127  0.175342 -0.174428  \n",
       "0  0.484895  0.799832  0.110227  0.089626  \n",
       "0  0.505319  0.828096  0.078835  0.013861  \n",
       "0  0.134419  0.841736  0.081557 -0.079146  \n",
       "0  0.134266  0.846822  0.057626 -0.045699  \n",
       "0  0.490377  0.829942  0.092357  0.047774  \n",
       "0  0.103960  0.739473  0.055874 -0.041011  \n",
       "0  0.407820  0.778916  0.071806  0.026688  \n",
       "0  0.087051  0.762629  0.079376 -0.067997  \n",
       "0  0.356262  0.756009  0.081274  0.033343  "
      ]
     },
     "execution_count": 195,
     "metadata": {},
     "output_type": "execute_result"
    }
   ],
   "source": [
    "uzgent_result_dataframe"
   ]
  },
  {
   "cell_type": "code",
   "execution_count": 196,
   "metadata": {},
   "outputs": [
    {
     "data": {
      "text/html": [
       "<div>\n",
       "<style scoped>\n",
       "    .dataframe tbody tr th:only-of-type {\n",
       "        vertical-align: middle;\n",
       "    }\n",
       "\n",
       "    .dataframe tbody tr th {\n",
       "        vertical-align: top;\n",
       "    }\n",
       "\n",
       "    .dataframe thead th {\n",
       "        text-align: right;\n",
       "    }\n",
       "</style>\n",
       "<table border=\"1\" class=\"dataframe\">\n",
       "  <thead>\n",
       "    <tr style=\"text-align: right;\">\n",
       "      <th></th>\n",
       "      <th>model</th>\n",
       "      <th>comparison</th>\n",
       "      <th>AF_group</th>\n",
       "      <th>p_value</th>\n",
       "    </tr>\n",
       "  </thead>\n",
       "  <tbody>\n",
       "    <tr>\n",
       "      <th>0</th>\n",
       "      <td>1.5</td>\n",
       "      <td>Direct - Internal</td>\n",
       "      <td>all</td>\n",
       "      <td>0.000053</td>\n",
       "    </tr>\n",
       "    <tr>\n",
       "      <th>0</th>\n",
       "      <td>1.5</td>\n",
       "      <td>Direct - Internal</td>\n",
       "      <td>AF</td>\n",
       "      <td>0.014964</td>\n",
       "    </tr>\n",
       "    <tr>\n",
       "      <th>0</th>\n",
       "      <td>1.5</td>\n",
       "      <td>Direct - Internal</td>\n",
       "      <td>NO AF</td>\n",
       "      <td>0.001036</td>\n",
       "    </tr>\n",
       "    <tr>\n",
       "      <th>0</th>\n",
       "      <td>1.5</td>\n",
       "      <td>Combo uzgent - Internal</td>\n",
       "      <td>all</td>\n",
       "      <td>0.922861</td>\n",
       "    </tr>\n",
       "    <tr>\n",
       "      <th>0</th>\n",
       "      <td>1.5</td>\n",
       "      <td>Combo uzgent - Internal</td>\n",
       "      <td>AF</td>\n",
       "      <td>0.413636</td>\n",
       "    </tr>\n",
       "    <tr>\n",
       "      <th>...</th>\n",
       "      <td>...</td>\n",
       "      <td>...</td>\n",
       "      <td>...</td>\n",
       "      <td>...</td>\n",
       "    </tr>\n",
       "    <tr>\n",
       "      <th>0</th>\n",
       "      <td>6</td>\n",
       "      <td>Transfer - Direct</td>\n",
       "      <td>AF</td>\n",
       "      <td>0.264224</td>\n",
       "    </tr>\n",
       "    <tr>\n",
       "      <th>0</th>\n",
       "      <td>6</td>\n",
       "      <td>Transfer - Direct</td>\n",
       "      <td>NO AF</td>\n",
       "      <td>0.234932</td>\n",
       "    </tr>\n",
       "    <tr>\n",
       "      <th>0</th>\n",
       "      <td>6</td>\n",
       "      <td>Combo uzgent - Direct</td>\n",
       "      <td>all</td>\n",
       "      <td>0.836378</td>\n",
       "    </tr>\n",
       "    <tr>\n",
       "      <th>0</th>\n",
       "      <td>6</td>\n",
       "      <td>Combo uzgent - Direct</td>\n",
       "      <td>AF</td>\n",
       "      <td>0.187597</td>\n",
       "    </tr>\n",
       "    <tr>\n",
       "      <th>0</th>\n",
       "      <td>6</td>\n",
       "      <td>Combo uzgent - Direct</td>\n",
       "      <td>NO AF</td>\n",
       "      <td>0.473411</td>\n",
       "    </tr>\n",
       "  </tbody>\n",
       "</table>\n",
       "<p>63 rows × 4 columns</p>\n",
       "</div>"
      ],
      "text/plain": [
       "   model               comparison AF_group   p_value\n",
       "0    1.5        Direct - Internal      all  0.000053\n",
       "0    1.5        Direct - Internal       AF  0.014964\n",
       "0    1.5        Direct - Internal    NO AF  0.001036\n",
       "0    1.5  Combo uzgent - Internal      all  0.922861\n",
       "0    1.5  Combo uzgent - Internal       AF  0.413636\n",
       "..   ...                      ...      ...       ...\n",
       "0      6        Transfer - Direct       AF  0.264224\n",
       "0      6        Transfer - Direct    NO AF  0.234932\n",
       "0      6    Combo uzgent - Direct      all  0.836378\n",
       "0      6    Combo uzgent - Direct       AF  0.187597\n",
       "0      6    Combo uzgent - Direct    NO AF  0.473411\n",
       "\n",
       "[63 rows x 4 columns]"
      ]
     },
     "execution_count": 196,
     "metadata": {},
     "output_type": "execute_result"
    }
   ],
   "source": [
    "uzgent_p_value_result_dataframe"
   ]
  },
  {
   "cell_type": "code",
   "execution_count": 198,
   "metadata": {},
   "outputs": [],
   "source": [
    "# uzgent_p_value_result_dataframe.to_csv(\"../results/uzgent_p_value_result_dataframe.csv\",index=False)"
   ]
  },
  {
   "cell_type": "code",
   "execution_count": 199,
   "metadata": {},
   "outputs": [],
   "source": [
    "# uzgent_result_dataframe.to_csv(\"../results/uzgent_result_dataframe.csv\",index=False)"
   ]
  },
  {
   "cell_type": "markdown",
   "metadata": {},
   "source": [
    "# Patient Demographics GUH"
   ]
  },
  {
   "cell_type": "code",
   "execution_count": null,
   "metadata": {},
   "outputs": [],
   "source": [
    "#227428 SOFA mimic\n",
    "#226743 \tAPACHE II \t\n",
    "\n",
    "#13081 numeric items amst (apache II)"
   ]
  },
  {
   "cell_type": "code",
   "execution_count": null,
   "metadata": {},
   "outputs": [],
   "source": [
    "admissions_pd_uzgent = pd.read_csv(r\"Data/uzgent/uzgent-iv-1.0/df_adm_icu.csv\",sep=',')\n",
    "admissions_pd_uzgent = admissions_pd_uzgent.rename(columns={\"subject_id\":\"patientid\",\"stay_id\":\"admissionid\",\"los\":\"lengthofstay\"})\n",
    "admissions_pd_uzgent.loc[:,\"intime\"] = pd.to_datetime(admissions_pd_uzgent.intime)\n",
    "admissions_pd_uzgent.loc[:,\"outtime\"] = pd.to_datetime(admissions_pd_uzgent.outtime)\n",
    "admissions_pd_uzgent.loc[:,\"lengthofstay\"]=admissions_pd_uzgent.lengthofstay*24\n",
    "admissions_pd_uzgent.loc[admissions_pd_uzgent.AF_measuredat==\"0\",\"AF_measuredat\"]=0.0\n",
    "admissions_pd_uzgent.loc[admissions_pd_uzgent.AF_measuredat!=0,\"AF_measuredat\"]=(pd.to_datetime(admissions_pd_uzgent[admissions_pd_uzgent.AF_measuredat!=0].AF_measuredat)-pd.to_datetime(admissions_pd_uzgent[admissions_pd_uzgent.AF_measuredat!=0].intime)).dt.total_seconds()/60/60\n",
    "admissions_pd_uzgent[\"AF_measuredat\"] = np.float32(admissions_pd_uzgent[\"AF_measuredat\"])\n",
    "admissions_pd_uzgent = admissions_pd_uzgent[admissions_pd_uzgent.lengthofstay>=12]\n",
    "\n",
    "weight_csv = pd.read_csv(\"Data/uzgent/uzgent-iv-1.0/icu/csv/chartevents/\"+str(226512)+\".csv\")[[\"stay_id\",\"valuenum\"]]\n",
    "weight_csv = weight_csv.rename(columns={\"subject_id\":\"patientid\",\"stay_id\":\"admissionid\",\"valuenum\":\"weight\"})\n",
    "height_csv = pd.read_csv(\"Data/uzgent/uzgent-iv-1.0/icu/csv/chartevents/\"+str(226730)+\".csv\")[[\"stay_id\",\"valuenum\"]]\n",
    "height_csv = height_csv.rename(columns={\"subject_id\":\"patientid\",\"stay_id\":\"admissionid\",\"valuenum\":\"height\"})\n",
    "\n",
    "\n",
    "admissions_pd_uzgent = admissions_pd_uzgent.merge(height_csv,how='left',on='admissionid')\n",
    "admissions_pd_uzgent.loc[(admissions_pd_uzgent.height<50)|(admissions_pd_uzgent.height>250)]=int(admissions_pd_uzgent[(admissions_pd_uzgent.height<50)|(admissions_pd_uzgent.height>250)].height.mean())\n",
    "admissions_pd_uzgent = admissions_pd_uzgent.merge(weight_csv,how='left',on='admissionid')\n",
    "admissions_pd_uzgent.loc[(admissions_pd_uzgent.weight<20)|(admissions_pd_uzgent.weight>500)]=int(admissions_pd_uzgent[(admissions_pd_uzgent.weight<20)|(admissions_pd_uzgent.weight>500)].weight.mean())\n",
    "admissions_pd_uzgent[\"BMI\"]=admissions_pd_uzgent.weight/((admissions_pd_uzgent.height/100)**2)\n",
    "    \n",
    "df_patients = pd.read_csv(r\"Data/uzgent/uzgent-iv-1.0/core/csv/patients.csv\",sep=',')\n",
    "df_patients = df_patients.rename(columns={\"subject_id\":\"patientid\",\"anchor_age\":\"Age\"})\n",
    "\n",
    "admissions_pd_uzgent = admissions_pd_uzgent.merge(df_patients[['patientid','Age','gender']],how='left',on='patientid')\n",
    "#If no gender was specified, the value is -1.\n",
    "gender_category = {'M':1,\"F\":0,\"\":-1}\n",
    "\n",
    "#Replace the strings with numbers\n",
    "admissions_pd_uzgent[\"gender\"]=admissions_pd_uzgent[\"gender\"].replace(gender_category)\n",
    "\n",
    "admissions_pd_uzgent = admissions_pd_uzgent[(admissions_pd_uzgent.AF==0)|((admissions_pd_uzgent.AF==1)&(admissions_pd_uzgent.AF_measuredat>=12))]\n",
    "\n",
    "print(len(admissions_pd_uzgent.patientid.unique()))"
   ]
  },
  {
   "cell_type": "code",
   "execution_count": null,
   "metadata": {},
   "outputs": [],
   "source": [
    "sofa_uzgent_csv = pd.read_csv(\"Data/uzgent/uzgent-iv-1.0/uzgent_sofa.csv\")[[\"stay_id\",\"sofa_24hours\",\"starttime\",\"endtime\"]]\n",
    "sofa_uzgent_csv = sofa_uzgent_csv.rename(columns={\"stay_id\":\"admissionid\",\"sofa_24hours\":\"sofa\"})\n",
    "sofa_uzgent_csv.loc[:,\"starttime\"]=pd.to_datetime(sofa_uzgent_csv.starttime)\n",
    "sofa_uzgent_csv.loc[:,\"endtime\"]=pd.to_datetime(sofa_uzgent_csv.endtime)\n",
    "sofa_uzgent_csv = sofa_uzgent_csv.merge(admissions_pd_uzgent[[\"admissionid\",\"patientid\",\"intime\",\"outtime\",\"AF_measuredat\",\"AF\"]],how=\"inner\",on=\"admissionid\")\n",
    "sofa_uzgent_csv[\"time_to_adm\"] = (pd.to_datetime(sofa_uzgent_csv.starttime)-pd.to_datetime(sofa_uzgent_csv.intime)).dt.total_seconds()/60/60\n",
    "sofa_mean_day_uzgent = sofa_uzgent_csv[sofa_uzgent_csv.time_to_adm<=24][[\"patientid\",\"admissionid\",\"sofa\"]].groupby([\"patientid\",\"admissionid\"]).mean().reset_index()\n",
    "sofa_mean_day_uzgent = sofa_mean_day_uzgent.rename(columns={\"sofa\":\"sofa_first24h\"})\n",
    "sofa_AF_uzgent = sofa_uzgent_csv[(sofa_uzgent_csv.AF==1)&(sofa_uzgent_csv.AF_measuredat - sofa_uzgent_csv.time_to_adm <= 1)&(sofa_uzgent_csv.AF_measuredat - sofa_uzgent_csv.time_to_adm >= 0)][[\"patientid\",\"admissionid\",\"sofa\"]].groupby([\"patientid\",\"admissionid\"]).mean().reset_index()\n",
    "sofa_AF_uzgent = sofa_AF_uzgent.rename(columns={\"sofa\":\"sofa_AF_matched\"})\n",
    "admissions_pd_uzgent = admissions_pd_uzgent.merge(sofa_mean_day_uzgent,how='left',on=['patientid','admissionid'])\n",
    "admissions_pd_uzgent = admissions_pd_uzgent.merge(sofa_AF_uzgent,how='left',on=['patientid','admissionid'])"
   ]
  },
  {
   "cell_type": "code",
   "execution_count": null,
   "metadata": {},
   "outputs": [],
   "source": [
    "admissions_pd_amst = pd.read_csv(\"Data/Extracted/admissions_demographics.csv\")\n",
    "admissions_pd_amst = admissions_pd_amst[admissions_pd_amst.lengthofstay>=12]\n",
    "admissions_pd_amst.loc[admissions_pd_amst.Weight==0] = admissions_pd_amst[admissions_pd_amst.Weight>0].Weight.mean()\n",
    "admissions_pd_amst.loc[admissions_pd_amst.Height==0] = admissions_pd_amst[admissions_pd_amst.Height>0].Height.mean()\n",
    "admissions_pd_amst[\"BMI\"]=admissions_pd_amst.Weight/((admissions_pd_amst.Height/100)**2)\n",
    "admissions_pd_amst[\"AF_measuredat\"] = admissions_pd_amst[\"AF_measuredat\"]/1000/60/60\n",
    "admissions_pd_amst = admissions_pd_amst[(admissions_pd_amst.AF==0)|((admissions_pd_amst.AF==1)&(admissions_pd_amst.AF_measuredat>=12))]\n",
    "\n",
    "print(len(admissions_pd_amst.patientid.unique()))\n",
    "\n",
    "amst_sofa = pd.read_csv(r\"Data/sofa.csv\",sep=',')\n",
    "amst_apache_II = pd.read_csv(r\"Data/apache_ii.csv\",sep=',')\n",
    "admissions_pd_amst = admissions_pd_amst.merge(amst_sofa[[\"admissionid\",\"sofa_total_score\"]],how='left',on='admissionid')\n",
    "admissions_pd_amst = admissions_pd_amst.merge(amst_apache_II[[\"admissionid\",\"apache_ii_total_score\"]],how='left',on='admissionid')"
   ]
  },
  {
   "cell_type": "code",
   "execution_count": null,
   "metadata": {},
   "outputs": [],
   "source": [
    "print(len(admissions_pd_uzgent.patientid.unique()))\n",
    "print(len(admissions_pd_amst.patientid.unique()))\n",
    "print(len(admissions_pd_uzgent[admissions_pd_uzgent.AF==1].patientid.unique()))\n",
    "print(len(admissions_pd_amst[admissions_pd_amst.AF==1].patientid.unique()))\n",
    "print(len(admissions_pd_uzgent[admissions_pd_uzgent.AF==0].patientid.unique()))\n",
    "print(len(admissions_pd_amst[admissions_pd_amst.AF==0].patientid.unique()))"
   ]
  },
  {
   "cell_type": "code",
   "execution_count": null,
   "metadata": {},
   "outputs": [],
   "source": [
    "print(\"AMSTERDAM COLUMNS\")\n",
    "print(\"\")\n",
    "print(admissions_pd_amst.columns)\n",
    "print(50*\"-\")\n",
    "print(\"\")\n",
    "print(\"UZGENT COLUMNS\")\n",
    "print(\"\")\n",
    "print(admissions_pd_uzgent.columns)"
   ]
  },
  {
   "cell_type": "code",
   "execution_count": null,
   "metadata": {},
   "outputs": [],
   "source": [
    "admissions_pd_uzgent[admissions_pd_uzgent.AF==1].admission_type.value_counts()"
   ]
  },
  {
   "cell_type": "code",
   "execution_count": null,
   "metadata": {},
   "outputs": [],
   "source": [
    "(1292+623)/len(admissions_pd_uzgent[admissions_pd_uzgent.AF==1])*100"
   ]
  },
  {
   "cell_type": "code",
   "execution_count": null,
   "metadata": {},
   "outputs": [],
   "source": [
    "admissions_pd_amst[admissions_pd_amst.AF==0].specialty.value_counts()"
   ]
  },
  {
   "cell_type": "code",
   "execution_count": null,
   "metadata": {},
   "outputs": [],
   "source": [
    "(6172+2092+1019+32)/len(admissions_pd_amst[admissions_pd_amst.AF==0])*100"
   ]
  },
  {
   "cell_type": "code",
   "execution_count": null,
   "metadata": {},
   "outputs": [],
   "source": [
    "admissions_pd_uzgent.admission_type.value_counts()"
   ]
  },
  {
   "cell_type": "code",
   "execution_count": null,
   "metadata": {},
   "outputs": [],
   "source": [
    "admissions_pd_uzgent[admissions_pd_uzgent.AF>=0].drop_duplicates(\"patientid\").ethnicity.value_counts()"
   ]
  },
  {
   "cell_type": "code",
   "execution_count": null,
   "metadata": {},
   "outputs": [],
   "source": [
    "print(admissions_pd_amst[admissions_pd_amst.AF==0].cardio_surgery_new.sum())\n",
    "print(admissions_pd_amst[admissions_pd_amst.AF==0].sepsis_bool.sum())\n",
    "admissions_pd_amst[admissions_pd_amst.AF==0].drop_duplicates(\"patientid\").describe()"
   ]
  },
  {
   "cell_type": "code",
   "execution_count": null,
   "metadata": {},
   "outputs": [],
   "source": [
    "print(admissions_pd_uzgent[admissions_pd_uzgent.AF==0].cardiac_bool_new.sum())\n",
    "print(admissions_pd_uzgent[admissions_pd_uzgent.AF==0].sepsis_bool.sum())\n",
    "admissions_pd_uzgent[admissions_pd_uzgent.AF==0].drop_duplicates(\"patientid\").describe()"
   ]
  },
  {
   "cell_type": "code",
   "execution_count": null,
   "metadata": {},
   "outputs": [],
   "source": [
    "5165*0.692352"
   ]
  },
  {
   "cell_type": "code",
   "execution_count": null,
   "metadata": {},
   "outputs": [],
   "source": [
    "admissions_pd_uzgent.AF_measuredat"
   ]
  },
  {
   "cell_type": "code",
   "execution_count": null,
   "metadata": {},
   "outputs": [],
   "source": [
    "1-0.519807"
   ]
  },
  {
   "cell_type": "code",
   "execution_count": null,
   "metadata": {},
   "outputs": [],
   "source": [
    "1868*0.480193"
   ]
  },
  {
   "cell_type": "code",
   "execution_count": null,
   "metadata": {},
   "outputs": [],
   "source": [
    "from scipy import stats\n",
    "\n",
    "stats.ttest_ind(admissions_pd_amst[admissions_pd_amst.AF==0].sofa_total_score, admissions_pd_uzgent[(admissions_pd_uzgent.AF==0)&(~admissions_pd_uzgent.sofa_first24h.isna())].sofa_first24h)"
   ]
  },
  {
   "cell_type": "code",
   "execution_count": null,
   "metadata": {},
   "outputs": [],
   "source": [
    "stats.ranksums(admissions_pd_amst[admissions_pd_amst.AF==0].Gender_category, admissions_pd_uzgent[admissions_pd_uzgent.AF==0].gender)"
   ]
  },
  {
   "cell_type": "markdown",
   "metadata": {},
   "source": [
    "# All results visualisation"
   ]
  },
  {
   "cell_type": "code",
   "execution_count": null,
   "metadata": {},
   "outputs": [],
   "source": [
    "guh_df = pd.read_csv(\"uzgent_af_prediction_results.csv\")\n",
    "guh_df[\"dataset\"]=\"uzgent\"\n",
    "guh_df.loc[guh_df.patient_group.str.contains(\"uzgent\"),'patient_group']=guh_df.patient_group.str.replace(' uzgent', '')\n",
    "mimic_df = pd.read_csv(\"mimic_af_prediction_results.csv\")\n",
    "mimic_df[\"dataset\"]=\"mimic\"\n",
    "mimic_df.loc[mimic_df.patient_group.str.contains(\"mimic\"),'patient_group']=mimic_df.patient_group.str.replace(' mimic', '')\n",
    "amc_df = pd.read_csv(\"amsterdam_af_prediction_results.csv\")\n",
    "amc_df[\"dataset\"]=\"amst\"\n",
    "\n",
    "results_df = pd.concat([guh_df,mimic_df,amc_df])"
   ]
  },
  {
   "cell_type": "code",
   "execution_count": null,
   "metadata": {},
   "outputs": [],
   "source": [
    "results_df"
   ]
  },
  {
   "cell_type": "code",
   "execution_count": null,
   "metadata": {},
   "outputs": [],
   "source": [
    "patient_group_string = \"all patients\"\n",
    "\n",
    "for val_string in [\"combo\",\"direct\",\"transfer\"]:\n",
    "    validation_comparison_string = val_string#\"direct\" #\"combo\" \"direct\" \"transfer\"\n",
    "\n",
    "    plot_df = results_df[(results_df.validation_type.str.contains(validation_comparison_string+\"|base model\",regex=True))&(results_df.patient_group.str.contains(patient_group_string))]\n",
    "    min_ylim = np.min(plot_df.auc.values)-0.025\n",
    "    i = 0\n",
    "    len_patient_groups = len(plot_df.patient_group.unique())\n",
    "    \n",
    "    if validation_comparison_string==\"combo\":\n",
    "        fig, ax = plt.subplots(4,3,figsize=(15,15))\n",
    "    else:\n",
    "        fig, ax = plt.subplots(2,3,figsize=(15,7))\n",
    "        \n",
    "    for patient_group in plot_df.patient_group.unique():\n",
    "        for model_string in plot_df.model.unique():\n",
    "                temp_plot_df = plot_df[(plot_df.model==model_string)&((plot_df.validation_type==\"base model\")|(plot_df.patient_group == patient_group))]\n",
    "                ax[int((i-i%3)/3),i%3].grid(alpha=0.5,axis='y')\n",
    "                ax[int((i-i%3)/3),i%3].bar(temp_plot_df.dataset.values,temp_plot_df.auc.values)\n",
    "                ax[int((i-i%3)/3),i%3].set_title(model_string+ \" \"+patient_group)\n",
    "                if i%3 == 0:\n",
    "                    ax[int((i-i%3)/3),i%3].set_ylabel(\"AUC\")\n",
    "                ax[int((i-i%3)/3),i%3].set_ylim([min_ylim,1.025])\n",
    "\n",
    "\n",
    "                i += 1\n",
    "    if validation_comparison_string == \"combo\":\n",
    "        fig.suptitle(\"Combo: Trained on both amsterdam + external dataset, evaluated on both\",fontsize=20)\n",
    "    elif validation_comparison_string == \"direct\":\n",
    "        fig.suptitle(\"Direct: Trained on amsterdam, evaluated on external dataset\",fontsize=20)\n",
    "    elif validation_comparison_string == \"transfer\":\n",
    "        fig.suptitle(\"Transfer: Trained on external dataset, evaluated on external dataset\",fontsize=20)\n",
    "    plt.savefig(\"results/\"+validation_comparison_string+\"_\"+patient_group_string+\"_results.jpg\", bbox_inches=\"tight\")\n",
    "    plt.savefig(\"results/\"+validation_comparison_string+\"_\"+patient_group_string+\"_results.png\", bbox_inches=\"tight\")"
   ]
  },
  {
   "cell_type": "code",
   "execution_count": null,
   "metadata": {},
   "outputs": [],
   "source": []
  }
 ],
 "metadata": {
  "interpreter": {
   "hash": "7e1f392defe650829700f492eb57f9ca780dd56d6bebdcdeef32d1ec2c20a25b"
  },
  "kernelspec": {
   "display_name": "Python 3.8.10 64-bit (windows store)",
   "language": "python",
   "name": "python3"
  },
  "language_info": {
   "codemirror_mode": {
    "name": "ipython",
    "version": 3
   },
   "file_extension": ".py",
   "mimetype": "text/x-python",
   "name": "python",
   "nbconvert_exporter": "python",
   "pygments_lexer": "ipython3",
   "version": "3.8.10"
  }
 },
 "nbformat": 4,
 "nbformat_minor": 4
}
